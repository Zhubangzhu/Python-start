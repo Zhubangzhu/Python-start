{
 "cells": [
  {
   "cell_type": "markdown",
   "metadata": {},
   "source": [
    "# first"
   ]
  },
  {
   "cell_type": "code",
   "execution_count": 5,
   "metadata": {},
   "outputs": [
    {
     "data": {
      "text/plain": [
       "2"
      ]
     },
     "execution_count": 5,
     "metadata": {},
     "output_type": "execute_result"
    }
   ],
   "source": [
    "1+1"
   ]
  },
  {
   "cell_type": "code",
   "execution_count": 6,
   "metadata": {},
   "outputs": [
    {
     "data": {
      "text/plain": [
       "15"
      ]
     },
     "execution_count": 6,
     "metadata": {},
     "output_type": "execute_result"
    }
   ],
   "source": [
    "x=5\n",
    "x*3"
   ]
  },
  {
   "cell_type": "code",
   "execution_count": 3,
   "metadata": {},
   "outputs": [
    {
     "name": "stdout",
     "output_type": "stream",
     "text": [
      "lower: [0, 1, 2, 3, 4]\n",
      "upper: [5, 6, 7, 8, 9]\n"
     ]
    }
   ],
   "source": [
    "# set the midpoint\n",
    "midpoint = 5\n",
    "\n",
    "#make two empty lists\n",
    "lower = []; upper = []\n",
    "\n",
    "# split the numbers into lower and upper\n",
    "for i in range(10):\n",
    "    if (i<midpoint):\n",
    "        lower.append(i)\n",
    "    else:\n",
    "        upper.append(i)\n",
    "        \n",
    "print(\"lower:\",lower)\n",
    "print(\"upper:\",upper)"
   ]
  },
  {
   "cell_type": "code",
   "execution_count": 6,
   "metadata": {},
   "outputs": [
    {
     "ename": "NameError",
     "evalue": "name 'x' is not defined",
     "output_type": "error",
     "traceback": [
      "\u001b[0;31m---------------------------------------------------------------------------\u001b[0m",
      "\u001b[0;31mNameError\u001b[0m                                 Traceback (most recent call last)",
      "\u001b[0;32m<ipython-input-6-f8e87a3ab8cb>\u001b[0m in \u001b[0;36m<module>\u001b[0;34m\u001b[0m\n\u001b[0;32m----> 1\u001b[0;31m \u001b[0mx\u001b[0m \u001b[0;34m+=\u001b[0m \u001b[0;36m2\u001b[0m \u001b[0;31m#shorthand for x=x+2\u001b[0m\u001b[0;34m\u001b[0m\u001b[0;34m\u001b[0m\u001b[0m\n\u001b[0m",
      "\u001b[0;31mNameError\u001b[0m: name 'x' is not defined"
     ]
    }
   ],
   "source": [
    "x += 2 #shorthand for x=x+2"
   ]
  },
  {
   "cell_type": "code",
   "execution_count": 7,
   "metadata": {},
   "outputs": [],
   "source": [
    "midpoint = 5"
   ]
  },
  {
   "cell_type": "code",
   "execution_count": 9,
   "metadata": {},
   "outputs": [],
   "source": [
    "x=1+2+3+4+\\\n",
    "5+6+7+8"
   ]
  },
  {
   "cell_type": "code",
   "execution_count": 12,
   "metadata": {},
   "outputs": [],
   "source": [
    "if x<4:\n",
    "    y=x*2\n",
    "    print(x)"
   ]
  },
  {
   "cell_type": "code",
   "execution_count": 13,
   "metadata": {},
   "outputs": [
    {
     "name": "stdout",
     "output_type": "stream",
     "text": [
      "36\n"
     ]
    }
   ],
   "source": [
    "if x<4:\n",
    "    y=x*2\n",
    "print(x)\n"
   ]
  },
  {
   "cell_type": "code",
   "execution_count": 14,
   "metadata": {},
   "outputs": [
    {
     "data": {
      "text/plain": [
       "14"
      ]
     },
     "execution_count": 14,
     "metadata": {},
     "output_type": "execute_result"
    }
   ],
   "source": [
    "2*(3+4)"
   ]
  },
  {
   "cell_type": "code",
   "execution_count": 15,
   "metadata": {},
   "outputs": [
    {
     "name": "stdout",
     "output_type": "stream",
     "text": [
      "first value: 1\n"
     ]
    }
   ],
   "source": [
    "print('first value:', 1)"
   ]
  },
  {
   "cell_type": "code",
   "execution_count": 16,
   "metadata": {},
   "outputs": [
    {
     "name": "stdout",
     "output_type": "stream",
     "text": [
      "[1, 2, 3, 4]\n"
     ]
    }
   ],
   "source": [
    "L = [4,3,2,1]\n",
    "L.sort()\n",
    "print(L)"
   ]
  },
  {
   "cell_type": "code",
   "execution_count": 1,
   "metadata": {},
   "outputs": [
    {
     "name": "stdout",
     "output_type": "stream",
     "text": [
      "first value: 1\n"
     ]
    }
   ],
   "source": [
    "print(\"first value:\",1)\n"
   ]
  },
  {
   "cell_type": "code",
   "execution_count": 2,
   "metadata": {},
   "outputs": [],
   "source": [
    "#assign 4 to the variable x\n",
    "x=4"
   ]
  },
  {
   "cell_type": "code",
   "execution_count": 3,
   "metadata": {},
   "outputs": [],
   "source": [
    "x=1\n",
    "x='hello'\n",
    "x=[1,2,3]"
   ]
  },
  {
   "cell_type": "code",
   "execution_count": 4,
   "metadata": {},
   "outputs": [],
   "source": [
    "#the consequence of the \"variable as pointer\"\n",
    "x=[1,2,3]\n",
    "y=x"
   ]
  },
  {
   "cell_type": "code",
   "execution_count": 6,
   "metadata": {},
   "outputs": [
    {
     "name": "stdout",
     "output_type": "stream",
     "text": [
      "[1, 2, 3]\n"
     ]
    }
   ],
   "source": [
    "print(y)"
   ]
  },
  {
   "cell_type": "code",
   "execution_count": 7,
   "metadata": {},
   "outputs": [
    {
     "name": "stdout",
     "output_type": "stream",
     "text": [
      "[1, 2, 3, 4]\n"
     ]
    }
   ],
   "source": [
    "x.append(4)#append 4 to the list pointed to by x\n",
    "print(y)#y's list is modified as well\n"
   ]
  },
  {
   "cell_type": "code",
   "execution_count": 8,
   "metadata": {},
   "outputs": [
    {
     "name": "stdout",
     "output_type": "stream",
     "text": [
      "[1, 2, 3, 4]\n"
     ]
    }
   ],
   "source": [
    "# using = to assign value will not affect the value of y\n",
    "x='something else'\n",
    "print(y) #y is unchanged"
   ]
  },
  {
   "cell_type": "code",
   "execution_count": 9,
   "metadata": {},
   "outputs": [
    {
     "name": "stdout",
     "output_type": "stream",
     "text": [
      "x= 15\n",
      "x= 10\n"
     ]
    }
   ],
   "source": [
    "x=10\n",
    "y=x\n",
    "x+=5 #add 5 to x's value, and assign it to x\n",
    "print(\"x=\",x)\n",
    "print(\"x=\",y)"
   ]
  },
  {
   "cell_type": "code",
   "execution_count": 10,
   "metadata": {},
   "outputs": [
    {
     "data": {
      "text/plain": [
       "int"
      ]
     },
     "execution_count": 10,
     "metadata": {},
     "output_type": "execute_result"
    }
   ],
   "source": [
    "#Python is not a type-free language\n",
    "x=4\n",
    "type(4)"
   ]
  },
  {
   "cell_type": "code",
   "execution_count": 11,
   "metadata": {},
   "outputs": [
    {
     "data": {
      "text/plain": [
       "str"
      ]
     },
     "execution_count": 11,
     "metadata": {},
     "output_type": "execute_result"
    }
   ],
   "source": [
    "x='hello'\n",
    "type(x)\n"
   ]
  },
  {
   "cell_type": "code",
   "execution_count": 12,
   "metadata": {},
   "outputs": [
    {
     "data": {
      "text/plain": [
       "float"
      ]
     },
     "execution_count": 12,
     "metadata": {},
     "output_type": "execute_result"
    }
   ],
   "source": [
    "x=3.14159\n",
    "type(x)"
   ]
  },
  {
   "cell_type": "code",
   "execution_count": 13,
   "metadata": {},
   "outputs": [
    {
     "name": "stdout",
     "output_type": "stream",
     "text": [
      "[1, 2, 3, 100]\n"
     ]
    }
   ],
   "source": [
    "L=[1,2,3]\n",
    "L.append(100)\n",
    "print(L)"
   ]
  },
  {
   "cell_type": "code",
   "execution_count": 14,
   "metadata": {},
   "outputs": [
    {
     "name": "stdout",
     "output_type": "stream",
     "text": [
      "4.5 + 0.0 i\n"
     ]
    }
   ],
   "source": [
    "x=4.5\n",
    "print(x.real, \"+\", x.imag, 'i')"
   ]
  },
  {
   "cell_type": "code",
   "execution_count": 16,
   "metadata": {},
   "outputs": [
    {
     "data": {
      "text/plain": [
       "False"
      ]
     },
     "execution_count": 16,
     "metadata": {},
     "output_type": "execute_result"
    }
   ],
   "source": [
    "x=4.5\n",
    "x.is_integer()"
   ]
  },
  {
   "cell_type": "code",
   "execution_count": 17,
   "metadata": {},
   "outputs": [
    {
     "data": {
      "text/plain": [
       "True"
      ]
     },
     "execution_count": 17,
     "metadata": {},
     "output_type": "execute_result"
    }
   ],
   "source": [
    "x=4.0\n",
    "x.is_integer()"
   ]
  },
  {
   "cell_type": "code",
   "execution_count": 18,
   "metadata": {},
   "outputs": [
    {
     "data": {
      "text/plain": [
       "builtin_function_or_method"
      ]
     },
     "execution_count": 18,
     "metadata": {},
     "output_type": "execute_result"
    }
   ],
   "source": [
    "type(x.is_integer)"
   ]
  },
  {
   "cell_type": "code",
   "execution_count": 19,
   "metadata": {},
   "outputs": [
    {
     "data": {
      "text/plain": [
       "42.0"
      ]
     },
     "execution_count": 19,
     "metadata": {},
     "output_type": "execute_result"
    }
   ],
   "source": [
    "#addition, subtraction, multiplication\n",
    "(4+8)*(6.5-3)"
   ]
  },
  {
   "cell_type": "code",
   "execution_count": 20,
   "metadata": {},
   "outputs": [
    {
     "name": "stdout",
     "output_type": "stream",
     "text": [
      "5.5\n"
     ]
    }
   ],
   "source": [
    "#ture division\n",
    "print(11/2)"
   ]
  },
  {
   "cell_type": "code",
   "execution_count": 21,
   "metadata": {},
   "outputs": [
    {
     "name": "stdout",
     "output_type": "stream",
     "text": [
      "5\n"
     ]
    }
   ],
   "source": [
    "#floor division\n",
    "print(11//2)"
   ]
  },
  {
   "cell_type": "code",
   "execution_count": 22,
   "metadata": {},
   "outputs": [
    {
     "data": {
      "text/plain": [
       "'0b1010'"
      ]
     },
     "execution_count": 22,
     "metadata": {},
     "output_type": "execute_result"
    }
   ],
   "source": [
    "bin(10)"
   ]
  },
  {
   "cell_type": "code",
   "execution_count": 23,
   "metadata": {},
   "outputs": [
    {
     "data": {
      "text/plain": [
       "'0b100'"
      ]
     },
     "execution_count": 23,
     "metadata": {},
     "output_type": "execute_result"
    }
   ],
   "source": [
    "bin(4)"
   ]
  },
  {
   "cell_type": "code",
   "execution_count": 24,
   "metadata": {},
   "outputs": [
    {
     "data": {
      "text/plain": [
       "14"
      ]
     },
     "execution_count": 24,
     "metadata": {},
     "output_type": "execute_result"
    }
   ],
   "source": [
    "4|10"
   ]
  },
  {
   "cell_type": "code",
   "execution_count": 25,
   "metadata": {},
   "outputs": [
    {
     "data": {
      "text/plain": [
       "'0b1110'"
      ]
     },
     "execution_count": 25,
     "metadata": {},
     "output_type": "execute_result"
    }
   ],
   "source": [
    "bin(4|10)"
   ]
  },
  {
   "cell_type": "code",
   "execution_count": 26,
   "metadata": {},
   "outputs": [
    {
     "name": "stdout",
     "output_type": "stream",
     "text": [
      "24\n"
     ]
    }
   ],
   "source": [
    "a=24\n",
    "print(a)"
   ]
  },
  {
   "cell_type": "code",
   "execution_count": 27,
   "metadata": {},
   "outputs": [
    {
     "data": {
      "text/plain": [
       "26"
      ]
     },
     "execution_count": 27,
     "metadata": {},
     "output_type": "execute_result"
    }
   ],
   "source": [
    "a+2"
   ]
  },
  {
   "cell_type": "code",
   "execution_count": 28,
   "metadata": {},
   "outputs": [],
   "source": [
    "a+=2"
   ]
  },
  {
   "cell_type": "code",
   "execution_count": 29,
   "metadata": {},
   "outputs": [
    {
     "name": "stdout",
     "output_type": "stream",
     "text": [
      "26\n"
     ]
    }
   ],
   "source": [
    "print(a\n",
    "    )"
   ]
  },
  {
   "cell_type": "code",
   "execution_count": 30,
   "metadata": {},
   "outputs": [
    {
     "data": {
      "text/plain": [
       "True"
      ]
     },
     "execution_count": 30,
     "metadata": {},
     "output_type": "execute_result"
    }
   ],
   "source": [
    "#25 is odd\n",
    "25%2==1"
   ]
  },
  {
   "cell_type": "code",
   "execution_count": 31,
   "metadata": {},
   "outputs": [
    {
     "data": {
      "text/plain": [
       "False"
      ]
     },
     "execution_count": 31,
     "metadata": {},
     "output_type": "execute_result"
    }
   ],
   "source": [
    "#66 is odd\n",
    "66%2==1"
   ]
  },
  {
   "cell_type": "code",
   "execution_count": 32,
   "metadata": {},
   "outputs": [
    {
     "data": {
      "text/plain": [
       "True"
      ]
     },
     "execution_count": 32,
     "metadata": {},
     "output_type": "execute_result"
    }
   ],
   "source": [
    "#check if a is between 15 and 30\n",
    "a=25\n",
    "15<a<30\n"
   ]
  },
  {
   "cell_type": "code",
   "execution_count": 33,
   "metadata": {},
   "outputs": [
    {
     "data": {
      "text/plain": [
       "True"
      ]
     },
     "execution_count": 33,
     "metadata": {},
     "output_type": "execute_result"
    }
   ],
   "source": [
    "x=4\n",
    "(x<6) and (x>2)"
   ]
  },
  {
   "cell_type": "code",
   "execution_count": 34,
   "metadata": {},
   "outputs": [
    {
     "data": {
      "text/plain": [
       "True"
      ]
     },
     "execution_count": 34,
     "metadata": {},
     "output_type": "execute_result"
    }
   ],
   "source": [
    "(x>10) or (x%2==0)"
   ]
  },
  {
   "cell_type": "code",
   "execution_count": 35,
   "metadata": {},
   "outputs": [
    {
     "data": {
      "text/plain": [
       "False"
      ]
     },
     "execution_count": 35,
     "metadata": {},
     "output_type": "execute_result"
    }
   ],
   "source": [
    "not (x<6)"
   ]
  },
  {
   "cell_type": "code",
   "execution_count": 36,
   "metadata": {},
   "outputs": [
    {
     "data": {
      "text/plain": [
       "True"
      ]
     },
     "execution_count": 36,
     "metadata": {},
     "output_type": "execute_result"
    }
   ],
   "source": [
    "a=[1,2,3]\n",
    "b=[1,2,3]\n",
    "a==b"
   ]
  },
  {
   "cell_type": "code",
   "execution_count": 37,
   "metadata": {},
   "outputs": [
    {
     "data": {
      "text/plain": [
       "False"
      ]
     },
     "execution_count": 37,
     "metadata": {},
     "output_type": "execute_result"
    }
   ],
   "source": [
    "a is b"
   ]
  },
  {
   "cell_type": "code",
   "execution_count": 38,
   "metadata": {},
   "outputs": [
    {
     "data": {
      "text/plain": [
       "True"
      ]
     },
     "execution_count": 38,
     "metadata": {},
     "output_type": "execute_result"
    }
   ],
   "source": [
    "a is not b"
   ]
  },
  {
   "cell_type": "code",
   "execution_count": 39,
   "metadata": {},
   "outputs": [
    {
     "data": {
      "text/plain": [
       "True"
      ]
     },
     "execution_count": 39,
     "metadata": {},
     "output_type": "execute_result"
    }
   ],
   "source": [
    "a=[1,2,3]\n",
    "b=a\n",
    "a is b"
   ]
  },
  {
   "cell_type": "code",
   "execution_count": 40,
   "metadata": {},
   "outputs": [
    {
     "data": {
      "text/plain": [
       "True"
      ]
     },
     "execution_count": 40,
     "metadata": {},
     "output_type": "execute_result"
    }
   ],
   "source": [
    "1 in [1,2,3\n",
    "    ]"
   ]
  },
  {
   "cell_type": "code",
   "execution_count": 41,
   "metadata": {},
   "outputs": [
    {
     "data": {
      "text/plain": [
       "False"
      ]
     },
     "execution_count": 41,
     "metadata": {},
     "output_type": "execute_result"
    }
   ],
   "source": [
    "2 not in [1,2,3]"
   ]
  },
  {
   "cell_type": "code",
   "execution_count": 42,
   "metadata": {},
   "outputs": [
    {
     "data": {
      "text/plain": [
       "int"
      ]
     },
     "execution_count": 42,
     "metadata": {},
     "output_type": "execute_result"
    }
   ],
   "source": [
    "x=1\n",
    "type(1)"
   ]
  },
  {
   "cell_type": "code",
   "execution_count": 43,
   "metadata": {},
   "outputs": [
    {
     "data": {
      "text/plain": [
       "1606938044258990275541962092341162602522202993782792835301376"
      ]
     },
     "execution_count": 43,
     "metadata": {},
     "output_type": "execute_result"
    }
   ],
   "source": [
    "2**200"
   ]
  },
  {
   "cell_type": "code",
   "execution_count": 44,
   "metadata": {},
   "outputs": [
    {
     "data": {
      "text/plain": [
       "2.5"
      ]
     },
     "execution_count": 44,
     "metadata": {},
     "output_type": "execute_result"
    }
   ],
   "source": [
    "5/2"
   ]
  },
  {
   "cell_type": "code",
   "execution_count": 45,
   "metadata": {},
   "outputs": [
    {
     "data": {
      "text/plain": [
       "2"
      ]
     },
     "execution_count": 45,
     "metadata": {},
     "output_type": "execute_result"
    }
   ],
   "source": [
    "5//2"
   ]
  },
  {
   "cell_type": "code",
   "execution_count": 46,
   "metadata": {},
   "outputs": [
    {
     "name": "stdout",
     "output_type": "stream",
     "text": [
      "True\n"
     ]
    }
   ],
   "source": [
    "x=0.000005\n",
    "y=5e-6\n",
    "print(x==y)"
   ]
  },
  {
   "cell_type": "code",
   "execution_count": 47,
   "metadata": {},
   "outputs": [
    {
     "name": "stdout",
     "output_type": "stream",
     "text": [
      "True\n"
     ]
    }
   ],
   "source": [
    "x=1400000\n",
    "y=1.4e6\n",
    "print(x==y\n",
    "     )"
   ]
  },
  {
   "cell_type": "code",
   "execution_count": 48,
   "metadata": {},
   "outputs": [
    {
     "data": {
      "text/plain": [
       "1.0"
      ]
     },
     "execution_count": 48,
     "metadata": {},
     "output_type": "execute_result"
    }
   ],
   "source": [
    "float(1)"
   ]
  },
  {
   "cell_type": "code",
   "execution_count": 49,
   "metadata": {},
   "outputs": [
    {
     "data": {
      "text/plain": [
       "False"
      ]
     },
     "execution_count": 49,
     "metadata": {},
     "output_type": "execute_result"
    }
   ],
   "source": [
    "0.1+0.2==0.3"
   ]
  },
  {
   "cell_type": "code",
   "execution_count": 51,
   "metadata": {},
   "outputs": [
    {
     "name": "stdout",
     "output_type": "stream",
     "text": [
      "0.1=0.10000000000000001\n",
      "0.2=0.20000000000000001\n",
      "0.3=0.29999999999999999\n"
     ]
    }
   ],
   "source": [
    "print(\"0.1={0:.17f}\".format(0.1))\n",
    "print(\"0.2={0:.17f}\".format(0.2))\n",
    "print(\"0.3={0:.17f}\".format(0.3))"
   ]
  },
  {
   "cell_type": "code",
   "execution_count": 52,
   "metadata": {},
   "outputs": [
    {
     "data": {
      "text/plain": [
       "(1+2j)"
      ]
     },
     "execution_count": 52,
     "metadata": {},
     "output_type": "execute_result"
    }
   ],
   "source": [
    "complex(1,2)"
   ]
  },
  {
   "cell_type": "code",
   "execution_count": 53,
   "metadata": {},
   "outputs": [
    {
     "data": {
      "text/plain": [
       "(1+2j)"
      ]
     },
     "execution_count": 53,
     "metadata": {},
     "output_type": "execute_result"
    }
   ],
   "source": [
    "1+2j"
   ]
  },
  {
   "cell_type": "code",
   "execution_count": 54,
   "metadata": {},
   "outputs": [],
   "source": [
    "c = 3+ 4j"
   ]
  },
  {
   "cell_type": "code",
   "execution_count": 55,
   "metadata": {},
   "outputs": [
    {
     "data": {
      "text/plain": [
       "3.0"
      ]
     },
     "execution_count": 55,
     "metadata": {},
     "output_type": "execute_result"
    }
   ],
   "source": [
    "c.real"
   ]
  },
  {
   "cell_type": "code",
   "execution_count": 56,
   "metadata": {},
   "outputs": [
    {
     "data": {
      "text/plain": [
       "4.0"
      ]
     },
     "execution_count": 56,
     "metadata": {},
     "output_type": "execute_result"
    }
   ],
   "source": [
    "c.imag"
   ]
  },
  {
   "cell_type": "code",
   "execution_count": 57,
   "metadata": {},
   "outputs": [
    {
     "data": {
      "text/plain": [
       "<function complex.conjugate>"
      ]
     },
     "execution_count": 57,
     "metadata": {},
     "output_type": "execute_result"
    }
   ],
   "source": [
    "c.conjugate"
   ]
  },
  {
   "cell_type": "code",
   "execution_count": 58,
   "metadata": {},
   "outputs": [
    {
     "data": {
      "text/plain": [
       "(3-4j)"
      ]
     },
     "execution_count": 58,
     "metadata": {},
     "output_type": "execute_result"
    }
   ],
   "source": [
    "c.conjugate()"
   ]
  },
  {
   "cell_type": "code",
   "execution_count": 59,
   "metadata": {},
   "outputs": [
    {
     "data": {
      "text/plain": [
       "5.0"
      ]
     },
     "execution_count": 59,
     "metadata": {},
     "output_type": "execute_result"
    }
   ],
   "source": [
    "abs(c)"
   ]
  },
  {
   "cell_type": "code",
   "execution_count": 67,
   "metadata": {},
   "outputs": [],
   "source": [
    "message=\"what do you like?\"\n",
    "response= 'spam'"
   ]
  },
  {
   "cell_type": "code",
   "execution_count": 68,
   "metadata": {},
   "outputs": [
    {
     "data": {
      "text/plain": [
       "4"
      ]
     },
     "execution_count": 68,
     "metadata": {},
     "output_type": "execute_result"
    }
   ],
   "source": [
    "#length of string\n",
    "len(response)"
   ]
  },
  {
   "cell_type": "code",
   "execution_count": 69,
   "metadata": {},
   "outputs": [
    {
     "data": {
      "text/plain": [
       "'SPAM'"
      ]
     },
     "execution_count": 69,
     "metadata": {},
     "output_type": "execute_result"
    }
   ],
   "source": [
    "#make uppercase. see also str.lower()\n",
    "response.upper()"
   ]
  },
  {
   "cell_type": "code",
   "execution_count": 70,
   "metadata": {},
   "outputs": [
    {
     "data": {
      "text/plain": [
       "'spam'"
      ]
     },
     "execution_count": 70,
     "metadata": {},
     "output_type": "execute_result"
    }
   ],
   "source": [
    "response.lower()"
   ]
  },
  {
   "cell_type": "code",
   "execution_count": 71,
   "metadata": {},
   "outputs": [
    {
     "data": {
      "text/plain": [
       "'What do you like?'"
      ]
     },
     "execution_count": 71,
     "metadata": {},
     "output_type": "execute_result"
    }
   ],
   "source": [
    "#Capitalize, see also str.title\n",
    "message.capitalize()"
   ]
  },
  {
   "cell_type": "code",
   "execution_count": 72,
   "metadata": {},
   "outputs": [
    {
     "data": {
      "text/plain": [
       "'What Do You Like?'"
      ]
     },
     "execution_count": 72,
     "metadata": {},
     "output_type": "execute_result"
    }
   ],
   "source": [
    "message.title()"
   ]
  },
  {
   "cell_type": "code",
   "execution_count": 73,
   "metadata": {},
   "outputs": [
    {
     "data": {
      "text/plain": [
       "'what do you like?spam'"
      ]
     },
     "execution_count": 73,
     "metadata": {},
     "output_type": "execute_result"
    }
   ],
   "source": [
    "#concatenation with +\n",
    "message + response"
   ]
  },
  {
   "cell_type": "code",
   "execution_count": 74,
   "metadata": {},
   "outputs": [
    {
     "data": {
      "text/plain": [
       "'spamspamspamspamspam'"
      ]
     },
     "execution_count": 74,
     "metadata": {},
     "output_type": "execute_result"
    }
   ],
   "source": [
    "# multiplication is multiple concatenation\n",
    "5*response"
   ]
  },
  {
   "cell_type": "code",
   "execution_count": 75,
   "metadata": {},
   "outputs": [
    {
     "data": {
      "text/plain": [
       "'w'"
      ]
     },
     "execution_count": 75,
     "metadata": {},
     "output_type": "execute_result"
    }
   ],
   "source": [
    "# Acess individual characters\n",
    "message[0]"
   ]
  },
  {
   "cell_type": "code",
   "execution_count": 76,
   "metadata": {},
   "outputs": [
    {
     "ename": "NameError",
     "evalue": "name 'none' is not defined",
     "output_type": "error",
     "traceback": [
      "\u001b[0;31m---------------------------------------------------------------------------\u001b[0m",
      "\u001b[0;31mNameError\u001b[0m                                 Traceback (most recent call last)",
      "\u001b[0;32m<ipython-input-76-8eb4bf394e98>\u001b[0m in \u001b[0;36m<module>\u001b[0;34m\u001b[0m\n\u001b[0;32m----> 1\u001b[0;31m \u001b[0mtype\u001b[0m\u001b[0;34m(\u001b[0m\u001b[0mnone\u001b[0m\u001b[0;34m)\u001b[0m\u001b[0;34m\u001b[0m\u001b[0;34m\u001b[0m\u001b[0m\n\u001b[0m",
      "\u001b[0;31mNameError\u001b[0m: name 'none' is not defined"
     ]
    }
   ],
   "source": [
    "type(none)"
   ]
  },
  {
   "cell_type": "code",
   "execution_count": 77,
   "metadata": {},
   "outputs": [
    {
     "data": {
      "text/plain": [
       "NoneType"
      ]
     },
     "execution_count": 77,
     "metadata": {},
     "output_type": "execute_result"
    }
   ],
   "source": [
    "type(None)"
   ]
  },
  {
   "cell_type": "code",
   "execution_count": 78,
   "metadata": {},
   "outputs": [
    {
     "name": "stdout",
     "output_type": "stream",
     "text": [
      "abc\n"
     ]
    }
   ],
   "source": [
    "return_value = print('abc')"
   ]
  },
  {
   "cell_type": "code",
   "execution_count": 79,
   "metadata": {},
   "outputs": [
    {
     "name": "stdout",
     "output_type": "stream",
     "text": [
      "None\n"
     ]
    }
   ],
   "source": [
    "print(return_value)"
   ]
  },
  {
   "cell_type": "code",
   "execution_count": 80,
   "metadata": {},
   "outputs": [
    {
     "data": {
      "text/plain": [
       "True"
      ]
     },
     "execution_count": 80,
     "metadata": {},
     "output_type": "execute_result"
    }
   ],
   "source": [
    "result =(4<5)\n",
    "result"
   ]
  },
  {
   "cell_type": "code",
   "execution_count": 81,
   "metadata": {},
   "outputs": [
    {
     "data": {
      "text/plain": [
       "bool"
      ]
     },
     "execution_count": 81,
     "metadata": {},
     "output_type": "execute_result"
    }
   ],
   "source": [
    "type(result)"
   ]
  },
  {
   "cell_type": "code",
   "execution_count": 82,
   "metadata": {},
   "outputs": [
    {
     "name": "stdout",
     "output_type": "stream",
     "text": [
      "True False\n"
     ]
    }
   ],
   "source": [
    "print(True, False\n",
    "     )"
   ]
  },
  {
   "cell_type": "code",
   "execution_count": 83,
   "metadata": {},
   "outputs": [
    {
     "data": {
      "text/plain": [
       "True"
      ]
     },
     "execution_count": 83,
     "metadata": {},
     "output_type": "execute_result"
    }
   ],
   "source": [
    "bool(2014)"
   ]
  },
  {
   "cell_type": "code",
   "execution_count": 84,
   "metadata": {},
   "outputs": [
    {
     "data": {
      "text/plain": [
       "False"
      ]
     },
     "execution_count": 84,
     "metadata": {},
     "output_type": "execute_result"
    }
   ],
   "source": [
    "bool(0)"
   ]
  },
  {
   "cell_type": "code",
   "execution_count": 85,
   "metadata": {},
   "outputs": [
    {
     "data": {
      "text/plain": [
       "True"
      ]
     },
     "execution_count": 85,
     "metadata": {},
     "output_type": "execute_result"
    }
   ],
   "source": [
    "bool(3.1415\n",
    "    )"
   ]
  },
  {
   "cell_type": "code",
   "execution_count": 86,
   "metadata": {},
   "outputs": [
    {
     "data": {
      "text/plain": [
       "False"
      ]
     },
     "execution_count": 86,
     "metadata": {},
     "output_type": "execute_result"
    }
   ],
   "source": [
    "bool(None)"
   ]
  },
  {
   "cell_type": "code",
   "execution_count": 87,
   "metadata": {},
   "outputs": [
    {
     "data": {
      "text/plain": [
       "False"
      ]
     },
     "execution_count": 87,
     "metadata": {},
     "output_type": "execute_result"
    }
   ],
   "source": [
    "bool(\"\")"
   ]
  },
  {
   "cell_type": "code",
   "execution_count": 88,
   "metadata": {},
   "outputs": [
    {
     "data": {
      "text/plain": [
       "True"
      ]
     },
     "execution_count": 88,
     "metadata": {},
     "output_type": "execute_result"
    }
   ],
   "source": [
    "bool(\"abc\")"
   ]
  },
  {
   "cell_type": "code",
   "execution_count": 89,
   "metadata": {},
   "outputs": [
    {
     "data": {
      "text/plain": [
       "True"
      ]
     },
     "execution_count": 89,
     "metadata": {},
     "output_type": "execute_result"
    }
   ],
   "source": [
    "bool([1,2,3])"
   ]
  },
  {
   "cell_type": "code",
   "execution_count": 90,
   "metadata": {},
   "outputs": [
    {
     "data": {
      "text/plain": [
       "False"
      ]
     },
     "execution_count": 90,
     "metadata": {},
     "output_type": "execute_result"
    }
   ],
   "source": [
    "bool([])"
   ]
  },
  {
   "cell_type": "code",
   "execution_count": 91,
   "metadata": {},
   "outputs": [
    {
     "data": {
      "text/plain": [
       "4"
      ]
     },
     "execution_count": 91,
     "metadata": {},
     "output_type": "execute_result"
    }
   ],
   "source": [
    "L = [2,3,5,7]\n",
    "#length of a list\n",
    "len(L)"
   ]
  },
  {
   "cell_type": "code",
   "execution_count": 92,
   "metadata": {},
   "outputs": [
    {
     "data": {
      "text/plain": [
       "[2, 3, 5, 7, 11]"
      ]
     },
     "execution_count": 92,
     "metadata": {},
     "output_type": "execute_result"
    }
   ],
   "source": [
    "#append a value to the end \n",
    "L.append(11)\n",
    "L"
   ]
  },
  {
   "cell_type": "code",
   "execution_count": 93,
   "metadata": {},
   "outputs": [
    {
     "data": {
      "text/plain": [
       "[2, 3, 5, 7, 11, 13, 17, 19]"
      ]
     },
     "execution_count": 93,
     "metadata": {},
     "output_type": "execute_result"
    }
   ],
   "source": [
    "#Addition concatenates lists\n",
    "L + [13,17,19]"
   ]
  },
  {
   "cell_type": "code",
   "execution_count": 94,
   "metadata": {},
   "outputs": [],
   "source": [
    "#sort() method sorts in-place\n",
    "L = [2,5,1,6,3,4]\n",
    "L.sort()"
   ]
  },
  {
   "cell_type": "code",
   "execution_count": 95,
   "metadata": {},
   "outputs": [
    {
     "data": {
      "text/plain": [
       "[1, 2, 3, 4, 5, 6]"
      ]
     },
     "execution_count": 95,
     "metadata": {},
     "output_type": "execute_result"
    }
   ],
   "source": [
    "L"
   ]
  },
  {
   "cell_type": "code",
   "execution_count": 96,
   "metadata": {},
   "outputs": [
    {
     "data": {
      "text/plain": [
       "1"
      ]
     },
     "execution_count": 96,
     "metadata": {},
     "output_type": "execute_result"
    }
   ],
   "source": [
    "#python uses zero-based indexing\n",
    "L[0]"
   ]
  },
  {
   "cell_type": "code",
   "execution_count": 97,
   "metadata": {},
   "outputs": [],
   "source": [
    "L = [1,'two', 3.14, [0,3,5]]"
   ]
  },
  {
   "cell_type": "code",
   "execution_count": 99,
   "metadata": {},
   "outputs": [],
   "source": [
    "L = [2,3,5,7,11]\n"
   ]
  },
  {
   "cell_type": "code",
   "execution_count": 101,
   "metadata": {},
   "outputs": [
    {
     "data": {
      "text/plain": [
       "2"
      ]
     },
     "execution_count": 101,
     "metadata": {},
     "output_type": "execute_result"
    }
   ],
   "source": [
    "L[0]"
   ]
  },
  {
   "cell_type": "code",
   "execution_count": 102,
   "metadata": {},
   "outputs": [
    {
     "data": {
      "text/plain": [
       "3"
      ]
     },
     "execution_count": 102,
     "metadata": {},
     "output_type": "execute_result"
    }
   ],
   "source": [
    "L[1]"
   ]
  },
  {
   "cell_type": "code",
   "execution_count": 103,
   "metadata": {},
   "outputs": [
    {
     "data": {
      "text/plain": [
       "11"
      ]
     },
     "execution_count": 103,
     "metadata": {},
     "output_type": "execute_result"
    }
   ],
   "source": [
    "L[-1]"
   ]
  },
  {
   "cell_type": "code",
   "execution_count": 104,
   "metadata": {},
   "outputs": [
    {
     "data": {
      "text/plain": [
       "7"
      ]
     },
     "execution_count": 104,
     "metadata": {},
     "output_type": "execute_result"
    }
   ],
   "source": [
    "L[-2\n",
    " ]"
   ]
  },
  {
   "cell_type": "code",
   "execution_count": 106,
   "metadata": {},
   "outputs": [
    {
     "data": {
      "text/plain": [
       "[2, 3, 5]"
      ]
     },
     "execution_count": 106,
     "metadata": {},
     "output_type": "execute_result"
    }
   ],
   "source": [
    "L[0:3]"
   ]
  },
  {
   "cell_type": "code",
   "execution_count": 107,
   "metadata": {},
   "outputs": [
    {
     "data": {
      "text/plain": [
       "[2, 3, 5]"
      ]
     },
     "execution_count": 107,
     "metadata": {},
     "output_type": "execute_result"
    }
   ],
   "source": [
    "L[:3]"
   ]
  },
  {
   "cell_type": "code",
   "execution_count": 108,
   "metadata": {},
   "outputs": [
    {
     "data": {
      "text/plain": [
       "[5, 7, 11]"
      ]
     },
     "execution_count": 108,
     "metadata": {},
     "output_type": "execute_result"
    }
   ],
   "source": [
    "L[-3:\n",
    " ]"
   ]
  },
  {
   "cell_type": "code",
   "execution_count": 109,
   "metadata": {},
   "outputs": [
    {
     "data": {
      "text/plain": [
       "[2, 5, 11]"
      ]
     },
     "execution_count": 109,
     "metadata": {},
     "output_type": "execute_result"
    }
   ],
   "source": [
    "L[::2]#equivalent to L[0:len(L):2]"
   ]
  },
  {
   "cell_type": "code",
   "execution_count": 110,
   "metadata": {},
   "outputs": [
    {
     "data": {
      "text/plain": [
       "[11, 7, 5, 3, 2]"
      ]
     },
     "execution_count": 110,
     "metadata": {},
     "output_type": "execute_result"
    }
   ],
   "source": [
    "L[::-1]#reverse the arrat"
   ]
  },
  {
   "cell_type": "code",
   "execution_count": 111,
   "metadata": {},
   "outputs": [
    {
     "name": "stdout",
     "output_type": "stream",
     "text": [
      "[100, 3, 5, 7, 11]\n"
     ]
    }
   ],
   "source": [
    "L[0]=100\n",
    "print(L)"
   ]
  },
  {
   "cell_type": "code",
   "execution_count": 112,
   "metadata": {},
   "outputs": [
    {
     "name": "stdout",
     "output_type": "stream",
     "text": [
      "[100, 55, 56, 7, 11]\n"
     ]
    }
   ],
   "source": [
    "L[1:3]=[55,56]\n",
    "print(L)"
   ]
  },
  {
   "cell_type": "code",
   "execution_count": 113,
   "metadata": {},
   "outputs": [],
   "source": [
    "t=(1,2,3)"
   ]
  },
  {
   "cell_type": "code",
   "execution_count": 114,
   "metadata": {},
   "outputs": [
    {
     "name": "stdout",
     "output_type": "stream",
     "text": [
      "(1, 2, 3)\n"
     ]
    }
   ],
   "source": [
    "t=1,2,3\n",
    "print(t)"
   ]
  },
  {
   "cell_type": "code",
   "execution_count": 115,
   "metadata": {},
   "outputs": [
    {
     "data": {
      "text/plain": [
       "3"
      ]
     },
     "execution_count": 115,
     "metadata": {},
     "output_type": "execute_result"
    }
   ],
   "source": [
    "len(t)"
   ]
  },
  {
   "cell_type": "code",
   "execution_count": 117,
   "metadata": {},
   "outputs": [
    {
     "data": {
      "text/plain": [
       "1"
      ]
     },
     "execution_count": 117,
     "metadata": {},
     "output_type": "execute_result"
    }
   ],
   "source": [
    "t[0]"
   ]
  },
  {
   "cell_type": "code",
   "execution_count": 118,
   "metadata": {},
   "outputs": [
    {
     "data": {
      "text/plain": [
       "2"
      ]
     },
     "execution_count": 118,
     "metadata": {},
     "output_type": "execute_result"
    }
   ],
   "source": [
    "t[1]"
   ]
  },
  {
   "cell_type": "code",
   "execution_count": 119,
   "metadata": {},
   "outputs": [
    {
     "ename": "TypeError",
     "evalue": "'tuple' object does not support item assignment",
     "output_type": "error",
     "traceback": [
      "\u001b[0;31m---------------------------------------------------------------------------\u001b[0m",
      "\u001b[0;31mTypeError\u001b[0m                                 Traceback (most recent call last)",
      "\u001b[0;32m<ipython-input-119-9b4ed128cf04>\u001b[0m in \u001b[0;36m<module>\u001b[0;34m\u001b[0m\n\u001b[0;32m----> 1\u001b[0;31m \u001b[0mt\u001b[0m\u001b[0;34m[\u001b[0m\u001b[0;36m1\u001b[0m\u001b[0;34m]\u001b[0m\u001b[0;34m=\u001b[0m\u001b[0;36m4\u001b[0m\u001b[0;34m\u001b[0m\u001b[0;34m\u001b[0m\u001b[0m\n\u001b[0m",
      "\u001b[0;31mTypeError\u001b[0m: 'tuple' object does not support item assignment"
     ]
    }
   ],
   "source": [
    "t[1]=4"
   ]
  },
  {
   "cell_type": "code",
   "execution_count": 120,
   "metadata": {},
   "outputs": [
    {
     "ename": "AttributeError",
     "evalue": "'tuple' object has no attribute 'append'",
     "output_type": "error",
     "traceback": [
      "\u001b[0;31m---------------------------------------------------------------------------\u001b[0m",
      "\u001b[0;31mAttributeError\u001b[0m                            Traceback (most recent call last)",
      "\u001b[0;32m<ipython-input-120-ada7ed8a579e>\u001b[0m in \u001b[0;36m<module>\u001b[0;34m\u001b[0m\n\u001b[0;32m----> 1\u001b[0;31m \u001b[0mt\u001b[0m\u001b[0;34m.\u001b[0m\u001b[0mappend\u001b[0m\u001b[0;34m(\u001b[0m\u001b[0;36m4\u001b[0m\u001b[0;34m)\u001b[0m\u001b[0;34m\u001b[0m\u001b[0;34m\u001b[0m\u001b[0m\n\u001b[0m",
      "\u001b[0;31mAttributeError\u001b[0m: 'tuple' object has no attribute 'append'"
     ]
    }
   ],
   "source": [
    "t.append(4)"
   ]
  },
  {
   "cell_type": "code",
   "execution_count": 122,
   "metadata": {},
   "outputs": [
    {
     "data": {
      "text/plain": [
       "(1, 8)"
      ]
     },
     "execution_count": 122,
     "metadata": {},
     "output_type": "execute_result"
    }
   ],
   "source": [
    "x=0.125\n",
    "x.as_integer_ratio()"
   ]
  },
  {
   "cell_type": "code",
   "execution_count": 123,
   "metadata": {},
   "outputs": [
    {
     "name": "stdout",
     "output_type": "stream",
     "text": [
      "0.125\n"
     ]
    }
   ],
   "source": [
    "numerator, denominator = x.as_integer_ratio()\n",
    "print(numerator/denominator)"
   ]
  },
  {
   "cell_type": "code",
   "execution_count": 124,
   "metadata": {},
   "outputs": [],
   "source": [
    "numbers = {'one':1, 'two':2, 'three':3}"
   ]
  },
  {
   "cell_type": "code",
   "execution_count": 125,
   "metadata": {},
   "outputs": [
    {
     "data": {
      "text/plain": [
       "2"
      ]
     },
     "execution_count": 125,
     "metadata": {},
     "output_type": "execute_result"
    }
   ],
   "source": [
    "# Access a value via the kety\n",
    "numbers['two']"
   ]
  },
  {
   "cell_type": "code",
   "execution_count": 126,
   "metadata": {},
   "outputs": [
    {
     "name": "stdout",
     "output_type": "stream",
     "text": [
      "{'one': 1, 'two': 2, 'three': 3, 'ninety': 90}\n"
     ]
    }
   ],
   "source": [
    "#set a new key/value pair\n",
    "numbers['ninety'] = 90\n",
    "print(numbers)"
   ]
  },
  {
   "cell_type": "code",
   "execution_count": 127,
   "metadata": {},
   "outputs": [],
   "source": [
    "primes={2,3,5,7}\n",
    "odds={1,3,5,7,9}"
   ]
  },
  {
   "cell_type": "code",
   "execution_count": 128,
   "metadata": {},
   "outputs": [
    {
     "data": {
      "text/plain": [
       "{1, 2, 3, 5, 7, 9}"
      ]
     },
     "execution_count": 128,
     "metadata": {},
     "output_type": "execute_result"
    }
   ],
   "source": [
    "#union: items appearing in either\n",
    "primes|odds #with an operator\n",
    "primes.union(odds)#equivalently with a method"
   ]
  },
  {
   "cell_type": "code",
   "execution_count": 129,
   "metadata": {},
   "outputs": [
    {
     "data": {
      "text/plain": [
       "{3, 5, 7}"
      ]
     },
     "execution_count": 129,
     "metadata": {},
     "output_type": "execute_result"
    }
   ],
   "source": [
    "primes & odds"
   ]
  },
  {
   "cell_type": "code",
   "execution_count": 130,
   "metadata": {},
   "outputs": [
    {
     "data": {
      "text/plain": [
       "{3, 5, 7}"
      ]
     },
     "execution_count": 130,
     "metadata": {},
     "output_type": "execute_result"
    }
   ],
   "source": [
    "#intersection: items appearing in both\n",
    "primes & odds #with an operator\n",
    "primes.intersection(odds)#equivalently with a method"
   ]
  },
  {
   "cell_type": "code",
   "execution_count": 131,
   "metadata": {},
   "outputs": [
    {
     "data": {
      "text/plain": [
       "{2}"
      ]
     },
     "execution_count": 131,
     "metadata": {},
     "output_type": "execute_result"
    }
   ],
   "source": [
    "#difference: items in primes but not in odds\n",
    "primes - odds#with an operator\n",
    "primes.difference(odds)#equivalently with a method"
   ]
  },
  {
   "cell_type": "code",
   "execution_count": 132,
   "metadata": {},
   "outputs": [
    {
     "data": {
      "text/plain": [
       "{1, 2, 9}"
      ]
     },
     "execution_count": 132,
     "metadata": {},
     "output_type": "execute_result"
    }
   ],
   "source": [
    "#symmetric difference: items appearing in only one set\n",
    "primes ^ odds \n",
    "primes.symmetric_difference(odds)"
   ]
  },
  {
   "cell_type": "code",
   "execution_count": 133,
   "metadata": {},
   "outputs": [
    {
     "name": "stdout",
     "output_type": "stream",
     "text": [
      "-15 is negative\n"
     ]
    }
   ],
   "source": [
    "x=-15\n",
    "if x==0:\n",
    "    print(x,\"is zero\")\n",
    "elif x>0:\n",
    "    print(x,\"is positive\")\n",
    "elif x<0:\n",
    "    print(x,\"is negative\")\n",
    "else:\n",
    "    print(x,\"is unlike anything I've ever seen...\")"
   ]
  },
  {
   "cell_type": "code",
   "execution_count": 134,
   "metadata": {},
   "outputs": [
    {
     "name": "stdout",
     "output_type": "stream",
     "text": [
      "-15 is negative\n"
     ]
    }
   ],
   "source": [
    "x=-15\n",
    "if x==0:\n",
    "    print(x,i=\"is zero\")\n",
    "elif x>0:\n",
    "    print(x,\"is positive\")\n",
    "elif x<0:\n",
    "    print(x,\"is negative\")"
   ]
  },
  {
   "cell_type": "code",
   "execution_count": 140,
   "metadata": {},
   "outputs": [
    {
     "name": "stdout",
     "output_type": "stream",
     "text": [
      "2357"
     ]
    }
   ],
   "source": [
    "for N in[2, 3, 5, 7]:\n",
    "    print(N, end='')#print all on same line"
   ]
  },
  {
   "cell_type": "code",
   "execution_count": 141,
   "metadata": {},
   "outputs": [
    {
     "name": "stdout",
     "output_type": "stream",
     "text": [
      "0123456789"
     ]
    }
   ],
   "source": [
    "for i in range(10):\n",
    "    print(i,end='')"
   ]
  },
  {
   "cell_type": "code",
   "execution_count": 142,
   "metadata": {},
   "outputs": [
    {
     "data": {
      "text/plain": [
       "[5, 6, 7, 8, 9]"
      ]
     },
     "execution_count": 142,
     "metadata": {},
     "output_type": "execute_result"
    }
   ],
   "source": [
    "#range from 5 to 10\n",
    "list(range(5,10))"
   ]
  },
  {
   "cell_type": "code",
   "execution_count": 143,
   "metadata": {},
   "outputs": [
    {
     "data": {
      "text/plain": [
       "[0, 2, 4, 6, 8]"
      ]
     },
     "execution_count": 143,
     "metadata": {},
     "output_type": "execute_result"
    }
   ],
   "source": [
    "list(range(0,10,2))"
   ]
  },
  {
   "cell_type": "code",
   "execution_count": 147,
   "metadata": {},
   "outputs": [
    {
     "name": "stdout",
     "output_type": "stream",
     "text": [
      "0123456789"
     ]
    }
   ],
   "source": [
    "i=0\n",
    "while i<10:\n",
    "    print(i,end='')\n",
    "    i +=1"
   ]
  },
  {
   "cell_type": "code",
   "execution_count": 149,
   "metadata": {},
   "outputs": [
    {
     "name": "stdout",
     "output_type": "stream",
     "text": [
      "1 3 5 7 9 11 13 15 17 19 "
     ]
    }
   ],
   "source": [
    "for n in range(20):\n",
    "    #check if n is even\n",
    "    if n%2==0:\n",
    "        continue\n",
    "    print(n,end=' ')"
   ]
  },
  {
   "cell_type": "code",
   "execution_count": 150,
   "metadata": {},
   "outputs": [
    {
     "name": "stdout",
     "output_type": "stream",
     "text": [
      "[1, 1, 2, 3, 5, 8, 13, 21, 34, 55, 89]\n"
     ]
    }
   ],
   "source": [
    "a,b=0,1\n",
    "amax=100\n",
    "L=[]\n",
    "while True:\n",
    "    (a,b)=(b,a+b)\n",
    "    if a>amax:\n",
    "        break\n",
    "    L.append(a)\n",
    "print(L)"
   ]
  },
  {
   "cell_type": "code",
   "execution_count": 152,
   "metadata": {},
   "outputs": [
    {
     "name": "stdout",
     "output_type": "stream",
     "text": [
      "[1]\n",
      "[1, 1]\n",
      "[1, 1, 2]\n",
      "[1, 1, 2, 3]\n",
      "[1, 1, 2, 3, 5]\n",
      "[1, 1, 2, 3, 5, 8]\n",
      "[1, 1, 2, 3, 5, 8, 13]\n",
      "[1, 1, 2, 3, 5, 8, 13, 21]\n",
      "[1, 1, 2, 3, 5, 8, 13, 21, 34]\n",
      "[1, 1, 2, 3, 5, 8, 13, 21, 34, 55]\n",
      "[1, 1, 2, 3, 5, 8, 13, 21, 34, 55, 89]\n"
     ]
    }
   ],
   "source": [
    "a,b=0,1\n",
    "amax=100\n",
    "L=[]\n",
    "while True:\n",
    "    (a,b)=(b,a+b)\n",
    "    if a>amax:\n",
    "        break\n",
    "    L.append(a)\n",
    "    print(L)"
   ]
  },
  {
   "cell_type": "code",
   "execution_count": 153,
   "metadata": {},
   "outputs": [
    {
     "name": "stdout",
     "output_type": "stream",
     "text": [
      "[2, 3, 5, 7, 11, 13, 17, 19, 23, 29]\n"
     ]
    }
   ],
   "source": [
    "L=[]\n",
    "nmax=30\n",
    "for n in range(2,nmax):\n",
    "    for factor in L:\n",
    "        if n%factor ==0:\n",
    "            break\n",
    "    else:#no break\n",
    "        L.append(n)\n",
    "print(L)"
   ]
  },
  {
   "cell_type": "code",
   "execution_count": 154,
   "metadata": {},
   "outputs": [
    {
     "name": "stdout",
     "output_type": "stream",
     "text": [
      "[2]\n",
      "[2, 3]\n",
      "[2, 3, 5]\n",
      "[2, 3, 5, 7]\n",
      "[2, 3, 5, 7, 11]\n",
      "[2, 3, 5, 7, 11, 13]\n",
      "[2, 3, 5, 7, 11, 13, 17]\n",
      "[2, 3, 5, 7, 11, 13, 17, 19]\n",
      "[2, 3, 5, 7, 11, 13, 17, 19, 23]\n",
      "[2, 3, 5, 7, 11, 13, 17, 19, 23, 29]\n"
     ]
    }
   ],
   "source": [
    "L=[]\n",
    "nmax=30\n",
    "for n in range(2,nmax):\n",
    "    for factor in L:\n",
    "        if n%factor==0:\n",
    "            break\n",
    "    else:\n",
    "        L.append(n)\n",
    "        print(L)"
   ]
  },
  {
   "cell_type": "code",
   "execution_count": 155,
   "metadata": {},
   "outputs": [
    {
     "name": "stdout",
     "output_type": "stream",
     "text": [
      "abc\n"
     ]
    }
   ],
   "source": [
    "print('abc')"
   ]
  },
  {
   "cell_type": "code",
   "execution_count": 156,
   "metadata": {},
   "outputs": [
    {
     "name": "stdout",
     "output_type": "stream",
     "text": [
      "1 2 3\n"
     ]
    }
   ],
   "source": [
    "print(1,2,3)"
   ]
  },
  {
   "cell_type": "code",
   "execution_count": 157,
   "metadata": {},
   "outputs": [
    {
     "name": "stdout",
     "output_type": "stream",
     "text": [
      "1--2--3\n"
     ]
    }
   ],
   "source": [
    "print(1,2,3,sep='--')"
   ]
  },
  {
   "cell_type": "code",
   "execution_count": 158,
   "metadata": {},
   "outputs": [],
   "source": [
    "def fibonacci(N):\n",
    "    L=[]\n",
    "    a,b=0,1\n",
    "    while len(L)<N:\n",
    "        a,b=b,a+b\n",
    "        L.append(a)\n",
    "    return L"
   ]
  },
  {
   "cell_type": "code",
   "execution_count": 159,
   "metadata": {},
   "outputs": [
    {
     "data": {
      "text/plain": [
       "[1, 1, 2, 3, 5, 8, 13, 21, 34, 55]"
      ]
     },
     "execution_count": 159,
     "metadata": {},
     "output_type": "execute_result"
    }
   ],
   "source": [
    "fibonacci(10)"
   ]
  },
  {
   "cell_type": "code",
   "execution_count": 160,
   "metadata": {
    "scrolled": true
   },
   "outputs": [
    {
     "name": "stdout",
     "output_type": "stream",
     "text": [
      "3.0 4.0 (3-4j)\n"
     ]
    }
   ],
   "source": [
    "def real_imag_conj(val):\n",
    "    return val.real, val.imag, val.conjugate()\n",
    "r,i,c=real_imag_conj(3+4j)\n",
    "print(r,i,c)"
   ]
  },
  {
   "cell_type": "code",
   "execution_count": 161,
   "metadata": {},
   "outputs": [],
   "source": [
    "def fibonacci(N,a=0,b=1):\n",
    "    L=[]\n",
    "    while len(L)<N:\n",
    "        a,b=b,a+b\n",
    "        L.append(a)\n",
    "    return L"
   ]
  },
  {
   "cell_type": "code",
   "execution_count": 162,
   "metadata": {},
   "outputs": [
    {
     "data": {
      "text/plain": [
       "[1, 1, 2, 3, 5, 8, 13, 21, 34, 55]"
      ]
     },
     "execution_count": 162,
     "metadata": {},
     "output_type": "execute_result"
    }
   ],
   "source": [
    "fibonacci(10)"
   ]
  },
  {
   "cell_type": "code",
   "execution_count": 163,
   "metadata": {},
   "outputs": [
    {
     "data": {
      "text/plain": [
       "[2, 2, 4, 6, 10, 16, 26, 42, 68, 110]"
      ]
     },
     "execution_count": 163,
     "metadata": {},
     "output_type": "execute_result"
    }
   ],
   "source": [
    "fibonacci(10,0,2)"
   ]
  },
  {
   "cell_type": "code",
   "execution_count": 165,
   "metadata": {},
   "outputs": [],
   "source": [
    "def catch_all(*args, **kwargs):\n",
    "    print(\"args=\",args)\n",
    "    print(\"kwargs=\",kwargs)"
   ]
  },
  {
   "cell_type": "code",
   "execution_count": 166,
   "metadata": {},
   "outputs": [
    {
     "name": "stdout",
     "output_type": "stream",
     "text": [
      "args= (1, 2, 3)\n",
      "kwargs= {'a': 4, 'b': 5}\n"
     ]
    }
   ],
   "source": [
    "catch_all(1,2,3,a=4,b=5)"
   ]
  },
  {
   "cell_type": "code",
   "execution_count": 169,
   "metadata": {},
   "outputs": [
    {
     "name": "stdout",
     "output_type": "stream",
     "text": [
      "args= ('a',)\n",
      "kwargs= {'keyword': 2}\n"
     ]
    }
   ],
   "source": [
    "catch_all('a',keyword=2)"
   ]
  },
  {
   "cell_type": "code",
   "execution_count": 170,
   "metadata": {},
   "outputs": [
    {
     "name": "stdout",
     "output_type": "stream",
     "text": [
      "args= (1, 2, 3)\n",
      "kwargs= {'pi': 3.14}\n"
     ]
    }
   ],
   "source": [
    "inputs=(1,2,3)\n",
    "keywords={'pi':3.14}\n",
    "catch_all(*inputs,**keywords)"
   ]
  },
  {
   "cell_type": "code",
   "execution_count": 171,
   "metadata": {},
   "outputs": [
    {
     "data": {
      "text/plain": [
       "3"
      ]
     },
     "execution_count": 171,
     "metadata": {},
     "output_type": "execute_result"
    }
   ],
   "source": [
    "add=lambda x,y:x+y\n",
    "add(1,2)"
   ]
  },
  {
   "cell_type": "code",
   "execution_count": 172,
   "metadata": {},
   "outputs": [],
   "source": [
    "def add(x,y):\n",
    "    return x+y"
   ]
  },
  {
   "cell_type": "code",
   "execution_count": 178,
   "metadata": {},
   "outputs": [],
   "source": [
    "data = [{'first':'guido', 'last':'van rossum', 'yob':1956},{'first':'grace','last':'hopper','yob':1906},\n",
    "        {'first':'alan','last':'turing','yob':1912}]"
   ]
  },
  {
   "cell_type": "code",
   "execution_count": 179,
   "metadata": {},
   "outputs": [
    {
     "data": {
      "text/plain": [
       "[1, 2, 3, 4, 5, 6]"
      ]
     },
     "execution_count": 179,
     "metadata": {},
     "output_type": "execute_result"
    }
   ],
   "source": [
    "sorted([2,4,3,5,1,6])"
   ]
  },
  {
   "cell_type": "code",
   "execution_count": 180,
   "metadata": {},
   "outputs": [
    {
     "data": {
      "text/plain": [
       "[{'first': 'alan', 'last': 'turing', 'yob': 1912},\n",
       " {'first': 'grace', 'last': 'hopper', 'yob': 1906},\n",
       " {'first': 'guido', 'last': 'van rossum', 'yob': 1956}]"
      ]
     },
     "execution_count": 180,
     "metadata": {},
     "output_type": "execute_result"
    }
   ],
   "source": [
    "#sort alphabetically by first name\n",
    "sorted(data, key=lambda item: item['first'])"
   ]
  },
  {
   "cell_type": "code",
   "execution_count": 181,
   "metadata": {},
   "outputs": [
    {
     "data": {
      "text/plain": [
       "[{'first': 'grace', 'last': 'hopper', 'yob': 1906},\n",
       " {'first': 'alan', 'last': 'turing', 'yob': 1912},\n",
       " {'first': 'guido', 'last': 'van rossum', 'yob': 1956}]"
      ]
     },
     "execution_count": 181,
     "metadata": {},
     "output_type": "execute_result"
    }
   ],
   "source": [
    "#sort by year of birth\n",
    "sorted(data, key=lambda item:item['yob'])"
   ]
  },
  {
   "cell_type": "code",
   "execution_count": 182,
   "metadata": {},
   "outputs": [
    {
     "name": "stdout",
     "output_type": "stream",
     "text": [
      "0 1 2 3 4 5 6 7 8 9 "
     ]
    }
   ],
   "source": [
    "for i in range(10):\n",
    "    print(i,end=' ')"
   ]
  },
  {
   "cell_type": "code",
   "execution_count": 183,
   "metadata": {},
   "outputs": [
    {
     "name": "stdout",
     "output_type": "stream",
     "text": [
      "2\n"
     ]
    }
   ],
   "source": [
    "I=iter([2,4,6,8,10])\n",
    "print(next(I))"
   ]
  },
  {
   "cell_type": "code",
   "execution_count": 184,
   "metadata": {},
   "outputs": [
    {
     "name": "stdout",
     "output_type": "stream",
     "text": [
      "4\n"
     ]
    }
   ],
   "source": [
    "print(next(I))"
   ]
  },
  {
   "cell_type": "code",
   "execution_count": 185,
   "metadata": {},
   "outputs": [
    {
     "name": "stdout",
     "output_type": "stream",
     "text": [
      "6\n"
     ]
    }
   ],
   "source": [
    "print(next(I))"
   ]
  },
  {
   "cell_type": "code",
   "execution_count": 186,
   "metadata": {},
   "outputs": [
    {
     "data": {
      "text/plain": [
       "range(0, 10)"
      ]
     },
     "execution_count": 186,
     "metadata": {},
     "output_type": "execute_result"
    }
   ],
   "source": [
    "range(10)"
   ]
  },
  {
   "cell_type": "code",
   "execution_count": 189,
   "metadata": {},
   "outputs": [
    {
     "name": "stdout",
     "output_type": "stream",
     "text": [
      "0 2\n",
      "1 4\n",
      "2 6\n",
      "3 8\n",
      "4 10\n"
     ]
    }
   ],
   "source": [
    "L=[2,4,6,8,10]\n",
    "for i in range(len(L)):\n",
    "    print(i,L[i])"
   ]
  },
  {
   "cell_type": "code",
   "execution_count": 190,
   "metadata": {},
   "outputs": [
    {
     "name": "stdout",
     "output_type": "stream",
     "text": [
      "0 2\n",
      "1 4\n",
      "2 6\n",
      "3 8\n",
      "4 10\n"
     ]
    }
   ],
   "source": [
    "for i, val in enumerate(L):\n",
    "    print(i,val)"
   ]
  },
  {
   "cell_type": "code",
   "execution_count": 191,
   "metadata": {},
   "outputs": [
    {
     "name": "stdout",
     "output_type": "stream",
     "text": [
      "2 3\n",
      "4 6\n",
      "6 9\n",
      "8 12\n",
      "10 15\n"
     ]
    }
   ],
   "source": [
    "L = [2,4,6,8,10]\n",
    "R = [3,6,9,12,15]\n",
    "for lval,rval in zip(L,R):\n",
    "    print(lval, rval)"
   ]
  },
  {
   "cell_type": "code",
   "execution_count": 193,
   "metadata": {},
   "outputs": [
    {
     "name": "stdout",
     "output_type": "stream",
     "text": [
      "0 1 4 9 16 25 36 49 64 81 "
     ]
    }
   ],
   "source": [
    "# find the first 10 square numbers\n",
    "square = lambda x:x**2\n",
    "for val in map(square, range(10)):\n",
    "    print(val, end=' ')"
   ]
  },
  {
   "cell_type": "code",
   "execution_count": 194,
   "metadata": {},
   "outputs": [
    {
     "name": "stdout",
     "output_type": "stream",
     "text": [
      "02468"
     ]
    }
   ],
   "source": [
    "#find values up to 10 for which x%2 is zero\n",
    "is_even = lambda x:x%2==0\n",
    "for val in filter(is_even, range(10)):\n",
    "    print(val,end='')"
   ]
  },
  {
   "cell_type": "code",
   "execution_count": 195,
   "metadata": {},
   "outputs": [
    {
     "name": "stdout",
     "output_type": "stream",
     "text": [
      "0 1 2 3 4 5 6 7 8 9\n"
     ]
    }
   ],
   "source": [
    "print(*range(10))"
   ]
  },
  {
   "cell_type": "code",
   "execution_count": 196,
   "metadata": {},
   "outputs": [
    {
     "data": {
      "text/plain": [
       "range(0, 10)"
      ]
     },
     "execution_count": 196,
     "metadata": {},
     "output_type": "execute_result"
    }
   ],
   "source": [
    "range(10)"
   ]
  },
  {
   "cell_type": "code",
   "execution_count": 199,
   "metadata": {},
   "outputs": [
    {
     "name": "stdout",
     "output_type": "stream",
     "text": [
      "0 1 4 9 16 25 36 49 64 81\n"
     ]
    }
   ],
   "source": [
    "print(*map(lambda x:x ** 2, range(10)))"
   ]
  },
  {
   "cell_type": "code",
   "execution_count": 200,
   "metadata": {},
   "outputs": [],
   "source": [
    "L1=(1,2,3,4)\n",
    "L2=('a','b','c','d')"
   ]
  },
  {
   "cell_type": "code",
   "execution_count": 201,
   "metadata": {},
   "outputs": [
    {
     "name": "stdout",
     "output_type": "stream",
     "text": [
      "(1, 'a') (2, 'b') (3, 'c') (4, 'd')\n"
     ]
    }
   ],
   "source": [
    "z=zip(L1,L2)\n",
    "print(*z)"
   ]
  },
  {
   "cell_type": "code",
   "execution_count": 202,
   "metadata": {},
   "outputs": [
    {
     "name": "stdout",
     "output_type": "stream",
     "text": [
      "(1, 2, 3, 4) ('a', 'b', 'c', 'd')\n"
     ]
    }
   ],
   "source": [
    "z = zip(L1,L2)\n",
    "new_L1, new_L2=zip(*z)\n",
    "print(new_L1,new_L2)"
   ]
  },
  {
   "cell_type": "code",
   "execution_count": 210,
   "metadata": {},
   "outputs": [
    {
     "name": "stdout",
     "output_type": "stream",
     "text": [
      "(0, 1, 2) (0, 2, 1) (1, 0, 2) (1, 2, 0) (2, 0, 1) (2, 1, 0)\n"
     ]
    }
   ],
   "source": [
    "from itertools import permutations\n",
    "p=permutations(range(3))\n",
    "print(*(p))"
   ]
  },
  {
   "cell_type": "code",
   "execution_count": 208,
   "metadata": {},
   "outputs": [
    {
     "name": "stdout",
     "output_type": "stream",
     "text": [
      "(0, 1, 2) (0, 1, 3) (0, 2, 3) (1, 2, 3)\n"
     ]
    }
   ],
   "source": [
    "from itertools import combinations \n",
    "c= combinations(range(4),3)\n",
    "print(*c)"
   ]
  },
  {
   "cell_type": "code",
   "execution_count": 207,
   "metadata": {},
   "outputs": [
    {
     "name": "stdout",
     "output_type": "stream",
     "text": [
      "('a', 0) ('a', 1) ('a', 2) ('b', 0) ('b', 1) ('b', 2) ('c', 0) ('c', 1) ('c', 2)\n"
     ]
    }
   ],
   "source": [
    "from itertools import product\n",
    "p= product('abc', range(3))\n",
    "print(*p)"
   ]
  },
  {
   "cell_type": "code",
   "execution_count": 211,
   "metadata": {},
   "outputs": [
    {
     "data": {
      "text/plain": [
       "[1, 2, 4, 5, 7, 8, 10, 11, 13, 14, 16, 17, 19]"
      ]
     },
     "execution_count": 211,
     "metadata": {},
     "output_type": "execute_result"
    }
   ],
   "source": [
    "[i for i in range (20) if i%3>0]"
   ]
  },
  {
   "cell_type": "code",
   "execution_count": 212,
   "metadata": {},
   "outputs": [
    {
     "data": {
      "text/plain": [
       "[0, 1, 4, 9, 16, 25, 36, 49, 64, 81, 100, 121]"
      ]
     },
     "execution_count": 212,
     "metadata": {},
     "output_type": "execute_result"
    }
   ],
   "source": [
    "L=[]\n",
    "for n in range(12):\n",
    "    L.append(n**2)\n",
    "L   "
   ]
  },
  {
   "cell_type": "code",
   "execution_count": 213,
   "metadata": {},
   "outputs": [
    {
     "data": {
      "text/plain": [
       "[0, 1, 4, 9, 16, 25, 36, 49, 64, 81, 100, 121]"
      ]
     },
     "execution_count": 213,
     "metadata": {},
     "output_type": "execute_result"
    }
   ],
   "source": [
    "[n**2 for n in range(12)]"
   ]
  },
  {
   "cell_type": "code",
   "execution_count": 214,
   "metadata": {},
   "outputs": [
    {
     "data": {
      "text/plain": [
       "[(0, 0), (0, 1), (0, 2), (1, 0), (1, 1), (1, 2)]"
      ]
     },
     "execution_count": 214,
     "metadata": {},
     "output_type": "execute_result"
    }
   ],
   "source": [
    "[(i,j) for i in range(2) for j in range(3)]"
   ]
  },
  {
   "cell_type": "code",
   "execution_count": 215,
   "metadata": {},
   "outputs": [
    {
     "data": {
      "text/plain": [
       "[1, 2, 4, 5, 7, 8, 10, 11, 13, 14, 16, 17, 19]"
      ]
     },
     "execution_count": 215,
     "metadata": {},
     "output_type": "execute_result"
    }
   ],
   "source": [
    "[val for val in range(20) if val % 3>0]"
   ]
  },
  {
   "cell_type": "code",
   "execution_count": 216,
   "metadata": {},
   "outputs": [
    {
     "data": {
      "text/plain": [
       "[1, -2, -4, 5, 7, -8, -10, 11, 13, -14, -16, 17, 19]"
      ]
     },
     "execution_count": 216,
     "metadata": {},
     "output_type": "execute_result"
    }
   ],
   "source": [
    "[val if val% 2 else -val\n",
    "for val in range(20) if val % 3]"
   ]
  },
  {
   "cell_type": "code",
   "execution_count": 217,
   "metadata": {},
   "outputs": [
    {
     "data": {
      "text/plain": [
       "{0, 1, 4, 9, 16, 25, 36, 49, 64, 81, 100, 121}"
      ]
     },
     "execution_count": 217,
     "metadata": {},
     "output_type": "execute_result"
    }
   ],
   "source": [
    "{n**2 for n in range(12)}"
   ]
  },
  {
   "cell_type": "code",
   "execution_count": 218,
   "metadata": {},
   "outputs": [
    {
     "data": {
      "text/plain": [
       "{0, 1, 2}"
      ]
     },
     "execution_count": 218,
     "metadata": {},
     "output_type": "execute_result"
    }
   ],
   "source": [
    "{a % 3 for a in range(1000)}"
   ]
  },
  {
   "cell_type": "code",
   "execution_count": 219,
   "metadata": {},
   "outputs": [
    {
     "data": {
      "text/plain": [
       "{0: 0, 1: 1, 2: 4, 3: 9, 4: 16, 5: 25}"
      ]
     },
     "execution_count": 219,
     "metadata": {},
     "output_type": "execute_result"
    }
   ],
   "source": [
    "{n: n**2 for n in range(6)}"
   ]
  },
  {
   "cell_type": "code",
   "execution_count": 220,
   "metadata": {},
   "outputs": [],
   "source": [
    "g= (n**2 for n in range(12))"
   ]
  },
  {
   "cell_type": "code",
   "execution_count": 221,
   "metadata": {},
   "outputs": [
    {
     "name": "stdout",
     "output_type": "stream",
     "text": [
      "<generator object <genexpr> at 0x10a5c30c0>\n"
     ]
    }
   ],
   "source": [
    "print(g)"
   ]
  },
  {
   "cell_type": "code",
   "execution_count": 222,
   "metadata": {},
   "outputs": [
    {
     "data": {
      "text/plain": [
       "[0, 1, 4, 9, 16, 25, 36, 49, 64, 81, 100, 121]"
      ]
     },
     "execution_count": 222,
     "metadata": {},
     "output_type": "execute_result"
    }
   ],
   "source": [
    "list(g)"
   ]
  },
  {
   "cell_type": "code",
   "execution_count": 223,
   "metadata": {},
   "outputs": [
    {
     "data": {
      "text/plain": [
       "count(0)"
      ]
     },
     "execution_count": 223,
     "metadata": {},
     "output_type": "execute_result"
    }
   ],
   "source": [
    "from itertools import count\n",
    "count()"
   ]
  },
  {
   "cell_type": "code",
   "execution_count": 225,
   "metadata": {},
   "outputs": [
    {
     "name": "stdout",
     "output_type": "stream",
     "text": [
      "0 1 2 3 4 5 6 7 8 9 10 "
     ]
    }
   ],
   "source": [
    "for i in count():\n",
    "    print(i,end=' ')\n",
    "    if i>=10: break"
   ]
  },
  {
   "cell_type": "code",
   "execution_count": 226,
   "metadata": {},
   "outputs": [
    {
     "name": "stdout",
     "output_type": "stream",
     "text": [
      "1 11 13 17 19 23 29 31 37 41 "
     ]
    }
   ],
   "source": [
    "factors = [2,3,5,7]\n",
    "g= (i for i in count() if all(i% n> 0 for n in factors))\n",
    "for val in g:\n",
    "    print(val, end=' ')\n",
    "    if val>40:break"
   ]
  },
  {
   "cell_type": "code",
   "execution_count": 227,
   "metadata": {},
   "outputs": [
    {
     "data": {
      "text/plain": [
       "[0, 1, 4, 9, 16, 25, 36, 49, 64, 81, 100, 121]"
      ]
     },
     "execution_count": 227,
     "metadata": {},
     "output_type": "execute_result"
    }
   ],
   "source": [
    "g= (n**2 for n in range(12))\n",
    "list(g)"
   ]
  },
  {
   "cell_type": "code",
   "execution_count": 228,
   "metadata": {},
   "outputs": [
    {
     "data": {
      "text/plain": [
       "[]"
      ]
     },
     "execution_count": 228,
     "metadata": {},
     "output_type": "execute_result"
    }
   ],
   "source": [
    "list(g)"
   ]
  },
  {
   "cell_type": "code",
   "execution_count": 231,
   "metadata": {},
   "outputs": [
    {
     "name": "stdout",
     "output_type": "stream",
     "text": [
      "0 1 4 9 16 25 36 \n",
      "doing something in between\n",
      "49 64 81 100 121 "
     ]
    }
   ],
   "source": [
    "g= (n**2 for n in range(12))\n",
    "for n in g:\n",
    "    print(n,end=' ')\n",
    "    if n>30:break\n",
    "print(\"\\ndoing something in between\")\n",
    "for n in g:\n",
    "    print(n,end=' ')"
   ]
  },
  {
   "cell_type": "code",
   "execution_count": 238,
   "metadata": {},
   "outputs": [
    {
     "name": "stdout",
     "output_type": "stream",
     "text": [
      "0 1 4 9 16 25 36 49 64 81 100 121\n"
     ]
    }
   ],
   "source": [
    "def gen():\n",
    "    for n in range(12):\n",
    "        yield n**2\n",
    "g=gen()\n",
    "print(*g)"
   ]
  },
  {
   "cell_type": "code",
   "execution_count": 239,
   "metadata": {},
   "outputs": [
    {
     "name": "stdout",
     "output_type": "stream",
     "text": [
      "[2, 3, 4, 5, 6, 7, 8, 9, 10, 11, 12, 13, 14, 15, 16, 17, 18, 19, 20, 21, 22, 23, 24, 25, 26, 27, 28, 29, 30, 31, 32, 33, 34, 35, 36, 37, 38, 39]\n"
     ]
    }
   ],
   "source": [
    "#generate a list of candidates\n",
    "L = [n for n in range(2,40)]\n",
    "print(L)"
   ]
  },
  {
   "cell_type": "code",
   "execution_count": 240,
   "metadata": {},
   "outputs": [
    {
     "name": "stdout",
     "output_type": "stream",
     "text": [
      "[2, 3, 5, 7, 9, 11, 13, 15, 17, 19, 21, 23, 25, 27, 29, 31, 33, 35, 37, 39]\n"
     ]
    }
   ],
   "source": [
    "#remove all multiples of the first value\n",
    "L = [n for n in L if n== L[0] or n%L[0]>0]\n",
    "print(L)"
   ]
  },
  {
   "cell_type": "code",
   "execution_count": 242,
   "metadata": {},
   "outputs": [
    {
     "name": "stdout",
     "output_type": "stream",
     "text": [
      "[2, 3, 5, 7, 11, 13, 17, 19, 23, 25, 29, 31, 35, 37]\n"
     ]
    }
   ],
   "source": [
    "# remove all multiples of the second value\n",
    "L = [n for n in L if n==L[1] or n%L[1]>0]\n",
    "print(L)"
   ]
  },
  {
   "cell_type": "code",
   "execution_count": 243,
   "metadata": {},
   "outputs": [
    {
     "name": "stdout",
     "output_type": "stream",
     "text": [
      "[2, 3, 5, 7, 11, 13, 17, 19, 23, 29, 31, 37]\n"
     ]
    }
   ],
   "source": [
    "# remove all multiples of the third value\n",
    "L = [n for n in L if n == L[2] or n % L[2]>0]\n",
    "print(L)"
   ]
  },
  {
   "cell_type": "code",
   "execution_count": 245,
   "metadata": {},
   "outputs": [
    {
     "name": "stdout",
     "output_type": "stream",
     "text": [
      "2 3 5 7 11 13 17 19 23 29 31 37 41 43 47 53 59 61 67\n"
     ]
    }
   ],
   "source": [
    "def gen_primes(N):\n",
    "    \"\"\"generate primes up to N\"\"\"\n",
    "    primes = set()\n",
    "    for n in range(2,N):\n",
    "        if all(n% p > 0 for p in primes):\n",
    "            primes.add(n)\n",
    "            yield n\n",
    "print(*gen_primes(70))"
   ]
  },
  {
   "cell_type": "code",
   "execution_count": 246,
   "metadata": {},
   "outputs": [
    {
     "data": {
      "text/plain": [
       "-1.0"
      ]
     },
     "execution_count": 246,
     "metadata": {},
     "output_type": "execute_result"
    }
   ],
   "source": [
    "import math\n",
    "math.cos(math.pi)"
   ]
  },
  {
   "cell_type": "code",
   "execution_count": 247,
   "metadata": {},
   "outputs": [
    {
     "data": {
      "text/plain": [
       "-1.0"
      ]
     },
     "execution_count": 247,
     "metadata": {},
     "output_type": "execute_result"
    }
   ],
   "source": [
    "import numpy as np\n",
    "np.cos(np.pi)"
   ]
  },
  {
   "cell_type": "code",
   "execution_count": 248,
   "metadata": {},
   "outputs": [
    {
     "data": {
      "text/plain": [
       "-1.0"
      ]
     },
     "execution_count": 248,
     "metadata": {},
     "output_type": "execute_result"
    }
   ],
   "source": [
    "from math import cos,pi\n",
    "cos(pi)"
   ]
  },
  {
   "cell_type": "code",
   "execution_count": 253,
   "metadata": {},
   "outputs": [
    {
     "data": {
      "text/plain": [
       "7"
      ]
     },
     "execution_count": 253,
     "metadata": {},
     "output_type": "execute_result"
    }
   ],
   "source": [
    "sum(range(5),-3)"
   ]
  },
  {
   "cell_type": "code",
   "execution_count": 254,
   "metadata": {},
   "outputs": [
    {
     "data": {
      "text/plain": [
       "'THE QUICK BROWN FOX.'"
      ]
     },
     "execution_count": 254,
     "metadata": {},
     "output_type": "execute_result"
    }
   ],
   "source": [
    "fox = \"tHe quick brown fox.\"\n",
    "fox.upper()"
   ]
  },
  {
   "cell_type": "code",
   "execution_count": 255,
   "metadata": {},
   "outputs": [
    {
     "data": {
      "text/plain": [
       "'the quick brown fox.'"
      ]
     },
     "execution_count": 255,
     "metadata": {},
     "output_type": "execute_result"
    }
   ],
   "source": [
    "fox.lower()"
   ]
  },
  {
   "cell_type": "code",
   "execution_count": 256,
   "metadata": {},
   "outputs": [
    {
     "data": {
      "text/plain": [
       "'The Quick Brown Fox.'"
      ]
     },
     "execution_count": 256,
     "metadata": {},
     "output_type": "execute_result"
    }
   ],
   "source": [
    "fox.title()"
   ]
  },
  {
   "cell_type": "code",
   "execution_count": 257,
   "metadata": {},
   "outputs": [
    {
     "data": {
      "text/plain": [
       "'The quick brown fox.'"
      ]
     },
     "execution_count": 257,
     "metadata": {},
     "output_type": "execute_result"
    }
   ],
   "source": [
    "fox.capitalize()"
   ]
  },
  {
   "cell_type": "code",
   "execution_count": 258,
   "metadata": {},
   "outputs": [
    {
     "data": {
      "text/plain": [
       "'ThE QUICK BROWN FOX.'"
      ]
     },
     "execution_count": 258,
     "metadata": {},
     "output_type": "execute_result"
    }
   ],
   "source": [
    "fox.swapcase()"
   ]
  },
  {
   "cell_type": "code",
   "execution_count": 261,
   "metadata": {},
   "outputs": [
    {
     "data": {
      "text/plain": [
       "'this is the content'"
      ]
     },
     "execution_count": 261,
     "metadata": {},
     "output_type": "execute_result"
    }
   ],
   "source": [
    "line = '   this is the content    '\n",
    "line.strip()"
   ]
  },
  {
   "cell_type": "code",
   "execution_count": 263,
   "metadata": {},
   "outputs": [
    {
     "data": {
      "text/plain": [
       "'   this is the content'"
      ]
     },
     "execution_count": 263,
     "metadata": {},
     "output_type": "execute_result"
    }
   ],
   "source": [
    "line.rstrip()"
   ]
  },
  {
   "cell_type": "code",
   "execution_count": 265,
   "metadata": {},
   "outputs": [
    {
     "data": {
      "text/plain": [
       "'this is the content    '"
      ]
     },
     "execution_count": 265,
     "metadata": {},
     "output_type": "execute_result"
    }
   ],
   "source": [
    "line.lstrip()"
   ]
  },
  {
   "cell_type": "code",
   "execution_count": 266,
   "metadata": {},
   "outputs": [
    {
     "data": {
      "text/plain": [
       "'435'"
      ]
     },
     "execution_count": 266,
     "metadata": {},
     "output_type": "execute_result"
    }
   ],
   "source": [
    "num = \"000000435\"\n",
    "num.strip('0')"
   ]
  },
  {
   "cell_type": "code",
   "execution_count": 267,
   "metadata": {},
   "outputs": [
    {
     "data": {
      "text/plain": [
       "'     this is the content      '"
      ]
     },
     "execution_count": 267,
     "metadata": {},
     "output_type": "execute_result"
    }
   ],
   "source": [
    "line = \"this is the content\"\n",
    "line.center(30)"
   ]
  },
  {
   "cell_type": "code",
   "execution_count": 268,
   "metadata": {},
   "outputs": [
    {
     "data": {
      "text/plain": [
       "'this is the content           '"
      ]
     },
     "execution_count": 268,
     "metadata": {},
     "output_type": "execute_result"
    }
   ],
   "source": [
    "line.ljust(30)"
   ]
  },
  {
   "cell_type": "code",
   "execution_count": 269,
   "metadata": {},
   "outputs": [
    {
     "data": {
      "text/plain": [
       "'           this is the content'"
      ]
     },
     "execution_count": 269,
     "metadata": {},
     "output_type": "execute_result"
    }
   ],
   "source": [
    "line.rjust(30)"
   ]
  },
  {
   "cell_type": "code",
   "execution_count": 270,
   "metadata": {},
   "outputs": [
    {
     "data": {
      "text/plain": [
       "'0000000435'"
      ]
     },
     "execution_count": 270,
     "metadata": {},
     "output_type": "execute_result"
    }
   ],
   "source": [
    "'435'.rjust(10, '0')"
   ]
  },
  {
   "cell_type": "code",
   "execution_count": 271,
   "metadata": {},
   "outputs": [
    {
     "data": {
      "text/plain": [
       "'0000000435'"
      ]
     },
     "execution_count": 271,
     "metadata": {},
     "output_type": "execute_result"
    }
   ],
   "source": [
    "'435'.zfill(10)"
   ]
  },
  {
   "cell_type": "code",
   "execution_count": 277,
   "metadata": {},
   "outputs": [
    {
     "data": {
      "text/plain": [
       "16"
      ]
     },
     "execution_count": 277,
     "metadata": {},
     "output_type": "execute_result"
    }
   ],
   "source": [
    "line='the quick brown fox jumped over a lazy dog'\n",
    "line.find('fox')"
   ]
  },
  {
   "cell_type": "code",
   "execution_count": 278,
   "metadata": {},
   "outputs": [
    {
     "data": {
      "text/plain": [
       "16"
      ]
     },
     "execution_count": 278,
     "metadata": {},
     "output_type": "execute_result"
    }
   ],
   "source": [
    "line.index('fox')"
   ]
  },
  {
   "cell_type": "code",
   "execution_count": 279,
   "metadata": {},
   "outputs": [
    {
     "data": {
      "text/plain": [
       "-1"
      ]
     },
     "execution_count": 279,
     "metadata": {},
     "output_type": "execute_result"
    }
   ],
   "source": [
    "line.find('bear')"
   ]
  },
  {
   "cell_type": "code",
   "execution_count": 280,
   "metadata": {},
   "outputs": [
    {
     "ename": "ValueError",
     "evalue": "substring not found",
     "output_type": "error",
     "traceback": [
      "\u001b[0;31m---------------------------------------------------------------------------\u001b[0m",
      "\u001b[0;31mValueError\u001b[0m                                Traceback (most recent call last)",
      "\u001b[0;32m<ipython-input-280-adf599eb4c79>\u001b[0m in \u001b[0;36m<module>\u001b[0;34m\u001b[0m\n\u001b[0;32m----> 1\u001b[0;31m \u001b[0mline\u001b[0m\u001b[0;34m.\u001b[0m\u001b[0mindex\u001b[0m\u001b[0;34m(\u001b[0m\u001b[0;34m'bear'\u001b[0m\u001b[0;34m)\u001b[0m\u001b[0;34m\u001b[0m\u001b[0;34m\u001b[0m\u001b[0m\n\u001b[0m",
      "\u001b[0;31mValueError\u001b[0m: substring not found"
     ]
    }
   ],
   "source": [
    "line.index('bear')"
   ]
  },
  {
   "cell_type": "code",
   "execution_count": 281,
   "metadata": {},
   "outputs": [
    {
     "data": {
      "text/plain": [
       "35"
      ]
     },
     "execution_count": 281,
     "metadata": {},
     "output_type": "execute_result"
    }
   ],
   "source": [
    "line.rfind('a')"
   ]
  },
  {
   "cell_type": "code",
   "execution_count": 282,
   "metadata": {},
   "outputs": [
    {
     "data": {
      "text/plain": [
       "True"
      ]
     },
     "execution_count": 282,
     "metadata": {},
     "output_type": "execute_result"
    }
   ],
   "source": [
    "line.endswith('dog')"
   ]
  },
  {
   "cell_type": "code",
   "execution_count": 283,
   "metadata": {},
   "outputs": [
    {
     "data": {
      "text/plain": [
       "False"
      ]
     },
     "execution_count": 283,
     "metadata": {},
     "output_type": "execute_result"
    }
   ],
   "source": [
    "line.startswith('fox')"
   ]
  },
  {
   "cell_type": "code",
   "execution_count": 284,
   "metadata": {},
   "outputs": [
    {
     "data": {
      "text/plain": [
       "'the quick red fox jumped over a lazy dog'"
      ]
     },
     "execution_count": 284,
     "metadata": {},
     "output_type": "execute_result"
    }
   ],
   "source": [
    "line.replace('brown','red')"
   ]
  },
  {
   "cell_type": "code",
   "execution_count": 285,
   "metadata": {},
   "outputs": [
    {
     "data": {
      "text/plain": [
       "'the quick br--wn f--x jumped --ver a lazy d--g'"
      ]
     },
     "execution_count": 285,
     "metadata": {},
     "output_type": "execute_result"
    }
   ],
   "source": [
    "line.replace('o','--')"
   ]
  },
  {
   "cell_type": "code",
   "execution_count": 286,
   "metadata": {},
   "outputs": [
    {
     "data": {
      "text/plain": [
       "('the quick brown ', 'fox', ' jumped over a lazy dog')"
      ]
     },
     "execution_count": 286,
     "metadata": {},
     "output_type": "execute_result"
    }
   ],
   "source": [
    "line.partition('fox')"
   ]
  },
  {
   "cell_type": "code",
   "execution_count": 287,
   "metadata": {},
   "outputs": [
    {
     "data": {
      "text/plain": [
       "['the', 'quick', 'brown', 'fox', 'jumped', 'over', 'a', 'lazy', 'dog']"
      ]
     },
     "execution_count": 287,
     "metadata": {},
     "output_type": "execute_result"
    }
   ],
   "source": [
    "line.split()"
   ]
  },
  {
   "cell_type": "code",
   "execution_count": 288,
   "metadata": {},
   "outputs": [
    {
     "data": {
      "text/plain": [
       "['matsushima-ya', 'aah matsushima-ya', 'matsushima-ya']"
      ]
     },
     "execution_count": 288,
     "metadata": {},
     "output_type": "execute_result"
    }
   ],
   "source": [
    "haiku=\"\"\"matsushima-ya\n",
    "aah matsushima-ya\n",
    "matsushima-ya\"\"\"\n",
    "haiku.splitlines()"
   ]
  },
  {
   "cell_type": "code",
   "execution_count": 289,
   "metadata": {},
   "outputs": [
    {
     "data": {
      "text/plain": [
       "'1--2--3'"
      ]
     },
     "execution_count": 289,
     "metadata": {},
     "output_type": "execute_result"
    }
   ],
   "source": [
    "'--'.join(['1','2','3'])"
   ]
  },
  {
   "cell_type": "code",
   "execution_count": 290,
   "metadata": {},
   "outputs": [
    {
     "name": "stdout",
     "output_type": "stream",
     "text": [
      "1\n",
      "2\n",
      "3\n"
     ]
    }
   ],
   "source": [
    "print(\"\\n\".join(['1','2','3']))"
   ]
  },
  {
   "cell_type": "code",
   "execution_count": 291,
   "metadata": {},
   "outputs": [
    {
     "data": {
      "text/plain": [
       "'3.14159'"
      ]
     },
     "execution_count": 291,
     "metadata": {},
     "output_type": "execute_result"
    }
   ],
   "source": [
    "pi=3.14159\n",
    "str(pi)"
   ]
  },
  {
   "cell_type": "code",
   "execution_count": 293,
   "metadata": {},
   "outputs": [
    {
     "data": {
      "text/plain": [
       "'the value of pi is 3.14159'"
      ]
     },
     "execution_count": 293,
     "metadata": {},
     "output_type": "execute_result"
    }
   ],
   "source": [
    "\"the value of pi is \"+ str(pi)"
   ]
  },
  {
   "cell_type": "code",
   "execution_count": 294,
   "metadata": {},
   "outputs": [
    {
     "data": {
      "text/plain": [
       "'the value of pi is 3.14159'"
      ]
     },
     "execution_count": 294,
     "metadata": {},
     "output_type": "execute_result"
    }
   ],
   "source": [
    "\"the value of pi is {}\".format(pi)"
   ]
  },
  {
   "cell_type": "code",
   "execution_count": 295,
   "metadata": {},
   "outputs": [
    {
     "data": {
      "text/plain": [
       "'first letter:A. last letter:Z.'"
      ]
     },
     "execution_count": 295,
     "metadata": {},
     "output_type": "execute_result"
    }
   ],
   "source": [
    "\"\"\"first letter:{0}. last letter:{1}.\"\"\".format('A','Z')"
   ]
  },
  {
   "cell_type": "code",
   "execution_count": 296,
   "metadata": {},
   "outputs": [
    {
     "data": {
      "text/plain": [
       "'first:A. last:Z.'"
      ]
     },
     "execution_count": 296,
     "metadata": {},
     "output_type": "execute_result"
    }
   ],
   "source": [
    "\"\"\"first:{first}. last:{last}.\"\"\".format(last='Z',first='A')"
   ]
  },
  {
   "cell_type": "code",
   "execution_count": 297,
   "metadata": {},
   "outputs": [
    {
     "data": {
      "text/plain": [
       "'pi=3.142'"
      ]
     },
     "execution_count": 297,
     "metadata": {},
     "output_type": "execute_result"
    }
   ],
   "source": [
    "\"pi={0:.3f}\".format(pi)"
   ]
  },
  {
   "cell_type": "code",
   "execution_count": 298,
   "metadata": {},
   "outputs": [
    {
     "data": {
      "text/plain": [
       "['the', 'quick', 'brown', 'fox', 'jumped', 'over', 'a', 'lazy', 'dog']"
      ]
     },
     "execution_count": 298,
     "metadata": {},
     "output_type": "execute_result"
    }
   ],
   "source": [
    "import re \n",
    "regex = re.compile('\\s+')\n",
    "regex.split(line)"
   ]
  },
  {
   "cell_type": "code",
   "execution_count": 301,
   "metadata": {},
   "outputs": [
    {
     "name": "stdout",
     "output_type": "stream",
     "text": [
      "' ' matches\n",
      "'abc' does not match\n",
      "'    abc' matches\n"
     ]
    }
   ],
   "source": [
    "for s in [\" \",\"abc\",\"    abc\"]:\n",
    "    if regex.match(s):\n",
    "        print(repr(s), \"matches\")\n",
    "    else:\n",
    "        print(repr(s), \"does not match\")"
   ]
  },
  {
   "cell_type": "code",
   "execution_count": 302,
   "metadata": {},
   "outputs": [],
   "source": [
    "line= 'the quick brown fox jumped over a lazy dog'"
   ]
  },
  {
   "cell_type": "code",
   "execution_count": 303,
   "metadata": {},
   "outputs": [
    {
     "data": {
      "text/plain": [
       "16"
      ]
     },
     "execution_count": 303,
     "metadata": {},
     "output_type": "execute_result"
    }
   ],
   "source": [
    "line.index('fox')"
   ]
  },
  {
   "cell_type": "code",
   "execution_count": 304,
   "metadata": {},
   "outputs": [
    {
     "data": {
      "text/plain": [
       "16"
      ]
     },
     "execution_count": 304,
     "metadata": {},
     "output_type": "execute_result"
    }
   ],
   "source": [
    "regex=re.compile('fox')\n",
    "match=regex.search(line)\n",
    "match.start()"
   ]
  },
  {
   "cell_type": "code",
   "execution_count": 305,
   "metadata": {},
   "outputs": [
    {
     "data": {
      "text/plain": [
       "'the quick brown bear jumped over a lazy dog'"
      ]
     },
     "execution_count": 305,
     "metadata": {},
     "output_type": "execute_result"
    }
   ],
   "source": [
    "line.replace('fox','bear')"
   ]
  },
  {
   "cell_type": "code",
   "execution_count": 306,
   "metadata": {},
   "outputs": [
    {
     "data": {
      "text/plain": [
       "'the quick brown bear jumped over a lazy dog'"
      ]
     },
     "execution_count": 306,
     "metadata": {},
     "output_type": "execute_result"
    }
   ],
   "source": [
    "regex.sub('bear',line)"
   ]
  },
  {
   "cell_type": "code",
   "execution_count": 308,
   "metadata": {},
   "outputs": [
    {
     "data": {
      "text/plain": [
       "['ion']"
      ]
     },
     "execution_count": 308,
     "metadata": {},
     "output_type": "execute_result"
    }
   ],
   "source": [
    "regex = re.compile('ion')\n",
    "regex.findall('great expextations')"
   ]
  },
  {
   "cell_type": "code",
   "execution_count": 309,
   "metadata": {},
   "outputs": [
    {
     "data": {
      "text/plain": [
       "['$']"
      ]
     },
     "execution_count": 309,
     "metadata": {},
     "output_type": "execute_result"
    }
   ],
   "source": [
    "regex= re.compile(r'\\$')\n",
    "regex.findall(\"the cost is $20\")"
   ]
  },
  {
   "cell_type": "code",
   "execution_count": 310,
   "metadata": {},
   "outputs": [
    {
     "name": "stdout",
     "output_type": "stream",
     "text": [
      "a\tb\tc\n"
     ]
    }
   ],
   "source": [
    "print('a\\tb\\tc')"
   ]
  },
  {
   "cell_type": "code",
   "execution_count": 311,
   "metadata": {},
   "outputs": [
    {
     "name": "stdout",
     "output_type": "stream",
     "text": [
      "a\\tb\\tc\n"
     ]
    }
   ],
   "source": [
    "print(r'a\\tb\\tc')"
   ]
  },
  {
   "cell_type": "code",
   "execution_count": 313,
   "metadata": {},
   "outputs": [
    {
     "data": {
      "text/plain": [
       "['e f', 'x i', 's 9', 's o']"
      ]
     },
     "execution_count": 313,
     "metadata": {},
     "output_type": "execute_result"
    }
   ],
   "source": [
    "regex = re.compile(r'\\w\\s\\w')\n",
    "regex.findall('the fox is 9 years old')"
   ]
  },
  {
   "cell_type": "code",
   "execution_count": 314,
   "metadata": {},
   "outputs": [
    {
     "data": {
      "text/plain": [
       "['c', 'ns', 'q', '', 'nt', '', 'l']"
      ]
     },
     "execution_count": 314,
     "metadata": {},
     "output_type": "execute_result"
    }
   ],
   "source": [
    "regex=re.compile('[aeiou]')\n",
    "regex.split('consequential')"
   ]
  },
  {
   "cell_type": "code",
   "execution_count": 315,
   "metadata": {},
   "outputs": [
    {
     "data": {
      "text/plain": [
       "['G2', 'H6']"
      ]
     },
     "execution_count": 315,
     "metadata": {},
     "output_type": "execute_result"
    }
   ],
   "source": [
    "regex= re.compile('[A-Z][0-9]')\n",
    "regex.findall('1043879,G2,H6')"
   ]
  },
  {
   "cell_type": "code",
   "execution_count": 318,
   "metadata": {},
   "outputs": [
    {
     "data": {
      "text/plain": [
       "['The', 'qui', 'bro', 'fox']"
      ]
     },
     "execution_count": 318,
     "metadata": {},
     "output_type": "execute_result"
    }
   ],
   "source": [
    "regex=re.compile(r'\\w{3}')\n",
    "regex.findall('The quick brown fox')"
   ]
  },
  {
   "cell_type": "code",
   "execution_count": 319,
   "metadata": {},
   "outputs": [
    {
     "data": {
      "text/plain": [
       "['The', 'quick', 'brown', 'fox']"
      ]
     },
     "execution_count": 319,
     "metadata": {},
     "output_type": "execute_result"
    }
   ],
   "source": [
    "regex=re.compile(r'\\w+')\n",
    "regex.findall('The quick brown fox')"
   ]
  },
  {
   "cell_type": "code",
   "execution_count": 321,
   "metadata": {},
   "outputs": [
    {
     "data": {
      "text/plain": [
       "['barack.obama@whitehouse.gov']"
      ]
     },
     "execution_count": 321,
     "metadata": {},
     "output_type": "execute_result"
    }
   ],
   "source": [
    "email2=re.compile(r'[\\w.]+@\\w+\\.[a-z]{3}')\n",
    "email2.findall('barack.obama@whitehouse.gov')"
   ]
  },
  {
   "cell_type": "code",
   "execution_count": 325,
   "metadata": {},
   "outputs": [
    {
     "data": {
      "text/plain": [
       "[('guido', 'python', 'org'), ('guido', 'google', 'com')]"
      ]
     },
     "execution_count": 325,
     "metadata": {},
     "output_type": "execute_result"
    }
   ],
   "source": [
    "email3=re.compile(r'([\\w.]+)@(\\w+)\\.([a-z]{3})')\n",
    "text=\"to email guido, try guido@python.org\"\\\n",
    "\"or the older address guido@google.com.\"\n",
    "email3.findall(text)"
   ]
  },
  {
   "cell_type": "code",
   "execution_count": 328,
   "metadata": {},
   "outputs": [
    {
     "data": {
      "text/plain": [
       "{'user': 'guido', 'domain': 'python', 'suffix': 'org'}"
      ]
     },
     "execution_count": 328,
     "metadata": {},
     "output_type": "execute_result"
    }
   ],
   "source": [
    "email4=re.compile(r'(?P<user>[\\w.]+)@(?P<domain>\\w+)\\.(?P<suffix>[a-z]{3})')\n",
    "match=email4.match('guido@python.org')\n",
    "match.groupdict()"
   ]
  },
  {
   "cell_type": "code",
   "execution_count": 330,
   "metadata": {},
   "outputs": [
    {
     "data": {
      "text/plain": [
       "array([1, 2, 3, 4, 5, 6, 7, 8, 9])"
      ]
     },
     "execution_count": 330,
     "metadata": {},
     "output_type": "execute_result"
    }
   ],
   "source": [
    "import numpy as np\n",
    "x = np.arange(1,10)\n",
    "x"
   ]
  },
  {
   "cell_type": "code",
   "execution_count": 331,
   "metadata": {},
   "outputs": [
    {
     "data": {
      "text/plain": [
       "array([ 1,  4,  9, 16, 25, 36, 49, 64, 81])"
      ]
     },
     "execution_count": 331,
     "metadata": {},
     "output_type": "execute_result"
    }
   ],
   "source": [
    "x**2"
   ]
  },
  {
   "cell_type": "code",
   "execution_count": 332,
   "metadata": {},
   "outputs": [
    {
     "data": {
      "text/plain": [
       "array([[1, 2, 3],\n",
       "       [4, 5, 6],\n",
       "       [7, 8, 9]])"
      ]
     },
     "execution_count": 332,
     "metadata": {},
     "output_type": "execute_result"
    }
   ],
   "source": [
    "M=x.reshape((3,3))\n",
    "M"
   ]
  },
  {
   "cell_type": "code",
   "execution_count": 333,
   "metadata": {},
   "outputs": [
    {
     "data": {
      "text/plain": [
       "array([[1, 4, 7],\n",
       "       [2, 5, 8],\n",
       "       [3, 6, 9]])"
      ]
     },
     "execution_count": 333,
     "metadata": {},
     "output_type": "execute_result"
    }
   ],
   "source": [
    "M.T"
   ]
  },
  {
   "cell_type": "code",
   "execution_count": 334,
   "metadata": {},
   "outputs": [
    {
     "data": {
      "text/plain": [
       "array([ 38,  92, 146])"
      ]
     },
     "execution_count": 334,
     "metadata": {},
     "output_type": "execute_result"
    }
   ],
   "source": [
    "np.dot(M,[5,6,7])"
   ]
  },
  {
   "cell_type": "code",
   "execution_count": 335,
   "metadata": {},
   "outputs": [
    {
     "data": {
      "text/plain": [
       "array([ 1.61168440e+01, -1.11684397e+00, -9.75918483e-16])"
      ]
     },
     "execution_count": 335,
     "metadata": {},
     "output_type": "execute_result"
    }
   ],
   "source": [
    "np.linalg.eigvals(M)"
   ]
  },
  {
   "cell_type": "code",
   "execution_count": 336,
   "metadata": {},
   "outputs": [],
   "source": [
    "import pandas as pd"
   ]
  },
  {
   "cell_type": "code",
   "execution_count": 337,
   "metadata": {},
   "outputs": [
    {
     "data": {
      "text/html": [
       "<div>\n",
       "<style scoped>\n",
       "    .dataframe tbody tr th:only-of-type {\n",
       "        vertical-align: middle;\n",
       "    }\n",
       "\n",
       "    .dataframe tbody tr th {\n",
       "        vertical-align: top;\n",
       "    }\n",
       "\n",
       "    .dataframe thead th {\n",
       "        text-align: right;\n",
       "    }\n",
       "</style>\n",
       "<table border=\"1\" class=\"dataframe\">\n",
       "  <thead>\n",
       "    <tr style=\"text-align: right;\">\n",
       "      <th></th>\n",
       "      <th>label</th>\n",
       "      <th>value</th>\n",
       "    </tr>\n",
       "  </thead>\n",
       "  <tbody>\n",
       "    <tr>\n",
       "      <th>0</th>\n",
       "      <td>A</td>\n",
       "      <td>1</td>\n",
       "    </tr>\n",
       "    <tr>\n",
       "      <th>1</th>\n",
       "      <td>B</td>\n",
       "      <td>2</td>\n",
       "    </tr>\n",
       "    <tr>\n",
       "      <th>2</th>\n",
       "      <td>C</td>\n",
       "      <td>3</td>\n",
       "    </tr>\n",
       "    <tr>\n",
       "      <th>3</th>\n",
       "      <td>A</td>\n",
       "      <td>4</td>\n",
       "    </tr>\n",
       "    <tr>\n",
       "      <th>4</th>\n",
       "      <td>B</td>\n",
       "      <td>5</td>\n",
       "    </tr>\n",
       "    <tr>\n",
       "      <th>5</th>\n",
       "      <td>C</td>\n",
       "      <td>6</td>\n",
       "    </tr>\n",
       "  </tbody>\n",
       "</table>\n",
       "</div>"
      ],
      "text/plain": [
       "  label  value\n",
       "0     A      1\n",
       "1     B      2\n",
       "2     C      3\n",
       "3     A      4\n",
       "4     B      5\n",
       "5     C      6"
      ]
     },
     "execution_count": 337,
     "metadata": {},
     "output_type": "execute_result"
    }
   ],
   "source": [
    "df=pd.DataFrame({'label':['A','B','C','A','B','C'],'value':[1,2,3,4,5,6]})\n",
    "df"
   ]
  },
  {
   "cell_type": "code",
   "execution_count": 338,
   "metadata": {},
   "outputs": [
    {
     "data": {
      "text/plain": [
       "0    A\n",
       "1    B\n",
       "2    C\n",
       "3    A\n",
       "4    B\n",
       "5    C\n",
       "Name: label, dtype: object"
      ]
     },
     "execution_count": 338,
     "metadata": {},
     "output_type": "execute_result"
    }
   ],
   "source": [
    "df['label']"
   ]
  },
  {
   "cell_type": "code",
   "execution_count": 339,
   "metadata": {},
   "outputs": [
    {
     "data": {
      "text/plain": [
       "0    a\n",
       "1    b\n",
       "2    c\n",
       "3    a\n",
       "4    b\n",
       "5    c\n",
       "Name: label, dtype: object"
      ]
     },
     "execution_count": 339,
     "metadata": {},
     "output_type": "execute_result"
    }
   ],
   "source": [
    "df['label'].str.lower()"
   ]
  },
  {
   "cell_type": "code",
   "execution_count": 340,
   "metadata": {},
   "outputs": [
    {
     "data": {
      "text/plain": [
       "21"
      ]
     },
     "execution_count": 340,
     "metadata": {},
     "output_type": "execute_result"
    }
   ],
   "source": [
    "df['value'].sum()"
   ]
  },
  {
   "cell_type": "code",
   "execution_count": 341,
   "metadata": {},
   "outputs": [
    {
     "data": {
      "text/html": [
       "<div>\n",
       "<style scoped>\n",
       "    .dataframe tbody tr th:only-of-type {\n",
       "        vertical-align: middle;\n",
       "    }\n",
       "\n",
       "    .dataframe tbody tr th {\n",
       "        vertical-align: top;\n",
       "    }\n",
       "\n",
       "    .dataframe thead th {\n",
       "        text-align: right;\n",
       "    }\n",
       "</style>\n",
       "<table border=\"1\" class=\"dataframe\">\n",
       "  <thead>\n",
       "    <tr style=\"text-align: right;\">\n",
       "      <th></th>\n",
       "      <th>value</th>\n",
       "    </tr>\n",
       "    <tr>\n",
       "      <th>label</th>\n",
       "      <th></th>\n",
       "    </tr>\n",
       "  </thead>\n",
       "  <tbody>\n",
       "    <tr>\n",
       "      <th>A</th>\n",
       "      <td>5</td>\n",
       "    </tr>\n",
       "    <tr>\n",
       "      <th>B</th>\n",
       "      <td>7</td>\n",
       "    </tr>\n",
       "    <tr>\n",
       "      <th>C</th>\n",
       "      <td>9</td>\n",
       "    </tr>\n",
       "  </tbody>\n",
       "</table>\n",
       "</div>"
      ],
      "text/plain": [
       "       value\n",
       "label       \n",
       "A          5\n",
       "B          7\n",
       "C          9"
      ]
     },
     "execution_count": 341,
     "metadata": {},
     "output_type": "execute_result"
    }
   ],
   "source": [
    "df.groupby('label').sum()"
   ]
  },
  {
   "cell_type": "code",
   "execution_count": 342,
   "metadata": {},
   "outputs": [
    {
     "data": {
      "application/javascript": [
       "/* Put everything inside the global mpl namespace */\n",
       "window.mpl = {};\n",
       "\n",
       "\n",
       "mpl.get_websocket_type = function() {\n",
       "    if (typeof(WebSocket) !== 'undefined') {\n",
       "        return WebSocket;\n",
       "    } else if (typeof(MozWebSocket) !== 'undefined') {\n",
       "        return MozWebSocket;\n",
       "    } else {\n",
       "        alert('Your browser does not have WebSocket support. ' +\n",
       "              'Please try Chrome, Safari or Firefox ≥ 6. ' +\n",
       "              'Firefox 4 and 5 are also supported but you ' +\n",
       "              'have to enable WebSockets in about:config.');\n",
       "    };\n",
       "}\n",
       "\n",
       "mpl.figure = function(figure_id, websocket, ondownload, parent_element) {\n",
       "    this.id = figure_id;\n",
       "\n",
       "    this.ws = websocket;\n",
       "\n",
       "    this.supports_binary = (this.ws.binaryType != undefined);\n",
       "\n",
       "    if (!this.supports_binary) {\n",
       "        var warnings = document.getElementById(\"mpl-warnings\");\n",
       "        if (warnings) {\n",
       "            warnings.style.display = 'block';\n",
       "            warnings.textContent = (\n",
       "                \"This browser does not support binary websocket messages. \" +\n",
       "                    \"Performance may be slow.\");\n",
       "        }\n",
       "    }\n",
       "\n",
       "    this.imageObj = new Image();\n",
       "\n",
       "    this.context = undefined;\n",
       "    this.message = undefined;\n",
       "    this.canvas = undefined;\n",
       "    this.rubberband_canvas = undefined;\n",
       "    this.rubberband_context = undefined;\n",
       "    this.format_dropdown = undefined;\n",
       "\n",
       "    this.image_mode = 'full';\n",
       "\n",
       "    this.root = $('<div/>');\n",
       "    this._root_extra_style(this.root)\n",
       "    this.root.attr('style', 'display: inline-block');\n",
       "\n",
       "    $(parent_element).append(this.root);\n",
       "\n",
       "    this._init_header(this);\n",
       "    this._init_canvas(this);\n",
       "    this._init_toolbar(this);\n",
       "\n",
       "    var fig = this;\n",
       "\n",
       "    this.waiting = false;\n",
       "\n",
       "    this.ws.onopen =  function () {\n",
       "            fig.send_message(\"supports_binary\", {value: fig.supports_binary});\n",
       "            fig.send_message(\"send_image_mode\", {});\n",
       "            if (mpl.ratio != 1) {\n",
       "                fig.send_message(\"set_dpi_ratio\", {'dpi_ratio': mpl.ratio});\n",
       "            }\n",
       "            fig.send_message(\"refresh\", {});\n",
       "        }\n",
       "\n",
       "    this.imageObj.onload = function() {\n",
       "            if (fig.image_mode == 'full') {\n",
       "                // Full images could contain transparency (where diff images\n",
       "                // almost always do), so we need to clear the canvas so that\n",
       "                // there is no ghosting.\n",
       "                fig.context.clearRect(0, 0, fig.canvas.width, fig.canvas.height);\n",
       "            }\n",
       "            fig.context.drawImage(fig.imageObj, 0, 0);\n",
       "        };\n",
       "\n",
       "    this.imageObj.onunload = function() {\n",
       "        fig.ws.close();\n",
       "    }\n",
       "\n",
       "    this.ws.onmessage = this._make_on_message_function(this);\n",
       "\n",
       "    this.ondownload = ondownload;\n",
       "}\n",
       "\n",
       "mpl.figure.prototype._init_header = function() {\n",
       "    var titlebar = $(\n",
       "        '<div class=\"ui-dialog-titlebar ui-widget-header ui-corner-all ' +\n",
       "        'ui-helper-clearfix\"/>');\n",
       "    var titletext = $(\n",
       "        '<div class=\"ui-dialog-title\" style=\"width: 100%; ' +\n",
       "        'text-align: center; padding: 3px;\"/>');\n",
       "    titlebar.append(titletext)\n",
       "    this.root.append(titlebar);\n",
       "    this.header = titletext[0];\n",
       "}\n",
       "\n",
       "\n",
       "\n",
       "mpl.figure.prototype._canvas_extra_style = function(canvas_div) {\n",
       "\n",
       "}\n",
       "\n",
       "\n",
       "mpl.figure.prototype._root_extra_style = function(canvas_div) {\n",
       "\n",
       "}\n",
       "\n",
       "mpl.figure.prototype._init_canvas = function() {\n",
       "    var fig = this;\n",
       "\n",
       "    var canvas_div = $('<div/>');\n",
       "\n",
       "    canvas_div.attr('style', 'position: relative; clear: both; outline: 0');\n",
       "\n",
       "    function canvas_keyboard_event(event) {\n",
       "        return fig.key_event(event, event['data']);\n",
       "    }\n",
       "\n",
       "    canvas_div.keydown('key_press', canvas_keyboard_event);\n",
       "    canvas_div.keyup('key_release', canvas_keyboard_event);\n",
       "    this.canvas_div = canvas_div\n",
       "    this._canvas_extra_style(canvas_div)\n",
       "    this.root.append(canvas_div);\n",
       "\n",
       "    var canvas = $('<canvas/>');\n",
       "    canvas.addClass('mpl-canvas');\n",
       "    canvas.attr('style', \"left: 0; top: 0; z-index: 0; outline: 0\")\n",
       "\n",
       "    this.canvas = canvas[0];\n",
       "    this.context = canvas[0].getContext(\"2d\");\n",
       "\n",
       "    var backingStore = this.context.backingStorePixelRatio ||\n",
       "\tthis.context.webkitBackingStorePixelRatio ||\n",
       "\tthis.context.mozBackingStorePixelRatio ||\n",
       "\tthis.context.msBackingStorePixelRatio ||\n",
       "\tthis.context.oBackingStorePixelRatio ||\n",
       "\tthis.context.backingStorePixelRatio || 1;\n",
       "\n",
       "    mpl.ratio = (window.devicePixelRatio || 1) / backingStore;\n",
       "\n",
       "    var rubberband = $('<canvas/>');\n",
       "    rubberband.attr('style', \"position: absolute; left: 0; top: 0; z-index: 1;\")\n",
       "\n",
       "    var pass_mouse_events = true;\n",
       "\n",
       "    canvas_div.resizable({\n",
       "        start: function(event, ui) {\n",
       "            pass_mouse_events = false;\n",
       "        },\n",
       "        resize: function(event, ui) {\n",
       "            fig.request_resize(ui.size.width, ui.size.height);\n",
       "        },\n",
       "        stop: function(event, ui) {\n",
       "            pass_mouse_events = true;\n",
       "            fig.request_resize(ui.size.width, ui.size.height);\n",
       "        },\n",
       "    });\n",
       "\n",
       "    function mouse_event_fn(event) {\n",
       "        if (pass_mouse_events)\n",
       "            return fig.mouse_event(event, event['data']);\n",
       "    }\n",
       "\n",
       "    rubberband.mousedown('button_press', mouse_event_fn);\n",
       "    rubberband.mouseup('button_release', mouse_event_fn);\n",
       "    // Throttle sequential mouse events to 1 every 20ms.\n",
       "    rubberband.mousemove('motion_notify', mouse_event_fn);\n",
       "\n",
       "    rubberband.mouseenter('figure_enter', mouse_event_fn);\n",
       "    rubberband.mouseleave('figure_leave', mouse_event_fn);\n",
       "\n",
       "    canvas_div.on(\"wheel\", function (event) {\n",
       "        event = event.originalEvent;\n",
       "        event['data'] = 'scroll'\n",
       "        if (event.deltaY < 0) {\n",
       "            event.step = 1;\n",
       "        } else {\n",
       "            event.step = -1;\n",
       "        }\n",
       "        mouse_event_fn(event);\n",
       "    });\n",
       "\n",
       "    canvas_div.append(canvas);\n",
       "    canvas_div.append(rubberband);\n",
       "\n",
       "    this.rubberband = rubberband;\n",
       "    this.rubberband_canvas = rubberband[0];\n",
       "    this.rubberband_context = rubberband[0].getContext(\"2d\");\n",
       "    this.rubberband_context.strokeStyle = \"#000000\";\n",
       "\n",
       "    this._resize_canvas = function(width, height) {\n",
       "        // Keep the size of the canvas, canvas container, and rubber band\n",
       "        // canvas in synch.\n",
       "        canvas_div.css('width', width)\n",
       "        canvas_div.css('height', height)\n",
       "\n",
       "        canvas.attr('width', width * mpl.ratio);\n",
       "        canvas.attr('height', height * mpl.ratio);\n",
       "        canvas.attr('style', 'width: ' + width + 'px; height: ' + height + 'px;');\n",
       "\n",
       "        rubberband.attr('width', width);\n",
       "        rubberband.attr('height', height);\n",
       "    }\n",
       "\n",
       "    // Set the figure to an initial 600x600px, this will subsequently be updated\n",
       "    // upon first draw.\n",
       "    this._resize_canvas(600, 600);\n",
       "\n",
       "    // Disable right mouse context menu.\n",
       "    $(this.rubberband_canvas).bind(\"contextmenu\",function(e){\n",
       "        return false;\n",
       "    });\n",
       "\n",
       "    function set_focus () {\n",
       "        canvas.focus();\n",
       "        canvas_div.focus();\n",
       "    }\n",
       "\n",
       "    window.setTimeout(set_focus, 100);\n",
       "}\n",
       "\n",
       "mpl.figure.prototype._init_toolbar = function() {\n",
       "    var fig = this;\n",
       "\n",
       "    var nav_element = $('<div/>');\n",
       "    nav_element.attr('style', 'width: 100%');\n",
       "    this.root.append(nav_element);\n",
       "\n",
       "    // Define a callback function for later on.\n",
       "    function toolbar_event(event) {\n",
       "        return fig.toolbar_button_onclick(event['data']);\n",
       "    }\n",
       "    function toolbar_mouse_event(event) {\n",
       "        return fig.toolbar_button_onmouseover(event['data']);\n",
       "    }\n",
       "\n",
       "    for(var toolbar_ind in mpl.toolbar_items) {\n",
       "        var name = mpl.toolbar_items[toolbar_ind][0];\n",
       "        var tooltip = mpl.toolbar_items[toolbar_ind][1];\n",
       "        var image = mpl.toolbar_items[toolbar_ind][2];\n",
       "        var method_name = mpl.toolbar_items[toolbar_ind][3];\n",
       "\n",
       "        if (!name) {\n",
       "            // put a spacer in here.\n",
       "            continue;\n",
       "        }\n",
       "        var button = $('<button/>');\n",
       "        button.addClass('ui-button ui-widget ui-state-default ui-corner-all ' +\n",
       "                        'ui-button-icon-only');\n",
       "        button.attr('role', 'button');\n",
       "        button.attr('aria-disabled', 'false');\n",
       "        button.click(method_name, toolbar_event);\n",
       "        button.mouseover(tooltip, toolbar_mouse_event);\n",
       "\n",
       "        var icon_img = $('<span/>');\n",
       "        icon_img.addClass('ui-button-icon-primary ui-icon');\n",
       "        icon_img.addClass(image);\n",
       "        icon_img.addClass('ui-corner-all');\n",
       "\n",
       "        var tooltip_span = $('<span/>');\n",
       "        tooltip_span.addClass('ui-button-text');\n",
       "        tooltip_span.html(tooltip);\n",
       "\n",
       "        button.append(icon_img);\n",
       "        button.append(tooltip_span);\n",
       "\n",
       "        nav_element.append(button);\n",
       "    }\n",
       "\n",
       "    var fmt_picker_span = $('<span/>');\n",
       "\n",
       "    var fmt_picker = $('<select/>');\n",
       "    fmt_picker.addClass('mpl-toolbar-option ui-widget ui-widget-content');\n",
       "    fmt_picker_span.append(fmt_picker);\n",
       "    nav_element.append(fmt_picker_span);\n",
       "    this.format_dropdown = fmt_picker[0];\n",
       "\n",
       "    for (var ind in mpl.extensions) {\n",
       "        var fmt = mpl.extensions[ind];\n",
       "        var option = $(\n",
       "            '<option/>', {selected: fmt === mpl.default_extension}).html(fmt);\n",
       "        fmt_picker.append(option);\n",
       "    }\n",
       "\n",
       "    // Add hover states to the ui-buttons\n",
       "    $( \".ui-button\" ).hover(\n",
       "        function() { $(this).addClass(\"ui-state-hover\");},\n",
       "        function() { $(this).removeClass(\"ui-state-hover\");}\n",
       "    );\n",
       "\n",
       "    var status_bar = $('<span class=\"mpl-message\"/>');\n",
       "    nav_element.append(status_bar);\n",
       "    this.message = status_bar[0];\n",
       "}\n",
       "\n",
       "mpl.figure.prototype.request_resize = function(x_pixels, y_pixels) {\n",
       "    // Request matplotlib to resize the figure. Matplotlib will then trigger a resize in the client,\n",
       "    // which will in turn request a refresh of the image.\n",
       "    this.send_message('resize', {'width': x_pixels, 'height': y_pixels});\n",
       "}\n",
       "\n",
       "mpl.figure.prototype.send_message = function(type, properties) {\n",
       "    properties['type'] = type;\n",
       "    properties['figure_id'] = this.id;\n",
       "    this.ws.send(JSON.stringify(properties));\n",
       "}\n",
       "\n",
       "mpl.figure.prototype.send_draw_message = function() {\n",
       "    if (!this.waiting) {\n",
       "        this.waiting = true;\n",
       "        this.ws.send(JSON.stringify({type: \"draw\", figure_id: this.id}));\n",
       "    }\n",
       "}\n",
       "\n",
       "\n",
       "mpl.figure.prototype.handle_save = function(fig, msg) {\n",
       "    var format_dropdown = fig.format_dropdown;\n",
       "    var format = format_dropdown.options[format_dropdown.selectedIndex].value;\n",
       "    fig.ondownload(fig, format);\n",
       "}\n",
       "\n",
       "\n",
       "mpl.figure.prototype.handle_resize = function(fig, msg) {\n",
       "    var size = msg['size'];\n",
       "    if (size[0] != fig.canvas.width || size[1] != fig.canvas.height) {\n",
       "        fig._resize_canvas(size[0], size[1]);\n",
       "        fig.send_message(\"refresh\", {});\n",
       "    };\n",
       "}\n",
       "\n",
       "mpl.figure.prototype.handle_rubberband = function(fig, msg) {\n",
       "    var x0 = msg['x0'] / mpl.ratio;\n",
       "    var y0 = (fig.canvas.height - msg['y0']) / mpl.ratio;\n",
       "    var x1 = msg['x1'] / mpl.ratio;\n",
       "    var y1 = (fig.canvas.height - msg['y1']) / mpl.ratio;\n",
       "    x0 = Math.floor(x0) + 0.5;\n",
       "    y0 = Math.floor(y0) + 0.5;\n",
       "    x1 = Math.floor(x1) + 0.5;\n",
       "    y1 = Math.floor(y1) + 0.5;\n",
       "    var min_x = Math.min(x0, x1);\n",
       "    var min_y = Math.min(y0, y1);\n",
       "    var width = Math.abs(x1 - x0);\n",
       "    var height = Math.abs(y1 - y0);\n",
       "\n",
       "    fig.rubberband_context.clearRect(\n",
       "        0, 0, fig.canvas.width, fig.canvas.height);\n",
       "\n",
       "    fig.rubberband_context.strokeRect(min_x, min_y, width, height);\n",
       "}\n",
       "\n",
       "mpl.figure.prototype.handle_figure_label = function(fig, msg) {\n",
       "    // Updates the figure title.\n",
       "    fig.header.textContent = msg['label'];\n",
       "}\n",
       "\n",
       "mpl.figure.prototype.handle_cursor = function(fig, msg) {\n",
       "    var cursor = msg['cursor'];\n",
       "    switch(cursor)\n",
       "    {\n",
       "    case 0:\n",
       "        cursor = 'pointer';\n",
       "        break;\n",
       "    case 1:\n",
       "        cursor = 'default';\n",
       "        break;\n",
       "    case 2:\n",
       "        cursor = 'crosshair';\n",
       "        break;\n",
       "    case 3:\n",
       "        cursor = 'move';\n",
       "        break;\n",
       "    }\n",
       "    fig.rubberband_canvas.style.cursor = cursor;\n",
       "}\n",
       "\n",
       "mpl.figure.prototype.handle_message = function(fig, msg) {\n",
       "    fig.message.textContent = msg['message'];\n",
       "}\n",
       "\n",
       "mpl.figure.prototype.handle_draw = function(fig, msg) {\n",
       "    // Request the server to send over a new figure.\n",
       "    fig.send_draw_message();\n",
       "}\n",
       "\n",
       "mpl.figure.prototype.handle_image_mode = function(fig, msg) {\n",
       "    fig.image_mode = msg['mode'];\n",
       "}\n",
       "\n",
       "mpl.figure.prototype.updated_canvas_event = function() {\n",
       "    // Called whenever the canvas gets updated.\n",
       "    this.send_message(\"ack\", {});\n",
       "}\n",
       "\n",
       "// A function to construct a web socket function for onmessage handling.\n",
       "// Called in the figure constructor.\n",
       "mpl.figure.prototype._make_on_message_function = function(fig) {\n",
       "    return function socket_on_message(evt) {\n",
       "        if (evt.data instanceof Blob) {\n",
       "            /* FIXME: We get \"Resource interpreted as Image but\n",
       "             * transferred with MIME type text/plain:\" errors on\n",
       "             * Chrome.  But how to set the MIME type?  It doesn't seem\n",
       "             * to be part of the websocket stream */\n",
       "            evt.data.type = \"image/png\";\n",
       "\n",
       "            /* Free the memory for the previous frames */\n",
       "            if (fig.imageObj.src) {\n",
       "                (window.URL || window.webkitURL).revokeObjectURL(\n",
       "                    fig.imageObj.src);\n",
       "            }\n",
       "\n",
       "            fig.imageObj.src = (window.URL || window.webkitURL).createObjectURL(\n",
       "                evt.data);\n",
       "            fig.updated_canvas_event();\n",
       "            fig.waiting = false;\n",
       "            return;\n",
       "        }\n",
       "        else if (typeof evt.data === 'string' && evt.data.slice(0, 21) == \"data:image/png;base64\") {\n",
       "            fig.imageObj.src = evt.data;\n",
       "            fig.updated_canvas_event();\n",
       "            fig.waiting = false;\n",
       "            return;\n",
       "        }\n",
       "\n",
       "        var msg = JSON.parse(evt.data);\n",
       "        var msg_type = msg['type'];\n",
       "\n",
       "        // Call the  \"handle_{type}\" callback, which takes\n",
       "        // the figure and JSON message as its only arguments.\n",
       "        try {\n",
       "            var callback = fig[\"handle_\" + msg_type];\n",
       "        } catch (e) {\n",
       "            console.log(\"No handler for the '\" + msg_type + \"' message type: \", msg);\n",
       "            return;\n",
       "        }\n",
       "\n",
       "        if (callback) {\n",
       "            try {\n",
       "                // console.log(\"Handling '\" + msg_type + \"' message: \", msg);\n",
       "                callback(fig, msg);\n",
       "            } catch (e) {\n",
       "                console.log(\"Exception inside the 'handler_\" + msg_type + \"' callback:\", e, e.stack, msg);\n",
       "            }\n",
       "        }\n",
       "    };\n",
       "}\n",
       "\n",
       "// from http://stackoverflow.com/questions/1114465/getting-mouse-location-in-canvas\n",
       "mpl.findpos = function(e) {\n",
       "    //this section is from http://www.quirksmode.org/js/events_properties.html\n",
       "    var targ;\n",
       "    if (!e)\n",
       "        e = window.event;\n",
       "    if (e.target)\n",
       "        targ = e.target;\n",
       "    else if (e.srcElement)\n",
       "        targ = e.srcElement;\n",
       "    if (targ.nodeType == 3) // defeat Safari bug\n",
       "        targ = targ.parentNode;\n",
       "\n",
       "    // jQuery normalizes the pageX and pageY\n",
       "    // pageX,Y are the mouse positions relative to the document\n",
       "    // offset() returns the position of the element relative to the document\n",
       "    var x = e.pageX - $(targ).offset().left;\n",
       "    var y = e.pageY - $(targ).offset().top;\n",
       "\n",
       "    return {\"x\": x, \"y\": y};\n",
       "};\n",
       "\n",
       "/*\n",
       " * return a copy of an object with only non-object keys\n",
       " * we need this to avoid circular references\n",
       " * http://stackoverflow.com/a/24161582/3208463\n",
       " */\n",
       "function simpleKeys (original) {\n",
       "  return Object.keys(original).reduce(function (obj, key) {\n",
       "    if (typeof original[key] !== 'object')\n",
       "        obj[key] = original[key]\n",
       "    return obj;\n",
       "  }, {});\n",
       "}\n",
       "\n",
       "mpl.figure.prototype.mouse_event = function(event, name) {\n",
       "    var canvas_pos = mpl.findpos(event)\n",
       "\n",
       "    if (name === 'button_press')\n",
       "    {\n",
       "        this.canvas.focus();\n",
       "        this.canvas_div.focus();\n",
       "    }\n",
       "\n",
       "    var x = canvas_pos.x * mpl.ratio;\n",
       "    var y = canvas_pos.y * mpl.ratio;\n",
       "\n",
       "    this.send_message(name, {x: x, y: y, button: event.button,\n",
       "                             step: event.step,\n",
       "                             guiEvent: simpleKeys(event)});\n",
       "\n",
       "    /* This prevents the web browser from automatically changing to\n",
       "     * the text insertion cursor when the button is pressed.  We want\n",
       "     * to control all of the cursor setting manually through the\n",
       "     * 'cursor' event from matplotlib */\n",
       "    event.preventDefault();\n",
       "    return false;\n",
       "}\n",
       "\n",
       "mpl.figure.prototype._key_event_extra = function(event, name) {\n",
       "    // Handle any extra behaviour associated with a key event\n",
       "}\n",
       "\n",
       "mpl.figure.prototype.key_event = function(event, name) {\n",
       "\n",
       "    // Prevent repeat events\n",
       "    if (name == 'key_press')\n",
       "    {\n",
       "        if (event.which === this._key)\n",
       "            return;\n",
       "        else\n",
       "            this._key = event.which;\n",
       "    }\n",
       "    if (name == 'key_release')\n",
       "        this._key = null;\n",
       "\n",
       "    var value = '';\n",
       "    if (event.ctrlKey && event.which != 17)\n",
       "        value += \"ctrl+\";\n",
       "    if (event.altKey && event.which != 18)\n",
       "        value += \"alt+\";\n",
       "    if (event.shiftKey && event.which != 16)\n",
       "        value += \"shift+\";\n",
       "\n",
       "    value += 'k';\n",
       "    value += event.which.toString();\n",
       "\n",
       "    this._key_event_extra(event, name);\n",
       "\n",
       "    this.send_message(name, {key: value,\n",
       "                             guiEvent: simpleKeys(event)});\n",
       "    return false;\n",
       "}\n",
       "\n",
       "mpl.figure.prototype.toolbar_button_onclick = function(name) {\n",
       "    if (name == 'download') {\n",
       "        this.handle_save(this, null);\n",
       "    } else {\n",
       "        this.send_message(\"toolbar_button\", {name: name});\n",
       "    }\n",
       "};\n",
       "\n",
       "mpl.figure.prototype.toolbar_button_onmouseover = function(tooltip) {\n",
       "    this.message.textContent = tooltip;\n",
       "};\n",
       "mpl.toolbar_items = [[\"Home\", \"Reset original view\", \"fa fa-home icon-home\", \"home\"], [\"Back\", \"Back to previous view\", \"fa fa-arrow-left icon-arrow-left\", \"back\"], [\"Forward\", \"Forward to next view\", \"fa fa-arrow-right icon-arrow-right\", \"forward\"], [\"\", \"\", \"\", \"\"], [\"Pan\", \"Pan axes with left mouse, zoom with right\", \"fa fa-arrows icon-move\", \"pan\"], [\"Zoom\", \"Zoom to rectangle\", \"fa fa-square-o icon-check-empty\", \"zoom\"], [\"\", \"\", \"\", \"\"], [\"Download\", \"Download plot\", \"fa fa-floppy-o icon-save\", \"download\"]];\n",
       "\n",
       "mpl.extensions = [\"eps\", \"jpeg\", \"pdf\", \"png\", \"ps\", \"raw\", \"svg\", \"tif\"];\n",
       "\n",
       "mpl.default_extension = \"png\";var comm_websocket_adapter = function(comm) {\n",
       "    // Create a \"websocket\"-like object which calls the given IPython comm\n",
       "    // object with the appropriate methods. Currently this is a non binary\n",
       "    // socket, so there is still some room for performance tuning.\n",
       "    var ws = {};\n",
       "\n",
       "    ws.close = function() {\n",
       "        comm.close()\n",
       "    };\n",
       "    ws.send = function(m) {\n",
       "        //console.log('sending', m);\n",
       "        comm.send(m);\n",
       "    };\n",
       "    // Register the callback with on_msg.\n",
       "    comm.on_msg(function(msg) {\n",
       "        //console.log('receiving', msg['content']['data'], msg);\n",
       "        // Pass the mpl event to the overridden (by mpl) onmessage function.\n",
       "        ws.onmessage(msg['content']['data'])\n",
       "    });\n",
       "    return ws;\n",
       "}\n",
       "\n",
       "mpl.mpl_figure_comm = function(comm, msg) {\n",
       "    // This is the function which gets called when the mpl process\n",
       "    // starts-up an IPython Comm through the \"matplotlib\" channel.\n",
       "\n",
       "    var id = msg.content.data.id;\n",
       "    // Get hold of the div created by the display call when the Comm\n",
       "    // socket was opened in Python.\n",
       "    var element = $(\"#\" + id);\n",
       "    var ws_proxy = comm_websocket_adapter(comm)\n",
       "\n",
       "    function ondownload(figure, format) {\n",
       "        window.open(figure.imageObj.src);\n",
       "    }\n",
       "\n",
       "    var fig = new mpl.figure(id, ws_proxy,\n",
       "                           ondownload,\n",
       "                           element.get(0));\n",
       "\n",
       "    // Call onopen now - mpl needs it, as it is assuming we've passed it a real\n",
       "    // web socket which is closed, not our websocket->open comm proxy.\n",
       "    ws_proxy.onopen();\n",
       "\n",
       "    fig.parent_element = element.get(0);\n",
       "    fig.cell_info = mpl.find_output_cell(\"<div id='\" + id + \"'></div>\");\n",
       "    if (!fig.cell_info) {\n",
       "        console.error(\"Failed to find cell for figure\", id, fig);\n",
       "        return;\n",
       "    }\n",
       "\n",
       "    var output_index = fig.cell_info[2]\n",
       "    var cell = fig.cell_info[0];\n",
       "\n",
       "};\n",
       "\n",
       "mpl.figure.prototype.handle_close = function(fig, msg) {\n",
       "    var width = fig.canvas.width/mpl.ratio\n",
       "    fig.root.unbind('remove')\n",
       "\n",
       "    // Update the output cell to use the data from the current canvas.\n",
       "    fig.push_to_output();\n",
       "    var dataURL = fig.canvas.toDataURL();\n",
       "    // Re-enable the keyboard manager in IPython - without this line, in FF,\n",
       "    // the notebook keyboard shortcuts fail.\n",
       "    IPython.keyboard_manager.enable()\n",
       "    $(fig.parent_element).html('<img src=\"' + dataURL + '\" width=\"' + width + '\">');\n",
       "    fig.close_ws(fig, msg);\n",
       "}\n",
       "\n",
       "mpl.figure.prototype.close_ws = function(fig, msg){\n",
       "    fig.send_message('closing', msg);\n",
       "    // fig.ws.close()\n",
       "}\n",
       "\n",
       "mpl.figure.prototype.push_to_output = function(remove_interactive) {\n",
       "    // Turn the data on the canvas into data in the output cell.\n",
       "    var width = this.canvas.width/mpl.ratio\n",
       "    var dataURL = this.canvas.toDataURL();\n",
       "    this.cell_info[1]['text/html'] = '<img src=\"' + dataURL + '\" width=\"' + width + '\">';\n",
       "}\n",
       "\n",
       "mpl.figure.prototype.updated_canvas_event = function() {\n",
       "    // Tell IPython that the notebook contents must change.\n",
       "    IPython.notebook.set_dirty(true);\n",
       "    this.send_message(\"ack\", {});\n",
       "    var fig = this;\n",
       "    // Wait a second, then push the new image to the DOM so\n",
       "    // that it is saved nicely (might be nice to debounce this).\n",
       "    setTimeout(function () { fig.push_to_output() }, 1000);\n",
       "}\n",
       "\n",
       "mpl.figure.prototype._init_toolbar = function() {\n",
       "    var fig = this;\n",
       "\n",
       "    var nav_element = $('<div/>');\n",
       "    nav_element.attr('style', 'width: 100%');\n",
       "    this.root.append(nav_element);\n",
       "\n",
       "    // Define a callback function for later on.\n",
       "    function toolbar_event(event) {\n",
       "        return fig.toolbar_button_onclick(event['data']);\n",
       "    }\n",
       "    function toolbar_mouse_event(event) {\n",
       "        return fig.toolbar_button_onmouseover(event['data']);\n",
       "    }\n",
       "\n",
       "    for(var toolbar_ind in mpl.toolbar_items){\n",
       "        var name = mpl.toolbar_items[toolbar_ind][0];\n",
       "        var tooltip = mpl.toolbar_items[toolbar_ind][1];\n",
       "        var image = mpl.toolbar_items[toolbar_ind][2];\n",
       "        var method_name = mpl.toolbar_items[toolbar_ind][3];\n",
       "\n",
       "        if (!name) { continue; };\n",
       "\n",
       "        var button = $('<button class=\"btn btn-default\" href=\"#\" title=\"' + name + '\"><i class=\"fa ' + image + ' fa-lg\"></i></button>');\n",
       "        button.click(method_name, toolbar_event);\n",
       "        button.mouseover(tooltip, toolbar_mouse_event);\n",
       "        nav_element.append(button);\n",
       "    }\n",
       "\n",
       "    // Add the status bar.\n",
       "    var status_bar = $('<span class=\"mpl-message\" style=\"text-align:right; float: right;\"/>');\n",
       "    nav_element.append(status_bar);\n",
       "    this.message = status_bar[0];\n",
       "\n",
       "    // Add the close button to the window.\n",
       "    var buttongrp = $('<div class=\"btn-group inline pull-right\"></div>');\n",
       "    var button = $('<button class=\"btn btn-mini btn-primary\" href=\"#\" title=\"Stop Interaction\"><i class=\"fa fa-power-off icon-remove icon-large\"></i></button>');\n",
       "    button.click(function (evt) { fig.handle_close(fig, {}); } );\n",
       "    button.mouseover('Stop Interaction', toolbar_mouse_event);\n",
       "    buttongrp.append(button);\n",
       "    var titlebar = this.root.find($('.ui-dialog-titlebar'));\n",
       "    titlebar.prepend(buttongrp);\n",
       "}\n",
       "\n",
       "mpl.figure.prototype._root_extra_style = function(el){\n",
       "    var fig = this\n",
       "    el.on(\"remove\", function(){\n",
       "\tfig.close_ws(fig, {});\n",
       "    });\n",
       "}\n",
       "\n",
       "mpl.figure.prototype._canvas_extra_style = function(el){\n",
       "    // this is important to make the div 'focusable\n",
       "    el.attr('tabindex', 0)\n",
       "    // reach out to IPython and tell the keyboard manager to turn it's self\n",
       "    // off when our div gets focus\n",
       "\n",
       "    // location in version 3\n",
       "    if (IPython.notebook.keyboard_manager) {\n",
       "        IPython.notebook.keyboard_manager.register_events(el);\n",
       "    }\n",
       "    else {\n",
       "        // location in version 2\n",
       "        IPython.keyboard_manager.register_events(el);\n",
       "    }\n",
       "\n",
       "}\n",
       "\n",
       "mpl.figure.prototype._key_event_extra = function(event, name) {\n",
       "    var manager = IPython.notebook.keyboard_manager;\n",
       "    if (!manager)\n",
       "        manager = IPython.keyboard_manager;\n",
       "\n",
       "    // Check for shift+enter\n",
       "    if (event.shiftKey && event.which == 13) {\n",
       "        this.canvas_div.blur();\n",
       "        event.shiftKey = false;\n",
       "        // Send a \"J\" for go to next cell\n",
       "        event.which = 74;\n",
       "        event.keyCode = 74;\n",
       "        manager.command_mode();\n",
       "        manager.handle_keydown(event);\n",
       "    }\n",
       "}\n",
       "\n",
       "mpl.figure.prototype.handle_save = function(fig, msg) {\n",
       "    fig.ondownload(fig, null);\n",
       "}\n",
       "\n",
       "\n",
       "mpl.find_output_cell = function(html_output) {\n",
       "    // Return the cell and output element which can be found *uniquely* in the notebook.\n",
       "    // Note - this is a bit hacky, but it is done because the \"notebook_saving.Notebook\"\n",
       "    // IPython event is triggered only after the cells have been serialised, which for\n",
       "    // our purposes (turning an active figure into a static one), is too late.\n",
       "    var cells = IPython.notebook.get_cells();\n",
       "    var ncells = cells.length;\n",
       "    for (var i=0; i<ncells; i++) {\n",
       "        var cell = cells[i];\n",
       "        if (cell.cell_type === 'code'){\n",
       "            for (var j=0; j<cell.output_area.outputs.length; j++) {\n",
       "                var data = cell.output_area.outputs[j];\n",
       "                if (data.data) {\n",
       "                    // IPython >= 3 moved mimebundle to data attribute of output\n",
       "                    data = data.data;\n",
       "                }\n",
       "                if (data['text/html'] == html_output) {\n",
       "                    return [cell, data, j];\n",
       "                }\n",
       "            }\n",
       "        }\n",
       "    }\n",
       "}\n",
       "\n",
       "// Register the function which deals with the matplotlib target/channel.\n",
       "// The kernel may be null if the page has been refreshed.\n",
       "if (IPython.notebook.kernel != null) {\n",
       "    IPython.notebook.kernel.comm_manager.register_target('matplotlib', mpl.mpl_figure_comm);\n",
       "}\n"
      ],
      "text/plain": [
       "<IPython.core.display.Javascript object>"
      ]
     },
     "metadata": {},
     "output_type": "display_data"
    },
    {
     "data": {
      "text/html": [
       "<img src=\"data:image/png;base64,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\" width=\"640\">"
      ],
      "text/plain": [
       "<IPython.core.display.HTML object>"
      ]
     },
     "metadata": {},
     "output_type": "display_data"
    }
   ],
   "source": [
    "# run this if using Jupyter notebook\n",
    "%matplotlib notebook\n",
    "import matplotlib.pyplot as plt\n",
    "plt.style.use('ggplot') #make graphs in the style of R's ggplot\n",
    "x=np.linspace(0,10)\n",
    "y=np.sin(x)\n",
    "plt.plot(x,y);"
   ]
  },
  {
   "cell_type": "code",
   "execution_count": 343,
   "metadata": {},
   "outputs": [
    {
     "data": {
      "application/javascript": [
       "/* Put everything inside the global mpl namespace */\n",
       "window.mpl = {};\n",
       "\n",
       "\n",
       "mpl.get_websocket_type = function() {\n",
       "    if (typeof(WebSocket) !== 'undefined') {\n",
       "        return WebSocket;\n",
       "    } else if (typeof(MozWebSocket) !== 'undefined') {\n",
       "        return MozWebSocket;\n",
       "    } else {\n",
       "        alert('Your browser does not have WebSocket support. ' +\n",
       "              'Please try Chrome, Safari or Firefox ≥ 6. ' +\n",
       "              'Firefox 4 and 5 are also supported but you ' +\n",
       "              'have to enable WebSockets in about:config.');\n",
       "    };\n",
       "}\n",
       "\n",
       "mpl.figure = function(figure_id, websocket, ondownload, parent_element) {\n",
       "    this.id = figure_id;\n",
       "\n",
       "    this.ws = websocket;\n",
       "\n",
       "    this.supports_binary = (this.ws.binaryType != undefined);\n",
       "\n",
       "    if (!this.supports_binary) {\n",
       "        var warnings = document.getElementById(\"mpl-warnings\");\n",
       "        if (warnings) {\n",
       "            warnings.style.display = 'block';\n",
       "            warnings.textContent = (\n",
       "                \"This browser does not support binary websocket messages. \" +\n",
       "                    \"Performance may be slow.\");\n",
       "        }\n",
       "    }\n",
       "\n",
       "    this.imageObj = new Image();\n",
       "\n",
       "    this.context = undefined;\n",
       "    this.message = undefined;\n",
       "    this.canvas = undefined;\n",
       "    this.rubberband_canvas = undefined;\n",
       "    this.rubberband_context = undefined;\n",
       "    this.format_dropdown = undefined;\n",
       "\n",
       "    this.image_mode = 'full';\n",
       "\n",
       "    this.root = $('<div/>');\n",
       "    this._root_extra_style(this.root)\n",
       "    this.root.attr('style', 'display: inline-block');\n",
       "\n",
       "    $(parent_element).append(this.root);\n",
       "\n",
       "    this._init_header(this);\n",
       "    this._init_canvas(this);\n",
       "    this._init_toolbar(this);\n",
       "\n",
       "    var fig = this;\n",
       "\n",
       "    this.waiting = false;\n",
       "\n",
       "    this.ws.onopen =  function () {\n",
       "            fig.send_message(\"supports_binary\", {value: fig.supports_binary});\n",
       "            fig.send_message(\"send_image_mode\", {});\n",
       "            if (mpl.ratio != 1) {\n",
       "                fig.send_message(\"set_dpi_ratio\", {'dpi_ratio': mpl.ratio});\n",
       "            }\n",
       "            fig.send_message(\"refresh\", {});\n",
       "        }\n",
       "\n",
       "    this.imageObj.onload = function() {\n",
       "            if (fig.image_mode == 'full') {\n",
       "                // Full images could contain transparency (where diff images\n",
       "                // almost always do), so we need to clear the canvas so that\n",
       "                // there is no ghosting.\n",
       "                fig.context.clearRect(0, 0, fig.canvas.width, fig.canvas.height);\n",
       "            }\n",
       "            fig.context.drawImage(fig.imageObj, 0, 0);\n",
       "        };\n",
       "\n",
       "    this.imageObj.onunload = function() {\n",
       "        fig.ws.close();\n",
       "    }\n",
       "\n",
       "    this.ws.onmessage = this._make_on_message_function(this);\n",
       "\n",
       "    this.ondownload = ondownload;\n",
       "}\n",
       "\n",
       "mpl.figure.prototype._init_header = function() {\n",
       "    var titlebar = $(\n",
       "        '<div class=\"ui-dialog-titlebar ui-widget-header ui-corner-all ' +\n",
       "        'ui-helper-clearfix\"/>');\n",
       "    var titletext = $(\n",
       "        '<div class=\"ui-dialog-title\" style=\"width: 100%; ' +\n",
       "        'text-align: center; padding: 3px;\"/>');\n",
       "    titlebar.append(titletext)\n",
       "    this.root.append(titlebar);\n",
       "    this.header = titletext[0];\n",
       "}\n",
       "\n",
       "\n",
       "\n",
       "mpl.figure.prototype._canvas_extra_style = function(canvas_div) {\n",
       "\n",
       "}\n",
       "\n",
       "\n",
       "mpl.figure.prototype._root_extra_style = function(canvas_div) {\n",
       "\n",
       "}\n",
       "\n",
       "mpl.figure.prototype._init_canvas = function() {\n",
       "    var fig = this;\n",
       "\n",
       "    var canvas_div = $('<div/>');\n",
       "\n",
       "    canvas_div.attr('style', 'position: relative; clear: both; outline: 0');\n",
       "\n",
       "    function canvas_keyboard_event(event) {\n",
       "        return fig.key_event(event, event['data']);\n",
       "    }\n",
       "\n",
       "    canvas_div.keydown('key_press', canvas_keyboard_event);\n",
       "    canvas_div.keyup('key_release', canvas_keyboard_event);\n",
       "    this.canvas_div = canvas_div\n",
       "    this._canvas_extra_style(canvas_div)\n",
       "    this.root.append(canvas_div);\n",
       "\n",
       "    var canvas = $('<canvas/>');\n",
       "    canvas.addClass('mpl-canvas');\n",
       "    canvas.attr('style', \"left: 0; top: 0; z-index: 0; outline: 0\")\n",
       "\n",
       "    this.canvas = canvas[0];\n",
       "    this.context = canvas[0].getContext(\"2d\");\n",
       "\n",
       "    var backingStore = this.context.backingStorePixelRatio ||\n",
       "\tthis.context.webkitBackingStorePixelRatio ||\n",
       "\tthis.context.mozBackingStorePixelRatio ||\n",
       "\tthis.context.msBackingStorePixelRatio ||\n",
       "\tthis.context.oBackingStorePixelRatio ||\n",
       "\tthis.context.backingStorePixelRatio || 1;\n",
       "\n",
       "    mpl.ratio = (window.devicePixelRatio || 1) / backingStore;\n",
       "\n",
       "    var rubberband = $('<canvas/>');\n",
       "    rubberband.attr('style', \"position: absolute; left: 0; top: 0; z-index: 1;\")\n",
       "\n",
       "    var pass_mouse_events = true;\n",
       "\n",
       "    canvas_div.resizable({\n",
       "        start: function(event, ui) {\n",
       "            pass_mouse_events = false;\n",
       "        },\n",
       "        resize: function(event, ui) {\n",
       "            fig.request_resize(ui.size.width, ui.size.height);\n",
       "        },\n",
       "        stop: function(event, ui) {\n",
       "            pass_mouse_events = true;\n",
       "            fig.request_resize(ui.size.width, ui.size.height);\n",
       "        },\n",
       "    });\n",
       "\n",
       "    function mouse_event_fn(event) {\n",
       "        if (pass_mouse_events)\n",
       "            return fig.mouse_event(event, event['data']);\n",
       "    }\n",
       "\n",
       "    rubberband.mousedown('button_press', mouse_event_fn);\n",
       "    rubberband.mouseup('button_release', mouse_event_fn);\n",
       "    // Throttle sequential mouse events to 1 every 20ms.\n",
       "    rubberband.mousemove('motion_notify', mouse_event_fn);\n",
       "\n",
       "    rubberband.mouseenter('figure_enter', mouse_event_fn);\n",
       "    rubberband.mouseleave('figure_leave', mouse_event_fn);\n",
       "\n",
       "    canvas_div.on(\"wheel\", function (event) {\n",
       "        event = event.originalEvent;\n",
       "        event['data'] = 'scroll'\n",
       "        if (event.deltaY < 0) {\n",
       "            event.step = 1;\n",
       "        } else {\n",
       "            event.step = -1;\n",
       "        }\n",
       "        mouse_event_fn(event);\n",
       "    });\n",
       "\n",
       "    canvas_div.append(canvas);\n",
       "    canvas_div.append(rubberband);\n",
       "\n",
       "    this.rubberband = rubberband;\n",
       "    this.rubberband_canvas = rubberband[0];\n",
       "    this.rubberband_context = rubberband[0].getContext(\"2d\");\n",
       "    this.rubberband_context.strokeStyle = \"#000000\";\n",
       "\n",
       "    this._resize_canvas = function(width, height) {\n",
       "        // Keep the size of the canvas, canvas container, and rubber band\n",
       "        // canvas in synch.\n",
       "        canvas_div.css('width', width)\n",
       "        canvas_div.css('height', height)\n",
       "\n",
       "        canvas.attr('width', width * mpl.ratio);\n",
       "        canvas.attr('height', height * mpl.ratio);\n",
       "        canvas.attr('style', 'width: ' + width + 'px; height: ' + height + 'px;');\n",
       "\n",
       "        rubberband.attr('width', width);\n",
       "        rubberband.attr('height', height);\n",
       "    }\n",
       "\n",
       "    // Set the figure to an initial 600x600px, this will subsequently be updated\n",
       "    // upon first draw.\n",
       "    this._resize_canvas(600, 600);\n",
       "\n",
       "    // Disable right mouse context menu.\n",
       "    $(this.rubberband_canvas).bind(\"contextmenu\",function(e){\n",
       "        return false;\n",
       "    });\n",
       "\n",
       "    function set_focus () {\n",
       "        canvas.focus();\n",
       "        canvas_div.focus();\n",
       "    }\n",
       "\n",
       "    window.setTimeout(set_focus, 100);\n",
       "}\n",
       "\n",
       "mpl.figure.prototype._init_toolbar = function() {\n",
       "    var fig = this;\n",
       "\n",
       "    var nav_element = $('<div/>');\n",
       "    nav_element.attr('style', 'width: 100%');\n",
       "    this.root.append(nav_element);\n",
       "\n",
       "    // Define a callback function for later on.\n",
       "    function toolbar_event(event) {\n",
       "        return fig.toolbar_button_onclick(event['data']);\n",
       "    }\n",
       "    function toolbar_mouse_event(event) {\n",
       "        return fig.toolbar_button_onmouseover(event['data']);\n",
       "    }\n",
       "\n",
       "    for(var toolbar_ind in mpl.toolbar_items) {\n",
       "        var name = mpl.toolbar_items[toolbar_ind][0];\n",
       "        var tooltip = mpl.toolbar_items[toolbar_ind][1];\n",
       "        var image = mpl.toolbar_items[toolbar_ind][2];\n",
       "        var method_name = mpl.toolbar_items[toolbar_ind][3];\n",
       "\n",
       "        if (!name) {\n",
       "            // put a spacer in here.\n",
       "            continue;\n",
       "        }\n",
       "        var button = $('<button/>');\n",
       "        button.addClass('ui-button ui-widget ui-state-default ui-corner-all ' +\n",
       "                        'ui-button-icon-only');\n",
       "        button.attr('role', 'button');\n",
       "        button.attr('aria-disabled', 'false');\n",
       "        button.click(method_name, toolbar_event);\n",
       "        button.mouseover(tooltip, toolbar_mouse_event);\n",
       "\n",
       "        var icon_img = $('<span/>');\n",
       "        icon_img.addClass('ui-button-icon-primary ui-icon');\n",
       "        icon_img.addClass(image);\n",
       "        icon_img.addClass('ui-corner-all');\n",
       "\n",
       "        var tooltip_span = $('<span/>');\n",
       "        tooltip_span.addClass('ui-button-text');\n",
       "        tooltip_span.html(tooltip);\n",
       "\n",
       "        button.append(icon_img);\n",
       "        button.append(tooltip_span);\n",
       "\n",
       "        nav_element.append(button);\n",
       "    }\n",
       "\n",
       "    var fmt_picker_span = $('<span/>');\n",
       "\n",
       "    var fmt_picker = $('<select/>');\n",
       "    fmt_picker.addClass('mpl-toolbar-option ui-widget ui-widget-content');\n",
       "    fmt_picker_span.append(fmt_picker);\n",
       "    nav_element.append(fmt_picker_span);\n",
       "    this.format_dropdown = fmt_picker[0];\n",
       "\n",
       "    for (var ind in mpl.extensions) {\n",
       "        var fmt = mpl.extensions[ind];\n",
       "        var option = $(\n",
       "            '<option/>', {selected: fmt === mpl.default_extension}).html(fmt);\n",
       "        fmt_picker.append(option);\n",
       "    }\n",
       "\n",
       "    // Add hover states to the ui-buttons\n",
       "    $( \".ui-button\" ).hover(\n",
       "        function() { $(this).addClass(\"ui-state-hover\");},\n",
       "        function() { $(this).removeClass(\"ui-state-hover\");}\n",
       "    );\n",
       "\n",
       "    var status_bar = $('<span class=\"mpl-message\"/>');\n",
       "    nav_element.append(status_bar);\n",
       "    this.message = status_bar[0];\n",
       "}\n",
       "\n",
       "mpl.figure.prototype.request_resize = function(x_pixels, y_pixels) {\n",
       "    // Request matplotlib to resize the figure. Matplotlib will then trigger a resize in the client,\n",
       "    // which will in turn request a refresh of the image.\n",
       "    this.send_message('resize', {'width': x_pixels, 'height': y_pixels});\n",
       "}\n",
       "\n",
       "mpl.figure.prototype.send_message = function(type, properties) {\n",
       "    properties['type'] = type;\n",
       "    properties['figure_id'] = this.id;\n",
       "    this.ws.send(JSON.stringify(properties));\n",
       "}\n",
       "\n",
       "mpl.figure.prototype.send_draw_message = function() {\n",
       "    if (!this.waiting) {\n",
       "        this.waiting = true;\n",
       "        this.ws.send(JSON.stringify({type: \"draw\", figure_id: this.id}));\n",
       "    }\n",
       "}\n",
       "\n",
       "\n",
       "mpl.figure.prototype.handle_save = function(fig, msg) {\n",
       "    var format_dropdown = fig.format_dropdown;\n",
       "    var format = format_dropdown.options[format_dropdown.selectedIndex].value;\n",
       "    fig.ondownload(fig, format);\n",
       "}\n",
       "\n",
       "\n",
       "mpl.figure.prototype.handle_resize = function(fig, msg) {\n",
       "    var size = msg['size'];\n",
       "    if (size[0] != fig.canvas.width || size[1] != fig.canvas.height) {\n",
       "        fig._resize_canvas(size[0], size[1]);\n",
       "        fig.send_message(\"refresh\", {});\n",
       "    };\n",
       "}\n",
       "\n",
       "mpl.figure.prototype.handle_rubberband = function(fig, msg) {\n",
       "    var x0 = msg['x0'] / mpl.ratio;\n",
       "    var y0 = (fig.canvas.height - msg['y0']) / mpl.ratio;\n",
       "    var x1 = msg['x1'] / mpl.ratio;\n",
       "    var y1 = (fig.canvas.height - msg['y1']) / mpl.ratio;\n",
       "    x0 = Math.floor(x0) + 0.5;\n",
       "    y0 = Math.floor(y0) + 0.5;\n",
       "    x1 = Math.floor(x1) + 0.5;\n",
       "    y1 = Math.floor(y1) + 0.5;\n",
       "    var min_x = Math.min(x0, x1);\n",
       "    var min_y = Math.min(y0, y1);\n",
       "    var width = Math.abs(x1 - x0);\n",
       "    var height = Math.abs(y1 - y0);\n",
       "\n",
       "    fig.rubberband_context.clearRect(\n",
       "        0, 0, fig.canvas.width, fig.canvas.height);\n",
       "\n",
       "    fig.rubberband_context.strokeRect(min_x, min_y, width, height);\n",
       "}\n",
       "\n",
       "mpl.figure.prototype.handle_figure_label = function(fig, msg) {\n",
       "    // Updates the figure title.\n",
       "    fig.header.textContent = msg['label'];\n",
       "}\n",
       "\n",
       "mpl.figure.prototype.handle_cursor = function(fig, msg) {\n",
       "    var cursor = msg['cursor'];\n",
       "    switch(cursor)\n",
       "    {\n",
       "    case 0:\n",
       "        cursor = 'pointer';\n",
       "        break;\n",
       "    case 1:\n",
       "        cursor = 'default';\n",
       "        break;\n",
       "    case 2:\n",
       "        cursor = 'crosshair';\n",
       "        break;\n",
       "    case 3:\n",
       "        cursor = 'move';\n",
       "        break;\n",
       "    }\n",
       "    fig.rubberband_canvas.style.cursor = cursor;\n",
       "}\n",
       "\n",
       "mpl.figure.prototype.handle_message = function(fig, msg) {\n",
       "    fig.message.textContent = msg['message'];\n",
       "}\n",
       "\n",
       "mpl.figure.prototype.handle_draw = function(fig, msg) {\n",
       "    // Request the server to send over a new figure.\n",
       "    fig.send_draw_message();\n",
       "}\n",
       "\n",
       "mpl.figure.prototype.handle_image_mode = function(fig, msg) {\n",
       "    fig.image_mode = msg['mode'];\n",
       "}\n",
       "\n",
       "mpl.figure.prototype.updated_canvas_event = function() {\n",
       "    // Called whenever the canvas gets updated.\n",
       "    this.send_message(\"ack\", {});\n",
       "}\n",
       "\n",
       "// A function to construct a web socket function for onmessage handling.\n",
       "// Called in the figure constructor.\n",
       "mpl.figure.prototype._make_on_message_function = function(fig) {\n",
       "    return function socket_on_message(evt) {\n",
       "        if (evt.data instanceof Blob) {\n",
       "            /* FIXME: We get \"Resource interpreted as Image but\n",
       "             * transferred with MIME type text/plain:\" errors on\n",
       "             * Chrome.  But how to set the MIME type?  It doesn't seem\n",
       "             * to be part of the websocket stream */\n",
       "            evt.data.type = \"image/png\";\n",
       "\n",
       "            /* Free the memory for the previous frames */\n",
       "            if (fig.imageObj.src) {\n",
       "                (window.URL || window.webkitURL).revokeObjectURL(\n",
       "                    fig.imageObj.src);\n",
       "            }\n",
       "\n",
       "            fig.imageObj.src = (window.URL || window.webkitURL).createObjectURL(\n",
       "                evt.data);\n",
       "            fig.updated_canvas_event();\n",
       "            fig.waiting = false;\n",
       "            return;\n",
       "        }\n",
       "        else if (typeof evt.data === 'string' && evt.data.slice(0, 21) == \"data:image/png;base64\") {\n",
       "            fig.imageObj.src = evt.data;\n",
       "            fig.updated_canvas_event();\n",
       "            fig.waiting = false;\n",
       "            return;\n",
       "        }\n",
       "\n",
       "        var msg = JSON.parse(evt.data);\n",
       "        var msg_type = msg['type'];\n",
       "\n",
       "        // Call the  \"handle_{type}\" callback, which takes\n",
       "        // the figure and JSON message as its only arguments.\n",
       "        try {\n",
       "            var callback = fig[\"handle_\" + msg_type];\n",
       "        } catch (e) {\n",
       "            console.log(\"No handler for the '\" + msg_type + \"' message type: \", msg);\n",
       "            return;\n",
       "        }\n",
       "\n",
       "        if (callback) {\n",
       "            try {\n",
       "                // console.log(\"Handling '\" + msg_type + \"' message: \", msg);\n",
       "                callback(fig, msg);\n",
       "            } catch (e) {\n",
       "                console.log(\"Exception inside the 'handler_\" + msg_type + \"' callback:\", e, e.stack, msg);\n",
       "            }\n",
       "        }\n",
       "    };\n",
       "}\n",
       "\n",
       "// from http://stackoverflow.com/questions/1114465/getting-mouse-location-in-canvas\n",
       "mpl.findpos = function(e) {\n",
       "    //this section is from http://www.quirksmode.org/js/events_properties.html\n",
       "    var targ;\n",
       "    if (!e)\n",
       "        e = window.event;\n",
       "    if (e.target)\n",
       "        targ = e.target;\n",
       "    else if (e.srcElement)\n",
       "        targ = e.srcElement;\n",
       "    if (targ.nodeType == 3) // defeat Safari bug\n",
       "        targ = targ.parentNode;\n",
       "\n",
       "    // jQuery normalizes the pageX and pageY\n",
       "    // pageX,Y are the mouse positions relative to the document\n",
       "    // offset() returns the position of the element relative to the document\n",
       "    var x = e.pageX - $(targ).offset().left;\n",
       "    var y = e.pageY - $(targ).offset().top;\n",
       "\n",
       "    return {\"x\": x, \"y\": y};\n",
       "};\n",
       "\n",
       "/*\n",
       " * return a copy of an object with only non-object keys\n",
       " * we need this to avoid circular references\n",
       " * http://stackoverflow.com/a/24161582/3208463\n",
       " */\n",
       "function simpleKeys (original) {\n",
       "  return Object.keys(original).reduce(function (obj, key) {\n",
       "    if (typeof original[key] !== 'object')\n",
       "        obj[key] = original[key]\n",
       "    return obj;\n",
       "  }, {});\n",
       "}\n",
       "\n",
       "mpl.figure.prototype.mouse_event = function(event, name) {\n",
       "    var canvas_pos = mpl.findpos(event)\n",
       "\n",
       "    if (name === 'button_press')\n",
       "    {\n",
       "        this.canvas.focus();\n",
       "        this.canvas_div.focus();\n",
       "    }\n",
       "\n",
       "    var x = canvas_pos.x * mpl.ratio;\n",
       "    var y = canvas_pos.y * mpl.ratio;\n",
       "\n",
       "    this.send_message(name, {x: x, y: y, button: event.button,\n",
       "                             step: event.step,\n",
       "                             guiEvent: simpleKeys(event)});\n",
       "\n",
       "    /* This prevents the web browser from automatically changing to\n",
       "     * the text insertion cursor when the button is pressed.  We want\n",
       "     * to control all of the cursor setting manually through the\n",
       "     * 'cursor' event from matplotlib */\n",
       "    event.preventDefault();\n",
       "    return false;\n",
       "}\n",
       "\n",
       "mpl.figure.prototype._key_event_extra = function(event, name) {\n",
       "    // Handle any extra behaviour associated with a key event\n",
       "}\n",
       "\n",
       "mpl.figure.prototype.key_event = function(event, name) {\n",
       "\n",
       "    // Prevent repeat events\n",
       "    if (name == 'key_press')\n",
       "    {\n",
       "        if (event.which === this._key)\n",
       "            return;\n",
       "        else\n",
       "            this._key = event.which;\n",
       "    }\n",
       "    if (name == 'key_release')\n",
       "        this._key = null;\n",
       "\n",
       "    var value = '';\n",
       "    if (event.ctrlKey && event.which != 17)\n",
       "        value += \"ctrl+\";\n",
       "    if (event.altKey && event.which != 18)\n",
       "        value += \"alt+\";\n",
       "    if (event.shiftKey && event.which != 16)\n",
       "        value += \"shift+\";\n",
       "\n",
       "    value += 'k';\n",
       "    value += event.which.toString();\n",
       "\n",
       "    this._key_event_extra(event, name);\n",
       "\n",
       "    this.send_message(name, {key: value,\n",
       "                             guiEvent: simpleKeys(event)});\n",
       "    return false;\n",
       "}\n",
       "\n",
       "mpl.figure.prototype.toolbar_button_onclick = function(name) {\n",
       "    if (name == 'download') {\n",
       "        this.handle_save(this, null);\n",
       "    } else {\n",
       "        this.send_message(\"toolbar_button\", {name: name});\n",
       "    }\n",
       "};\n",
       "\n",
       "mpl.figure.prototype.toolbar_button_onmouseover = function(tooltip) {\n",
       "    this.message.textContent = tooltip;\n",
       "};\n",
       "mpl.toolbar_items = [[\"Home\", \"Reset original view\", \"fa fa-home icon-home\", \"home\"], [\"Back\", \"Back to previous view\", \"fa fa-arrow-left icon-arrow-left\", \"back\"], [\"Forward\", \"Forward to next view\", \"fa fa-arrow-right icon-arrow-right\", \"forward\"], [\"\", \"\", \"\", \"\"], [\"Pan\", \"Pan axes with left mouse, zoom with right\", \"fa fa-arrows icon-move\", \"pan\"], [\"Zoom\", \"Zoom to rectangle\", \"fa fa-square-o icon-check-empty\", \"zoom\"], [\"\", \"\", \"\", \"\"], [\"Download\", \"Download plot\", \"fa fa-floppy-o icon-save\", \"download\"]];\n",
       "\n",
       "mpl.extensions = [\"eps\", \"jpeg\", \"pdf\", \"png\", \"ps\", \"raw\", \"svg\", \"tif\"];\n",
       "\n",
       "mpl.default_extension = \"png\";var comm_websocket_adapter = function(comm) {\n",
       "    // Create a \"websocket\"-like object which calls the given IPython comm\n",
       "    // object with the appropriate methods. Currently this is a non binary\n",
       "    // socket, so there is still some room for performance tuning.\n",
       "    var ws = {};\n",
       "\n",
       "    ws.close = function() {\n",
       "        comm.close()\n",
       "    };\n",
       "    ws.send = function(m) {\n",
       "        //console.log('sending', m);\n",
       "        comm.send(m);\n",
       "    };\n",
       "    // Register the callback with on_msg.\n",
       "    comm.on_msg(function(msg) {\n",
       "        //console.log('receiving', msg['content']['data'], msg);\n",
       "        // Pass the mpl event to the overridden (by mpl) onmessage function.\n",
       "        ws.onmessage(msg['content']['data'])\n",
       "    });\n",
       "    return ws;\n",
       "}\n",
       "\n",
       "mpl.mpl_figure_comm = function(comm, msg) {\n",
       "    // This is the function which gets called when the mpl process\n",
       "    // starts-up an IPython Comm through the \"matplotlib\" channel.\n",
       "\n",
       "    var id = msg.content.data.id;\n",
       "    // Get hold of the div created by the display call when the Comm\n",
       "    // socket was opened in Python.\n",
       "    var element = $(\"#\" + id);\n",
       "    var ws_proxy = comm_websocket_adapter(comm)\n",
       "\n",
       "    function ondownload(figure, format) {\n",
       "        window.open(figure.imageObj.src);\n",
       "    }\n",
       "\n",
       "    var fig = new mpl.figure(id, ws_proxy,\n",
       "                           ondownload,\n",
       "                           element.get(0));\n",
       "\n",
       "    // Call onopen now - mpl needs it, as it is assuming we've passed it a real\n",
       "    // web socket which is closed, not our websocket->open comm proxy.\n",
       "    ws_proxy.onopen();\n",
       "\n",
       "    fig.parent_element = element.get(0);\n",
       "    fig.cell_info = mpl.find_output_cell(\"<div id='\" + id + \"'></div>\");\n",
       "    if (!fig.cell_info) {\n",
       "        console.error(\"Failed to find cell for figure\", id, fig);\n",
       "        return;\n",
       "    }\n",
       "\n",
       "    var output_index = fig.cell_info[2]\n",
       "    var cell = fig.cell_info[0];\n",
       "\n",
       "};\n",
       "\n",
       "mpl.figure.prototype.handle_close = function(fig, msg) {\n",
       "    var width = fig.canvas.width/mpl.ratio\n",
       "    fig.root.unbind('remove')\n",
       "\n",
       "    // Update the output cell to use the data from the current canvas.\n",
       "    fig.push_to_output();\n",
       "    var dataURL = fig.canvas.toDataURL();\n",
       "    // Re-enable the keyboard manager in IPython - without this line, in FF,\n",
       "    // the notebook keyboard shortcuts fail.\n",
       "    IPython.keyboard_manager.enable()\n",
       "    $(fig.parent_element).html('<img src=\"' + dataURL + '\" width=\"' + width + '\">');\n",
       "    fig.close_ws(fig, msg);\n",
       "}\n",
       "\n",
       "mpl.figure.prototype.close_ws = function(fig, msg){\n",
       "    fig.send_message('closing', msg);\n",
       "    // fig.ws.close()\n",
       "}\n",
       "\n",
       "mpl.figure.prototype.push_to_output = function(remove_interactive) {\n",
       "    // Turn the data on the canvas into data in the output cell.\n",
       "    var width = this.canvas.width/mpl.ratio\n",
       "    var dataURL = this.canvas.toDataURL();\n",
       "    this.cell_info[1]['text/html'] = '<img src=\"' + dataURL + '\" width=\"' + width + '\">';\n",
       "}\n",
       "\n",
       "mpl.figure.prototype.updated_canvas_event = function() {\n",
       "    // Tell IPython that the notebook contents must change.\n",
       "    IPython.notebook.set_dirty(true);\n",
       "    this.send_message(\"ack\", {});\n",
       "    var fig = this;\n",
       "    // Wait a second, then push the new image to the DOM so\n",
       "    // that it is saved nicely (might be nice to debounce this).\n",
       "    setTimeout(function () { fig.push_to_output() }, 1000);\n",
       "}\n",
       "\n",
       "mpl.figure.prototype._init_toolbar = function() {\n",
       "    var fig = this;\n",
       "\n",
       "    var nav_element = $('<div/>');\n",
       "    nav_element.attr('style', 'width: 100%');\n",
       "    this.root.append(nav_element);\n",
       "\n",
       "    // Define a callback function for later on.\n",
       "    function toolbar_event(event) {\n",
       "        return fig.toolbar_button_onclick(event['data']);\n",
       "    }\n",
       "    function toolbar_mouse_event(event) {\n",
       "        return fig.toolbar_button_onmouseover(event['data']);\n",
       "    }\n",
       "\n",
       "    for(var toolbar_ind in mpl.toolbar_items){\n",
       "        var name = mpl.toolbar_items[toolbar_ind][0];\n",
       "        var tooltip = mpl.toolbar_items[toolbar_ind][1];\n",
       "        var image = mpl.toolbar_items[toolbar_ind][2];\n",
       "        var method_name = mpl.toolbar_items[toolbar_ind][3];\n",
       "\n",
       "        if (!name) { continue; };\n",
       "\n",
       "        var button = $('<button class=\"btn btn-default\" href=\"#\" title=\"' + name + '\"><i class=\"fa ' + image + ' fa-lg\"></i></button>');\n",
       "        button.click(method_name, toolbar_event);\n",
       "        button.mouseover(tooltip, toolbar_mouse_event);\n",
       "        nav_element.append(button);\n",
       "    }\n",
       "\n",
       "    // Add the status bar.\n",
       "    var status_bar = $('<span class=\"mpl-message\" style=\"text-align:right; float: right;\"/>');\n",
       "    nav_element.append(status_bar);\n",
       "    this.message = status_bar[0];\n",
       "\n",
       "    // Add the close button to the window.\n",
       "    var buttongrp = $('<div class=\"btn-group inline pull-right\"></div>');\n",
       "    var button = $('<button class=\"btn btn-mini btn-primary\" href=\"#\" title=\"Stop Interaction\"><i class=\"fa fa-power-off icon-remove icon-large\"></i></button>');\n",
       "    button.click(function (evt) { fig.handle_close(fig, {}); } );\n",
       "    button.mouseover('Stop Interaction', toolbar_mouse_event);\n",
       "    buttongrp.append(button);\n",
       "    var titlebar = this.root.find($('.ui-dialog-titlebar'));\n",
       "    titlebar.prepend(buttongrp);\n",
       "}\n",
       "\n",
       "mpl.figure.prototype._root_extra_style = function(el){\n",
       "    var fig = this\n",
       "    el.on(\"remove\", function(){\n",
       "\tfig.close_ws(fig, {});\n",
       "    });\n",
       "}\n",
       "\n",
       "mpl.figure.prototype._canvas_extra_style = function(el){\n",
       "    // this is important to make the div 'focusable\n",
       "    el.attr('tabindex', 0)\n",
       "    // reach out to IPython and tell the keyboard manager to turn it's self\n",
       "    // off when our div gets focus\n",
       "\n",
       "    // location in version 3\n",
       "    if (IPython.notebook.keyboard_manager) {\n",
       "        IPython.notebook.keyboard_manager.register_events(el);\n",
       "    }\n",
       "    else {\n",
       "        // location in version 2\n",
       "        IPython.keyboard_manager.register_events(el);\n",
       "    }\n",
       "\n",
       "}\n",
       "\n",
       "mpl.figure.prototype._key_event_extra = function(event, name) {\n",
       "    var manager = IPython.notebook.keyboard_manager;\n",
       "    if (!manager)\n",
       "        manager = IPython.keyboard_manager;\n",
       "\n",
       "    // Check for shift+enter\n",
       "    if (event.shiftKey && event.which == 13) {\n",
       "        this.canvas_div.blur();\n",
       "        event.shiftKey = false;\n",
       "        // Send a \"J\" for go to next cell\n",
       "        event.which = 74;\n",
       "        event.keyCode = 74;\n",
       "        manager.command_mode();\n",
       "        manager.handle_keydown(event);\n",
       "    }\n",
       "}\n",
       "\n",
       "mpl.figure.prototype.handle_save = function(fig, msg) {\n",
       "    fig.ondownload(fig, null);\n",
       "}\n",
       "\n",
       "\n",
       "mpl.find_output_cell = function(html_output) {\n",
       "    // Return the cell and output element which can be found *uniquely* in the notebook.\n",
       "    // Note - this is a bit hacky, but it is done because the \"notebook_saving.Notebook\"\n",
       "    // IPython event is triggered only after the cells have been serialised, which for\n",
       "    // our purposes (turning an active figure into a static one), is too late.\n",
       "    var cells = IPython.notebook.get_cells();\n",
       "    var ncells = cells.length;\n",
       "    for (var i=0; i<ncells; i++) {\n",
       "        var cell = cells[i];\n",
       "        if (cell.cell_type === 'code'){\n",
       "            for (var j=0; j<cell.output_area.outputs.length; j++) {\n",
       "                var data = cell.output_area.outputs[j];\n",
       "                if (data.data) {\n",
       "                    // IPython >= 3 moved mimebundle to data attribute of output\n",
       "                    data = data.data;\n",
       "                }\n",
       "                if (data['text/html'] == html_output) {\n",
       "                    return [cell, data, j];\n",
       "                }\n",
       "            }\n",
       "        }\n",
       "    }\n",
       "}\n",
       "\n",
       "// Register the function which deals with the matplotlib target/channel.\n",
       "// The kernel may be null if the page has been refreshed.\n",
       "if (IPython.notebook.kernel != null) {\n",
       "    IPython.notebook.kernel.comm_manager.register_target('matplotlib', mpl.mpl_figure_comm);\n",
       "}\n"
      ],
      "text/plain": [
       "<IPython.core.display.Javascript object>"
      ]
     },
     "metadata": {},
     "output_type": "display_data"
    },
    {
     "data": {
      "text/html": [
       "<img src=\"data:image/png;base64,iVBORw0KGgoAAAANSUhEUgAABQAAAAPACAYAAABq3NR5AAAgAElEQVR4XuzdCXhU1fn48Tf7xhKWhLCFHRRxQRBQFKm7WFBba1urP624izsqIP4VFbHuirhr/VVbrb+6K4pSdxQUARVE9h0SSFgSsicz/+eOZpJJJsnM5G7n3O88T58Kufec837el3B5c+89cX6/3y98EEAAAQQQQAABBBBAAAEEEEAAAQQQQEBLgTgagFrmlaAQQAABBBBAAAEEEEAAAQQQQAABBBAICNAApBAQQAABBBBAAAEEEEAAAQQQQAABBBDQWIAGoMbJJTQEEEAAAQQQQAABBBBAAAEEEEAAAQRoAFIDCCCAAAIIIIAAAggggAACCCCAAAIIaCxAA1Dj5BIaAggggAACCCCAAAIIIIAAAggggAACNACpAQQQQAABBBBAAAEEEEAAAQQQQAABBDQWoAGocXIJDQEEEEAAAQQQQAABBBBAAAEEEEAAARqA1AACCCCAAAIIIIAAAggggAACCCCAAAIaC9AA1Di5hIYAAggggAACCCCAAAIIIIAAAggggAANQGoAAQQQQAABBBBAAAEEEEAAAQQQQAABjQVoAGqcXEJDAAEEEEAAAQQQQAABBBBAAAEEEECABiA1gAACCCCAAAIIIIAAAggggAACCCCAgMYCNAA1Ti6hIYAAAggggAACCCCAAAIIIIAAAgggQAOQGkAAAQQQQAABBBBAAAEEEEAAAQQQQEBjARqAGieX0BBAAAEEEEAAAQQQQAABBBBAAAEEEKABSA0ggAACCCCAAAIIIIAAAggggAACCCCgsQANQI2TS2gIIIAAAggggAACCCCAAAIIIIAAAgjQAKQGEEAAAQQQQAABBBBAAAEEEEAAAQQQ0FiABqDGySU0BBBAAAEEEEAAAQQQQAABBBBAAAEEaABSAwgggAACCCCAAAIIIIAAAggggAACCGgsQANQ4+QSGgIIIIAAAggggAACCCCAAAIIIIAAAjQAqQEEEEAAAQQQQAABBBBAAAEEEEAAAQQ0FqABqHFyCQ0BBBBAAAEEEEAAAQQQQAABBBBAAAEagNQAAggggAACCCCAAAIIIIAAAggggAACGgvQANQ4uYSGAAIIIIAAAggggAACCCCAAAIIIIAADUBqAAEEEEAAAQQQQAABBBBAAAEEEEAAAY0FaABqnFxCQwABBBBAAAEEEEAAAQQQQAABBBBAgAYgNYAAAggggAACCCCAAAIIIIAAAggggIDGAjQANU4uoSGAAAIIIIAAAggggAACCCCAAAIIIEADkBpAAAEEEEAAAQQQQAABBBBAAAEEEEBAYwEagBonl9AQQAABBBBAAAEEEEAAAQQQQAABBBCgAUgNIIAAAggggAACCCCAAAIIIIAAAgggoLEADUCNk0toCCCAAAIIIIAAAggggAACCCCAAAII0ACkBhBAAAEEEEAAAQQQQAABBBBAAAEEENBYgAagxsklNAQQQAABBBBAAAEEEEAAAQQQQAABBGgAUgMIIIAAAggggAACCCCAAAIIIIAAAghoLEADUOPkEhoCCCCAAAIIIIAAAggggAACCCCAAAI0AKkBBBBAAAEEEEAAAQQQQAABBBBAAAEENBagAahxcgkNAQQQQAABBBBAAAEEEEAAAQQQQAABGoDUAAIIIIAAAggggAACCCCAAAIIIIAAAhoL0ADUOLmEhgACCCCAAAIIIIAAAggggAACCCCAAA1AagABBBBAAAEEEEAAAQQQQAABBBBAAAGNBWgAapxcQkMAAQQQQAABBBBAAAEEEEAAAQQQQIAGIDWAAAIIIIAAAggggAACCCCAAAIIIICAxgI0ADVOLqEhgAACCCCAAAIIIIAAAggggAACCCBAA5AaQAABBBBAAAEEEEAAAQQQQAABBBBAQGMBGoAaJ5fQEEAAAQQQQAABBBBAAAEEEEAAAQQQoAFIDSCAAAIIIIAAAggggAACCCCAAAIIIKCxAA1AjZNLaAgggAACCCCAAAIIIIAAAggggAACCNAApAYQQAABBBBAAAEEEEAAAQQQQAABBBDQWIAGoMbJJTQEEEAAAQQQQAABBBBAAAEEEEAAAQRoAFIDCCCAAAIIIIAAAggggAACCCCAAAIIaCxAA1Dj5BIaAggggAACCCCAAAIIIIAAAggggAACNACpAQQQQAABBBBAAAEEEEAAAQQQQAABBDQWoAGocXIJDQEEEEAAAQQQQAABBBBAAAEEEEAAARqA1AACCCCAAAIIIIAAAggggAACCCCAAAIaC9AA1Di5hIYAAggggAACCCCAAAIIIIAAAggggAANQGoAAQQQQAABBBBAAAEEEEAAAQQQQAABjQVoAGqcXEJDAAEEEEAAAQQQQAABBBBAAAEEEECABiA1gAACCCCAAAIIIIAAAggggAACCCCAgMYCNAA1Ti6hIYAAAggggAACCCCAAAIIIIAAAgggQAOQGkAAAQQQQAABBBBAAAEEEEAAAQQQQEBjARqAGieX0BBAAAEEEEAAAQQQQAABBBBAAAEEEKABSA0ggAACCCCAAAIIIIAAAggggAACCCCgsQANQI2TS2gIIIAAAggggAACCCCAAAIIIIAAAgjQAKQGEEAAAQQQQAABBBBAAAEEEEAAAQQQ0FiABqDGySU0BBBAAAEEEEAAAQQQQAABBBBAAAEEaABSAwgggAACCCCAAAIIIIAAAggggAACCGgsQANQ4+QSGgIIIIAAAggggAACCCCAAAIIIIAAAjQAqQEEEEAAAQQQQAABBBBAAAEEEEAAAQQ0FqABqHFyCQ0BBBBAAAEEEEAAAQQQQAABBBBAAAEagNQAAggggAACCCCAAAIIIIAAAggggAACGgvQANQ4uYSGAAIIIIAAAggggAACCCCAAAIIIIAADUBqAAEEEEAAAQQQQAABBBBAAAEEEEAAAY0FaABqnFxCQwABBBBAAAEEEEAAAQQQQAABBBBAgAYgNYAAAggggAACCCCAAAIIIIAAAggggIDGAjQANU4uoSGAAAIIIIAAAggggAACCCCAAAIIIEADkBpAAAEEEEAAAQQQQAABBBBAAAEEEEBAYwEagBonl9AQQAABBBBAAAEEEEAAAQQQQAABBBCgAUgNIIAAAggggAACCCCAAAIIIIAAAgggoLEADUCNk0toCCCAAAIIIIAAAggggAACCCCAAAII0ACkBhBAAAEEEEAAAQQQQAABBBBAAAEEENBYgAagxsklNAQQQAABBBBAAAEEEEAAAQQQQAABBGgAUgMIIIAAAggggAACCCCAAAIIIIAAAghoLEADUOPkEhoCCCCAAAIIIIAAAggggAACCCCAAAI0AKkBBBBAAAEEEEAAAQQQQAABBBBAAAEENBagAahxcgkNAQQQQAABBBBAAAEEEEAAAQQQQAABGoDUAAIIIIAAAggggAACCCCAAAIIIIAAAhoL0ADUOLmEhgACCCCAAAIIIIAAAggggAACCCCAAA1AagABBBBAAAEEEEAAAQQQQAABBBBAAAGNBWgAapxcQkMAAQQQQAABBBBAAAEEEEAAAQQQQIAGIDWAAAIIIIAAAggggAACCCCAAAIIIICAxgI0ADVOLqEhgAACCCCAAAIIIIAAAggggAACCCBAA5AaQAABBBBAAAEEEEAAAQQQQAABBBBAQGMBGoAaJ5fQEEAAAQQQQAABBBBAAAEEEEAAAQQQoAFIDSCAAAIIIIAAAggggAACCCCAAAIIIKCxAA1AjZNLaAgggAACCCCAAAIIIIAAAggggAACCNAApAYQQAABBBBAAAEEEEAAAQQQQAABBBDQWIAGoMbJJTQEEEAAAQQQQAABBBBAAAEEEEAAAQRoAFIDCCCAAAIIIIAAAggggAACCCCAAAIIaCxAA1Dj5BIaAggggAACCCCAAAIIIIAAAggggAACNACpAQQQQAABBBBAAAEEEEAAAQQQQAABBDQWoAGocXIJDQEEEEAAAQQQQAABBBBAAAEEEEAAARqA1AACCCCAAAIIIIAAAggggAACCCCAAAIaC9AA1Di5hIYAAggggAACCCCAAAIIIIAAAggggAANQGoAAQQQQAABBBBAAAEEEEAAAQQQQAABjQVoAGqcXEJDAAEEEEAAAQQQQAABBBBAAAEEEECABiA1gAACCCCAAAIIIIAAAggggAACCCCAgMYCNAA1Ti6hIYAAAggggAACCCCAAAIIIIAAAgggQAOQGkAAAQQQQAABBBBAAAEEEEAAAQQQQEBjARqAGieX0BBAAAEEEEAAAQQQQAABBBBAAAEEEKABSA0ggAACCCCAAAIIIIAAAggggAACCCCgsQANQI2TS2gIIIAAAggggAACCCCAAAIIIIAAAgjQAKQGEEAAAQQQQAABBBBAAAEEEEAAAQQQ0FiABqDGySU0BBBAAAEEEEAAAQQQQAABBBBAAAEEaABSA44L+P1+8fl8jq8jkgUkJCQEDqupqYnkcI5BwNUC1LOr08PiYhCgpmNA4xTXClDPrk0NC4tRgJqOEY7TXCmgYj3Hx8dLXFycKz1ZlD0CNADtcWaWZgSMZlp+fr7rjYxvmDk5OYF15uXlKdO0dD0sC3REgHp2hJ1JLRSgpi3EZWjbBahn28mZ0GIBatpiYIa3VUDVeu7SpYvUNi5tBWMy1wjQAHRNKry7EBqA3s09kTsnoOqFi3NizOx2AWra7RlifdEIUM/RaHGsCgLUtApZYo2RCqhazzQAI82wvsfRANQ3t8pERgNQmVSxUI0EVL1w0SgFhGKyADVtMijDOSpAPTvKz+QWCFDTFqAypGMCqtYzDUDHSsY1E9MAdE0qvLsQGoDezT2ROyeg6oWLc2LM7HYBatrtGWJ90QhQz9FocawKAtS0CllijZEKqFrPNAAjzbC+x9EA1De3ykRGA1CZVLFQjQRUvXDRKAWEYrIANW0yKMM5KkA9O8rP5BYIUNMWoDKkYwKq1jMNQMdKxjUT0wB0TSq8uxAagN7NPZE7J6DqhYtzYszsdgFq2u0ZYn3RCFDP0WhxrAoC1LQKWWKNkQqoWs80ACPNsL7H0QDUN7fKREYDUJlUsVCNBFS9cNEoBYRisgA1bTIowzkqQD07ys/kFghQ0xagMqRjAqrWMw1Ax0rGNRPTAHRNKry7EBqA3s09kTsnoOqFi3NizOx2AWra7RlifdEIUM/RaHGsCgLUtApZYo2RCqhazzQAI82wvsfRANQ3t8pERgNQmVSxUI0EVL1w0SgFhGKyADVtMijDOSpAPTvKz+QWCFDTFqAypGMCqtYzDUDHSsY1E9MAdE0qvLsQGoDezT2ROyeg6oWLc2LM7HYBatrtGWJ90QhQz9FocawKAtS0CllijZEKqFrPNAAjzbC+x9EA1De3ykRGA1CZVLFQjQRUvXDRKAWEYrIANW0yKMM5KkA9O8rP5BYIUNMWoDKkYwKq1jMNQMdKxjUT0wB0TSq8uxAagN7NPZE7J6DqhYtzYszsdgFq2u0ZYn3RCFDP0WhxrAoC1LQKWWKNkQqoWs80ACPNsL7H0QDUN7fKREYDUJlUsVCNBFS9cNEoBYRisgA1bTIowzkqQD07ys/kFghQ0xagMqRjAqrWMw1Ax0rGNRPTAHRNKry7EBqA3s09kTsnoOqFi3NizOx2AWra7RlifdEIUM/RaHGsCgLUtApZYo2RCqhazzQAI82wvsfRANQ3t8pERgNQmVSxUI0EVL1w0SgFhGKyADVtMijDOSpAPTvKz+QWCFDTFqAypGMCqtYzDUDHSsY1E9MAdE0qvLsQGoDezT2ROyeg6oWLc2LM7HYBatrtGWJ90QhQz9FocawKAtS0CllijZEKqFrPNAAjzbC+x9EA1De3ykRGA1CZVLFQjQRUvXDRKAWEYrIANW0yKMM5KkA9O8rP5BYIUNMWoDKkYwKq1jMNQMdKxjUT0wB0TSq8uxAagN7NPZE7J6DqhYtzYszsdgFq2u0ZYn3RCFDP0WhxrAoC1LQKWWKNkQqoWs80ACPNsL7H0QA0Kbf79u2TtWvXBv63bt26wP+Ki4sDox977LFy5ZVXmjRT3TALFiyQTz/9VDZt2iQlJSWSmZkpBxxwgJx88skycODAiOarqKiQefPmyddffy15eXlSXV0tnTt3lqFDh8q4ceMC/231hwag1cKMj0BjAVUvXMglAk0JUNPUhk4C1LNO2SQWQ4Capg50ElC1nmkA6lSFscVCAzA2t0ZnnX322U2OZHYDsLKyUh588EFZsmRJ2Dnj4uLkD3/4g5x11lnNRmc0/O655x7Zvn172OPS09Pl6quvlsMPP9wkpfDD0AC0lJfBEQgroOqFC+lEgAYgNeAFAb5HeyHL3oqRmvZWvnWPVtV6pgGoe2W2HB8NwJaNIjqifgOwU6dO0qNHD/n+++8D55rdAHz00Uflyy+/DIx90EEHBe7U69Chg2zevFneeOMNyc/PD3zt0ksvleOPPz7s+svLy2Xq1Kmybdu2wNeN40aPHi3JycmyfPlyefPNN8U4JiUlRe666y7p1atXRA6xHEQDMBY1zkGgdQKqXri0LmrO1lmAmtY5u96LjXr2Xs51j5ia1j3D3opP1XqmAeitOg0XLQ1Ak2rg1VdflX79+gX+ZzyKu3PnTpk0aZLpDcCffvpJbr/99sC4w4YNkxtvvDFwS33tp6ioSKZMmSIFBQWSkZEhjz32WOD/G36M9f7nP/8J/Pa5554rEyZMCDlk9erVctttt4nRnDOajMZ/W/WhAWiVLOMi0LSAqhcu5BSBpgSoaWpDJwHqWadsEoshQE1TBzoJqFrPNAB1qsLYYqEBGJtbi2dZ1QCcNWuWLF26NPCX6Jw5c8S427Dhx3g34COPPBL47fPOO0/Gjx8fcojxnr+LL7448N7A7t27ywMPPBDSRKw9+Omnn5b58+cHfmk8Kty3b98W447lABqAsahxjhMC/rJSkT0FIhXlIimpIh06S1xauhNLafWcql64tDpwBtBWgJrWNrWeDIx69mTatQ6amtY6vZ4LTtV6pgHouVJtFDANQItqwIoGoPFI7sSJE6WqqkoOO+wwmTZtWtjVGw0+47iysjIZNGiQ3HnnnSHH/fDDD4HHeo3POeecI2eccUbYcYy7AKdPnx742plnnil//vOfLdGiAWgJK4OaJOD3+0VW/Si+T+aKLFso4vPVjWzcfTt0lMSPHScy6GAx3r+pykfVCxdVfFmn/QLUtP3mzGidAPVsnS0jOyNATTvjzqzWCKhazzQArakHlUalAWhRtqxoABrv5rvjjjtabNwZB8ycOTPwDsKEhAR58cUXJTExMRjpv//9b3nttdcCvzYagU3tGGw05i644AIxdgo+8MADZcaMGZZo0QC0hJVBTRDwb1onvucfEtm+ueXRuuVK/IXXSVyvfi0f64IjVL1wcQEdS3CpADXt0sSwrJgEqOeY2DjJxQLUtIuTw9KiFlC1nmkARp1q7U6gAWhRSq1oAH7wwQfy/PPPB1Y8efJkGTFiRJOr//vf/y7vv/9+4OvGjsHGpiS1H+PXCxcuDPzSOC7cOwJrjzXeMbhp0yZp166dPPvss5Zo0QC0hJVBWyng/2mp+B6f9cvjvpF+UlIl/oqpEjd4aKRnOHacqhcujoExsesFqGnXp4gFRiFAPUeBxaFKCFDTSqSJRUYooGo90wCMMMEaH0YD0KLkWtEA/Oc//ylvvfVWYMXGuwCNDUea+rz99tvy0ksvBb5sPCpsPDJc+7nllltkzZo1gR1+jbsDm/sY7/5bsmRJ4BBj/qSkpIjECgsLWzzO2CzFuEPRaADu2rWrxeOdPsD4Rp+dnR1YhpFfX/1HQZ1eHPObKuDftFaq/zYluuZf7QpSUiXx5nskrld/U9dk9mDUs9mijOe0ADXtdAaY30wB6tlMTcZygwA17YYssAazBFSt56ysrMC/v/l4V4AGoEW5t6IBaNyB9+GHHwZW/NBDDwU28GjqYxxXe8fe9ddfL6NGjQoeavx669at0r59e3nmmWeaFTDm+frrrwPHPPfcc9K2bduIxM4+++wWj3viiSfCbmLS4okcgICFAsY7//Ku/KNUb1of8yxJvfpJlzmvKPVOwJiD5UQEEEAAAQQQQAABBBBAAAHXC9AAtChFVjQAjYbZJ598Eljx7NmzxbiFt6nPxx9/LE8++WTgy5MmTZIxY8YED73qqqskPz8/0Hwzxmzu89hjj8nnn38eOCSahh0NQIsKi2EtFyj/frHsmnZZq+fJmvWkpB4yvNXjMAACCCCAAAIIIIAAAggggAACrRWgAdhawSbOt6IBqNIdgDwCbFFhMazlAtWPzxL/dwuC8/hFZF9SGylOSpf9iWlSkZAsif4aSfJVS0Z1uXSq2CtpNZWN1hU3/GhJvHyK5euNdQJVH12INV7O01+AmtY/x16KkHr2Ura9ESs17Y08eyVKVeuZR4C9UqFNx0kD0KIasKIBqNI7AKNhZROQaLQ41koBf1mp7LrpMvmhfV/5KbOvbM7oIlvTu0hZYmqz07apKpGeJTulf/EWGVC0RYbsXSuZNWUS//C/JC4t3colxzy2qi8vjjlgTtRegJrWPsWeCpB69lS6PREsNe2JNHsmSFXrmU1APFOiTQZKA9CiGrCiAWjWLsAPPPCALFq0KBA5uwBHXgCqfqOPPELvHplXXCmfbyySL9YVyuYS456/1n3i/D4ZWLRZRgwdIMcekitZGZFtntO6WaM7m3qOzouj3S9ATbs/R6wwcgHqOXIrjlRDgJpWI0+sMjIBVeuZBmBk+dX5KBqAFmXXigbg8uXL5Y477gis+JxzzpEzzjijydXPnDlTvv/++8AuP8ZOv4mJicFj//3vf8trr70W+PVdd90lAwcODDuOcWfeBRdcIBUVFXLggQfKjBkzLNHiDkBLWBm0BQGf3y+Lt+2Xt1buluU7yyzzihORw7tlyIn9M2VE9zaSEG/8jvMfVS9cnJdjBW4VoKbdmhnWFYsA9RyLGue4WYCadnN2WFu0AqrWMw3AaDOt3/E0AC3KqRUNwLKyMpk4caJUV1fLYYcdJtOmTQu7euPrxnHG8UZzz2jy1f8YjUGjQWh8mmskrl69WqZPnx44zmg2Gsda8aEBaIUqYzYlYDT+jLv9/m95oWwtavzuvubk0qrLJaWmUmriE6QqLlHKE1Oigu7eLlnOOqiTjOndThIdbgSqeuESFTgHe0qAmvZUurUPlnrWPsWeC5Ca9lzKtQ5Y1XqmAah1WUYUHA3AiJiiP8iKBqCxilmzZsnSpUsDd/YZO/QaO/k2/CxYsEAeeeSRwG+fe+65MmHChJBDjAbhRRddJKWlpdK9e3d58MEHJS6u8V1JTz/9tMyfPz9w7t133y39+/ePHiKCM2gARoDEIaYI/JhfIn9fslPW7a5odryMqlIZsnedHLBvk+SW5EmP0p3SobJIEv2+kPMq4pNkV2qm5KV1lnVtusuadrnyU/s+LTYGc9okyQWHZ8uoHm3C/tkzJdgWBlH1wsUOG+ZQU4CaVjNvrDq8APVMZegmQE3rllFvx6NqPdMA9HbdGtHTALSoBmJpAH766afy+OOPB1Z01llnydlnn91odfUfAx4+fLhMnjxZjG9AtZ+ioiKZMmWKFBQUSEZGhsyePVvatGnTaJz6jwGHaxIad//ddtttYjTnBg8eLLfffrtFUhKYIz8/37LxzRpY1W/0ZsWv8jj7yqvlmcX58sWm4ibDaJuSIEfntpWjv39bBn7zniRIbO8CrIpLkOWZ/WTRgSfIlxl9pbQqtGlYfwFDuqTLxcOypXeH5jcZscKeerZClTGdFKCmndRnbrMFqGezRRnPaQFq2ukMML+ZAqrWMw1AM6tAzbFoAJqUt59//lny8vJCGnEvvfRS4NeDBg2S448/PmSmsWPHNpo5kgagcdLDDz8sX331VeD8gw46SE477TTp0KGDbN68WV5//fVgM+3iiy+WE088MWyExuPBRqNwx44dga+fcMIJctRRR0lycrKsWLFC3njjDSkvLw/82niEuHfv3iZJNR6GBqBltAwsIl9sLJKnF+dLUUVNWI9e7VPkjMEd5Zhe7SQpIU78P/8gvgd+efS9NZ/4yTOlot9BsmBTkbyzao9s2BP+rsOEOJE/DOkkZx3UOTC/XR9VL1zs8mEe9QSoafVyxoqbFqCeqQ7dBKhp3TLq7XhUrWcagN6uWyN6GoAm1cCcOXPks88+i3i0V199tdGxkTYAKysrxdjJ13gUONzHeJz397//fdg7COsfbzQsjUeKa5uADcdKS0uTq6++WoYNGxZxXLEcSAMwFjXOaUmgvNonT32bJx+vLwp7aI92yfI/Q7MCG3PUfwTe7/eL7/arRLZvbmmKpr/evZfE3/ZocFxjzO+2l8grPxbImsLysOf1ykyR647qKn1suhtQ1QuX2JPCmboLUNO6Z9hb8VHP3sq3F6Klpr2QZe/EqGo90wD0To02FSkNQJNqwM4GYO2Sv/zySzGahps2bZKSkhJp3759YLfeU045pcmdfRuGa9zlN2/ePFm4cGHgDkbj/YDGewWHDh0q48aNk6ysLJOEmh6GBqDlxJ6bYMu+Crn3i22yeV/jTT7aJMfLuYdmyUn9M5vckde/aZ347psqUhG+WdcsaEqqxN84S+J69Wt0mNEINB5D/t+lO6WgtLrR15Pi42TisGw5ZUCm5e8GVPXCxXPFTMARC1DTEVNxoAIC1LMCSWKJUQlQ01FxcbDLBVStZxqALi8sG5ZHA9AGZKZoXoAGIBVipsDibfvlvi+3i3EHYMPPqJ5t5LIjcqRDWmKLU/p/Wiq+x2dF1wQ0mn9XTJW4wUObHb+i2ievLi+U138qFF+YVw2Ozm0rk0blSHpSQovrjPUAVS9cYo2X8/QXoKb1z7GXIqSevZRtb8RKTXsjz16JUtV6pgHolQptOk4agNSA4wI0AB1PgTYLeG/VHnn2u/xGTbW0xHi5YmSOHNOrbVR31gXuBEOX7EIAACAASURBVHz+ocgeBzYe+/3rtWHv/GsKeP3ucnl04Y6w7wc0Hgm+5dju0qVNsiX5UfXCxRIMBtVCgJrWIo0E8asA9UwpOClQUFolm/dWyKa9FbKjuEqKKqplX3mNVNT4JT5OJD4uTjKS4qVjeqJ0TEsU47UqfTumSre2yU0+XUFNO5lR5jZbQNV6pgFodiWoNx4NQPVypt2KaQBql1LbAzIerX1h6S55c+XuRnP36ZAiNx3dXbq1i62RZowtq5eL75P3RJYuFPHVu7MwIUHiDhslcb8ZJzJwSFTNxdqFVtX45R/LdsrbP+9ptPZ2KQkyZUx3OSg73XRTVS9cTIdgQG0EqGltUkkgIkI9UwZ2ChhPTRhPUCzbUSLf55XKzpKqmKZPSYiTIV3SZWjXDBnWrU3ItRc1HRMpJ7lUQNV6pgHo0oKycVk0AG3EZqrwAjQAqYzWCPj8fnnym3yZt3Zvo2GO7d1OrhyZIymJ8a2ZIniuv6xUZG+hSHmZSGqaSGYniUszpzm3aGuxPPr1DtlfGfrocmJ8nFw/uquMzm1nSgy1g6h64WIqAoNpJUBNa5VOzwdDPXu+BCwHMH7AaTT7Plm/TxZuLZby6jDvJGnlKvp3TJXf9G0nY3q1k8z0ZMnJyQmMaLx33Ff/B6qtnIfTEbBbQNXv0TQA7a4U981HA9B9OfHcimgAei7lpgVc4/PL7IU75JMNjXf6/dPBneRPB3eO6a480xYY5UB5xZVy12dbZUuDzUviROTSI7rIqQM7RDli04ereuFiGgADaSdATWuXUk8HRD17Ov2WBl9V45PPNhbJ2yv3yKZ9FZbOVTu4scnZcX3by0VjBknvThk0AG1RZxIrBVT9Hk0D0MqqUGNsGoBq5EnrVdIA1Dq9lgVn3Pn3yNc75NMGzT/j3TRXjeoauNBU8VNaVSP3f7ldvtte0mj55x7aWf4wpLMpYal64WJK8AyipQA1rWVaPRsU9ezZ1FsWuHHd9NmGInnp+11SUFrd4jzG+5NzM1OkZ/vkwHv+2qcmSGpivBhvRqnx+6W4okZ2l1VL/v4q2binQgrLWh7TmPS4gVnyhwPaSbe2SS2ugQMQcKuAqt+jaQC6taLsWxcNQPusmakJARqAlEa0AsZjK099my/vrwl97Nd40nfy6O5yZG7baId01fHGnY1PL86XDxrEZyzSrCagqhcurkoUi3GVADXtqnSwmFYKUM+tBOT0EIEV+aXyzHf5YTcdqz3Q+AHqIV3S5fBubeTQnHQxNiOLizOeQYjss7e8Wpbnl8qS7SXy3fb9sre8pskTjblO7Jcp5xzSWTLTEiObgKMQcJGAqt+jaQC6qIgcWgoNQIfgmbZOgAYg1RCtwIvLdsl/VhSGnGY8XmJsmDG8e5toh3Pl8UaT85UfC+SVH0PjNBb7P4dlye8P6tSqdat64dKqoDlZawFqWuv0ei446tlzKbck4P2VNfKPpbvCvie5dkJjB99TBmTK0b3aSQeTmnHGDzK/zyuRT9YXyVdbiqXaF/79ghnJ8XLB0Gw5oV/7wM7CfBBQRUDV79E0AFWpMOvWSQPQOltGjlCABmCEUBwWEHh31W55ZvHOEA3jzr9pY3rIME2af/WDCxev8fULhmbJmYNjbwKqeuHCHwMEmhKgpqkNnQSoZ52y6UwsS3eUBF6VsqeJR3MHZ6UFfph4eLcMS5tvxmPC763aI++v2SMlDTY6q5U5MCtNrh7VNWTXYGfUmBWByARU/R5NAzCy/Op8FA1AnbOrSGw0ABVJlAuWuXjbfpn52Vap/4Nk4zGSyaO7yehe5u6S64Jwg0swLpyNR4Ibfi4Z3kVOGxTbxiCqXri4KS+sxV0C1LS78sFqWidAPbfOz8tnG3fb/fP7XfL6T7vDMuS2T5bzh2bLsG4ZUT3i21rTsmq/fLCxXF7+botUVPsaDZeaGCcXDesSuBswmkePW7suzkcgFgFVv0fTAIwl23qdQwNQr3wqGQ0NQCXTZvuiN+wplykfbpLy6tDHSCaNzJET+2favh67J3zn593y7Hehdz4aD8vcdEw3OSo3+uanqhcudrsznzoC1LQ6uWKlLQtQzy0bcURjgcLSKvnbF9tlVUFZ2AbbuYdmybiBHSTB+OmpzZ/amt61v0L+9v6PgZ2Iw32O7NkmsJlbRnKCzStkOgQiF1D1ezQNwMhzrOuRNAB1zaxCcdEAVChZDi11b1m1XP/BRilssGvdnw/uLH86xJxdcR0KLapp31q5W55fEtoENN59OOP4nnJQdnpUY6l64RJVkBzsKQFq2lPp1j5Y6ln7FJse4Lrd5TLz061hd+Md2jVDrhiRI9ltnNt5t2FNL9lWLE98kyd5+6saWXRrmyzTju0uPdunmO7EgAiYIaDq92gagGZkX+0xaACqnT8tVk8DUIs0WhaE8SLp//fxlsDOcvU/Y3u3k2uP6uq5x0SMjUFe/qEgxMJ4ifY9J/aS3MzIL5RVvXCxrNAYWHkBalr5FBJAPQHqmXKIRuDrzcXy4FfbpbIm9CkJ4x3JxiYbvx3UwfHrpXA1XV7tk+e/2xl2k5LUxPjAdd6RPdtGQ8GxCNgioOr3aBqAtpSHqyehAejq9HhjcTQAvZHnWKP8+5Kd8ubK0PfYGC+uvuP4npKUEB/rsMqeZ+wO/MQ3+Y0uljunJ8r9p/SOeAc/VS9clE0cC7dcgJq2nJgJbBSgnm3EVnyqD9bskSe/yZeG++x2aZMkNx7dTQZ0SnNFhM3V9KItxTJ7UZ4UV9SErNV4UPmvh2fL6Qd2dEUMLAKBWgFVv0fTAKSGaQBSA44L0AB0PAWuXcCCzUVy7xfbQ9bXKT1RHjy1t2SmJrp23VYvzLgrctbn2+TbbftDpjqgc5rcdUJkjVFVL1ystmV8dQWoaXVzx8obC1DPVEUkAv9ZUSgvLtvV6NAh2Wly85ge0i7FPe/Ra6mmd+6vknu+2Crrdlc0imf8oA6BRqAT7y6MJA8c4z2BlurZrSI0AN2aGfvWRQPQPmtmakKABiClEU4gf3+lXDt3o5RW1e0UlxgfJ7NOzJWBnd3x02wnM2fsoHfrfzfLqoLykGUYu+cZG6O0tIOeqhcuTpozt7sFqGl354fVRSdAPUfn5bWjjacB/vl9gfzfisJGoRvXAZcdkSNJCfZv9NFcHiKpaePa5slv8+Tj9Y03CDmmV1u59qhuYlwL8kHAaYFI6tnpNYabnwagG7Ni75poANrrzWxhBGgAUhYNBYw73G6Zv1lW7grdxe7yEV3klAEdAPtVYF95tUz+YKPsLKkOMblkeBc5bVDzTqpeuJB8BJoSoKapDZ0EqGedsml+LOHeB2zM8seDO4mxQVpLPwQ0f0UtjxhpTRvNzddW7JYXv298Z6OxQ/ANo7u7rrnZcvQcoZtApPXstrhpALotI/avhwag/ebM2ECABiAl0VAg3IXt2D7t5NojvbfpR0vVsX53uUz5cJNU1Hvxt/HD8RnH9ZRDcjKaPF3VC5eWPPi6dwWoae/mXsfIqWcds2pOTK+tKJR/hHnsd+KwbJlwgHvflRdtTX+6YZ/MXrhDquseBAkAHtG9jdx8TDdPvgfanApiFDMEoq1nM+Y0YwwagGYoqj0GDUC186fF6mkAapFG04L4eVeZTP1ok/jqvc06p02SPDSut6QnueddNqYFbMJACzYVyb1fhr4rsX1Kgjx8Wh/pmBb+XYmqXriYwMUQmgpQ05om1qNhUc8eTXwLYb+/eo88+W1+o6OuHJkjJ/XPdDVaLDW9bEeJzPxsa6PdjYd2zZBpx3aXZA9uBufqJHtocbHUsxt4aAC6IQvOroEGoLP+zC4iNAApg1qB0qqawHv/8vdXBVGMu9nuOamXDOK9f80WykvLdjV6F9CQLulyx3E9w740W9ULF/60INCUADVNbegkQD3rlE1zYjF2yr3ni20hPyA1Rr7siC5y6kD3vx4l1ppenl8qd366RcqrQ/c5HtnDuBOwOxuDmFNejBKlQKz1HOU0ph9OA9B0UuUGpAGoXMr0WzANQP1yGmtEjy/Kk3lr94acfs4hneWPB3eOdUjPnOfz+2Xmp1tl8faSkJiN9wGdc0hWIwdVL1w8k1ACjVqAmo6ajBNcLEA9uzg5DixtVUGZTJ+/udGdcBceni2nH+jex37rU7WmplfuLJUZn2yVsgbPAx/Xt71cNSpH4uPYGMSBsvT0lK2pZyfhaAA6qe+OuWkAuiMPnl4FDUBPpz8Y/I/5JTJ9/pYQjMFZaXLXCbn8dDfCEimqqJHr5m6QgtK6TUGMS+Lbj+sph3UNfR+gqhcuEVJwmAcFqGkPJl3jkKlnjZMbZWj5+ytl8gebxPg7vv6nqR/wRTm8bYe3tqZXF5TJbR9vkdKq0JcCnn5AB/nr4dmu3PjENlwmsl2gtfVs+4J/nZAGoFPy7pmXBqB7cuHZldAA9Gzqg4FXVPvkmrkbZEdx3aO/qYlx8uhpfaRLm2SAohAw3qE47aNNUm9PEGmfmiCPjOsjHeq9D1DVC5coKDjUYwLUtMcSrnm41LPmCY4wvPJqn9w8b5Ns3FsRcsYJ/drLpJE5SjW9zKjpFfmlcvsnWxrdCXneoVly1pBOEapyGAKtFzCjnlu/iuhHoAEYvZluZ9AA1C2jCsZDA1DBpJm85BeW7JQ3Vu4OGfXi4dny20FqPNZiMkerh3v9p0L536W7QsYZ1i1Dbh3bI/iPBVUvXFqNwwDaClDT2qbWk4FRz55Me0jQfr9f7l+wXb7cVBzy+4d3zZBbxvaQROMlyQp9zKrpb7YWy6zPG78LcfLobnJM73YKibBUlQXMqme7DWgA2i3uvvloALovJ55bEQ1Az6U8JOA1hWVy07zQXX8P6Jwmd5/Io7+xVkZT7wOs/6JwVS9cYjXhPP0FqGn9c+ylCKlnL2U7fKzhfpjXs32y3HtyL0lPSlAOyMya/mT9Pnn46x0hBskJcTLzhFwZyKZxytWGigs2s57tjJ8GoJ3a7pyLBqA78+KpVdEA9FS6Q4Kt9vll8gcbZcOeukdbjJ9oPzyut/Rsn+JdGBMiN94VdPV7G2RPWd37AFMS4uShcX2ke7tkUfXCxQQahtBUgJrWNLEeDYt69mjifw172Y4SmfHJlpAdfzOS4uX+U3pLt3ZqvhrF7Jp+a+VueX7JzpBCyUxNCBhlZSR5u4CI3nIBs+vZ8gX/OgENQLuk3TsPDUD35sYzK6MB6JlUNwr0nZ93y7PfhV68/eWQznI2u/6aUhRLtu8P7JpX/zOgU6r87aRekpSYIDk5OYEv5eXlic8X+lJtUxbAIAjYKKDqxbiNREylkAD1rFCyTF5qYWmVXDN3oxTX2/TDeNh3+tgeMrx7G5Nns284s2vaeET6iW/yZd7avSFB9OmQIrNO7CVpSfH2BcdMnhMwu57tAqQBaJe0e+ehAeje3HhmZTQAPZPqkED3llfLFW+vl5J6u7n1ykyRB07pLUkJar3Xxs0ZfPKbPHl/TejF8Z8P6SznHJpNA9DNiWNtUQuoejEedaCc4AkB6tkTaW4UpPEKD2On2x/ySkO+9pdDO8vZQzorjWJFTRtPkhh3Sjb0Gp3bVm48uptSm6QonVwPLt6KeraDkQagHcrunoMGoLvz44nV0QD0RJobBTl74Q6Zv25fyO/fc2KuHJid7k0Qi6I2dhC8bu4G2V5vh2XjveEPjesrRw3uHZiVOwAtwmdYWwVUvRi3FYnJlBGgnpVJlakLfW1FofxjWegmXiN7tJGpY7or38yyqqb3V9TIjfM2yfbiypBcTByWLRMOYDM5UwuUwYICVtWz1cQ0AK0Wdv/4NADdnyPtV0gDUPsUNwpwVcEvG3/U/4zt3U6uG93Nexg2RGx4T/kwdKOVfh1T5aW/jpLE+HgagDbkgCmsF1D1Ytx6GWZQUYB6VjFrrVvz6l//rq7x143TKT1RHhnXR9qmqLfpR0MNK2t6R3Fl4J3S+yvrXmdiPExy1wm5MpgfLLeuMDk7rICV9WwlOQ1AK3XVGJsGoBp50nqVNAC1Tm+j4IzHW4zm35rC8uDXUhPj5YkJfaVjWqK3MGyM9p/f75JXlxeGzHjVmH7yPyN70QC0MQ9MZZ2Aqhfj1okwssoC1LPK2Yt+7aVVNXLd3I2St78qeLLxMhSjgTWkix5PRlhd04u37Zc7Pw1973GHtER5+NTeksn1ZfRFyRnNClhdz1bx0wC0SladcWkAqpMrbVdKA1Db1IYN7KO1e+WxRXkhX7tgaJacObiTtyBsjraqxifXzt0oW4vqHpFJSYyXf54/QlIqi9gExOZ8MJ35AqpejJsvwYg6CFDPOmQx8hgeW7hDPmrwWpSzh3SSvxyaFfkgLj/SjpoO98NOo4F6x3E9JcF4/wkfBEwSsKOeTVpqyDA0AK1QVWtMGoBq5UvL1dIA1DKtYYMqq/LJZW+vk73lNcGvd2+XHHi8hY0/rK+Dn3f98ihwvaeLZGiPTLl9bFcRf/3ftX4tzICA2QKqXoyb7cB4eghQz3rkMZIolu0oCWz8Uf8zqHOazDoxV6umlR01XePzyx2fbJFlDTZRMTY/+9PBam+iEkktcYx9AnbUsxXR0AC0QlWtMWkAqpUvLVdLA1DLtIYN6pUfC+TlHwpCvnb7cT1laNcM7yA4HOmz3+XLOz/vCVnFFSNz5OT+mQ6vjOkRaJ2AqhfjrYuas3UVoJ51zWxoXMYPRq9+b73sLKkOfsF4Lcqjp/WWLm2StUKwq6b3lVfLde9vlMLSOlPj5r9ZJ/aSA7LStDIlGOcE7KpnsyOkAWi2qHrj0QBUL2farZgGoHYpDRvQ3vJqufSt9WLsSlv7GdYtQ/7fb3p6A8AlURr+V727QXaW1L1nKCMpXh4f35d35LgkRywjNgFVL8Zji5azdBegnnXP8C/xPfVtnsxdvTck2EuP6CLjBnbQDsDOmjaeeJj6UejmZ13aJMnD43pLepL6G6poVxwKBmRnPZvJQwPQTE01x6IBqGbetFo1DUCt0tlkMA0vco03sRgXYr07pHoDwEVRhnvcaGyfdnLdUezC7KI0sZQoBVS9GI8yTA73iAD1rH+iV+SXyrT5m0MCHZKdJneekCvxcfq9r87umv73jwXyrwZPnYzt3U6uG821jv5/uqyP0O56NisiGoBmSao7Dg1AdXOnzcppAGqTyiYD2V5UKZPeXS819V4zd1zfdnLNkVyEOZX9h77aIZ9u2Bcy/UyNdht0ypV5nRNQ9WLcOTFmdrMA9ezm7LR+bRXVPrlm7gbZUVx3N35yQpw8elof6dpWr0d/a7XsrmnjfYDT52+Wn3aVhSTs+qO6yrF92rc+iYzgaQG769ksbBqAZkmqOw4NQHVzp83KaQBqk8omA7n3i22yYHNx8OtJ8XHyxIS+kpWRpH/wLo1wX4VPLn97nZRU1m3I0rN9sjw8ro8kslOeS7PGspoTUPVinKwiEE6Aeta7Lv71wy7594+FIUFOHJYtEw7oqG3gTtT0zv1Vcu3cDVJSVff6GeO1J7N/20c6pXMNqm2x2RCYE/VsRlg0AM1QVHsMGoBq50+L1dMA1CKNTQaxprBMJn+wKeTrvxvcUc4fmq134C6Pzrhw+Xx7tdz339UhKz1/aJb8bnAnl6+e5SHQWEDVi3FyiQANQG/VwI7iysC7eKt8dY9F6Ljrb8OsOvU9+vONRfLAgu0hyxneLUOmj+0hcRo+au2tP03ORetUPbc2YhqArRVU/3wagOrnUPkIaAAqn8JmA5jx8RZZsqMkeEyb5Hh5akI/aZPCS5idzLxx4ZKV3UXOf/FbWbVzf3ApKQlxMmc8d2c6mRvmjk1A1Yvx2KLlLN0FqGc9M+z3++XOT7fKd9vrrouMm+4fOlX/dyI7WdMPLtgun20sCimqa47sKsf15VFgPf+kWR+Vk/XcmuhoALZGT49zaQDqkUelo6ABqHT6ml38qoIyuWle6N1/3GHmjnzXXrgs375PLvznd1Lv9Ywypnc7uYGXZLsjUawiYgFVL8YjDpADPSVAPeuZ7oVbimXW59tCgptwQAeZOKyLngHXi8rJmi6uqJGr3l0ve8rrXnuSkRwvs0/jUWDtC8+iAJ2s59aERAOwNXp6nEsDUI88Kh0FDUCl09fs4m//eIssrXf3X/vUBHn69H6Smhivb9CKRFb/wmX6m0tk3pq9ISv/20m95ICsNEWiYZkIiKh6MU7uEAgnQD3rVxfl1T6Z9M562VVaHQyuQ1qiPD6+j6Qn6f9UhNM1vWhrsdz9WWjzlUeB9ftzZldETtdzrHHSAIxVTp/zaADqk0tlI6EBqGzqml34z7vK5OYPQ+/+u/DwbDn9QH1fcK1SJutfuKzauFUufXNtyEuyB3RKlXtP7iXxvB9HpbR6eq2qXox7OmkE36QA9axfcby4bJf8Z0Xoxh/G3fbGXfde+LihpsM9CnzdUV1lLLsCe6EETY3RDfUcS0A0AGNR0+scGoB65VPJaGgAKpm2Fhd928dbZFm9u/8yf737L4W7/1q0s+OAhhcub6wokOeX7AyZmvfj2JEJ5jBLQNWLcbPiZxy9BKhnvfJp7EZ7xTvrQzb+OLhLutx5fE/PbEThhpou+vVR4L31HgVul5IQePex8f98EIhUwA31HOla6x9HAzAWNb3OoQGoVz6VjIYGoJJpa3bRK3eVypQPN4ccw91/7spzwwuXiqoaufq9DbK9uDK4UOPRpCfG95W0JB7Zdlf2WE04AVUvxskmAtSz/jVg7EJr7EZb+0mIE3n4tD6S2z5F/+B/jdAt36PDvYfxhH7t5apRXT2TCwJtvYBb6jnaSGgARium3/E0APXLqXIR0QBULmUtLvi2/26WZXmldY2k1AR56vR+wt1/LdLZdkC4C5fF2/YHdies/znroE5y3mFZtq2LiRCIVUDVi/FY4+U8vQWoZ33yu6awTCZ/EPpKlNMGdZBLhuu/8Uf9LLqppmd9vlUWbtkfUmR3n5grB2Wn61N4RGKpgJvqOZpAaQBGo6XnsTQA9cyrUlHRAFQqXS0uNtyF7kXDsmX8Abz7r0U8Gw8Id+Hi9/tlxidbQzZuSU6Ikycm9JXO6Uk2ro6pEIheQNWL8egj5QwvCFDPemTZ+Ht12keb5addZcGAMpLi5ckJfaVdaqIeQUYYhZtquqC0Sq58Z4MYG7PUfnq0S5aHx/WRJOP2TD4ItCDgpnqOJlk0AKPR0vNYGoB65lWpqGgAKpWuFhd7z+fb5OstxcHjOnD3X4tmThzQ1IXLln0VgUeBff66VfFojBMZYs5oBVS9GI82To73hgD1rEeewz1uev7QLPnd4E56BBhFFG6r6Xd+3i3Pfhf67uNzD+0sfxjSOYqoONSrAm6r50jzQAMwUil9j6MBqG9ulYmMBqAyqWpxoVuLKmTSOxukXu9Izj8sS353kPcudFvEcviA5i5cnvwmT95fsze4wvg4kUfG9ZHcTO+8q8jh9DB9DAKqXozHECqneECAelY/yVU1frn6vfWyvbgqGEx2RmJgw4nkBO+9W9dtNV3j88uN8zbKut0VwfwYTz089ts+0qVNsvoFSASWCritniMNlgZgpFL6HkcDUN/cKhMZDUBlUtXiQh9buEM+WrcveJzxmMuzZ/aT9CR2VmsRz+YDmrtw2VNWLZe+tU4qaupauSN6tJFbju1h8yqZDoHIBVS9GI88Qo70kgD1rH62567eI099mx8SyA2ju8mY3u3UDy6GCNxY02sLywNNwPpPPYzq2UamjuF6J4YUe+oUN9ZzJAmgARiJkt7H0ADUO79KREcDUIk0tbjIwtIqueSt9VJd7yrq94M7yv8MzW7xXA6wX6ClC5d/fr9LXl1eGLKwWSfmymBekG1/spgxIoGWajqiQTgIAZcIUM8uSUSMy6io9smlb68X4wdqtZ8BnVLlvpN7SVycN98x59aafnpxvry3ak9Ipmcc11MO65oRY/Y5zQsCbq3nluxpALYkpP/XaQDqn2PXR0gD0PUpimiBLyzZKW+s3B08Nik+Tp45o590SPPWS64jwnLBQS1duJRW1chlb62XfRU1wdUO6pwmfzsp17P/eHFB2lhCMwIt1TR4CKgkQD2rlK3Ga31r5W55fkno++VmnpArQ7p4d5dZt9b0/ooaufyd9VJU73rH2BDkkdP6SKLxDhQ+CIQRcGs9t5QsGoAtCen/dRqA+ufY9RHSAHR9ilpc4P7KGrnojXVSVm83tZP7Z8oVI3NaPJcDnBGI5MLl3VW75ZnFof+AmTqmu4zq2daZRTMrAjQAqQGPCETyPdojFMqFWVblk0veWhfSUDosJ11mHJ+rXCxmLtjNNf3h2r0yZ1FeSLgTh2XLhAM6mknAWBoJuLmem2OmAahREcYYCg3AGOE4zTwBGoDmWTo10n9WFMqLy3YFpzd+YPr4+L7StS0vUXYqJy3NG8mFi/EC80nvrpe8/XUvMDd+Kv7oaX0kgZ+Kt0TM120WiKSmbV4S0yEQswD1HDOd4yf+3/ICeen7gpB13HtyLzHuovfyx801HW5DkPSkeHlifF/J5EkWL5dtk7G7uZ5pAFKyzQnQAKQ+HBegAeh4Clq1AOOdfxe/uU5213vPzejctnLTMd1bNS4nWysQ6YXL5xuL5IEF20MWM2lkjpzYP9PaBTI6AlEKRFrTUQ7L4Qg4IkA9O8Le6kmNJyKMu/9KKn3BsY7o3kamj2VTCbfX9MpdpTLlw80hNXBCv/Zy1aiura4LBtBPwO313JQ4dwDqV4vRRkQDMFoxjjddgAag6aS2DhiuQXT/Kb1kQCdv/6Tb1iTEMFmkFy4+v18mf7BJ1u0uD86SnZEoj4/vJ0kJvBsnBnpOsUgg0pq2aHqGRcBUAerZVE7bBgu3gdZDp/aWvh1TbVuDWydSoaYf+mq7fLqhKEhoXOU8PK639O5A/txaV06tS4V6DmdDA9CpinHPvDQA3ZMLz66EBqDaqb/xg42yJbBAqQAAIABJREFUurCuOTQ4K01mndRL7aA8sPpoLlyW7iiR2z/eEqJy+YgucsqADh6QIkRVBKKpaVViYp3eFaCe1ct9cUWNXPTmOimv9z5knoioy6MKNV1YWiVXvLNeyqv9wYUf3jVDbjuup3oFyYotFVChnmkAWloCyg5OA1DZ1OmzcBqA6uZyVUGZ3DRvU0gANx3TTUbntlM3KI+sPJoLF7/fL9M+2iw/7SoL6nRKT5QnJ/SV5IR4j4gRptsFoqlpt8fC+hCgntWrgZd/2CWv/FgYXLjxqlzjnbk926eoF4wFK1alpl/5oUBe/jH0HY4zjusph3XNsECFIVUVUKWeG/pyB6CqFWfeumkAmmfJSDEK0ACMEc4Fp9335Tb5clNxcCVZ6Yny1On92CDCBblpaQnRXrj8kFcit/439C7AS4Z3kdMGcRdgS9Z83R6BaGvanlUxCwKxCVDPsbk5dVZpVU3gfcj76737b0zvdnLD6G5OLcl186pS08Yuzpe/vU72lNcEDft0SJEHT+0t8XG8+sR1heXQglSpZxqADhWIi6elAeji5HhlaTQA1cx0QWlV4GLXV/eUhJw/NEt+N7iTmgF5bNWxXLjcMn+zLM8vDUp1SEuUpyb0lZRE7gL0WPm4MtxYatqVgbAoBESEelarDF5fUSj/u2xXyKKNu/96ZXL3Xy2KSjX94dq9MmdRXkg+rzmyqxzXt71ahclqLRNQqZ7rI3AHoGUloczANACVSZW+C6UBqGZu/7F0p7z20+7g4lMS4uT5M/tLm5QENQPy2KpjuXBZkV8q0+aH7pA3cVi2TDigo8f0CNeNArHUtBvjYE0IGALUszp1UFHtk4vfWif76t0xNqpnG5k6hp1/62dRpZqu8fnlmrkbZMu+ymAIndONDdD4oac6fzKtXalK9UwD0NpaUG10GoCqZUzD9dIAVC+pxsXuxDfWSnG9R11OHZApl43IUS8Yj6441guX//ffzfJ9Xt1dgO1TE+Tp0/tJKncBerSS3BN2rDXtnghYCQJ1AtSzOtXw7qrd8szinSELfuCU3tK/EzvHqtoANNa9eNt+ufPTrSF5Pe+wLDnrIJ50UedPp3UrVfV7NHcAWlcTqoxMA1CVTGm8ThqA6iV3/rq9Mnth6KMRc8b3kR7teNRFlWzGeuGyclepTPkw9C7AC4ZmyZk8+q1K6rVdZ6w1rS0IgSktQD27N33+slKRPQUiFeVSlZQil31TKYVlde+LG9o1Q25n19hGCVStpo0N0Ix3H/9Y79Un6UnxgVeftEtNdG+BsjJbBFSr51oUGoC2lIerJ6EB6Or0eGNxNADVy/PkDzbKmsLy4MK52FUvh625cJnx8RZZsqMkGHS7lAR55gzuAlSvCvRacWtqWi8JotFBgHp2VxaNZpCs+lF8n8wVWbZQxOcLLHB+zhHy+AF/CFns3SfmykHZ6e4KwAWrUbGm1xaWyw0fbAzRO/PAjnL+gW2CTWBJSRXp0Fni0si5C8rMtiWoWM8GDg1A20rEtRPRALQgNQUFBTJ37lxZunSpGP+dmJgoOTk5cuSRR8rJJ58sKSmx3SW1c+dOmTRpUlQrzsrKkjlz5jQ65/bbb5effvoporFeffXViI6L9SAagLHKOXNeuIuhacd2l5E92jqzIGaNSaA1Fy6rC8rkxnmbQua9aFi2jOddgDHlgpPMEWhNTZuzAkZBwDwB6tk8y9aO5N+0TnzPPySyPfTud5/EyTUjbpBt6dnBKQaXbpO7T+otcb36tXZa7c5XtaYfXLBdPttYFMxHsr9aHl/0N+lYvq8uR/HxIkNHSfzYcSKDDpY4dgvWrn4bBqRqPdMA1L40WwyQBmCLRNEdsGTJEnn00UeltLTuHVn1R+jWrZtMnTo10H2P9hNLA/DQQw+VW265pdFUNACj1eeF3LVisxfukPnr6i56jJciG++AS4iPix6VMxwTaO2Fyx2fbJHvttfdBdjJ2BH49L6SlMCOwI4l1eMTt7amPc5H+C4ToJ7dkRD/T0vF9/iswOO+DT+LOx0odx/815Dfnv7Ds3J4yWaJv2KqxA0e6o4gXLIKVWt6R3GlXPH2evnlns9fPqduXSAXr30rvGy3XIm/8DqawC6pO6uWoWo90wC0qiLUGZcGoIm52rhxo9x6661SUVEhqampcsYZZ8iQIUOksrJSFixYIP/9738Ds3Xv3l1mzZoVOCaaT3V1tWzfvr3FU95880358ssvA8ddffXVcvTRRzc6p7YB2K9fP7n88subHTM3N7fFOVtzAHcAtkbP3nP3V9bIha+vlYoaf3Dicw7pLH88uLO9C2G2Vgu09sJl5c5SmfJR6N0QV47MkZP6Z7Z6bQyAQCwCra3pWObkHASsEqCerZKNfNzAnX/3TQ3b/DNG+X+HXirLO9Td6ddr/w55cPFDEvhxaEqqxN84iyZQPW5Va9poAs/5YIV81GV4MJpEX7U8tuheya7YG76gjPzTBI78D5uCR6pazzQAFSw2k5dMA9BE0BkzZsiKFSskISFBjP8eOHBgyOhvv/22vPTSS4HfO/vss+Wss84ycfZfhvL5fIGG3p49eyQtLU2efvrpsI8c1zYABw8eLMZ/O/mhAeikfnRzN9zpzrjp77kz+0vHNF6GHJ2k80ebceFyy0ebZPnOsmAwOW2S5PHxfbkb1Pn0enIFZtS0J+EI2pUC1LOzaTHe+ee7/apGj/3Wrmpdm+5y4/BrQhY56ed/y3F539X9XvdeEn/bozwO+quIijVd2wQukBS5YuTNUh1fd717wvZFcsXq15ouVJrAzv4htnh2FevZIKEBaHFhKDA8DUCTkrR27VqZNm1aYLQTTjhBLrnkkkYjG825G264QbZt2yYZGRnyzDPPBN4PaOZn2bJlcvfddweGHDt2rFxxxRVhh6cBGL26qt/oo480/BnGxfBV722QLfsqgwcc2bOtTBnT3awpGMdGATPqeemOErn94y0hq77+qK5ybJ/2NkbCVAj8ImBGTWOJgFsEqGdnM+H/+QfxPTC9yUU8dOCf5YsudY/4ZlYUyVMLZ0mSv2434MD3pckzJW7Qwc4G45LZVavphk3g5/pPkPd61D1VFe+vkdnf3C9dywqbFqYJ7JLqM38ZqtVzrQANQPNrQbURaQCalLGXX35Z3njjjcBoM2fOlAEDBoQd2Xg891//+lfga9OnT5dDDjnEpBX8Mozx/sHax3+NJp9xh1+4Dw3A6NlV/UYffaThz1iRXyrT5oc+8nnH8T3l0JwMs6ZgHBsFzKhn4+J48gebZO3uuncj5bZPlkdO6yPxvADbxmwyVeAf2vHxgQ23jE9eXl7gjng+CKgqQD07m7maJ+8R+e6rsIvYlZIpl4+6WXxxCcGvn7P+fTlr8yeNjo8bNlriL7vZ2WBcMrtqNd2wCbwnuY1cPnKKVCYkB0XH5C+Ra1e+0qwwTWCXFKDJy1CtnmvDpwFociEoOBwNQJOSdtttt8nKlSsDj9u+8MILgceAw31Wr14daPwZH+MRYONRYLM+ZWVlgTsPjXcQGrv/PvbYY00+dkADMHp1Vb/RRx9p+DMe+HK7fL6pbhe0bm2TZM74vjR6zAK2eRyz6nnhlmKZ9fm2kNVPHdNdRvVkV2ibU+r56cyqac9DAuAKAerZuTT4y0rFd+05xnt1wi7ihX6nyds9jw1+LaWmUp7+eqa0ra57JUbwi/HxEv/wvyQuLd25gFwys2o1Ha4J/I++p8qbub8Jisb5ffLQtw9Jbml+k8o0gV1SgCYvQ7V6pgFocgEoPBwNQJOSN3HiRCkuLpZevXrJfffd1+So+/fvlwsvvDDw9VGjRsn1119v0gpEPvnkE3niiScC4/3+97+XP/7xj02OXdsAbN++vXTu3DnwWLLxLr62bdtK3759ZeTIkTJ69GjTH1EOtyDeAWhaCVg2UHFFjVzw+lqp9tVt/nHh4dly+oEdLZuTga0VMOvCxef3yzXvbZDN9R4NH9ApVe47uRfvPbI2hYzeQMCsmgYWATcIUM/OZcG/fbP4bpsUdgGlCSly8ZG3SFli3UZ+ze4Ia9ydfMccieva07mAXDKzSjXdVBO4ODFdLhs1JST/o3b9IDet+OUd72E/NIFdUoHmLkOleq4fOXcAmlsHKo5GA9CErBm7/J577rmBkQ4//HCZMmVKs6Oed955gbv0jMeEjceFzfrUbkJijGc8Clz7KFS48WsbgM3N3aNHj0CD0vj/aD+Fhc28D+PXwTIzMwN3ShoNwF27dkU7he3HG9/os7OzA/Pu3LnTU4+Xvfvzbnnq27ygeWJ8nPzvWQOkXYq577C0PakentDMev50/T55YEHoXYB3HJ8rQ7u18bAwodstYGZN27125kOgoQD17FxN+NavkpqZN4RdwHvdR8tzA04Pfs24A2zOonslp3x3kwtOuOUBie87yLmAXDKzSjVtNIGrbw3/HvVXep8or/Y+MUT14W8eaPYuwMQ7n5C4bjSBXVKKpixDpXquH7DxlGBTTyqaAsMgrhegAWhCioqKiuSiiy4KjHTUUUfJtdde2+yoF198sezbt0969uwpDzzwgAkrECkoKJArr7xSjHdyDRo0SO68885mxzWahcY3rqFDhwbuWjTu/DMeId6wYYN89NFHgTsCjY9xh+CsWbMCdwlG84nk0WbjbsVOnTpFMyzHOiTwl//9Rlbv3B+c/cQDsuXu8UMcWg3Tuk2g2ueTs55dKNv21b0LcESvDjLn7LoXpLttzawHAQQQQACBcAJVm9dL3uWNX9Hjkzi5asRk2ZGeFTxt5K4f5eYVLzYLmfPE/0lSbh+wFRKoWLVcdl5/QdgVlySkBu4CLEmqe6z7mPylct3Kl5uMMPvBFyRlENfNCpUAS0VAWwEagCak1mi+1e62O2bMGJk0KfxjA7VTXX755WLcIWfcgjt79mwTViDy+uuvyyuv/PISWqPBeOKJoT+ZajhJSUlJYCficJ/q6mp56qmn5LPPPgt8ecSIETJ58uSo1kkDMCouVx+8Kr9Yzv3HtyFrnH3WoTKqD81bVyfO5sW9/v02mfXhqpBZX/qfI2RQF94FaHMqmA4BBBBAoBUCvtL9su2Px4v4Qnf0XdphoNx56C8/8K/93LHsSRmyd33TsyUkSPdX/ivx6dwR34qU2H5qU03g2oU0vAsw3u+TR7+5X7qVFYRdK01g21PIhAgg0IQADUATSsMNdwBed911gbv2kpKS5Omnn26yuRdpuMZjuUbTr/ZOwCeffFI6doz8fW88AhyptPuPe+qbHfLuqj3BhXZOT5RnzxwgCfFx7l88K2xSwOxHFyprfDLx9TWyt7zuH0xj+7SXG47uThYQsEXA7Jq2ZdFMgkATAtSzs6VR/fgs8X+3IGQRdw+5QBZ3Hhz8vdz9O+ShxQ9Jc1dDccOPlsTLm381kLOR2je7SjVtvAOw+uo/NbkRTHFimlw6apqUJ6YEAY/b8a1MWvV/jUETEiTxkZfZCMa+UrNlJpXquT4IjwDbUh6unoQGoAnpcfodgGvXrpVp06YFIjFzY5G3335bXnrpl5faXn311XL00UeboNV4CDYBsYTVlEGNps5fX18r+yvrdsI7e0gn+cuhdY+/mDIRg9guYMXLi//9Y4H864e6n34bPeKnT+8nWRlJtsfHhN4TsKKmvadIxG4RoJ6dzYT/5x/E98D04CLyUjvKlSNvEn9cfPD3Ll31mpy8Y1GzC42fPFPiBh3sbDAumV21mg63C3B9yhf7nipv1NsROMFXI3O+uVeyy+t+aG4czy7ALilAk5ehWj3Xhs8mICYXgoLD0QA0KWlO7gL83HPPybx58wKR3HzzzTJs2DBTolqyZIncc889gbGMTU4mTJhgyrgNB6EBaAmrKYN+sbFI7l+wPWSspyb0lZy2yaaMzyDOCVhx4VJUUSMT31grlTV1u0WfcWBH+evhv2yewwcBKwWsqGkr18vYCDQnQD07Wx/GO7V9t18lsn1zYCEv9DtN3u55bHBR6dVl8szXMyWtprLphXbvJfG3PSpxcTwxYSCpVtMNm8ANE703KUMuGzVVKhPqrolP3va1XLrmjZBDaQI7+2fZqtlVq+daBxqAVlWEOuPSADQpV7fddpusXLlSUlJS5IUXXmhyd53Vq1fL9Om//ETxrLPOkkjeldfcEo339V166aVSXFwc2LDDeFTXrJ19aACGyqv6jb41JX7bfzfLsrzS4BAHd0mXu07Ibc2QnOsSAavq2dgteu7qvcEo0xLj5bkz+0lGcoJLImcZugpYVdO6ehGXuwWoZ+fz49+0Tnz3TZWKqhq56MhbQjZ9+O2WL+TCde80vciUVIm/cZbE9ernfCAuWYFqNd2wCRyO8fl+4+XdnscEv5Toq5YnFt4jnSqLfvk9msAuqT7zl6FaPdMANL8GVB2RBqBJmfvXv/4lb775ZmC0mTNnyoABA8KObBxjHGt8brnlFjn00ENbtYJvvvlG7r///sAY48aNkwsuCL9jVSyT1H8E+KqrrpJjjqn7Cy6W8Zo6hzsAzdQ0b6yd+6vkkrfWSd29XCLXHdVVjPe68VFfwKoLlx3FlXLFO+vFV69wzh+aJb8bzKYx6leNuyOwqqbdHTWr01WAenZHZv0/LZV5/5knT/Q7I2RBcxb9TbqWFYZfpNH8u2KqxA0e6o4gXLIKFWu6tgksFeVhFQuT28nlo6ZIdXxi8Ounbf1CJq59R4QmsEsqz5plqFjPhgR3AFpTDyqNSgPQpGzVfw/fCSecIJdcckmjkX0+n9xwww2BjTWMHXifeeYZSUys+wsjlqUYzT+jCWh87r33Xundu3cswzQ6p+EmII8//rh07tzZlLEbDkID0BLWVg/a8H1uGUnx8vff9ZeUxLr337R6EgZwTMDKC5e/fbFNvtpcHIytU1qiPHV6P0lK4DEoxxLugYmtrGkP8BGiywSoZ3ckxLgL7Nq3VsnGkrr1HF74s0z/8fnwCzTu+Prrtdz5F0ZH1Zo2msC+x2dJU03ApwacKfO6HxmMOLmmSp5c+qB0vPhqmsDu+GNsySpUrWcagJaUg1KD0gA0MV21jwEbj+DOmDFDBg4cGDJ6/Tvqwj3+u2LFisB5xufYY4+VK6+8stnV7d+/P9BoNB4Dzs3NDd4J2FJIy5cvlz59+jS5U7Ax3lNPPSWfffZZYCjjnYLGuwWt+tAAtEo29nGNC94r3tkg24vr3m1zcv9MuWJkTuyDcqarBKy8cFlVUCY3zdsUEu81R3aV4/py96irikCzxVhZ05pREY4CAtSzO5K0uqBMbmzw99ktP/5dhhWurFtgQoLEHTZK4n4zTmTgEN7510TqVK7pwJ2Azz8UfCdk/RB3pnaQK0fcJDXxda86+UPPeDl3TOi/A91R0azCLAFV65kGoFkVoO44NABNzN2GDRvk1ltvFWNX4NTUVDnzzDPloIMOCvz6q6++kvnz5wdm69q1a2BzjbS0tJDZo20AGht/GBuAGJ/zzjtPxo8fH1E0c+bMkUWLFsnw4cNl8ODB0q1bN0lPT5fy8nJZv369fPTRR4G7FI2P8V5B45Hm7GzrXuJPAzCitNl6ULgL3ntOypUDs9JtXQeTWSdg9YXL1A83yU+7yoIB9MpMkUfG9eYfRtal1PMjW13TngcGwFYB6tlW7iYnm71wh8xfty/49eyMJHnypByJ37dbpLxMJDVNJLOTxKVxfdRSxlSvaeOH47J6ufg+eU9k6UIRny8Y8mMHnC0f5wwP/jojOV6eO6O/pCXx1ExLdaHq11WtZxqAqlaceeumAWieZWCkxYsXy+zZs6WsrO4fvvWnMJp/U6dOlZycxndSRdsANN4huGbNmsCuWsbmH5mZmRFFYzQAa+/ua+4E467Ca6+9Vnr06BHRuLEeRAMwVjnrznv62zx5r95GDjltkuTJCX1p3lhHbvvIVl+4fLO1WGZ+9ssPEmo/dxzfUw7NybA9Vib0hoDVNe0NRaJ0iwD17HwmSqtq5K+vr5Xy6rqX2v7l0M5y9hBrXonjfMTWrkCnmvaXlYrsLQw2gbfEt5Or5u8IAZw4LFsmHNDRWlRGd0xA1XqmAehYybhmYhqAFqRi165dMnfuXDF20d29e3fgPX9Gw2/UqFFyyimnBHYKDveJpgG4Y8cOueaaawLDHHbYYTJt2rSII9m6dat8//33YuxIbPx3UVGRGI8TJyUlBe7469evX2CtI0aMCDQXrf7QALRaOLrxq33+wAVvUUVN8MQ/HdxJ/nxIVnQDcbSrBay+cPH5/TLp3Q2yrajuMfIjureR6WOt/YGCq9FZnKUCVte0pYtncAQaCFDPzpfEB2v2yBPf5AcXEh8n8uwZ/aRTepLzi1NwBbrX9MzPtso3W/cHM9M5/Zf3HycahcNHOwFV65kGoHalGHVANACjJuMEswVoAJot2rrxvt26X+76bGvIIMbdf13bJrduYM52lYAdFy7vrdojTy+u+8eTcQn8BLXkqjrQaTF21LROXsTibgHq2fn8XP/+Blm3uyK4kJE92si0Y/khVqyZ0b2mV+4slSkfbQ7hue6orjK2D+8/jrVm3HyeqvVMA9DNVWXP2mgA2uPMLM0I0AB0V3nc+8U2WVBvB9dBnVPl3pPN2V3aXZF6ezV2XLiUVflk4htrpaSq7j054w/oIBcN6+JtfKK3RMCOmrZk4QyKQBgB6tnZslhbWC43fLAxZBG3ju0hw7u3cXZhCs/uhZo2NkAzNkKr/fTOTJGHef+xwlXb9NJVrWcagFqWY1RB0QCMiouDrRCgAWiFamxjllTWyAWvr5XKmrr33Vx6RBcZN7BDbANylmsF7Lpwef67fHnr5z1Bh/SkeHnuzH6SnlS3W55rkViYUgJ21bRSKCxWWQHq2dnUPb4oT+at3RtchPE459On95MEHueMOTFeqOmFW4pl1ueh7z++7Tc95PBuNI5jLhyXnqhqPdMAdGlB2bgsGoA2YjNVeAEagO6pjPnr9srshXnBBSXEibzw+wHSLoVmjXuyZM5K7Lpwyd9fKZe9vV58dT1luXh4tvx2EC/GNieTjFIrYFdNI46AHQLUsx3K4ecw7l433oVcVl139/qfD+4sfzqEzT9akxUv1LTx/uMr39kg24vr3n98SJd0ufOE3NbQca4LBVStZxqALiwmm5dEA9BmcKZrLEAD0D1Vccv8zbI8vzS4oBE92sgtvO/GPQkycSV2Xrjc/dlWWVTvxdjd2ibJnPF9JT6OF2ObmFLPD2VnTXseGwDLBahny4mbnOCjtXvlsUV1Pww1bvoz7v7LymDzj9ZkxSs1/eHavTKnXv0YZg+c0lv6d0ptDR/nukxA1XqmAeiyQnJgOTQAHUBnylABGoDuqIiC0iq56I11Uu9GLbnpmG4yOredOxbIKkwVsPPC5cf8Epk+f0vI+nmXkqnpZDCRwK71OTk5AYu8vDzx+eru3gEIAdUEqGfnMjb5g42yprA8uIAjumfI9LE9nVuQJjN7paYra3xy8ZvrZG95TTBzR/dqKzce3V2TTBKGIaBqPdMApH5pAFIDjgvQAHQ8BYEFvLVytzy/ZGdwMRlJ8fLC7/tLckK8OxbIKkwVsPPCxe/3y7VzN8rGvXW7KR7WNUNmHMc/qExNqscHs7OmPU5N+DYIUM82IIeZYuOecrlmbujmH9OO7S4je7R1ZkEazeqlmv7P8kJ58ftdwexxF6lGhfxrKKrWMw1A/Wox2ohoAEYrxvGmC9AANJ00pgEb/sT7uL7t5Zoju8Y0Fie5X8DuC5eGj1QZQo/9to/0bJ/ifixWqISA3TWtBAqLVFaAenYmdc8uzpd3VtVtXNUxLVGePYPNP8zIhpdqen9FjUx8c62UV9c9V/O7wR3l/KHZZlAyhgsEVK1nGoAuKB6Hl0AD0OEEML0IDUDnq8DYqOGSt9aHLIRdy5zPi5UrsPvCpaLaJxPfXCfFFXWPxJw6IFMuG/HLI5t8EGitgN013dr1cj4CzQlQz/bXR1WNXy58Y60U1ft76g8HdZJzD8uyfzEazui1mn7q2zyZu7puJ+mM5Hh5/sz+kprIkzU6lLeq9UwDUIfqa10MNABb58fZJgjQADQBsZVD/GdFoby4rO5RhbYpCfLC7/pLovHMAh8tBZy4cDFqzKi12o9xEfz33/WT9CR2mdayyGwOyomatjlEpvOQAPVsf7IXbimWWZ9vC5n4yQl9pWvbZPsXo+GMXqvpbUWVcsU7oT9cv+yILnLqwA4aZtd7IalazzQAvVerDSOmAUgNOC5AA9DxFMi1czfIhj1172c7uX+mXDGSO7Ocz4x1K3DiwmVXSZVc8tY68dXbaYaLYety7LWRnahprxkTr30C1LN91rUzNdyx/sCsNLnnpF72L0TTGb1Y03d+skUWby8JZrRHu2SZ/ds+Eh/HD9hVL3NV65kGoOqV1/r10wBsvSEjtFKABmArAVt5+taiCrnynQ0ho9x5fE85JCejlSNzupsFnLpwafgPrF7tU+SR03pLHBfDbi4XJdbmVE0rgcMilROgnu1N2b7yavnr62ulpt4PqK4cmSMn9c+0dyEaz+bFml62o0Ru+3hLSFZ5xY4eRa5qPdMA1KP+WhMFDcDW6HGuKQI0AE1hjHmQV34skJd/KAie3yE1QZ47s78k8PhvzKYqnOjUhcvSHSVye4OL4btPzJWDstNVYGONLhZwqqZdTMLSFBagnu1N3js/75Znv9sZnDQ5IS7wKpSMZF5RYVYmvFjTfr9frn5vg2zeVxlkHNo1Q24/rqdZrIzjkICq9UwD0KGCcdG0NABdlAyvLoUGoHOZNy5MJr27QbYW1V2YnDaog1wyvItzi2JmWwScunDx+f2Bd+LsKK4KxjmmVzu54ehutsTNJPoKOFXT+ooSmZMC1LO9+tfN3SDr670KZUzvdnLDaP5eMjMLXq3pD9fulTmL8kIoH/ttH+nZPsVMXsayWUDVeqYBaHOhuHASYmzeAAAgAElEQVQ6GoAuTIrXlkQD0LmMb9xTLtfM3RiygHtOypUDs7gby7ms2DOzkxcub63cLc8vqbvTwtgQ77kz+ktmWqI9wTOLlgJO1rSWoATlqAD1bB//hj3lcm2Da6EZx/WUw7ryKhQzs+DVmq6o9snEN9dJcb3dpU8ZkCmXj+Bd22bWl91jqVrPNADtrhT3zUcD0H058dyKaAA6l/KGu7J2Tk+UZ87ox8uJnUuJbTM7eeFiXARf+MZaqaz3sqVzD+0sfxjS2bb4mUg/ASdrWj9NInJagHq2LwPPfZcvb/+8Jzhhp7RfroV4FYq5OfByTTe83jYeMX/+zP7SNoVHzM2tMvtGU7WeaQDaVyNunYkGoFsz46F10QB0JtnG479XvLNBthfXPf57xoEd5a+HZzuzIGa1VcDpC5dHv94h/12/Lxiz0Xx++nT+wWVrEWg2mdM1rRkn4TgsQD3bk4Bqnz/wA6l95TXBCc86qJOcd1iWPQvw0CxerunC0iq5+M11IZvMnD80S343uJOHKkCvUFWtZxqAetVhLNHQAIxFjXNMFaABaCpnxINt2lsReDFx/c99J/eSgZ3TIh6DA9UVcPrCZU1hmUz+YFMI4LRju8vIHm3VRWXljgo4XdOOBs/k2glQz/ak9JutxTLzs20hk80Z30d6tOP9bGZnwOs1/cCC7fL5xqIga5c2SfLE+L7caWp2odk0nqr1TAPQpgJx8TQ0AF2cHK8sjQagM5l+5YcCefnHut1/jTuwnj2jn8TFxTmzIGa1VcANFy43vL9R1u4uD8bNzni2loB2k7mhprVDJSDHBKhne+jv+XyrfL1lf3CyQZ1T5d6Te9szucdm8XpN/7yrTG7+MPQHn7eO7SHDu7fxWCXoEa6q9UwDUI/6a00UNABbo8e5pgjQADSFMepBjLv/jLsAaz/jB3WQi9j9N2pHVU9ww4XL/HV7ZfbC0J3xnprQV3LaJqvKyrodFHBDTTsYPlNrJkA9/3/2zgM6qmp74196QkgjAVIhFRQEpYgURQRUREGa/n1PEQtir/gQUERs+LA9K1ZEwfKUJiiKBbEgooDSpCSEQCAQkgAJCemT/7rD485MmJAp9965597vrvXWw5lz9t7nt79JTvacon5Cy6vrMW5RDqRtwCef23u1xZCsGPWdm9CD2TUtHb1z/1d52G1323SPxHA8elGKCdUg/pBF1TMLgOJrz9sRsADoLUH295oAC4BeI3TbQEFZDW5fluvQ7+mL26FzG97+6zZMQTvoYeIi3Ywnnb1UXmORKfLsJUEFpYOw9aBpHWBgCAYhQD2rn8hvco7itbW2L6EC/f3w/qhMtOTFDKrAp6aBxpqT9ty8wS8+VdGb2kZF1TMLgGorQ//2WQDUf44MHyELgNqneMHWEkg3kp18okMDrLeR8cY77XPhK496mbi8ta4QX+6w3b4YExaId3n7oq9kIbRfvWhaaIgMXjcEqGf1U/Hwd3uxpfC47Kh3SktM6Z+svmOTeqCmgSrpi89FOaiotX3xOfLMVriBF/AJ96kQVc8sAAonNcUDZgFQcaQ06C4BFgDdJeZ9+8Znrw3JisbtveK9N0wLwhDQy8Ql70gV7l2e58Btav8knJfCy0CEEZNOAtWLpnWCg2EIToB6VjeBxcdrMX7xLtg2/wIPXZCIvu0i1XVsYuvU9Inkv7O+EMu22774jAj2x7sjMxES6G9idYg3dFH1zAKgeFpTOmIWAJUmSntuE2AB0G1kXnU4VF6LWz7f5WBjxsAUnJMQ7pVddhaLgJ4mLpNW5GFHse0ykJ6J4ZjGM3HEEpQOotWTpnWAgyEIToB6VjeBi/8uwdw/bTshWgT54/3RmQgOYBFGLfLU9Amy+8tqcEejY3ju7ZOAgelRaqGnXRUIiKpnFgBVEINgJlkAFCxhRgyXBUBts/r5tsOYs+GQ7FT65nHu6CxIZ9/wMQ8BPU1cGl8GIknx7REZiGsRZJ6EcKReE9CTpr0eDA2YngD1rK4E7l++G7l2lzEMSo/CPX0S1HVqcuvUtE0A07/fi78O2rafZ8WG4rkhvH1apI+IqHpmAVAklakTKwuA6nClVTcIsADoBiwFmk7+Zg+2FVXKljjpVQCqgCb0NHGRzsS5YWEOKutsZ+L8o2scrukSJyBZhuwrAnrStK8Y0K9xCFDP6uUyv7Qad32x28HB44NScHY8d0KoRx2gpm10f8s/hpk/7XfA/dyQ9siKDVMzBbStIAFR9cwCoIIiENQUC4CCJs5IYbMAqF02D1fWWQ8ftj/zZtqAZPRMaqldEPSkCwJ6m7i8vvYgVuQcldm0bhGIN6/M4MU0ulCLGEHoTdNiUGOUeiVAPauXmQ83FuHTLSWyA14+pR5re8vUtI1GvaUBEz7fheLjdfKL0hZgaSswHzEIiKpnFgDF0JeaUbIAqCZd2naJAAuALmFSpNHX2Ucw+/dC2ZZ05s0HozMRxDNvFOErkhG9TVxySqow8WvHy0CmX5SM7oksToukK1/GqjdN+5IFfYtPgHpWJ4cNDQ24bWkuDpbXyg6GnxGDm3u0VcchrcoEqGlHMXy6pRgfbiyWXwwO8MN7IzPRMiSAqhGAgKh6ZgFQAHGpHCILgCoDpvnmCbAA2DwjpVo8/kM+1hdUyOb6t4/ExPMTlTJPOwIR0OPEpfGZTH1SWmJy/2SBqDJUXxLQo6Z9yYO+xSZAPauTvx3FlZi0Yo+DcW69VId1Y6vUtCORo5V1uHlJDuxOP8GEnm1xeccYbRJCL14REFXPLAB6lXZDdGYB0BBpFHsQLABqk7/KWgvGLshGrcW2AfjBfom4IDVSmwDoRVcE9Dhx+WrnEbzxh22FaoAfMGdkJqLDAnXFjsHok4AeNa1PUoxKBALUszpZeuuPg/hyp+24icSIYLw+LA1+frwITR3iNqvU9KmEZ/28H6v3HpPfaB8dgpeGplKPaotRAfui6pkFQAWSL7gJFgAFT6ARwmcBUJssrtl7DM/8bDtwWCquzBuThfBgbjXQJgP68qLHiUtFTT1uXJSD6npbkfr6c1pjdOdYfcFjNLokoEdN6xIUgxKCAPWsfJqkc9ek3zGl1fWycV44pTznpixS06eS+etABaavzHd4Y9al7dExjpeBaKdMzzyJqmcWAD3Lt5F6sQBopGwKOhYWALVJ3EtrCrAyt0x2dnZ8Czw+qJ02zulFdwT0OnF5ac0BrMwtlXklRARh9rB0fhuuOwXpLyC9alp/pBiRCASoZ+WztKGgHDN+2Odg+I3h6UiICFbeGS2eQoCaPlUUloYG3N7oTMpB6VG4h5eB6P4TJKqeWQDUvbRUD5AFQNUR00FzBFgAbI6Q9+9L33qPW5SDY3bfet/Ssw2u6NjKe+O0ICQBvU5cthUdx+Rv9jowfWJQCrrGhwvJmUFrR0CvmtaOAD0ZiQD1rHw2G3/BlBUbiueGpCrviBadEqCmnQtjwdYSzPurSH5Tugxk7qhM7tDR+edIVD2zAKhzYWkQHguAGkCmi9MTYAFQfYVsPXQcU791LKq8fWUG2rQMUt85PeiSgF4nLtINjXd/uRv5pTUytwGpkbi/Hy+r0aWQdBSUXjWtI0QMRSAC1LOyyaqtt2DcwhxU1Fpkwzd1b4Mrz+QXocqSbtoaNe2czRHpMpDFObA7/QS3ndsWl3XgZSBaadMTP6LqmQVAT7JtrD4sABorn0KOhgVA9dP23oZDWLLtsOwoLSYE/xmapr5jetAtAT1PXD7fdhhzNhyS2Unfhr8/OhMtgnhepW4FpYPA9KxpHeBhCIIRoJ6VTdgf+8rx5I+O23/fHZmBuBb8IlRZ0iwAesLzmZ/2YU1+ucM8/cXLeBmIJyy16iPqz2gWALVSiH79sACo39yYJjIWANVPtXS+SMEx24qqq8+KxbVnt1bfMT3oloCeJy5Hq+pw0yLHb8PvPC8el2RG65YnA/M9AT1r2vd0GIFoBKhnZTP24q8FWLXbdg5yp9ZhmHlJe2Wd0NppCVDTTeNxdj7lc0PaIyuWl4Ho9WMlqp5ZANSrorSLiwVA7VjTUxMEWABUVxr7Sqtx5xe7HZxwUqEucxGs633i8vSP+7B2n+3b8DNbh+EZ/rEmgrR8FqPeNe0zMHQsJAHqWbm01fxv++9xu+2/PAdZOb6uWqKmmyYlXQZy6+e7cKiiTm50cUYU7uqd4CpettOYgKh6ZgFQY6Ho0B0LgDpMitlCYgFQ3Ywv2lqC9+0OF24VFog5IzN4q6q62HVvXe8Tl7X5x/D0T/sdOL4+LB1JkbytUffi8lGAete0j7DQraAEqGflEtf494kfAGn7byy3/yoH2QVL1PTpIX26pRgfbiyWG4UG+uG9UTz+xAVp+aSJqHpmAdAnctGVUxYAdZUOcwbDAqC6eZ/8zR5sK6qUnQzJisbtveLVdUrruieg94lLnaXBug241O7m6jGdYzH2HG5d1724fBSg3jXtIyx0KygB6lm5xD2/ugA/5dm2/3ZuE4anL+b2X+UIu2aJmj49p5LjtRi/ZBcsDbZ2d/SKx6VZPP7ENYVp20pUPbMAqK1O9OiNBUA9ZsVkMbEAqF7CS6vqrLfe2c0l8OiAZPRIaqmeU1oWgoAIE5d31xdi6fYjMs/YsEC8PSIDAf7S+g0+JOBIQARNM2ck4CoB6tlVUqdvV11nwfULc1BVZ7v999Zz22Iob1hVBrAbVqjp5mE1Pv6kY1woZl2a2nxHttCcgKh6ZgFQc6noziELgLpLifkCYgFQvZx/t+soXvntoOwgNNAf88dkIijAXz2ntCwEAREmLnlHqnDv8jwHno8NTEG3hHAhGDNIbQmIoGltidCbyASoZ2Wytyb/GJ6xO05C+v5ozshMxIQFKuOAVlwmQE03j+r3fcfw1I+Ox5+8ekUaUqJCmu/MFpoSEFXPLABqKhNdOmMBUJdpMVdQLACql+/G3yT2SYnA5P5J6jmkZWEIiDJxuX/5buQeqZa5XtA+Ag+eTw0LIzQNAxVF0xoioSuBCVDPyiTv2V/245c9x2RjXdq2wJOD2yljnFbcIkBNN4+rXjr+ZHEOjlbVy41HntkKN3Rv03xnttCUgKh6ZgFQU5no0hkLgLpMi7mCYgFQnXzX1ltw3YJsVNXZNgDf2ycBA9Oj1HFIq0IREGXi8sWOw3h73SGZbZC/H+aOzkTL4ACheDNY9QmIomn1SdCDEQhQz95nUdr+O3ZBNqrrbfOg23u1xZCsGO+N04LbBKhp15C9t+EQlmw7LDeOCQ3AuyMzefyJa/g0ayWqnlkA1EwiunXEAqBuU2OewFgAVCfXfx2owPSV+bJx6dS090dnIiqU217UIS6WVVEmLmVVdbhxcQ7sjm8C/4ATS2taRSuKprXiQT9iE6Cevc/f6r1lmPVzgWxI2v47dxTnQd6T9cwCNe0at72l1bj7i90OjR+5MBnnJvP8btcIatNKVD2zAKiNPvTshQVAPWfHJLGxAKhOouesL8TndhcoZMWG4rkhPEhYHdriWRVp4iKd3ySd43Ty6RAbimepZfFEp3LEImlaZRQ0bwAC1LP3Sfz3z/vx617b746z41vg8UHc/us9Wc8sUNOuc/vX13nYWVIld+id0hJT+ie7boAtVScgqp5ZAFRdGrp3wAKg7lNk/ABZAFQnx3cuy8W+shrZ+D+6xOGarnHqOKNV4QiINHH5Y185nvxxnwNjHootnORUD1gkTasOgw6EJ0A9e5dC6dZfaftvjd323zvPi8clmdHeGWZvjwlQ066j+zr7CGb/Xih3CPAD3uPqVdcBatBSVD2zAKiBOHTuggVAnSfIDOGxAKh8lgvLazDh81wHw88NaY+s2DDlndGikAREmrg4OxR7VKdWGNeNh2ILKT6VghZJ0yohoFkDEaCevUvmmr3H8MzPtttUpe2/74/KRCSPQfEOrBe9qWnX4VXU1OOGRTkOBeybe7TB8DNauW6ELVUlIKqeWQBUVRZCGGcBUIg0GTtIFgCVz+/ynUfw5h+2bw6jQgKsFyf4+0knAfIhAUC0icsph2KHBeLdERk8FJtilgmIpmmmjgROR4B69k4fz68uwE95ZbKRrvEt8AS3/3oH1cve1LR7AF9YXYAf7TTcPjoELw1NhR/n8u6BVKm1qHpmAVAlQQhklgVAgZJl1FBZAFQ+s0/8kI91BRWy4QFpkbi/b6LyjmhRWAKiTVz2Hq3G3V86Hoo9Y2AKzkkIFzYHDFxZAqJpWtnR05rRCFDPnme0tt6C6xfm4HitRTZy67ltMbQDb//1nKr3Palp9xhuPFiBR7+3XeYn9X5+SCoyY0PdM8TWqhAQVc8sAKoiB6GMsgAoVLqMGSwLgMrmtabegms/czz3ZmK/RPRPjVTWEa0JTUDEicsDX+3GrsPVMveL0iJxHwvbQutQyeBF1LSS46ctYxGgnj3P5/r95Xh8le3cWGnvw5xRmWgVFui5Ufb0mgA17R5CS0MDbv18Fw5V1Mkdh3aIxq3nxrtniK1VISCqnlkAVEUOQhllAVCodBkzWBYAlc3rhoJyzPjBNvG1nnszOguRIQHKOqI1oQmIOHH5fNthzNlwSOYeGuiP90dnQvp/PiQgoqaZNRJoigD17Lk2XvntAL7bVSobOCMuDP++tL3nBtlTEQLUtPsYP95UhE82l8gdWwb7Wy8DCQ7gvMd9msr2EFXPLAAqqwMRrbEAKGLWDBYzC4DKJvTtdYX4YscRTnyVxWo4ayJOXA5X1uHmxTmwNNjSwdWthpOmxwMSUdMeD5YdDU+AevYsxdKlUdLlCWXV9bKBm7q3wZVn8vIEz4gq14uadp+ls0v9HuyXiAu4q8d9mAr3EFXPLAAqLAQBzbEAKGDSjBYyC4DKZvT2pbtQcKxWNnpt1zhc3SVOWSe0JjwBUScu01fm468DtvMteySG49GLUoTPBwfgPQFRNe39yGnBiASoZ8+yurmwAo9853hu2ltXpqNty2DPDLKXYgSoac9QPvLdXmwuPC537pYQjscGct7jGU3leomqZxYAldOAqJZYABQ1cwaKmwVA5ZJ54FgNblua62DwhctSkdGKBwYrR9kYlkSduKzaXYoXfz0gJ0Ha4v7eyExE82wnYwjTi1GIqmkvhsyuBiZAPXuW3Lf+OIgvdx6VO6fHhODFoWmeGWMvRQlQ057hdDbveXckz7T0jKZyvUTVMwuAymlAVEssAIqaOQPFzQKgcsn8YsdhvL3OdkZaTGiA9eBrfz/pCGw+JGAjIOrEpbLWgnELs1Fdb9sHPL5HGww7g9u7zK5vUTVt9rxx/M4JUM/uK0O6NGH84l0oqbRdmnDt2XG4+izugnCfpvI9qGnPmFbXnbjVuqrOdqs1t7V7xlLJXqLqmQVAJVUgpi0WAMXMm6GiZgFQuXTOWJmPDXbbIwemR+HePgnKOaAlwxAQdeIiJeCF1QX4Ma9MzkVWbCieG5JqmNxwIJ4REFnTno2YvYxMgHp2P7s7iisxacUeh46vXpGGlKgQ942xh+IEqGnPkb60pgArc23znrSYEPyHK1s9B6pAT1H1zAKgAskX3AQLgIIn0AjhswCoTBalbwiv/SwbtXY3JEw6PxH92kcq44BWDEVA1ImLlITGN11Lr702LA3Jkfwjz1AidXMwImvazaGyuQkIUM/uJ3nuhkNYvO2w3DE5MhivDUt33xB7qEKAmvYcq3T2sXQGsv3z8uVpaB/NeY/nVL3rKaqeWQD0Lu9G6M0CoBGyKPgYWABUJoHr9pfjiVX7ZGPS2WjzxmShZXCAMg5oxVAERJ24SEmQbnm8aXEOjlbZbnm8+qxYXHt2a0PliINxj4DImnZvpGxtBgLUs3tZbmhosJ6BfLDcdgnaVZ1jcd05/L3gHkn1WlPTnrOV5j3jl+zCYbvt7aM6tcK4bm08N8qeXhEQVc8sAHqVdkN0ZgHQEGkUexAsACqTv3fWFWLZjiOysU6twzDzkvbKGKcVwxEQdeJyMhHvrC/Esu02vbcJD4J006Mfz7s0nFZdHZDomnZ1nGxnDgLUs3t5zjtShXuX5zl04iVo7jFUuzU17R3hxitcY1sE4p0RGTzn2zusHvcWVc8sAHqccsN0ZAHQMKkUdyAsACqTu7u+yEV+aY1s7Nqucbi6Cw++Voau8ayIOnE5mYmckipM/Nrxj71nLm6HM9u0MF6yOCKXCIiuaZcGyUamIUA9u5fqjzYV4b+bS+RO/FLIPX5atKamvaPsrMj9xKAUdI0P984we3tEQFQ9swDoUboN1YkFQEOlU8zBsADofd6Kj9fi5sW7HAzNurQ9OsaFeW+cFgxJQNSJy8lkSNu97vpiN/aV2Yrel2ZG447z4g2ZLw6qeQKia7r5EbKFmQhQz+5l+54vdmNPabXc6cozYnBTj7buGWFrVQlQ097jvffL3cg7atP5oPQo3MPL/rwH64EFUfXMAqAHyTZYFxYADZZQEYfDAqD3Wft+11G8/NtB2VB4sD/mjc5CgHQQIB8ScEJA1ImL/VA+21KM+RuL5ZdaBvtj7qhMBAX4M+cmJGAETZswbRxyEwSoZ9elsb+sBncsy3XowBXhrvPTqiU17T3pxX+XYO6fRbKhsEB/vD86EyGBnPd4T9c9C6LqmQVA9/JsxNYsABoxq4KNiQVA7xP2/C8F+GlPmWyoT0oEJvdP8t4wLRiWgKgTF/uEFJbXYMLnjn/0TemfhN4pEYbNGwfWNAEjaJr5JYGTBKhn17WwcGsJPvjLVhSJCQ3AnFGZPBvNdYSatKSmvcdccrzWehmIpcFma2K/RPRPjfTeOC24RUBUPbMA6FaaDdmYBUBDplWsQbEA6F2+LA0NuGFhDkqrbTei3t6rLYZkxXhnmL0NTUDUiUvjpEz5Zg/+LqqUXz6/fQT+dT6L34YWbxODM4qmzZg7jvlUAtSz66qYtGIPdhTbfg8MyYrG7b14HITrBLVpSU0rw3n693vx18HjsrEeieF49KIUZYzTissERNUzC4Aup9iwDVkAVDi1xcXFWL58Of78809I/w4MDER8fDz69OmDSy+9FCEhIR57XLVqFV5//XWX+t9xxx0YMGDAadtWV1djxYoVWLNmDQ4ePIi6ujrExcWhW7duGDp0qPXfWjwsAHpHOfdwFe7/yvEyBOk21LYtg70zzN6GJiDqxKVxUr7aeQRv/FEovxwc4IcPRmchLIjbYQwtYCeDM4qmzZY3jtc5AerZNWUcrazDDYtyYLcgCtMvSkb3xJauGWArzQhQ08qg/iG3FP9Zc0A2Jp32896oTESHBirjgFZcIiCqnlkAdCm9hm7EAqCC6d2wYQNefvllHD9u+1bG3nxiYiKmTJkC6YPnyaNkAVAq+D3zzDMoKChwGkqLFi1wzz33oHv37p6E6lYfFgDdwnVK40VbS/C+3daX+JZBePPKDO+MsrfhCYg6cWmcmNKqE3/82W+HeaBvAi5MizJ8DjlARwJG0TTzSgISAerZNR18m3MUr661nYEsnYk2bwzPgnWNnratqGlleFfWWjBuYTaq621l7/E92mDYGa2UcUArLhEQVc8sALqUXkM3YgFQofTm5eVh2rRpkFbVhYaGYsSIETjrrLNQU1OD1atX4/vvv7d6SkpKwsyZM61t3H3sC4APP/wwYmKa3uIZGxuL8HDn18JXVVVZC5H79++3hjBo0CD069cPwcHB2LJlC5YsWQKpjbRa8cknn0T79u3dDdWt9iwAuoXrlMbTvt+LTXZbAS7LisZt3PriHVQT9BZ14uIsNTNW5mPDgQr5rXOTWuKRAckmyCKHaE/ASJpmZkmAenZNA0+u2oc/9pfLjfu1i8CkC3gMhGv0tG1FTSvH+4XVBfgxz3b2d2arUDx/WapyDmipWQKi6pkFwGZTa/gGLAAqlOIZM2Zg69atCAgIgPTvDh06OFheunQp5s+fb33t6quvxpgxY9z2bF8AfPXVV9GmTRu3bUgdPv30UyxYsMDa97rrrsPw4cMd7OzcuRPTp0+HVJjr3Lmz9d9qPiwAek63us6Caz/LRq3d8ifp8g/pEhA+JHA6AqJOXJyNaWVuKV6y2w4jXYY3d1QWIkICKAITETCSpk2UNg61CQLUc/PSqKqzYOyCbNTYrYS6v28CBnAFePPwfNCCmlYO+oaCcsz4YZ+DwdeuSENylOdHTSkXnTksiapnFgDNoc/TjZIFQAU0kJOTg6lTp1otDR48GBMmTDjFqsViwcSJE62r7qSVeW+//bb1fEB3HiUKgNI5f7fccgsqKiqsqxGff/556zaTxs9bb72F7777zvqytFU4PT3dnVDdassCoFu4HBr/eaACj63Ml1+TzgGZNyYLLYNZ+PCcqjl6ijpxcZadipp6jFuY41AIv/O8eFySGW2OZHKUVgJG0jRTSgLUc/Ma+C3/GGb+dGI3i/VngB+sZ8Dyy5/m2fmiBTWtHPV6SwNuXpyDI1W2CwD/r0ss/tm1tXJOaOm0BETVMwuAFDYLgApo4OOPP8bixYutlp566ilkZWU5tSptrf3oo4+s7z3yyCPo2rWrW96VKABu2rTJuq1Xev75z39atyo7e6RVgFKM0jNy5Ej84x//cCtWdxqzAOgOLce27204hCXbDssvdowLw6xL1d2y7Xm07KknAqJOXJpiOPOnffgt37YNrGt8CzwxqJ2ekDMWlQkYTdMq46J5nROgnptPkLTyW1oBfvLp0rYFnhzMn/vNk/NNC2paWe7vrCvEsh1HZKOJEUF4fVg6/Pz8lHVEa04JiKpnFgApaBYAFdCAtEV227Zt1jPz5s6da90G3FxRTdoCLG0FdudRogD43//+FwsXLrS6lQqBjbcqn4xHKsrdcMMN1jMNzzzzTOu2ZrUeFgA9J3vvl7uRd7RaNsBv/zxnabaeok5cmsrT6j1lmPWL7VIjaSXInJGZiAlzb6W12XRgpPEaTdNGyg3H4j4B6vn0zKQVUNIFUGXVthVQvAjBfZ1p2cgqvdUAACAASURBVIOaVpb2juJKTFqxx8HoC5elIqOV++fMKxuZOayJqmcWAM2hz9ONkgVABTRw880349ixY9bLMp599tkmLZaXl+Omm26yvt+7d2888MADbnm3LwB26tTJup1Ysind2BsfH48uXbrgkksuQatWTd8C9cILL+C3336z+n3vvfeavChEev9f//oX9uzZg8jISLzzzjtuxepOYxYA3aFla3uk8sTtp/bPMxe3w5ltWnhmkL1MRUDUiUtTSZLOw7x+YQ6kM6FOPvxj0FSS5hZgc6Xb8KM12s9opRO29dBxTP12r4PZt65MR9uWwUq7oj2FCFDTCoH8n5mGhgbctjQXB8trZcMjzmyFG7t7dka8stEZ35qoemYB0PjabG6ELAA2R6iZ96VbfqWLNKSne/fumDx58ml7jB071rqqTtomLG0XduexLwA21S8oKMi6cu/iiy922kS6PTg7O9u6WnHevHmndS+d/bdhwwZrmw8//BCSbVefkpKSZptGR0dbV0tKBcCioqJm2/u6gfSD/uTFK4cOHYJ0rqMvnx9yj0K6BezkExbkj4+u7ohAaekTHxJohoDe9KxEwp7/ZT9W7bZtBzujdRieHZKmhGnaEICAETUtAHaGqBIB6vn0YN9dfxBL/rYdgZIaE4JXrshQKRs0qwQBaloJio42PvjzED7bUiy/GNciEO+OyoI/twErD7uRRVH13Lp16yZ3K6oOjQ50QYAFQC/TUFZWhvHjx1ut9O3bF/fdd99pLUoXcJSWliIlJcV6AYc7j1QAlLbv9urVy7p1NzY21tpdKkZJq/rWrl0L6dsg6ZEuIpEuJGn8SKsO9+3bh6ioKOtFJKd7XnzxRaxZs8ba5N1330VEhOs3y7qyvXn27NnyGNzhwLYnCEz/8m8s//ugjKN/ZhyeH+neuZJkSQJGIvDLrmLcv2iTw5A+n9AHiVFhRhomx0ICJEACpiYgzXVHv/Mb8o9Wyhxu7pOK285X78I6UwPn4HVLIKeoHP+Y+7tDfG/9ozu6JfMSNN0mjYGRgI8JsADoZQKKi4txxx13WK30798fd91112kt3n777ZBWx0nLb1955RW3vB8/fhxhYWFNHu66fv16PPfcc9YVddIKP8m+tMrO/rn77rtRWFhoLbxJBbjTPa+++ip++uknaxN3i3UsALqVWrcbS5PfobNXo7iiRu77r0EdcHX3ZLdtsQMJGIVAbb0FQ17/BWVVdfKQ7uyfjhvOSzXKEDkOEiABEjA9gd0lFbh6zloHDh+M7Ykz4yNNz4YAzEfg/95bi9ziCnngY85JwkMXdzQfCI6YBEjAJQIsALqEqelGWq4AdCXURYsW4ZNPPrE2veaaazBq1CiHblqtAOQWYFey5Xmb/NJq3LF0l4OB2cMzkBwV4rlR9jQVAVG3LjSXpFfXFGBFzlG5WVpMCF7mtrDmsBnifaNq2hDJ4SDcJkA9N41M2vIobX08+cS2CMR7o7J4+6nbKtO2AzWtDu//bi7C/L9sRylFhQTg/TEdEMAjgdQB/j+rouqZW4BVlYUQxlkA9DJNWp4B6Eqo0vZiafuvtEKsa9eueOSRRxy6aXUGoCuxnmzDS0DcoXWi7Vc7j+CNPwrljq3CAjFnZAYnv+6jNG0PUQ8vbi5hmw5WYNr3+Q7NXr0iDSksjjeHTvj3japp4RPDAXhEgHpuGtukFXnYUVwlN7gsKxq39Yr3iDM7aUeAmlaH9YFjNdbLQOyf6Rclo3tiS3Uc0qqVgKh65iUgFDALgApoQKtbgF0NVTqTUFqZmJycDOnWX/tHOndQOitQengLsKtET7TT0w/6f/+8H7/uPSYPYEBqJO7vl+jegNja1AT0pGclE1FvacDNS3ZBuiX75HP1WbG49uzWSrqhLR0SMKqmdYiaIWlAgHp2Dln62X7johycOPH6xMNihwaCVMAFNa0AxCZMPPh1HrJLbEXxgemRuLcP/y5Qj7i+/i50Z5wsALpDy5htWQBUIK/Tp0/Htm3brOfuzZ07t8mbdXbu3CmvyBszZgxcOSfPk/BOFiSdFQD/+9//Wi8SkZ4nn3zSepmIs0dalSfdJizdWHzmmWdixowZnoTiUh+uAHQJk9zI0tCAcQtzUFZdL792d+94DM7ggb/ukTR3ayNPxN9ZV4hlO47ICU6KDMZrV6RxhazBJW9kTRs8dRyeEwLUs3NZfJNzFK+ttV2AFhboj3ljMhEU4E8d6ZwANa1egj7fdhhzNti2xbcI8sf7ozMRzM+FatBF1TMLgKpJQhjDLAAqkKqPPvoIS5YssVp66qmnkJWV5dSq1EZqKz3SVtyzzz5bAe+OJuy3AHfp0gXTpk1zaLBx40ZrjNLzz3/+EyNGjHAag32xUmojtVXrYQHQPbJ5R6pw7/I8h05vXZmOti2D3TPE1qYmIOrExZWk7SiuxKQVexyavjQ0Fakxoa50ZxtBCRhZ04KmhGF7QYB6dg7viR/ysa7AduFBv3YRmHRBkhek2VUrAtS0eqRLjtfi5sW7HFbGTu6fhD4pEeo5NbllUfXMAqDJhQuABUAFNJCTk4OpU6daLQ0ePNh6Bl/jx2KxYOLEidi/fz/Cw8Px9ttvIzAwUAHvjiak1X3SKj/p+b//+z+MHj3aoUFdXR2kLcLSjcJJSUnWLcJ+fn6nxPHWW2/hu+++s77+9NNPIzMzU/FYTxpkAdA9tEu3H8a7623f8rVtGYS3rsxwzwhbm56AqBMXVxInnYE6fskuFB/nNmBXeBmljZE1bZQccRyuE6CeT2VVXWfBdQuyUVNv2wD8QN8EXJgW5TpYtvQZAWpaXfQPf7cXWwqPy05YHFeXt6h6ZgFQXV2IYJ0FQIWydHIbcEBAgHW7bOOttUuXLsX8+fOt3pxt/926dau8zfbCCy/EnXfe6RDZoUOHUFFRgbS0tCYjXr9+PaQz/qQiX1BQEF555RW0atXqlPb224Cvu+46DB8+3KGNtPpPGo9UmOvUqRMee+wxhSg5N8MCoHt4n/pxH37fVy53GpwRhbt7J7hnhK1NT0DUiYuriXt3fSGWbuc2YFd5GaGd0TVthBxxDK4ToJ5PZfXHvnI8+eM++Q3pktMPRmchIiTAdbBs6TMC1LS66L/OPoLZv9suCAwO8LNuA24RxM+HGuRF1TMLgGqoQSybLAAqlK/du3dbt9tKtwKHhoZi5MiR6Ny5s/W/f/31V3k1XUJCAp555hmEhYU5eG6uAHjyfamw2KNHD6SmpiIqKsp6229hYSF+++036+Ue0n9Lz0033YQhQ4Y4HV1lZSUmT56MAwcOWN+XVi327dsXwcHBkPwsXrwYVVVV1v+WzgmUfKn5sADoOl3pgoOxC7JRUWuRO93fNwED+O236xDZ0kpA1ImLq+nbXlSJh77hNmBXeRmhndE1bYQccQyuE6CeT2U1+/eD+Dr7qPxG5zZhePri9q5DZUufEqCm1cUvnQ1+w8Js2C2QBf9GUI+5qHpmAVA9TYhimQVABTO1bt0666o7qcDm7JGKf1OmTEF8fPwpb7taAGwuXOkiknHjxlmLeqd7Dh48iJkzZ8pFwMZtpQLlPffcYy02qv2wAOg64eySSjz4tWNRY87IDMS2CHLdCFuSgAkKgNJlOdI24BJuAzaN3kWdjJsmQRyoWwSoZ0dc0hfc0g3v9j/Tx3VrjVGdYt3iysa+I0BNq8/+8R/ysd7ujMyeieGYdlGK+o5N6EFUPbMAaEKxNhoyC4AKa6CoqAjLly/Hhg0bcPjwYes5f1LBr3fv3tYVeVKBztnTXAFQKipKBUZpe25ubi6OHDmCY8eOWbfpSmcKpqSk4KyzzsKgQYOsKwNdeaRVfitWrLCuHpQKgtLW4djYWHTr1g1Dhw5F69atXTHjdRsWAF1HuGhrCd7/q0juIN1u+vqwdNcNsCUJ/I+AqBMXdxL4zvpCLLPbBpwcGYxXeRuwOwiFamsGTQuVEAbrFQHq2RHf7iNVuK/RBWivXJGGdlHO59VewWdnVQhQ06pgdTC6ancpXvz1xA4v6Qn0B94fnYWWwdwGrDR9UfXMAqDSShDPHguA4uXMcBGzAOh6Sh9bmY8/D9huv7ssKxq39Tp1RanrFtnSrAREnbi4k69tRccx+Zu9Dl1evjwN7aP5B6M7HEVpawZNi5ILxuk9AerZkeGnW4rx4cZi+UXpArQ3h6c7vcjOe/q0oAYBaloNqo42K2rqcf3CHNRZbBfl3NsnAQPTXVscon6ExvEgqp5ZADSOBj0dCQuAnpJjP8UIsADoGsra+gZct2Anqupsv9QnXZCIfu0iXTPAViRgR0DUiYs7SXS2Dfj/usTin121Wd3sTqxs6z0BM2jae0q0IAoB6tkxU5NW7MGOYtsRO5d3jMGEnm1FSSfjNMHRI3pJ8pOr9uGP/bbLAs9NCscjA7gNWOn8iPozmgVApZUgnj0WAMXLmeEiZgHQtZRuO3Qck791XM00b3QmIkMDXTPAViRgsgKgNFxn24Bf47Z5Q34WRJ2MGzIZHJTXBKhnG8LSqjqMW5gD29efwGMDU9AtIdxrzjSgHQFqWhvWP+SW4j9r7LcBn7gNmNuAleUvqp5ZAFRWByJaYwFQxKwZLGYWAF1L6H83F+OjTbbtL6nRIXjp8jTXOrMVCTQiIOrExd1EOtsG/MrlaWjHbcDuotR9e7NoWveJYICKEKCebRhX5pbiJbuCRmigH+aPyUJQgL8irGlEGwLUtDacuQ1YG86i6pkFQG30oWcvLADqOTsmiY0FQNcS/ch3e7G58LjceNgZMRjfg9tfXKPHVo0JiDpxcTeT1m3Ai3ehpLJO7npNl1j8g9uA3UWp+/Zm0bTuE8EAFSFAPdswzvp5P1bvPSa/cF5yS0y9MFkRzjSiHQFqWjvW3AasPmtR9cwCoPra0LsHFgD1niETxMcCYPNJrqm34J+fZqPW7lDfqRcm4bzkiOY7swUJOCEg6sTFk2S+s64Qy3YckbumREm3AfP2bE9Y6rmPmTSt5zwwNmUIUM8nOEqXGYxdkI3jtRYZ7F3nxePizGhlQNOKZgSoac1Qw9k24A9GZyKctwErlgRR9cwCoGISENYQC4DCps44gbMA2HwuNx2swLTv8+WG/n7AvDFZPM+jeXRs0QQBUScuniTU2fmZr1yRhnZRvA3YE5567WMmTes1B4xLOQLU8wmWjec/0mvvjcpEqzCef6yc2rSxRE1rw1ny4mwb8H19EnARbwNWLAmi6pkFQMUkIKwhFgCFTZ1xAmcBsPlcfrSpCP/dXCI3zGwViucvS22+I1uQAAuAcLYN+B9d4nBN1zjqw0AERJ2MGygFHIqCBKjnEzDnrC/E59ttK7gzWoXiBc5/FFSadqaoae1YS56eXJWPP/ZXyE7PTWqJRwZw67xSWRBVzywAKqUAce2wAChu7gwTOQuAzafy4e/2Yovd+X8jzmyFG7u3ab4jW5AAC4BWAm+vK8QXdtuA20UF4xVuAzbU50PUybihksDBKEaAej6B8o5ludhfViNz5RmuiklMc0PUtLbIuQ1YXd6i6pkFQHV1IYJ1FgBFyJLBY2QB8PQJrpXO//ssGzX1DXLDhy9MQi+e/2fwT4a6wxN14uIpFWfbgF+9Ig0p3AbsKVLd9TObpnWXAAakKAHqGSgoq8Hty3IduD43pD2yYsMUZU1j2hCgprXhfNILtwGry1tUPbMAqK4uRLDOAqAIWTJ4jCwAnj7BjQsXfgDmS+f/hQQYXBkcnpoERJ24eMrE6TbgrnG4pgu3AXvKVG/9zKZpvfFnPMoSoJ6BpdsP4931h2SwMaEBmDMqE/5+0kyIj2gEqGntM8ZtwOoxF1XPLACqpwlRLLMAKEqmDBwnC4CnT+6CLSWYt7FIbpQWE4L/DE0zsCI4NC0IiDpx8YZN423A7aNC8PIV/Cx5w1RPfc2oaT3xZyzKEqCegWnf78Wmg8dlsIMzonB37wRlQdOaZgSoac1Qy45W5pbipTUH5P8O9PcDbwNWJg+i6pkFQGXyL7IVFgBFzp5BYmcB8PSJfGxlPv48YDvE9/KOMZjQs61Bss9h+IqAqBMXb3j9feg4pny718HEa8PSkBzJ24C94aqXvmbUtF7YMw7lCZhdz8dr6zF2QTbqLDa2k/snoU9KhPKwaVETAmbXtCaQGzkpr6nHuIU5qLPYjhG6v28CBqRF+SIcQ/kUVc8sABpKhh4NhgVAj7Cxk5IEWABsmma9pcF6/l+V3Qx40gWJ6NcuUskU0JYJCYg6cfEmVdI24JsW78KRyjrZzNhzWmNM51hvzLKvTgiYUdM6Qc8wVCBgdj3/urcM//65QCYrrVyaNyYTLYJ4/IkKctPEpNk1rQlkJ064DVgd8qLqmQVAdfQgklUWAEXKlkFjZQGw6cRml1Tiwa/3ODR4f1QmosMCDaoGDksrAqJOXLzl88bvB/FV9lHZTFZsKJ4bkuqtWfbXAQGzaloH6BmCCgTMrmdp26K0ffHkc05COGYMTFGBNE1qRcDsmtaKc2M/3AasDnlR9cwCoDp6EMkqC4AiZcugsbIA2HRiP992GHM22A7ATooMxuvD0g2qBA5LSwKiTly8ZfTXgQpMX5nvYOadERloHR7krWn29zEBs2rax9jpXiUCZtaztFr7hkU5KK2ql+mO79EGw85opRJtmtWCgJk1rQXfpnyc2AbsuJ1+Yr9E9E/lbiJv8iKqnlkA9CbrxujLAqAx8ij0KFgAbDp9T/+4D2v3lcsNLs2Mxh3nxQudbwavDwKiTly8pSedgyNNhMtrbAdL8Q9Lb6nqo79ZNa0P+oxCaQJm1rOz3Q9vDE9HQkSw0phpT0MCZta0hpidunr8h3ysL7CdJ963XQQeuiDJ12EJ7V9UPbMAKLTsFAmeBUBFMNKINwRYAHROT/oG/PoF2ThmV6jgwb3eKI197QmIOnFRIosvrSnAytwy2dRZbVvgqcHtlDBNGz4kYGZN+xA7XatEwMx6/mRzMT7eVCyTTY4Mxmvc/aCS0rQza2ZNa0fZuadvco7itbUH5TdDA6XbgLMQEujv69CE9S+qnlkAFFZyigXOAqBiKGnIUwIsADonl3ekCvcuz3N4k1sVPVUZ+zUmIOrERYlMrs0/hqd/2i+b8vcD5o7KRFQoz9ZUgq+vbJhZ075iTr/qETCznietyMOO4ioZ7vAzYnBzj7bqwaZlTQiYWdOaAD6Nk6NVdbhxUQ7sLgPG1AuTcF4yb9X2NDei6pkFQE8zbpx+LAAaJ5fCjoQFQOep+3LHEby1rlB+s014EN4ekSFsnhm4vgiIOnFRgmJ1nQVjF2Sjur5BNnfXefG4ODNaCfO04SMCZta0j5DTrYoEzKrnsup66+4H209nWC//kC4B4SM2AbNqWi9Ze/jbPdhyqFIOZ2B6JO7tk6iX8ISLQ1Q9swAonNQUD5gFQMWR0qC7BFgAdE5s1s/7sXrvMfnNi9IicV9f/qJ2V19s75yAqBMXpfL575/341e7z1ePxHA8ehFvmFSKry/smF3TvmBOn+oRMKuef8orw/OrC2SwIQF+mH9VFoIDuFVRPbVpY9msmtaGbvNelm0/jHfW2y4WbBnsj/dHZyFQ2gbBx20CouqZBUC3U224DiwAGi6l4g2IBcBTc9bQ0GBdqn/E7gY8rlAST9t6jljUiYtSTBv/kSlNgOeNyUSLoAClXNCOxgTMrmmNcdOdygTMqucXfy3Aqt22M1p7JoZjGr+cUVlt2pg3q6a1odu8l6KKWoxfssuhIVfXNs+tqRai6pkFQM9zbpSeLAAaJZMCj4MFwFOTt7+sBncsy3V4gzfgCSxyHYYu6sRFKZQVNfW4fmE26myXAWNiv0T0T41UygXtaEzA7JrWGDfdqUzAjHqWLj+7YWEOSqvrZboTerbF5R1jVKZN81oQMKOmteDqjo8Hv85DdontfM3LsqJxW694d0yw7f8IiKpnFgApYRYAqQGfE2AB8NQUNL6tKyYsEO+NzICfH5fp+1ywBglA1ImLkvgf/yEf6wsqZJP92kVg0gVJSrqgLQ0JUNMawqYr1QmYUc/ZJZV48Os9DmzfHJ6O+Ihg1XnTgfoEzKhp9am652HB1hLM+6tI7hQTGoA5ozLhz78v3AMJQFQ9swDodqoN14EFQMOlVLwBsQB4as4ab4E5v30E/nU+CxPiqVu/EYs6cVGSaONCe2igHz4YnYWQQJ41pSRnrWxR01qRph8tCJhRz//dXIyPNhXLeBMjgjF7eLoWuOlDAwJm1LQGWN1y4WyH0TOXtMOZrVu4ZYeNWQCkBsQlwAKguLkzTOQsAJ6ayluW5OBQRZ38xq3ntsXQDtwCYxjR62AgnIgDR6vqrGdtWuyum5x6YRLOS47QQYYYgrsEqGl3ibG9ngmYUc+TVuzBjmLbLaXDOsZgfM+2ek4TY3ODgBk17QYezZre/UUu9pbWyP5GnNkKN3Zvo5l/ozgSVc9cAWgUBXo+DhYAPWfHngoRYAHQEWTJ8VrctNjxkN6XhqYiNSZUIeI0QwLifnOpdO6mfrsHWw/Z/uAcmB6Fe/skKO2G9jQgIOpkXAM0dCEgAbPp+Vj1iXNZ7b+QmX5RMronthQwewzZGQGzaVqvKvhwYxE+3VIih9e2ZRCkrfY8Zsi9jImqZxYA3cuzEVuzAGjErAo2JhYAHRP2y54yPPtLgfxieLA/5o/J4vkcgula7+GKOnFRmuuy7YfxzvpDstmIYH/MHZ0F6VZgPmIRoKbFyhejPT0Bs+m58c3swQF++PCqLAQH8EgGo3xWzKZpveYt93AV7v8qzyG8Fy9LRXorLjRwJ2ei6pkFQHeybMy2LAAaM69CjYoFQMd0vbWuEF/uOCK/2CMxHI9elCJUThms/gmIOnFRmmxRRS3GL3Fccfv4oBScHR+utCvaU5kANa0yYJrXlIDZ9PzSmgKszC3j3EdTlWnrzGya1pau694aGhpw69JcFJbXyp2uPisW157d2nUjbMlLQKgBYQmwAChs6owTOAuAjrl84Kvd2HW4Wn7x2rPjcPVZccZJOEeiCwKciNvSMPGrPOQcrpJfuCwrGrf1itdFnhiE6wSoaddZsaX+CZhJz5aGBut5rEer6uXETOjZFpd35NnH+leq6xGaSdOuU/FNyznrC/H5dttig3ZRwXjlCl644042RNUzVwC6k2VjtmUB0Jh5FWpULADa0lVZa8E/P9vpcAbOk4NT0KUtVyMJJWoBghV14qIG2s+2FGP+RtvNk63CAvHuyAxuu1cDtoo2qWkV4dK05gTMpOddh6vwQKMtiW8MT0dCRLDm3OlQPQJm0rR6FJWxvO3QcUz+dq+DsdeGpSE5MkQZByawIqqeWQA0gTibGSILgNSAzwmwAGhLwcaDFXj0+3z5hQA/4OOrOyAkkGfg+FyoBgtA1ImLGmnYV1qNO7/Y7WD635e0xxmtw9RwR5sqEaCmVQJLsz4hYCY9f7qlGB/afQmTEBGEN4Zn+IQ7napHwEyaVo+iMpalVbc3LcrBEbtVt2PPaY0xnWOVcWACK6LqmQVAE4iTBUAmWe8EWAC0ZeiTzcX4eJNtJVJWbCieG5Kq9xQyPgEJiDpxUQv1nctysa+sRjY/qlMrjOvWRi13tKsCAWpaBag06TMCZtLz5G/2YFuR7TZ2aeuvtAWYj7EImEnTImRu9u8H8XX2UTnUjnGhmHUp/+ZwNXei6pkFQFczbNx2XAFo3NwKMzIWAG2pmr4yH38dqJBfGHZGDMb34CRYGDELFKioExe1EM/7qwgLtpbI5pMjg/HaMJ6HoxZvNexS02pQpU1fETCLnsur6zF2YbbD0SePDkhGj6SWvkJPvyoRMIumVcKnuNkNBeWY8cM+2a4fgPdGZSImLFBxX0Y0KKqeWQA0ohrdGxMLgO7xYmsVCLAAeAJqvaUB136Wjco6i0x50gWJ6NcuUgXqNGl2AqJOXNTK247iSkxascfB/OvD0pEUyTOo1GKutF1qWmmitOdLAmbR8y97yvDsLwUy6uAAP8wfk8WjT3wpPpV8m0XTKuFT3GxtvQVjF+Q4/N1x53nxuCQzWnFfRjQoqp5ZADSiGt0bEwuA7vFiaxUIsAB4AuruI1W4b3meA2HpmzjpQgI+JKA0AVEnLkpzOGnP2Xk4N3RrjZGdeB6OWsyVtktNK02U9nxJwCx6fmnNAazMLZVRd08Ix/SBKb5ET98qETCLplXCp4rZWT/vx+q9x2Tb5yaF45EB/Py5AltUPbMA6Ep2jd2GBUBj51eI0bEAeCJNy3cewZt/FMo5a9syCG9dyUOwhRCxgEGKOnFRE/Vraw/gmxzbH6KdWodh5iXt1XRJ2woSoKYVhElTPidgBj07++JlfI82GHZGK5/zZwDKEzCDppWnpq7FVbtL8eKvB2Qn0grceWOyEMrLB5sFL6qeWQBsNrWGb8ACoOFTrP8BsgB4IkfPry7AT3llcsIGpEbi/n6J+k8gIxSSgKgTFzVhr9tfjidW2c7D8fcD5o7KRFQoV+GqyV0p29S0UiRpRw8EzKDn3MNVuP8rx50Ps4elI5FHL+hBgorHYAZNKw5NZYPOzuCc3D8JfVIiVPYsvnlR9cwCoPja83YELAB6S5D9vSbAAuAJhLcsycGhijqZ523ntsVlHWK85ksDJOCMgKgTFzWzWWM9DycbVXUNspu7e8djcAbPw1GTu1K2qWmlSNKOHgiYQc+fbSnG/I3FMu74lkF4kzsf9CA/VWIwg6ZVAaey0Wnf7cWmwuOyl4Hpkbi3DxcgNIddVD2zANhcZo3/PguAxs+x7kfIAiBQcrwWNy3e5ZCrly9PQ/voEN3njwGKSUDUiYvatJ/5aR/W5JfLbs5LbompFyar7Zb2FSBATSsAkSZ0Q8AMep7yzR78XVQpM7+8QzQmnBuvmxwwEGUJmEHTyhLTxtqy7YfxzvpDsrOIkAC8PyoTAdI2CD5NEhBVzywAUtQsAFIDPifAAiDQD+r5KwAAIABJREFU+Ba88GB/6y14/n785etzgRo0AFEnLmqnQzqMXjqU/uQT8r/zcEJ4Ho7a6L22T017jZAGdETA6Hour6m3rri22BZcY9qAZPRMaqmjLDAUJQkYXdNKstLSVmF5DSZ8nuvg8umL26FzmxZahiGcL1H1zAKgcFJTPGAWABVHSoPuEmABEHhrXSG+3HFERtcjMRyPXsRbuNzVEtu7TkDUiYvrI/SsZVlVHcYtynH4o/ThC5PQK5nn4XhGVLte1LR2rOlJfQJG1/PqvWWY9XOBDDLI3w8fXpUFftmivrZ85cHomvYVVyX83vvlbuQdrZZNjTizFW7s3kYJ04a1IaqeWQA0rCRdHhgLgC6jYkO1CLAACDzw1W7sOmz7xXvt2XG4+qw4tZDTLglA1ImLFqmb+u0ebD1k25Y2OCMKd/dO0MI1fXhBgJr2Ah676o6A0fX86m8H8O0u263r5ySEY8ZAfvGpOyEqGJDRNa0gKs1NfbixCJ9uKZH9JkQEQbqQx487kZrMhah6ZgFQ84+X7hyyAKi7lJgvILMXACtrLfjnZzsdVhw9OTgFXdqGm08MHLFmBESduGgB6PNthzFng+08nKjQAOttwNySrwV9z31Q056zY0/9ETCynhsaGnDLkl0oOm67+Oym7m1w5Zmt9JcIRqQYASNrWjFIPjKUU1KFiV873sj9yhVpaBfFs8ibSomoemYB0EcfMh25ZQFQR8kwayhmLwBuPFiBR7/Pl9Mf4Ad8fHUHboMx6wdCo3GLOnHRAs+BYzW4banjeTj/vqQ9zmgdpoV7+vCQADXtITh20yUBI+t5X2k17vxitwP3Vy5PQztefKZLLSoVlJE1rRQjX9mRivI3L96FkkpbUX7s2a0x5qxYX4Wke7+i6pkFQN1LS/UAWQBUHTEdNEfA7AXATzcX48NNxTKmrNhQPDcktTlsfJ8EvCIg6sTFq0G70fmuL3KRX1oj9xjVqRXGdeN5OG4g1LwpNa05cjpUkYCR9dz41tHYsEC8OzKD2w1V1JMeTBtZ03rg620Mb/x+EF9lH5XNdIwLxaxL+fdIU1xF1TMLgN5+UsTvzwKg+DkUfgRmLwA+8UM+1hVUyHkc1jEG43u2FT6vHIC+CYg6cdGK6ry/irBgq+08nOTIYLw2LF0r9/TjAQFq2gNo7KJbAkbW8+M/5GO93bxnUHoU7unDc1Z1K0aFAjOyphVC5FMzGwrKMeOHfXIMfgDeG5WJmLBAn8alV+ei6pkFQL0qSru4WADUjjU9NUHAzAVAacn92IU5OFZdL9OZ2C8R/VMjqRcSUJWAqBMXVaHYGd9RXIlJK/Y4uHt9WDqSIoO1CoF+3CRATbsJjM11TcCoeq6tt+Daz7JRXd/AeY+uFah8cEbVtPKkfGNR+myOXZCDyjqLHMCd58Xjksxo3wSkc6+i6pkFQJ0LS4PwWADUADJdnJ6AmQuABWU1uH2Z41ljb12ZjrYtWWTg50ZdAqJOXNSlYrNuaWjATYtycKTKVpy/oVtrjOzE83C0yoG7fqhpd4mxvZ4JGFXPmw5WYJrducfSKqMPRmciMpSrjPSsRyViM6qmlWCjFxuzft6P1XuPyeH0TAzHtIt4O7ez/IiqZxYA9fJp810cLAD6jj09/4+AmQuAP+SW4j9rDshaiP7fbaN+ftKUmA8JqEdA1ImLekROtfza2gP4JqdUfqNT6zDMvKS9liHQlxsEqGk3YLGp7gkYVc/v/3kIi/4+LPPPbBWK5y/jOWO6F6QCARpV0wqg0Y2JH3eX4oVfbX+XBPn7Yd6YLIQF+esmRr0EIqqeWQDUi4J8FwcLgL5jT88sAKLxgbvnJbfE1AuTqQ0SUJ2AqBMX1cHYOVi3vxxPrLKdh+PvB8wdlYkorlTRMg0u+6KmXUbFhgIQMKqe71u+G7uPVMsZuKpzLK47p7UAGWGI3hIwqqa95aKn/uXV9bh+YTbsduhjcv8k9EmJ0FOYuohFVD2zAKgL+fg0CBYAfYqfziUCZl4B+MBXu7HrsG0ifP05rTG6M7cY8pOhPgFRJy7qk7F5qKm34LpGZ1Xd0zsegzJ4Ho6WeXDVFzXtKim2E4GAEfV8tLIO4xblOOB/enA7dG7bQoSUMEYvCRhR014i0WX3ad/txabC43JsA9MjcW+fRF3G6sugRNUzC4C+VI0+fLMAqI88mDoKsxYAq+ssuObTnbDYzsHGU4Pb4SxOhE39edBq8KJOXLTic9LPzJ/24bf8ctktV+lqnQHX/VHTrrNiS/0TMKKeV+0uxYt22wvDAv0x/6osBErLq/kYnoARNW3EpC3bfhjvrD8kDy0yJMC6+yGAn1OHdIuqZxYAjfipdW9MLAC6x4utVSBg1gLg1kPHMfXbvTJR6ffqx1d3QGggz9lQQWY02YiAqBMXrRO5MrcUL9md0xka4IcP+oUiuK4aCAkFYuLgF8bVK1rnxZk/aloPWWAMShEwop5fXF2AVXll/EJFKZEIZseImhYsBS6FW1hegwmfO15Q+O9L2uOM1mEu9TdLI1H1zAKgWRTa9DhZAKQGfE7ArAXARVtL8P5fRTL/tJgQ/Gdoms/zwQDMQUDUiYvW2SmtqsO4hTmwW6iLaRvfQbcjO0+E4u8PdOsN/wFDgY5dwAt8tM6QzR817Tv29Kw8AaPpWbpZ/cZFOThqd7P6ree2xdAOMcrDo0VdEjCapnUJWaGg7v4iF3tLa2RrYzrHYizP6nSgK6qeWQBU6EMisBkWAAVOnlFCN2sBsPHWwiFZ0bi9V7xR0spx6JyAqBMXrbE27NmFh77dix1hCbLry/atxi05n58aSmI7+N90P/zaZ2gdJv1Za7H+iI8/8TP04MGDsFgs5EICwhIwmp5zD1fh/q/yHPLxxvB0JEQEC5sjBu4eAaNp2r3Ri9W68W3dqdEheOlyLlKwz6KoemYBUKzPohrRsgCoBlXadIuAGQuADf/7JvyI3Tfh9/ZJwMD0KLfYsTEJeEpA1ImLp+P1pF/D33/C8vpMLGjbBx+lXyabaFN5GLPXPgOnp1aFhML/jinw69TNE5fs4wUBatoLeOyqOwJG03PjXQ/xLYPw5pX8skR3wlMxIKNpWkVUPjf996HjmGJ3TJEU0DsjMtA6PMjnseklAFH1zAKgXhTkuzhYAPQde3r+HwEzFgCLKmoxfskuBw28PiwdSZH8JpwfDG0IiDpx0YYOIK38szw7BaiuQl54PB449wEH1//5/Xm0O17oPBypCPivmVwJqFWy/ueHmtYYON2pSsBoem58s+hlWdG4jbseVNWQ3owbTdN646tkPPWWBoxbmI1jNbaV9Led2xaXccu+jFlUPbMAqOQnRUxbLACKmTdDRW3GAuAve8rw7C8Fch5bBvtj/pgsnh9mKGXrezCiTly0oCqt0LU8djdQcOKSHun8v1t7T0FxqO2squt2Lceo/FVNh5PUHv7TX+ZnWouEsQCoIWW60oqAkX5GV9VZcO1n2aiz2E5TndI/Cb1TIrTCST86IGAkTesAp+ohvLC6AD/aXdrTMzEc0y5KUd2vKA5E1TMLgKIoTL04WQBUjy0tu0jAjAXAd9cXYun2IzKhHonheJS/VF1UDJspQUDUiYsSY2/ORsP2TbA8/4hDszezRmBFUl/5tTNKd+PpP2ef1pT/g0/Br2OX5tzxfYUIUNMKgaQZXRAwkp7X7S/HE6v2yVz9/YAPr8pCi6AAXbBmENoQMJKmtSHmWy8/5ZXh+dW2xQrBAX7WxQohgf6+DUwn3kXVMwuAOhGQD8NgAdCH8On6BAEzFgAnrcjDjuIqWQL/6BqHa7rEURIkoBkBUScuWgCqf+MZYP2vDq42tOqIJ7vebPsDtsGCOb8+jsja402G5NejH/xve0iLkOmDl4BQAwYjYKSf0e+sK8SyHbYvPTu1DsPMS9obLGMcTnMEjKTp5sZqhPePVdfj+oXZsFu4i0cuTMa5yS2NMDyvxyCqnlkA9Dr1whtgAVD4FIo/ALMVAGvrLbjmU8etMI8NTEG3hHDxk8kRCENA1ImL2oAbKo/Dct8/gUY3yNb4B2Jcv8dQHWA7p/PebR/jwsI/mw7J3x/+//kIfmEt1A6b9lkApAYMRsBIP6PvXJaLfWU1coau7RqHq/mlp8EU2/xwjKTp5kdrjBZTv92DrYcq5cFcmhmNO86LN8bgvByFqHpmAdDLxBugOwuABkii6EMwWwFwR3ElJq3YI6dNuklU2goTHsytMKJrWaT4RZ24qM24oWAvLNPvcupm5lnj8EdcZ/m9fof+wsS/PzptSP6Pvwa/BJ6Zo3beJPvUtBaU6UMrAkbRs7NLz569tD06xIVphZJ+dELAKJrWCU5Nwlj0dwne/7NI9hXbIhDvjsjg+cYCzzlYANTko6NrJywA6jo95gjObAXAZdsP4531h+TkpkQF49Ur0s2RbI5SNwQ4EXeeiobdO2F5+kGnb36b0AuzO46R32tRV4m5q2cgsMF2S17jjv5Tn4NfWgfd5N3IgVDTRs6u+cZmFD1/k3MUr609KCcwItgf74/OQoB0ECAfUxEwiqbNlLT80mrc9cVuhyH/Z2gq0mJCzYTB6VhF1TMLgKaXLlgAVEEDxcXFWL58Of78809I/w4MDER8fDz69OmDSy+9FCEhIR57rampwcaNG7F582bk5OTgwIEDqKqqQmhoKBITE3H22Wfj4osvRkyM7bZKZ84ee+wx/P333y7F8emnn7rUztNGZisAPvfLfvy855iMa3BGFO7uneApPvYjAY8IiDpx8WiwbnQ63QrAkuBI3NLX8XKQx/96A2cdzW3SA1cAugHfy6bUtJcA2V1XBIyi51k/78fqvbY5T792EZh0QZKuWDMYbQgYRdPa0NKHl4aGBty6NBeF5bVyQNeeHYerz+K55aLqmQVAfXy2fBkFC4AK09+wYQNefvllHD/u/GB4qUg3ZcoUSB8+d589e/bg0UcfRWWl7SwGZzbCwsJw6623om9f242VjduxAOgufeW2l92yZBcOVdh+kd55XjwuyYx2PyD2IAEvCIg6cfFiyC51beoMwJOdH+xxD3IjkmVbw/N/xA27vnRuOyAA/i9+yDMAXSLvfSNq2nuGtKAfAkbQc72lwXqJQHmNbZX03b3jMTiDcx79KE27SIygae1o6cfTW+sK8aXdJT4d40Ix69JU/QToo0hE1TMLgD4SjI7csgCoYDLy8vIwbdo0VFdXW1fkjRgxAmeddRakVXurV6/G999/b/WWlJSEmTNnWtu482zfvt1aAJSejh07okePHkhPT0dERATKysqwdu1arFy5EhaLxXoW0kMPPYRu3bo5dXGyAJiRkYHbb7/9tGG0a9fOnTDdbmumFYBHq+owbmGOA6OXhqYilUvp3dYNO3hHQNSJi3ejdq23s1uAT/b8JPVifJp6sWwo6fghvPL7c04N8xZg13gr1YqaVook7eiBgBH03PjMY4nruyMzENciSA+IGYPGBIygaY2R6cLdnwcq8NjKfDkWafP+3NGZiA4N1EV8vgpCVD2zAOgrxejHLwuACuZixowZ2Lp1KwICAiD9u0MHx3Ofli5divnz51s9Xn311RgzxnaWlCth7Nixw7q1+KqrrkJysm0Fin3fP/74A8899xykJdvSB1xajejnd+o5KycLgJ06dYL0b18+ZioArttfjidW7ZNxhwb64aOrOvAsHF8K0KS+RZ24aJGuhu2bYHnecavvSb/ZEcl4qMc9DmG8unYWEiuLTwnN/8Gn4NexixYh04fAB3IzeSTgjIARfkZ/srkYH2+y/Wzkmcfm1roRNG3GDNbWW3DdgmxU1TXIw7+3TwIGpkeZEYc8ZlH1zAKgqWVrHTwLgAppQDqPb+rUqVZrgwcPxoQJE06xLK3MmzhxIvbv34/w8HC8/fbb1vMBlX6ef/5562pA6fn3v/+NtLS0U1ywAOg+dSV+0H+0qQj/3VwiO+/UOgwzL2nvfjDsQQJeElBCz16GoNvu0hcolsfuBgr2nvpzHH4Y3+dhHA2JlN+7MWcZhu372bFtUnv4T3f+BYxuBy54YNS04Alk+A4EjKDnh1bswfZi27E1w8+Iwc093D8Ch9IwBgEjaNoYmXB/FDN/2off8svljn3bReAhk5/lKaqeWQB0X/9G68ECoEIZ/fjjj7F48WKrtaeeegpZWVlOLS9ZsgQfffSR9b1HHnkEXbt2VSgCm5mvv/4ac+bMsb7wwAMPoHfv3qf4YAHQfexK/KB//Id8rC+okJ2POLMVbuzexv1g2IMEvCSghJ69DEHX3Rv27ILl2SlAddUpcb7WcQy+T+glv97lSDZmbHzb1i4kFP7/mgm/9hm6HqPRgqOmjZZRc49HdD2X19Rj7IJsWGyLhjD9omR0T2xp7sSaePSia9rEqcO3OUfxqt1t3i2C/PHB6CwEBZj3Nm9R9cwCoJk/ySfGzgKgQhqYPn06tm3bZr3hd+7cudZtwM6enTt3Wgt/0iNtAZa2Aiv9fPHFF/jggw+sZqUVh+eddx4LgApA9vYHvbSqaOzCHByrrpej+df5iTi/vW0lkQJh0gQJuETAWz275ETwRg1//wnL6zNPKQKujeuMf581Th5dgKUec1fPQHh9FSAV/+6YAr9Ozs9fFRyJrsOnpnWdHgbnJgHR9bxm7zE88/N+edRB/n748KoshAT6u0mCzY1CQHRNGyUPnozjcGUdblzkeIb5E4NS0DU+3BNzhugjqp5ZADSE/LwaBAuAXuGzdb755ptx7NgxtG/fHs8++2yTVsvLy3HTTTdZ35dW5kkr9JR+Zs2ahXXr1lnNvvDCC07PCzy5AjAqKgpxcXHWbcnSWXzShSLSxSJS0bBfv36qbFFuPF6znAFYWF6DCZ/nOgz/rSvT0bZlsNISoD0SaJaAqBOXZgemcAPrSsA5LzpsB64MCMa4fo+hzt92hMODW+ehb3AZ/G+8jyv/FM6Bq+aoaVdJsZ0IBETX8+zfD+Lr7KMy6rPjW+DxQepeKidCXs0co+iaNnPupLFP/CoPOYdtuyLMvqVfVD2zAGj2TzJXACqiAOmW3+uuu85qq3v37pg8efJp7Y4dO9Z6U7C0TVjaLqzkI91ELPmXzhtMSUmBdB6gs+dkAfB0vqWLRqQCZVMXjpyub0mJ7Zy7ptpFR0dbV0pKBcCioiIlMahiS/pB36bNie26hw4dsjJ25/k5rxSz7L4NjwwJwPyrOji9pMUdu2xLAp4Q8FbPnvgUtY+0erdhx2ZYVn6Jhj/XABYLHu96M/5q1VEe0kWxFtx/WWd+nn2YZGrah/DpWnECouv51iU5KDhWI3O5oXsbjO4cpzgnGhSHgOiaFoe0OpF+vLEI0lnmJ5/EiGC8OSJTHWcCWBVVz61bt25yp6IA2BmiAgS4AlABiGVlZRg/frzVUt++fXHfffed1uott9yC0tLS0xboPAmrtrYWjz76KHbt2mXtPmnSJPTs2dOpKemWYukHV7du3ayrFqWVf5WVldi9eze+/fZb64pA6ZFWCM6cOdO6StCdx5WtzbNnz0ZsbKw7ZoVu++IP2fhoXb48hr5psXhpzNlCj4nBk4DZCFiOl6O+uAif/V2EFzfbDsSODgvC13eczxu9zSYIjpcESOAUAgdKKzH8rTUOr8+7/lyc0TaCtEiABAQlsO1gGa6fd2KH2clnwc290b5VC0FHxLBJwJwEWABUIO/FxcW44447rJb69++Pu+6667RWb7/9dkgr5KQluK+88ooCEZww8cYbb2DlypXWf1944YW48847m7RdUVFhvYnY2VNXV4c333wTP/74o/XtXr164cEHH3QrThYAT8U14eP1+HNfqfzGLX1TMaFfultc2ZgESEAfBApKK3Floz9w51zbA10So/QRIKMgARIgAR8RWLq5AE98vV32HhUaiG/uugD+fua9MMBHqaBbElCMgKWhAUNnr0ZJhW1l7wMDs/CPHimK+aAhEiAB9QmwAKgAYz2sAJRuIJZuIpYe6Qw/aYtvaGiox6OTtuVKRb+TKwGl4mKrVq1ctsctwI6o6i0N+L9PtqO63nYd3vSBKeiZxG/DXRYVGypKQNStC4pC8NLYHUt3Ib+0WrZyTdc4XHs2b/X2EqvH3alpj9Gxow4JiKznZ3/eh5/yymSq/dpHYnL/ZB1SZkhaEhBZ01py0rOv//y6H9/vsi1m6J4YjhmD2us5ZNViE1XP3AKsmiSEMcwCoAKp8vUZgNKW3bfffts6ksTERDz++OOIjPT+ZtmlS5di/vz5Vrv33HMPzj//fAVonWrCDJeA5B2pwr3L8xwG/8HoTEjfivMhAV8QEPXwYl+wasrnexsOYcm2w/Lbma1C8fxlqXoK0VSxUNOmSrfhByuqnqUzU8ctykFpVb2co9t7tcWQrBjD54wDPD0BUTXNvNoI/LKnDM/+UiC/YObbvUXVMy8B4SeaBUCFNOCrW4B/+eUX6zZiacIlVfSl4p9S5+pt2LABzzzzjJWQdMnJ8OHDFaLlaMYMBcBvc47i1bUH5YG3CQ/C2yMyVOFJoyTgCgFRJy6ujE2rNpsOVmDa97ZzPSW/74/KRHQYC/ta5cDeDzXtC+r0qRYBUfXs7AvPN4anIyEiWC1UtCsIAVE1LQheTcIsr67H2IXZsNg2NGHagGT0TGqpiX89ORFVzywA6klFvomFBUCFuE+fPh3btm1DSEgI5s6d2+TtOjt37sQjjzxi9TpmzBi4clZeUyGuW7fOesuvVECLiYmBdLFHfHy8QiMCWAB0ROnND/rX1x7EipyjssF+7SIw6YIkxXJFQyTgLgFv9OyuL6O2r61vwHULslFVZ7sR/N4+CRiYznMAfZFzatoX1OlTLQKi6vnzbYcxZ8MhGYv0hedbV6bzhnS1hCKQXVE1LRBiTUKd/M0ebCuqlH1d3iEaE85V7u9PTQahgBNR9cwCoALJF9wEC4AKJfCjjz7CkiVLrNaeeuopZGVlObUstZHaSs/DDz+Ms8/27BbYzZs3W1fnSTf/Sjf4Smf+paQoewir/Rbgu+++GxdccIFCtBzNmGEF4P3LdyP3iO2ssBu6tcbITua5AVkV4dCoVwREnbh4NWgVOs/8aR9+y7fdBszivgqQXTRJTbsIis2EICCqnp/4IR/rCipkxhdnROGu3glCMGeQ6hIQVdPqUhHP+mdbijF/Y7EceHzLILx5pfl2NYmqZxYAxfvMKR0xC4AKEc3JycHUqVOt1gYPHowJEyacYtlisWDixInWizWkG3ilc/sCA93fKrZjxw48+eSTqK6uRlhYGKTVh9LFH0o+jS8Bef311xEXF6ekC9mW0QuA1XUWXPPpTofl8k8PbofObVuowpNGScAVAqJOXFwZm5Ztvsk5itfstveHB/tj3ugsBPjztkst8yD5oqa1Jk5/ahIQUc91lgZc+9lOVNXZ9gdO7JeI/qnen0utJmva1oaAiJrWhoxYXnIPV+H+rxzPNZ89LB2Jkeba5i+qnlkAFOvzpka0LAAqSPXkNuCAgADrdtwOHTo4WLdfUeds++/WrVut/aTnwgsvxJ133nlKdHl5edY2FRUV1u3G0irCM844w61RbNmyBWlpadYipLOnrq4Ob775Jn788Ufr2z169MBDDz3klg93Ghu9ALi9qBIPfbNHRiLVBT66qgPCgvzdwcS2JKAoAVEnLopCUMBYyfFa3LR4l4OlmRe3Q6c2LPArgNctE9S0W7jYWOcERNTz34eOY8q3ex3Ivj86E9G88EznatMmPBE1rQ0ZsbxI587fuCgHR+wu+hnfow2GndFKrIF4Ga2oemYB0MvEG6A7C4AKJnH37t2YNm0apFuBQ0NDMXLkSHTu3Nn637/++iu+++47q7eEhATr9l1p9Z7901wB8ODBg1b7paUnrl8fN24cunTpctoRREVFQfqf/fPaa69h7dq16NmzJzp16mS9ObhFixaoqqpCbm4upFuFpVWK0iP1lbY0t2nTRkFSjqaMXgBctv0w3llvOw+nfVQIXr4iTTWeNEwCrhAQdeLiyti0bnPvl7uRd9S2xX9M51iMPae11mGY3h81bXoJGAqAiHr+eFMRPtlcIuchLSYE/xnK+Y6hhOnFYETUtBfDNXTXl9YcwMrcE3+PSk/3hHBMH6jsUVR6ByiqnlkA1Luy1I+PBUCFGUsXc0i38lZW2g5HtXchFf+mTJni9LKO5gqAq1atgrQV153H2UpDqQB4cnXf6Wy1a9cO9913H5KTk91x6XZboxcAn19dgJ/yymQug9KjcE8fnofjtlDYQVECok5cFIWgkLEP/jyEhX8f5h+9CvH01Aw17Sk59tMjARH1POWbPfjb7nKAEWe2wo3d1fsCWY95Y0xNExBR08yncwK/7CnDs78UyG8G+fvhw6uyEBJont1NouqZBUB+qlkAVEEDRUVFWL58ufUW3cOHD1vP+ZNu5+3duzeGDBli3brr7NGqALhv3z5s3LgR0o3E0r/LyspQXl6OoKAg64q/jIwMa6y9evWynqmk9mP0AuDtS3eh4FitjPG2c9visg4xamOlfRI4LQFRJy56TOvWQ8cxtdG2tzkjMxDbIkiP4Ro2JmrasKk15cBE0/Px2npc91k26m3H/+HRAcnokdTSlPnjoE8lIJqmmcOmCZRX12PswmyH882nDUhGTxN93kXVMwuA/GSzAEgN+JyAkQuA0i/IaxdkOzB+4bJUZLQK9Tl3BmBuAqJOXPSYtXpLA8YuyEZFrUUO767z4nFxZrQewzVsTNS0YVNryoGJpud1+8vxxKp9cq6khUDzx/C8Y1OKt4lBi6Zp5u70BCZ/swfb7Fb8Xt4hGhPOjTcNNlH1zAKgaSTa5EBZAKQGfE7AyAXAvw5UYPrKfJmxtET+k//rgEDeEOpz3Zk9AFEnLnrN26yf92P13mNyeH1SWmJyf3WPT9ArC1/FRU37ijz9qkFAND2/s74Qy7YfkVF0bhOGpy80IXq1AAAgAElEQVRurwYa2hSUgGiaFhSzZmF/uqUYH24slv3FtwzCm1dmaObf145E1TMLgL5Wju/9swDo+xyYPgIjFwA/21KM+Xa/HDvGhWLWpammzzkB+J6AqBMX35NzHsH3u47i5d8Oym+GBfpj3pgsBAX46TVkw8VFTRsupaYekGh6vufL3dhjdxnSP7rG4ZoucabOIQfvSEA0TTN/pyew63AVHvgqz6HR7GHpSIwMNgU6UfXMAqAp5HnaQbIASA34nICRC4DP/LQPa/LLZcZmWx7vc3ExgCYJiDpx0WtKj1TW4YZFOQ7hPTEoBV3jw/UasuHioqYNl1JTD0gkPTv7+ffMJe1wZusWps4hB88CoJE1YGlowI2LcnC0ql4e5vgebTDsjFZGHrY8NpF+RtsnhAVAU8iTBUCmWd8EjFwAHL84B0XH6+QE3NM7HoMyeC6YvhVpjuhEnbjoOTvSN+HSN+Inn5FntsINvAFTs5RR05qhpiMNCIik5x93l+KFXw/IVKQV0POvyuJxJxroRCQXImlaJK6+jPWlNQewMrdUDqF7QjimD0zxZUia+RZVzywAaiYR3TriCkDdpsY8gRm1AFhWVYexCx1XBL00NBWpMbwAxDzq1u9IRZ246Jco8OHGIny6pUQOsV1UMF65Il3PIRsqNmraUOk0/WBE0vMrvx3Ad7tsRYBzk1rikQE8A9X0Im4EQCRNM3euEfhlTxme/aVAbhwc4If5Y7IQIt0CZPBHVD2zAGhwYbowPBYAXYDEJuoSMGoBcENBOWb8YLsRT/ql+MnVHRDAC0DUFRStu0RA1ImLS4PzUaMdxZWYtGKPg/e3r8xAm5ZBPorIXG6paXPl2+ijFUXPDQ0NGL9kF4rtdjuYaRug0XWo5PhE0bSSYza6rfLqeoxdmA1Lg22kjw5IRo+klkYfOkTVMwuAhpdmswNkAbBZRGygNgGjFgBPvQAkDLMu5Y14auuJ9l0jIOrExbXR+aZVvaUB4xbl4Fi17Tyc285ti8s6xPgmIJN5paZNlnCDD1cUPReU1eD2ZbkO2Xjl8jS0iw4xeIY4PHcJiKJpd8dl9vaTv9mDbUWVMobLO8ZgQs+2hsciqp5ZADS8NJsdIAuAzSJiA7UJGLUAyAtA1FYO7XtDQNSJizdj1qLv86sL8FNemeyKW+G0oH7CBzWtHWt6Up+AKHr+aucRvPFHoQwkJjQA743KhJ8fb0BXXyVieRBF02JR9X20n24pxocbi+VAEiKC8MbwDN8HpnIEouqZBUCVhSGAeRYABUiS0UM0agHwliU5OFTBC0CMrl9RxyfqxEXvvFftLsWLdofhhwT44cOrshAUYPzzcHydG2ra1xmgfyUJiKLnZ37ajzX5x+ShD0iNxP39EpVEQVsGISCKpg2CW7NhSJefSZeg2T+zh6UjMTJYsxh84UhUPbMA6Au16MsnC4D6yocpozFiAZAXgJhSykINWtSJi94hS5/96xfmwO44HMwYmIJzEsL1Hrrw8VHTwqeQA7AjIIKepWMPrl+YjfIaixz5Pb3jMSgjmrkkgVMIiKBpps19ApaGBty4KAdHq2zHn5jhHFBR9cwCoPsaN1oPFgCNllEBx2PEAiAvABFQiCYLWdSJiwhpmrQiDzuKq+RQh50Rg/E9jH8ejq9zQ037OgP0ryQBEfScXVKJB792vPjonREZaB3Oi4+U1IJRbImgaaOw1nocL60pwMpc2/EnPRPDMe2iFK3D0NSfqHpmAVBTmejSGQuAukyLuYIyYgHw1AtAQjHr0lRzJZaj1TUBUScuuob6v+A+2VyMjzfZzsNJjAjG7OHpIoQudIzUtNDpY/CNCIig5wVbSzDvryI58qTIYLw+jD/rKGbnBETQNHPnGQHp7GPpDOSTjxmOPxFVzywAeqZxI/ViAdBI2RR0LEYsADa+AGRoh2jcem68oBli2EYkIOrERYRcOFsV88bwdCREGPs8HF/nhpr2dQboX0kCIuj50e/3YuPB4/KwL8uKxm29ONdRUgdGsiWCpo3EW8uxODv+5IlBKegab9zjT0TVMwuAWn4y9OmLBUB95sVUURmxANj4ApC7e8djMM/EMZWu9T5YUScueucqxSedh3PDohyU2p2HM6FnW1zeMUaE8IWN8f/ZO+/4Kqptj//SCwkEQiC0AAmhiCCKBURRAaUpIIJXkWIXu1iuoCKiKNgLFhQVEVCvFBEbKGJBBQuIKCIkgQBphARIQkg/eZ85PubkhIScMmXvmd/8866cmbXX+q7fmbfzOzN7U9PSto6J10FAdD2XVTpw1dIUVDhcK55O7d8GfdtFs58kUCcB0TXNtvlH4J4v0pF60LX8yeiTmmHSqS38Cyrw1bLqmQagwKIyKDUagAaB5jD1E7CaAVhYVoUJy1LcCn5xWAd0aBpOGZCAMARknbgIA7CBRF74KQvf7Hath3NGm0Z46Hxrr4djdm+oabM7wPG1JCC6nv/IKcbDX+9TSw4MABZdloyosCAtMTCWhQiIrmkLoTalFGU5AGVZgGNHx6ZheGFYR1NyMWJQWfVMA9AIdYg9Bg1Asftji+ysZgD+nl2MR9a5JsWhQQH44PLOCFJmxzxIQBACsk5cBMHXYBrf7S7Acz9lq+eFBwdg8ZhkhAQFNngtT/CNADXtGzdeJSYB0fVc+4/95NhwPDOEax2LqSYxshJd02JQkjeLbfuP4oG1e90KWDi6E2IiguUt6gSZy6pnGoCWlKNXRdEA9AoXT9aDgNUMwGV/5WPRH65Fsbs05wYgeuiGMf0jIOvExb+qjbu6oLQSk5anwvVyHGD19XCMo1v3SNS02R3g+FoSEF3P965OR0q+63W/Md1jMaFXnJYIGMtiBETXtMVwG15ORVU1xi9LQWmlQx17ytmtcH7HJobnYsSAsuqZBqAR6hB7DBqAYvfHFtlZzQDkBiC2kK30Rco6cZEJfO0/kC/t1gxXn2bd9XDM7g01bXYHOL6WBETW85GyKucf+vyBQ8uOWz+WyJq2Pn1jKnz8uwz8knFEHez8jo0x5ezWxgxu8Ciy6pkGoMFCEXA4GoACNsVuKVnNAOQGIHZTsJz1yjpxkYn2kj8O4MO/XOvhtI8Jw0vDrbsejtm9oabN7gDH15KAyHresLcIc9ZnquUqS50sGZuMUC5xoKUELBdLZE1bDrZJBX2+8xBe/3W/OnpMeBAWjO6EwADrLYMkq55pAJr05RBoWBqAAjXDrqlYyQDkBiB2VbF8dcs6cZGJ9Pbco5j6lft6OG9fmoTYyBCZypAmV2pamlYxUQ8IiKzneb/k4IuUw2oVveIjMXNgggdV8RQ7ExBZ03bui5a1ZxeVY/KqXW4hnx/aAYnNrLcRoqx6pgGopeLljEUDUM6+WSprKxmA3ADEUtK0dDGyTlxkakqVo9q5I3hxhWs9nNv7xGNQUoxMZUiTKzUtTauYqAcERNbzzat2IauoXK1iYq84XNY91oOqeIqdCYisaTv3Revab/o4DTlHKtSwk3rFYbQF7w+y6pkGoNaKly8eDUD5ema5jK1kANbeAKRzbDie5q54ltOsFQqSdeIiG/sn12fip71Fatr9EqLx33PbyFaGFPlS01K0iUl6SEBUPR8orsD1K9Pcqnh2SAd0irXeEz4etoqneUhAVE17mD5P85BA7SeEe7aMxGODrPeEsKx6pgHooZAtfBoNQAs3V5bSrGQAzvk+Exv2uf7YH5ocg8lnxsvSCuZpIwKyTlxka9FXqYfx8s85atpRoYF497JkBAVabz0cs3tDTZvdAY6vJQFR9bw27TDmbnTd06JDA7GQ9zQtW2/ZWKJq2rLATSps474izP7etUZocOC/a4SGBwealJE+w8qqZxqA+uhBpqg0AGXqlkVztZIBeMPKNOQWux575+t+FhWtBcqSdeIiG/q8oxW47iP3p2WevKg9usZFyFaK8PlS08K3iAl6QUBUPT/3Yxa+Sy9UK+nbLhpT+/OpZi9aa9tTRdW0bRuiU+FHK6pw1dIUOGpsEz79/LY4vU2UTiOaE1ZWPdMANEcvIo1KA1Ckbtg0F6sYgEVlVRi/LMWtiy8M64COTflajE2lLXTZsk5chIZaT3K3f7oLewtc62Vd0SMWV/aMk7EUoXOmpoVuD5PzkoCIeq6ursbVK1JxuLRKrWbyGS0xtHNTL6vj6XYkIKKm7dgHI2qe9uUe/H2gRB3q4i5NccPpLY0Y2rAxZNUzDUDDJCLsQDQAhW2NfRKzigG4NacY07/epzYuJDAAH/ynM5RH33mQgGgEZJ24iMbRk3wWbM7Fyu0H1VO5Nqgn1Lw/h5r2nhmvEJeAiHrec7gMd3y22w3avBGJaBUdKi5IZiYMARE1LQwciyXy4Z95WLI1T62qTeNQvHpJoqWqlFXPNAAtJUOfiqEB6BM2XqQlAasYgCu352PB5gMqmqRm4XhuaActUTEWCWhGQNaJi2YADAy0JbsYM9a5fhxQfhJ4d0wyGocFGZiF9Yeipq3fYztVKKKeP/nnIN7clKu2oUWjYLwxMgkBAfyh007a9LVWETXtay287sQEUvJLcO/qPW4nzR+ZhBZRIZZBJ6ueaQBaRoI+F0ID0Gd0vFArAlYxAGuvi3NhUhPc1qeVVpgYhwQ0JSDrxEVTCAYFK69yONfDKa9yLYhzT7/W6N+hsUEZ2GMYatoefbZLlSLqeda3+/BrZrHagkFJTXA75zl2kaTfdYqoab+LYoA6CVQ5qjFpeQqKyh3q57eeFY+LOsVYhpiseqYBaBkJ+lwIDUCf0fFCrQhYxQCsvc7XTWe0xDCui6OVTBhHYwKyTlw0xmBYuEe/2YdNWa4/nAckNsGdffkDgZYNoKa1pMlYZhMQTc+VjmrnDxmlla4/6PlDhtkqkWt80TQtFz35sn36h0z8sKdITfzshGjcf651NgySVc80AOX7LmmdMQ1ArYkyntcErGAAllU6cMWHO912vJpzUQK6xUV6zYMXkIARBGSduBjBRo8xPt1xEPN/c7061zQ8CAtGd+KrcxrCpqY1hMlQphMQTc/bc49i6ld73bgsHN0JMRHBprNiAnIQEE3TclCTN8u1aYcxd2OOWkCj0EAsuiwZQRZZG11WPdMAlPc7pVXmNAC1Isk4PhOwggG4M68E961xrXWhrIbz/uWdERES6DMXXkgCehKQdeKiJxM9Y2cVluPmT3a5DcFdwrUlTk1ry5PRzCUgmp4/+DMP79dY1L9DTBheHN7RXEgcXSoComlaKngSJpt3tALXfZTmlvmTF7VH17gICas5PmVZ9UwD0BLy86sIGoB+4ePFWhCwggG4OuUQXvtlv4rDirtdadFrxhCHgKwTF3EIepdJdXU1Jq/ahZwjFeqFE3vF4bLusd4F4tn1EqCmKQ4rERBNz9O+3IO/D5SoiEd0bYrrere0EnLWojMB0TStc7kMD6D28khX9miOK3o2twQbWfVMA9AS8vOrCBqAfuHjxVoQsIIB+OrPOViTeljFcW77aNx7jnXWudCiz4whFgFZJy5iUfQum3m/5OCLFNd9okfLSMwalOBdEJ5NA5AasAUBke7RJRXKRkY7UWMfI0w/vy1ObxNli16wSG0IiKRpbSpilIYIvLVpP1b9c0g9rUvzCDw1uH1Dl0nxuax6pgEohbx0TZIGoK54GdwTAlYwAO9dnY6U/FK13Em94jCaT/Z40n6eYxIBWScuJuHSZNifM4rwxHeZaqzgQGDRmGREhgRpEt/uQahpuyvAWvWLpOffMo/gsW8zVMBBAcCSsVzmxFqK078akTStf7UcQSGwOesIZn7juncoy/8tHpOMRqHyz3tk1TMNQH43aQBSA6YTkN0AVLa6VzYAKa/x0/jMAe3Qq1Uj09kyARKoj4CsExeZO3q0ogoTlqWgxiaaeOC8NjirbbTMZQmTOzUtTCuYiAYERNLz25v24+MaT/GcFBeB2RdZ4ykeDVrFEB4SEEnTHqbM0/wkoGySOG6pMu+pViNZZd4jq55pAPopagtcTgPQAk2UvQTZDcC9h8tw+2e73dqw6LJOaBzOnfFk16aV85d14iJ7Tx5auxd/7j+qljE0OQaTz4yXvSwh8qemhWgDk9CIgEh6vvOz3Ug/XKZWZqV1vDRqF8N4QEAkTXuQLk/RiEDtec/wLk1x4+nyrx8qq55pAGokbInD0ACUuHlWSV12A/Db3QV4/qdstR2xkcF4+9JOVmkP67AoAVknLrK3Y/m2fLy75YBaRsuoELw+IhEBAcre4Tz8IUBN+0OP14pGQBQ9Hy6txKTlqW545lyYgG4tIkVDxnwEJyCKpgXHZLn0lv6Vh8V/5Kl1tW0cilcuSZS+Tln1TANQeun5XQANQL8RMoC/BGQ3ABdszsXK7QdVDGe0icJD57f1FwuvJwFdCcg6cdEVigHBdx8qxV2fp7uN9NoliWjdONSA0a09BDVt7f7arTpR9Px9eiGe/TFLxR8eHIglY5MRrCzmxYMEvCAgiqa9SJmnakBgZ14J7luzxy3SW5cmoXlkiAbRzQshq55pAJqnGVFGpgEoSidsnIfsBuD0tXuxtcYrff/pEYtxPeNs3FGWLgMBWScuMrA9UY7V1dW4ZkUqDpVWqafdcHoLXNylmeylmZ4/NW16C5iAhgRE0fPcjdlYm1agVnZ660aYfkE7DStlKLsQEEXTduEtSp3KWukTlqeguNyhpnRn31YYkNhElBR9ykNWPdMA9KndlrqIBqCl2ilnMTIbgMof8+OXpeBIjf+nNq1/G/Rpx0X95VSjfbKWdeJihQ69uCEb63a5/qDu3boRHuYf1H63lpr2GyEDCERABD0rc5wbVqbhwNFKlcx1vVtgRFf+YCGQVKRJRQRNSwPLYonO+T4DG/YdUas6v0NjTOnXWuoqZdUzDUCpZadJ8jQANcHIIP4QkNkAzD1SgRs+TnMrf/7IJLSIkvuxdn/6yWvlICDrxEUOuifOsvYrdaFBAc5X6kKDAq1Qnmk1UNOmoefAOhAQQc/ZReWYvGqXW3UvDe+I9jFhOlTMkFYnIIKmrc5Y1Pq+2HkI837dr6bXNDwIC0Z3knr9Y1n1TANQ1G+JcXnRADSONUeqh4DMBuDGfUWY/X2mWllUaCAWj0mW+v+hUaj2ICDrxMUK3Sksq8LEZSmorlHMzAHt0KtVIyuUZ1oN1LRp6DmwDgRE0PPqlEN47RfXH+0x4UF4R/I/2nVoFUN6SEAETXuYKk/TmEBWYTlu/sRaPybIqmcagBqLW8JwNAAlbJrVUpbZAHxv6wH87898tSU9WkZi1qAEq7WI9ViQgKwTF6u04r7V6diZX6qWM6pbM1xzWgurlGdKHdS0Kdg5qE4ERNDzk+sz8dPeIrXC/h0a4x7JX9vTqV0M6wEBETTtQZo8RQcCynICN36chtxi6ywnIKueaQDqIHDJQtIAlKxhVkxXZgNw1rcZ+DXTtabFyK5NcW3vllZsE2uyGAFZJy5WacP7Ww/ggxo/HiQ0CcXcixOtUp4pdVDTpmDnoDoRMFvPysL9k5anoKjGGse394nHoKQYnSpmWKsTMFvTVucren21NxSSff1jWfVMA1D0b4r++dEA1J8xR2iAgMwG4LUfpSK/xuLYU85uhfM7yr2rFQVrDwKyTlys0p0deSX475o9buW8OSoJcY24fqivPaamfSXH60QkYLaeU/NLcc/qdN6jRBSHpDmZrWlJsVkm7drrH4cHB2DxmM4ICQqQskZZ9UwDUEq5aZo0DUBNcTKYLwRkNQAPHy3HhOWpbiXPHd4RCVwc2xcZ8BqDCcg6cTEYk27DKU/XTFzuvoP4bWfF48JOfLrGV+jUtK/keJ2IBMzW84pt+Vi45YCKpnV0KF4bwaeURdSKLDmZrWlZOFk1z4LSSkys9XfTExcmoHuLSClLllXPNACllJumSdMA1BQng/lCQFYDcHNmEWas26eWrOzk+cHlnREUKOcvWb70jtfIS0DWiYu8xI/P/Kn1mfixxvpa/RKi8d9z21ipRENroaYNxc3BdCZgtp5nfL0XW3KOqlUOTY7B5DPjda6a4a1MwGxNW5mtLLXd9flu7D5Upqb7nx6xGNczTpb03fKUVc80AKWUm6ZJ0wDUFCeD+UJAVgNw2V8HsPB316/jybHheGZIB18Q8BoSMJyArBMXw0HpOOBXqYfx8s856gjRoYFYeFkyf0TwkTk17SM4XiYkATP1XF7lwFVLU1Be5dqrfOq5bdA3IVpIVkxKDgJmaloOQtbPcsHmXKzcflAttEvzCDw1uL2UhcuqZxqAUspN06RpAGqKk8F8ISCrAfjM+gx8l16oljy4UwxuOYu/jvuiAV5jPAFZJy7Gk9JvxAPFFbh+ZZrbAM8MaY/k2Aj9BrVwZGraws21YWlm6nlrTjGmf+16w0F5r2HxmGREhQXZsBMsWSsCZmpaqxoYxz8Cm7OOYOY3GWoQ5aUp5d7SKFS+e4useqYB6J+GrXA1DUArdFHyGmQ1AG9blYY9Ba7H2G86oyWGdW4qeTeYvl0IyDpxsVp/bv1kFzIKy9WyrurZHJf3aG61Mg2ph5o2BDMHMYiAmXpetOUAlm3LVyvt1Cwczw7lGw4Gtd6yw5ipactClaywskoHxi1NQaXD9XTxA+e1wVlt5Xu6WFY90wCU7EujQ7o0AHWAypDeEZDRANyXmYWx7/+DGm/HYM6FCegm6UK23nWMZ1uBgKwTFyuwr1nD/N/249Mdh9R/OikuArMvkvN1GLN7Q02b3QGOryUBM/V87+p0pOSXquVcdlIzTDy1hZblMZYNCZipaRviFrbkh9buxZ/7XeuLDu/SFDee3lLYfOtLTFY90wCUTmqaJ0wDUHOkDOgtARkNwB//3o27PtvtVur7lycjMkS+R9i97RfPtwYBWScu1qDvquK3zCN47FvX6zBByuswY3kv8aXP1LQv1HiNqATM0vOR8ipMWJaCGg/o4NGB7XBKfCNRUTEvSQiYpWlJ8NgmzaV/5WHxH3lqvW0bh+KVS+TbYVxWPdMAtM1Xrd5CaQBSA6YTkNEAXPLjP3jhpyyVXXxUCF4fmWQ6SyZAAp4SkHXi4ml9spxXWqkstr8TlQ5XxrK+DmM2c2ra7A5wfC0JmKXnjfuKMPv7TLWU0KAALBmbjNCgQC3LYywbEjBL0zZELXTJO/NKcN+aPW45vnVpEppHhgidd+3kZNUzDUCpZKZLsjQAdcHKoN4QkNEAnPXpFnxcYxerPu2iMK1/W2/K5rkkYCoBWScupkLTafDar8MMTY7B5DO5oZC3uKlpb4nxfJEJmKXn13/Nwec7D6toesZH4rGBCSKjYm6SEDBL05LgsU2aVY5qTFieguJy1y+fd/ZthQGJTaRiIKueaQBKJTNdkqUBqAtWBvWGgIwG4HWLNmJrjmv9iit6xOLKnnHelM1zScBUArJOXEyFptPgymL7yqL7x45W0SGYN4JPFHuLm5r2lhjPF5mAWXq+5ZNdyKyxMdGEXnEY0z1WZFTMTRICZmlaEjy2SnPO9xnYsO+IWvP5HRpjSr/WUjGQVc80AKWSmS7J0gDUBSuDekNANgOwuroaA+d+j6KyKrXMqf3boG87+Xaw8qZPPNdaBGSduFirC/9Ws+tgKaZ8ke5W2usjEhEfHWrFcnWriZrWDS0Dm0DADD3nHa3AdR+luVX7zJD2SI6NMIEAh7QaATM0bTWGVqnni52HMO/X/Wo5TcODsGB0JwQEBEhToqx6pgEojcR0S5QGoG5oGdhTArIZgLlFZRg+70f+se5pg3mekARknbgICdPPpBzV1bh6eSoKavyocPOZLTEkuamfke11OTVtr35bvVoz9LxuVwFe3JCtoo0KDcS7lyUjKFCeP8qtrguZ6zND0zLzsnLu2UXlmLxql1uJLw3viPYxYdKULaueaQBKIzHdEqUBqBtaBvaUgGwG4I+78nDX8q1qeRHBgXjv8mQESvSrlae94XnWJSDrxMWqHXn2xyx8n16olte3XRSmcl1Rr9pNTXuFiycLTsAMPT//Yxa+5X1IcGXIm54ZmpaXlrUzV96muvHjNOQWV6qFXte7BUZ0bSZN4bLqmQagNBLTLVEagLqhZWBPCchmAC7YmI5X17t+teoWF4E5F7X3tFyeRwJCEJB14iIEPB2SqP3kTaOQQCwawydvvEFNTXtDi+eKTsBoPSt/kF+zIhWHSl3Lm0w+oyWGduaTyKJrRZb8jNa0LFzsmufcjdlYm1agln9660aYfkE7aXDIqmcagNJITLdEaQDqhpaBPSUgmwH44Cd/4ct/ctXyuGOnp53meSIRkHXiIhJDLXPJP1qBa2utvTXnogR0i4vUchhLx6KmLd1e2xVntJ73FpTh9k93u3F+7ZJEtG7MtUhtJz6dCjZa0zqVwbAaEVDeelDefjh2hAcHYPGYzggJkmPJAVn1TANQIwFLHIYGoMTNs0rqshmAl7+9EbvzXTsAc60uqyjRXnXIOnGxcpfu+Gw39hwuU0vk7uLedZua9o4XzxabgNF6/uSfg3hzk+vHzeaRwXhzVJJUi/KL3VFmZ7SmSVxsAgWllZi4PNUtyTkXJqBbCzl++JRVzzQAxf5eGJEdDUAjKHOMExKQyQCMiY3DeS9+B0e1q6SnBrdHl+bcIY8yl4uArBMXuSh7l+2CzblYuf2gepFyX1HuLzw8I0BNe8aJZ8lBwGg9z/o2A79mHlHhDExsgjv6tpIDFrOUgoDRmpYCis2TvPOz3Uiv8cPnuJ7N8Z8ezaWgIqueaQBKIS9dk6QBqDHevLw8fP755/j999+h/O/g4GDEx8ejb9++GDx4MMLCtNndaMuWLVi7di1SU1NRWFiIxo0bo1OnThg0aBB69erlUVWK8bZu3Tr88MMPyMjIQGlpKZo1a4YePXpg2LBhaNu2rUdx/D1JFgMwoKwUBwrKcN1Xrh3ylIfUP/hPZ4QHB/qLgdeTgKEEZJ24GArJ4MF+z43TJEYAACAASURBVC7GI+v2qaMqG28uuiwZUWFBBmci53DUtJx9Y9Z1EzBSz1WOaly1NAUllQ41mbvPboXzOjZhe0hAMwJGalqzpBlIVwJvbtqPT/45pI5xcstIPD4oQdcxtQouq55pAGqlAHnj0ADUsHebN2/GSy+9hKNHXa+H1gzfunVrTJs2DcoXz9dDWaR5/vz5TvOvvkMxAW+44YYTvrZRVFSEOXPmICUlpc4wISEhuO666zBgwABfU/X4OpENQIU3dvwJxzefA1s2Ym2L3ni161i1tlaOI3jtjFCgSw++JuNxx3miCARknbiIwE6vHMoqHRi/LAXlVa5HjO8/tzXOTmis15CWiktNW6qdti/GSD3/c6AE93+5x435wtGdEBMRbPs+EIB2BIzUtHZZM5KeBH7JKMLj32WqQwQHBuC9sckIk+DBCln1TANQT0XLEZsGoEZ9Sk9Px/Tp01FWVobw8HCMGjUKJ598MsrLy/Hjjz/i66+/do7Upk0bzJ4923mOL8f777+Pjz76yHlpx44dMWLECKehuH//fqxatQq7d/+7gPPo0aNxxRVX1DmEw+HAzJkzsX37dufnZ555pvPJwaioKKchuGLFChQUFEC5sU2dOtXjJwp9qUe5RlQDsHpPGhxvPw9k7VVLe7PTCHze9hz1v/vmbsV9fy8GWicg8NopCGif5CsGXkcChhKQdeJiKCQTBpuxbh+2ZBerIw/uFINbzoo3IRP5hqSm5esZM66fgJF6/t+feXhva56aTPsmYXjp4o5sDwloSsBITWuaOIPpRqC4vMr5w2fNpZUeHdgOp8Q30m1MrQLLqmcagFopQN44NAA16p1iqG3btg1BQUFOc61z585ukRVzbvHixc5/u/zyyzFmzBivR87JycGUKVOchllSUpJznNBQ1+5sivn4yCOPIC0tzZnH888/73z9uPbx7bff4tVXX3X+80UXXYTrr7/e7RRlnPvvvx8lJSVo1aoVnnvuOWc8vQ4RDcDqv3+H49XZQFmpW9nTe92EbTEuk+/K3asxds+6f88JC0fgLdMQcNKpeqFiXBLQjICsExfNAAgaaOX2fCzYfEDNrkWjYLwxkgvxe9IuatoTSjxHFgJG6vmBr/ZgW26JiuaSrk1xfW/f31aRhTHzNJaAkZo2tjKO5g+Be1enIyXf9ffWmO6xmNArzp+Qhlwrq55pABoiD6EHoQGoQXuUdfgeeOABZyTlSbobb7zxuKjKU3f33HMPMjMz0ahRI+drvMr6gN4cb775Jr788kvnJbNmzTrOZFT+fefOnXjooYec5wwZMgTXXnvtcUPcfffdzjX/lDzmzZtX57qEK1euxHvvvee8Vjm/T58+3qTq1bmiGYDOJ/+ennac+ae8lDex3yMoDnHtTjX1z3dwZv7frnoVE/C+2XwS0CsF8GQzCMg6cTGDlZFjph8qxZ2fp7sN+eoliWjT2PVjj5H5yDQWNS1Tt5hrQwSM0nNppQNXLd2JGsv/Yfr5bXF6m6iGUuTnJOAVAaM07VVSPNl0Au/+novlf9fcAC0cTw3uYHpeDSUgq55pADbUWet/TgNQgx7XfC338ccfR3Jycp1Ra5pqiknXs2dPj0dX1qK7+eabcfDgQedrxMrTffUdd911F7KyshAbG+t80i8gQNmq4t8jOzsbd955p/N/X3jhhc61Aus6Dh8+rBqZ55xzDu644w6Pc/X2RJEMQIWz45Hb3V77PVbPgbAY3NT3X6P32DFvwxNoUXbYveQ27RE44yWuCeitEHi+oQRknbgYCsmEwZR70DUfpeFQSaU6+o2nt8TwLk1NyEauIalpufrFbE9MwCg9b846gpnfZKjJBAUAi8cmIzJEvzc/2Ht7EjBK0/akK2/VyrInyvInxw5lA7QlEtyDZNUzDUB5vytaZU4DUAOSM2bMcK6np+zw+84779T7umzNp/OUV4CVV4E9PZQ1/m6//Xbn6fU9ZXgs1htvvKFuEvLyyy+jRYsW6jDKrr/KU3/KoRiB/fr1qzcF5XPFMGzevLn6yrCn+XpznlAG4D9b4Xj23ycoax+/xnbD7B7XqP/cqOIo3v3xEbjsVdcVgfc+joAuPbzBwHNJwFACsk5cDIVk0mAvbsjCul2F6uhntInCQ+cbsyu7SSVrMiw1rQlGBhGEgFF6XrA5Fyu3u56+6RYXgTkXtReEAtOwEgGjNG0lZnaoRdkAbZyETyHLqmcagHb4Vp24RhqAGmhA2S1X2VW3ffv2ePrpp+uNeOTIEfWVXOWVWuXVWk8PZYdhZdde5Zg0aRKGDx9e76Wffvop3n33XefnyiYep512mnruokWL8Mknnzj/+6mnnkKHDvU/Yq18/ttvvzmfZFu4cKHPG5c0VKNIBmDVvDnApp/qTHlp+wF4v+MQ9bOTDu/CrC3/mqm1j4De/RA4+f6GSufnJGAaAVknLqYBM3Dg73YX4LmfstURw4MDsXhMMkKUR3N41EuAmqY4rETAKD3f9flu7D5UpqK7okcsruwp/vpbVuq1XWoxStN24WmlOmuvQzqqWzNcc5rrARYRa5VVzzQARVSTsTnRAPSTt7LL7/jx451RFKNNMdxOdEyYMMG5U7DymrDyurCnh7L2n7IGoHI0tCbfxo0bnRt3KIfyiq/yqu+x44UXXsBPP/1rcCnxGjduXG8Kb731FtasWeP8XLmudevWnqaL/Pz8Bs+NiYlxPi2pGIAHDrgWvW/wQp1OqC45iso7rgAcjjpHePqk8djQwvXa9rCMH3B96qq6swkMRPBLHyAgwrVeoE5pMywJ+ERAmbgcezo4NzcXyjqlPMQgcLikEhOW7XRL5omL2qNHS/F3xTOTIDVtJn2OrTUBI/RcUFqJ8Uvd7zVzBndA9xacu2jdT8YDjNA0OctJ4P0/DuC9ra6/BRObhePF4YlCFyOrnuPi4nTd3FPopjE5JwEagH4KobCwUN1F9+yzz4ay/t6JDsWQKygoQLt27fDss896PHrNXYSVDUd69epV77W///47Zs+e7fxcMRwvueQS9Vzl35XPlUPZlbjmLsK1AyqfK+Mqh/L0YWKi5zdiT15vfu2115zrFIpyVOzdhZyb638t+7Yz70NWpOtX8Vv+WYpBOb/Wm378a0sRktBRlPKYBwmQgEQExi/8BTtyj6gZX9OnPW4517UDuUSlMFUSIAFBCXz5z348+Mk2NbuIkCB8ffu5CAkKFDRjpkUCJGBFAr9nHMaN729WS1Ped/jytnMRExFixXJZEwmYSoAGoJ/48/LycMsttzij9O/fH7fddtsJIyobeShPxymP386dO9fj0ZctW4YPP/zQef7DDz+Mk08+ud5r//rrLzz66KPOz//zn//gsssuU89V/l35XDk++OAD569x9R3/+9//sHz5cufHynVdu3b1OF8ZDcCyHX8h9+6r66yxNDAEV537GKoDXLye3PQSkotcC2fXvrDFc+8grEv9ffIYJk8kARKwHYGXv0/Dwp/3qHV3i4/GuxPOsB0HFkwCJKAfgVlrtuPjra7lBvolxuKFy07Rb0BGJgESIIE6CFRUOXDBS99DWQ/w2PHkyJMxoLPYrwGzmSQgIwEagH52jU8A1g1QyleAs/aicvq/Zm7tY2d0O0zt/e8mLMoRWO3AkvUPIczh2qmz9jXBj72GgNbt/FQYLycBfQjI+uqCPjTEi7o1pxgPfuUyAJVfwxeN7Ywm4cHiJStIRtS0II1gGpoQMELP161IQW5xhZrvdb1bYtRJ4ryZoQlIBhGGgBGaFqZYJuI1gYfX7sHv2cXqdcO7NMXkM1t5HceoC2TVM18BNkoh4o5DA9DP3nANQD8BAs41AJVdjs0+lDUAHXeNq3MNwOLgcGxrkoj0qNZIj2qFssAQTP/z7fpTDgpC4PNLuAag2U3l+PUSkHXxYru0VPk1/KqlKSirqlZLvqdfa/TvUP+6rXZhU1+d1LTdFWCt+vXWc05ROW5atcsN2ovDOqBD03BrgWQ1whDQW9PCFMpEfCKwfFs+3t3iWgewbeNQvHKJ58tP+TSoHxfJqmduAuJH0y1yKQ1ADRppxC7AmzZtwpNPPunM1p9dgJXdgZVdgpWDuwAf3/wT7QLsjVS4C7A3tHiuGQRknbiYwcqsMR/9Zh82Zbl+DR+Y2AR39BX313CzOB0bl5o2uwMcX0sCeut5TcphvPpLjppyk/AgLBzdCQEB3G1cyz4ylouA3poma7kJpOSX4N7VrjcflGoWjO6EZhFivvkgq55pAMr9PdEiexqAGlCcMWMGtm/fjrCwMLzzzjv17qyzc+dOPPTQQ84Rx4wZA0/WyTuWnvKE3O23//sK6qBBg3DjjTfWm/kbb7yBtWvXOj9/+eWX1Z0+lf9et24d5s2b5/zszjvvRL9+/eqNo3yenZ2N5s2b49VXX9WAVN0hRHkCUMmu+p+tcDz7b4/8OQLvfRwBXXr4E4LXkoCuBGSduOgKRbDgn/xzEG9uylWzio0IxluXJvEP9Hr6RE0LJmCm4xcBvfX81PpM/Li3SM2xf/vGuOec1n7lzItJ4EQE9NY06ctNoMpRjQnLUlBc4VoH8O6zW+G8jk2ELExWPdMAFFJOhiZFA1AD3O+99x5WrlzpjPT4448jOTm5zqjKOcq5yvHggw/ilFM8X2i5uroakydPxqFDh9CmTRs8//zz9WY+ZcoUZGZmolmzZlB22q35a25WVpa6U/GFF14IZVfiuo7Dhw+rJqNiEipmoF6HUAZgdTUcj9wOZO31vdw27RE44yX+ke47QV5pAAFZJy4GoBFmiIyCMtz66W63fOZe3BEJTcKEyVGkRKhpkbrBXPwloKeeHdXVmLg8FUVlVWqat/eJx6CkGH/T5vUkUC8BPTVN7NYg8Ph3Gfgl44hazKCkJri9j5hvPsiqZxqA1viu+FMFDUB/6P3/tampqXjggQec/1Xf03kOhwP33HOP05hr1KgR5s+fj+Bg7x5pfvPNN/Hll186x5k1axY6d+58XPY1nzK86KKLcP311x93zjGDMCoqymkQKk8u1j5qmpXK+X379tWAVN0hRDIAlQyr96TB8fQ0oKzU+5rDwhF432wEtE/y/lpeQQIGEpB14mIgItOHUn74uX5lGvKOujYbuva0FhjZrZnpuYmYADUtYleYk68E9NTzroOlmPJFultqb45KQlyjEF/T5XUk0CABPTXd4OA8QQoCtd98aBkVgjdGivk3lax6pgEoxVdB1yRpAGqE99hrwEFBQZg5c+Zx5tyqVauwePFi52h1vf67bds253XKcd555+HWW289LjPl6T3FRFQMs6SkJOf5oaGh6nnKhiRKHmlpac7XkJ977jm0anX8ryY1XwMePHgwlDUMax45OTm4//77UVJSAuUm8cILL9T7WrMW+EQzAJWaqv/+HY5XZ3tnAirm3y3TEHDSqVpgYQwS0JWArBMXXaEIGHzuxmysTStQMzutVSPMGMDdxetqFTUtoICZks8E9NTzir/zsfB312L7raJDMG+EmH9k+wyQFwpHQE9NC1csE/KJQPqhUtz5ufuPE2+MTETLKNffuz4F1uEiWfVMA1AHMUgWkgagRg3bvXs3pk+fDsWECw8Px6WXXoru3bs7//unn35S1+RTDLk5c+YgIiLCbWRPDEDlgpqvG3fs2BEjR450mnTKGoEff/wxlDyUY9SoURg3blyd1SlPIypG4Y4dO5yfn3XWWRg4cCCUJwKVpxmXL1+OgoIC5yusU6dOxamn6mtoiWgAOk1A5UnAt5/37HVg5bXfa+7ik38afZ8YRn8Csk5c9Ccj1gg/7CnE0z9kqUmFBgVgydhkhAYFipWoANlQ0wI0gSloRkBPPc9Ytw9bsl0bDA1JjsHNZ8ZrljsDkUBdBPTUNIlbg4CyPMHVy1NRIMHyBLLqmQagNb4r/lRBA9AferWu/e233zB37lznk3N1HYr5N23aNMTHHz/J8tQAVMy7119/Hd988029mQ8YMMC5fp9yY6rvKCwsxOzZs51PC9Z1KK8nX3vttc5XmvU+RDUAnSZgdTWw8y84vvkM+H0j4HAtTIugIAT06oOAC4YBnU/mmn96C4XxNSUg68RFUwgSBFPW6FIWxa6ukeujA9vhlPhGEmRvbIrUtLG8OZq+BPTSc0WVA+OWpqC8ynVXuf/c1jg7obG+BTG67QnopWnbg7UYgNobFJ3XoTHu7ifeBkWy6pkGoMW+MD6UQwPQB2gnuuTAgQP4/PPPsXnzZhw8eNC5zp9i+PXp0wdDhgypc709JZ6nBuCxsZX4yk6/ioFXVFSE6Oho52vBysYenj6xpxhvX3/9NX744Qfn2oSlpaXOjUNOPvlkDBs2DO3aGfOamcgGYM1eB5SVonlQABwlxThYXAJHk6YIiIjUWEEMRwLGEJB14mIMHbFGuXd1OlLyXWuSXtqtGa4+rYVYSQqQDTUtQBOYgmYE9NLzn/uL8dDafWqeAQAWjUlGdFiQZrkzEAnURUAvTZO2tQisTjmE137ZrxbVNCIYCy5NEu5BC1n1TAPQWt8XX6qhAegLNV6jKQFZDEBZb/SaNovBLEOAepanlUv+OIAP/8pXE+7YNAwvDOsoTwEGZUpNGwSawxhCQC89L95yAEu3ue4nSc3C8dzQDobUxEHsTUAvTdubqvWqzyosx82f7HIr7JWLO6Jtk+M3rTSzeln1TAPQTNWIMTYNQDH6YOssaADauv0s3iQCsk5cTMJl6rDbco/iga/2uuXwzuhOUH4V5+EiQE1TDVYioJee71udjp01nigefVIzTDqVTxRbSTui1qKXpkWtl3n5RkBZfum6lWnIP1qpBrjpjJYY1rmpbwF1ukpWPdMA1EkQEoWlAShRs6yaKg1Aq3aWdYlMQNaJi8hM9cqt0lGN8UtTUFLpWoN0ytmtcH7HJnoNKWVcalrKtjHpegjooefi8iqMX5YCR41FRWcOaIderbimKIWoPwE9NK1/1hzBDAIv/JSFb3YXqkP3bReNqf3bmJFKvWPKqmcagELJyJRkaACagp2D1iRAA5B6IAHjCcg6cTGelBgjPvFdBn7OOKImc37HxphytniLYptJi5o2kz7H1pqAHnr+eV8Rnvg+U001JPDfXcXDgrmruNb9Y7zjCeihaXK2JoF1uwrw4oZstbjo0EC8OyYZgQHKqqViHLLqmQagGPoxMwsagGbS59hOAjQAKQQSMJ6ArBMX40mJMeLnOw/h9V9di2LHhAdhwehOQk2GzSZFTZvdAY6vJQE99PzGrzn4bOdhNc2eLSPx2KAELdNmLBKol4AemiZuaxI4UFyB61emuRX3/NAOSGwWLkzBsuqZBqAwEjItERqApqHnwMcI0ACkFkjAeAKyTlyMJyXGiNlF5Zi8yn1R7BeGdUDHpuJMhs0mRU2b3QGOryUBPfR86ye7kFFYrqY54ZQ4jDk5Vsu0GYsEaABSA5oQmLwqDdlFFWqs63q3wIiuzTSJrUUQPe7RWuTVUAwagA0Rsv7nNACt32PhK6QBKHyLmKAFCcg6cbFgKzwu6aaP05BzxDUZnnRqHEafxD/ejwGkpj2WEk+UgIDWes4/WoFrP3J/ouaZIe2RHBshAQ2maAUCWmvaCkxYQ/0EXt6Yja/SCtQTzmobhQfOaysMMln1TANQGAmZlggNQNPQc+BjBGgAUgskYDwBWScuxpMSZ8TXfsnB6hTX63unxEfi0YF8fY8GoDgaZSbaEdD6Hl17Ta1GoYFYdFkyggLFWVNLO3qMJCIBrTUtYo3MSTsC3+4uwPM/udYBjFLuWQKtAyirnmkAaqdRWSPRAJS1cxbKmwaghZrJUqQhIOvERRrAOiS6YV8R5nAB/3rJUtM6iI4hTSOgtZ6f/ykL39bYVbNPuyhM6y/O0zSmgebAhhHQWtOGJc6BTCGQd7QC19V6almkdQBl1TMNQFPkLNSgNACFaoc9k6EBaM++s2pzCcg6cTGXmrmjHymvwoRlKXBUu/KYcUFbnNY6ytzEBBmdmhakEUxDEwJa6rm6uhrXfJSGQyWVam43ndESwzo31SRXBiEBTwhoqWlPxuM58hMQeR1AWfVMA1D+74W/FdAA9Jcgr/ebAA1AvxEyAAl4TUDWiYvXhVrsgvvX7ME/eSVqVSO7NsW1vVtarErfyqGmfePGq8QkoKWe9xWU4bZPd7sV+solHdG2cZiYxTMrSxLQUtOWBMSijiMg8jqAsuqZBiC/aDQAqQHTCdAANL0FTMCGBGSduNiwVW4lf7A1D+//maf+W/smYXjp4o52x+Ksn5qmDKxEQEs9f7rjIOb/lqviiY0MxlujkhAQwPX/rKQZ0WvRUtOi18r8tCEg8jqAsuqZBqA22pQ5Cg1AmbtnkdxpAFqkkSxDKgKyTlykgqxDsv8cKMH9X+5xi/z2pUmIjQzRYTS5QlLTcvWL2Z6YgJZ6fvy7DPyScUQdcEBiE9zZtxVbQAKGEtBS04YmzsFMIyDyOoCy6pkGoGlyFmZgGoDCtMK+idAAtG/vWbl5BGSduJhHTIyRqxzVznUAiyscakLKH/LKH/R2P6hpuyvAWvVrpWflnjF+WQqO1rhnTDm7Fc7vyHuGtRQjfjVaaVr8SpmhlgREXQdQVj3TANRSnXLGogEoZ98slTUNQEu1k8VIQkDWiYskeHVNc873Gdiwz/U0T/8OjXFPv9a6jilDcGpahi4xR08JaKXnHXkl+O8a96eGF4zuhGYRwZ6mwvNIQBMCWmlak2QYRBoCoq4DKKueaQBKI33dEqUBqBtaBvaUAA1AT0nxPBLQjoCsExftCMgbaXXKIbz2y361gCZhQXjnsk4ItPl6XtS0vJpm5scT0ErPH/6ZhyVbXeuGJjQJxdyLE4mcBAwnoJWmDU+cA5pKQNR1AGXVMw1AU+UsxOA0AIVog72ToAFo7/6zenMIyDpxMYeWWKPuP1KOGz/e5ZbUc0M7IKlZuFiJGpwNNW0wcA6nKwGt9PzgV3vwV65r5/BLujTF9adz53Bdm8fgdRLQStPEay8Coq4DKKueaQDa6/tTV7U0AKkB0wnQADS9BUzAhgRknbjYsFV1lnzzqjRkFVWon03oFYcx3WNtjYeatnX7LVe8FnourXTgqqUpqHRUq3weOq8tzmgbZTleLEh8AlpoWvwqmaEeBERcB1BWPdMA1EOhcsWkAShXvyyZLQ1AS7aVRQlOQNaJi+BYDUvv9V9z8PnOw+p4PVpGYtagBMPGF3EgalrErjAnXwlooefNWUcw85sMNYXAAGDJ2GREhgT5mhavIwGfCWihaZ8H54VSExBxHUBZ9UwDUOqvgibJ0wDUBCOD+EOABqA/9HgtCfhGQNaJi2/VWu+qnzOK8MR3mWphwYHKH/adEa78D5se1LRNG2/RsrXQ84LNuVi5/aBKqGvzCDw5uL1FibEs0QlooWnRa2R++hAQcR1AWfVMA1AfjcoUlQagTN2yaK40AC3aWJYlNAFZJy5CQzUwuaMVVRi/NAVVrjf7MP38tji9jX1f7aOmDRQgh9KdgBZ6vuvz3dh9qEzN9T89YjGuZ5zuuXMAEqiLgBaaJll7EhBxHUBZ9UwD0J7foZpV0wCkBkwnQAPQ9BYwARsSkHXiYsNW1VvytC/34O8DXNz/GCBqmt8OKxHwV8+FpZWYsDzVDckTgxLQvWWklTCxFokI+KtpiUplqjoQEG0dQFn1TANQB3FKFpIGoGQNs2K6NACt2FXWJDoBWScuonM1Mr8P/8zDkq156pBtG4filUsSjUxBqLGoaaHawWT8JOCvnn/YU4inf8hSswgLCnAuExASFOBnZrycBHwj4K+mfRuVV1mFgGjrAMqqZxqAVvlG+F4HDUDf2fFKjQjQANQIJMOQgBcEZJ24eFGi5U/dmVeC+9bscavzzVFJiGsUYvna6yqQmrZl2y1btL96fuXnbHyZWqDy6d26ER6+oJ1lebEw8Qn4q2nxK2SGehIQbR1AWfVMA1BPlcoRmwagHH2ydJY0AC3dXhYnKAFZJy6C4jQlrSpHNSYuT8GRcoc6/u194jEoKcaUfMwelJo2uwMcX0sC/ui5uroaN368C7nFFWpK157WAiO7NdMyRcYiAa8I+KNprwbiyZYkINo6gLLqmQagJb8eXhVFA9ArXDxZDwI0APWgypgkcGICsk5c2Fd3Ak+tz8SPe4vUfzynfTTuO6eNLTFR07Zsu2WL9kfP2UXlmLxqlxubF4d1QIem4ZblxcLEJ+CPpsWvjhkaQeCmj9OQc8T1w8Z1vVtgRFdzftiQVc80AI1Qqthj0AAUuz+2yI4GoC3azCIFIyDrxEUwjKan82XqYbzyc46aR3RoIBZeloygQPut80VNmy5HJqAhAX/0vDrlEF77Zb+aTZPwICwc3QkBAfa7L2jYEobyk4A/mvZzaF5uEQJzN2ZjbZpraYOz2kbhgfPamlKdrHqmAWiKXIQalAagUO2wZzI0AO3Zd1ZtLgFZJy7mUhNv9APFFbh+ZZpbYs8MaY/k2AjxktU5I2paZ8AMbygBf/T85PpM/FTjyeD+HRrjnn6tDc2fg5FAbQL+aJo0SUAhINI6gLLqmQYgv0s0AKkB0wnQADS9BUzAhgRknbjYsFUNlnzrJ7uQUViunjf+lOYYe3LzBq+z2gnUtNU6au96fNWzsjbopOUpKOLaoPYWkIDV+6ppAUthSiYRqOtHz+eHdkBiM+OXN5BVzzQATRKvQMPSABSoGXZNhQagXTvPus0kIOvExUxmoo49/7f9+HTHITW97i0i8MSF7UVNV7e8qGnd0DKwCQR81XNqfinuWZ3ulrGddwc3oXUcsh4CvmqaQEmgJgFR1gGUVc80APl9ogFIDZhOgAag6S1gAjYkIOvExYatarDk3zKP4LFvM9TzggKAxWOTERkS1OC1VjqBmrZSN1mLr3pevi0f7245oAJsHR2K10YkEigJmE7AV02bnjgTEIqAKOsAyqpnGoBC6kJwQgAAIABJREFUydmUZGgAmoKdg9YkQAOQeiAB4wnIOnExnpT4I5ZUODB+2U5UOly5PnheG5zZNlr85DXMkJrWECZDmU7AVz0//PVe/JFzVM1/aHIMJp8Zb3o9TIAEfNU0yZFATQKirAMoq55pAPL7RAOQGjCdAA1A01vABGxIQNaJiw1b5VHJD67di7/2u/7oH945BjeeYa8/+qlpj6TCkyQh4IueyyoduGppCioc1WqV0/q3QZ929voxQJIW2y5NXzRtO0gsuEECoqwDKKueaQA2KDHLn0AD0PItFr9AGoDi94gZWo+ArBMX63VCm4qW/ZWPRX/Y+7U/alobLTGKGAR80fOW7GLMWLdPLSAwAFg0JhlRofZaDkCMDjKL2gR80TQpkkBdBERYB1BWPdMA5HeKBiA1YDoBGoCmt4AJ2JCArBMXG7bKo5LrWvj/jZGJaBkV6tH1VjiJmrZCF1nDMQK+6Hnh77lY8fdBFWLn2HA8PaQDoZKAEAR80bQQiTMJ4QjUXgewT7soTOvf1tA8ZdUzDUBDZSLkYDQAhWyLvZKiAWivfrNaMQjIOnERg554WTiqqzFxeSqKyqrU5G49Kx4XdYoRL1mdMqKmdQLLsKYQ8EXPd3+RjrSDpWq+Y7vHYnyvOFPy56AkUJuAL5omRRKoi8C6XQV4cUO2+lF0WBAWXdYJAQEBhgGTVc80AA2TiLAD0QAUtjX2SYwGoH16zUrFISDrxEUcguJl8swPmVi/p0hN7OyEaNx/bhvxEtUpI2paJ7AMawoBb/VcWFaFictS4Fr9D5g1qB16tGxkSv4clARoAFIDehHYf6QcN368yy383Is7IqFJmF5DHhfX23u0YYk1MBANQFE6YV4eNADNY8+R/58ADUBKgQSMJyDrxMV4UvKMuDbtMOZuzFETbhQaiEWXJSNIWQjMBgc1bYMm26hEb/X8495CPLU+SyUUGhSA98YmIyQo0EbUWKrIBLzVtMi1MDdzCVRXV+P6lWnIO1qpJjL5jJYY2rmpYYnJqmcagIZJRNiBaAAK2xr7JEYD0D69ZqXiEJB14iIOQfEyyTtages+SnNL7KnB7dGleYR4yeqQETWtA1SGNI2At3p+9eccrEk9rOZ7aqtGeGRAO9Py58AkUJuAt5omQRI4EYHnfszCd+mF6innto/GvecY99aDrHqmAcjvFQ1AasB0AjQATW8BE7AhAVknLjZslVcl3/bpLuwrKFevGdezOf7To7lXMWQ9mZqWtXPMuy4C3uq59q6YV58ah0tPiiVcEhCGgLeaFiZxJiIkgS9TD+OVn11vPTSLCMbblyYZtg6grHqmASiknA1Nigagobg5WF0EaABSFyRgPAFZJy7Gk5JrxLc27ceqfw6pSZ8UF4HZF7WXqwgfs6WmfQTHy4Qk4I2e61oP6/mhHZDYLFzI2piUPQl4o2l7EmLV3hDIKCzDrZ/sdrtk3ohEtIoO9SaMz+fKqmcagD633DIX0gC0TCvlLYQGoLy9Y+byEpB14iIvcWMy35x1BDO/yVAHU5b/WzI2GZEhQcYkYOIo1LSJ8Dm05gS80XPtJ2GahAXhncs6IdDAHTE1B8CAliPgjaYtVzwL0pyAsg7gpBWpKCitUmPf3iceg5JiNB+rroCy6pkGoCHyEHoQGoBCt8ceydEAtEefWaVYBGSduIhFUbxsyiodGLc0BZUO116g0/q3QZ920eIlq3FG1LTGQBnOVALe6Pmp9Zn4ca9rB3Cj18IyFRQHl4aAN5qWpigmaiqBJ9dn4qca974BiU1wZ99WhuQkq55pABoiD6EHoQEodHvskRwNQHv0mVWKRUDWiYtYFMXMZvrXe7E156ia3NDkGEw+M17MZDXMiprWECZDmU7AUz07qqsxcXkqispcT8HcdlY8LuxkzFMwpoNiAtIQ8FTT0hTERE0n8OmOg5j/W66aR3xUCF4fmWRIXrLqmQagIfIQehAagEK3xx7J0QC0R59ZpVgEZJ24iEVRzGxWbMvHwi0HTJkQm0mEmjaTPsfWmoCnet51sBRTvkh3G37+yCS0iArROiXGIwG/CHiqab8G4cW2IrD7UCnu+tz9/vfWpUloHqn//U9WPdMAtNVXpM5iaQBSA6YToAFoeguYgA0JyDpxsWGrvC65LkPAyIWxvU5YowuoaY1AMowQBDzV84q/87Hwd5fh3yo6BPNGGPMEjBCgmIQ0BDzVtDQFMVHTCVQ5qjFheQqKyx1qLnef3QrndWyie26y6pkGoO7SEH4AGoDCt8j6CdIAtH6PWaF4BGSduIhHUryMlFcCr661MPbkM1piaOem4iWrYUbUtIYwGcp0Ap7qeca6fdiSXazmOyQ5Bjfb4JV/0xvEBLwm4KmmvQ7MC2xNYNa3Gfg184jKYHCnGNxylv7LnsiqZxqAtv66OIunAUgNmE6ABqDpLWACNiQg68TFhq3yqeTnfszCd+mF6rV92kVhWv+2PsWS5SJqWpZOMU9PCHii5/IqB65amoLyKtemP/ef2xpnJzT2ZAieQwKGEvBE04YmxMEsQeCjv/PxTo2noNs2DsUrlyTqXpuseqYBqLs0hB+ABqDwLbJ+gjQArd9jVigeAVknLuKRFDOjdbsK8OKGbDW5yJBALB6TjKDAADET1iAraloDiAwhDAFP9Lw1pxjTv96n5qx8uxeNSUZ0WJAwdTAREjhGwBNNkxYJeEtgZ14J7luzx+2yhZd1Qkx4sLehvDpfVj3TAPSqzZY8mQagJdsqV1E0AOXqF7O1BgFZJy7WoK9/FQdLKnHNilS3geZclIBucZH6D27SCNS0SeA5rC4EPNHzoi0HsGxbvjp+cmw4nhnSQZd8GJQE/CXgiab9HYPX249ApaMaVy3didJK15PQU89tg74J0brCkFXPNAB1lYUUwWkAStEmaydJA9Da/WV1YhKQdeIiJk0xs7rjs93Yc7hMTe6KHrG4smecmMlqkBU1rQFEhhCGgCd6vnd1OlLyS9Wcx3SPxYRe1v2OC9McJuITAU807VNgXmR7AjO+3ostOUdVDhd3aYobTm+pKxdZ9UwDUFdZSBGcBqAUbbJ2kjQArd1fVicmAVknLmLSFDOrBZtzsXL7QTW5Ls0j8NTg9mImq0FW1LQGEBlCGAIN6flIWRXGL0uB65kX4LGB7dAzvpEwNTAREqhJoCFNkxYJ+Ergwz/zsGRrnnp5x6ZheGFYR1/DeXSdrHqmAehRey19Eg1AS7dXjuJoAMrRJ2ZpLQKyTlys1QV9q1F2BlV2CD12KMv/KeuDRYVac30walpfPTG6sQQa0vOGvUWYsz5TTSo0KABLxiYjNCjQ2EQ5Ggl4SKAhTXsYhqeRwHEEtu0/igfW7lX/XVkPdfFYfec7suqZBiC/QDQAqQHTCdAANL0FTMCGBGSduNiwVT6XXFbpcD4hVHOHUCPWxfE5YT8vpKb9BMjLhSLQkJ7n/ZKDL1IOqzn3io/EzIEJQtXAZEigJoGGNE1aJOArAWVH9HEfpqDC4Xomevr5bXF6myhfQzZ4nax6pgHYYGstfwINQMu3WPwCaQCK3yNmaD0Csk5crNcJfStSngBUngQ8dgzuFINbzorXd1CTolPTJoHnsLoQaEjPN69KQ1ZRhTr2pF5xGN09VpdcGJQEtCDQkKa1GIMx7Evgga/2YFtuiQpg9EnNMOnUFroBkVXPNAB1k4Q0gWkAStMq6yZKA9C6vWVl4hKQdeIiLlExM1u5PR8LNh9Qk2vRKARvjExEQIDygoy1DmraWv20ezUn0nPukQrc8HGaG6LnhnZAUrNwu2Nj/QIT4D1a4OZYILUlfxzAh3+5dkXv0jwcTw3Wb1d0WfVMA9ACYvezBBqAfgLk5f4ToAHoP0NGIAFvCcg6cfG2Trufn36oFHd+nu6G4bVLEtG6cajl0FDTlmuprQs6kZ7Xph3G3I05Kp/osCC8e1knBFrQ2Le1CCxWPO/RFmuoYOXUXvc4KAB47/LOCA/WZ11UWfVMA1Aw4ZqQDg1AE6BzSHcCNACpCBIwnoCsExfjSck9YnV1Na5ZkYpDpVVqITee3hLDuzSVu7A6sqemLddSWxd0Ij0/+0MWvt9TqPLplxCN/57bxta8WLz4BHiPFr9HMmdYUuHAuKU7UWMZQMwc0A69WumzM7qseqYBKLPKtcmdBqA2HBnFDwI0AP2Ax0tJwEcCsk5cfCzX1pe98FMWvtntMgvObBuFB89razkm1LTlWmrrgurTs6O6GlevSEVBDVP/1rPicVGnGFvzYvHiE+A9WvweyZ7hvavTkZJfqpZx+cmxuOqUOF3KklXPNAB1kYNUQWkAStUuayZLA9CafWVVYhOQdeIiNlUxs/t2dwGe/ylbTU55HWbJ2GQEB1prHUBqWkz9MSvfCNSn510HSzHlC/fX+l8fkYj4aOu91u8bOV4lKgHeo0XtjHXyWrA5Fyu3H1QLOrlFBB6/sL0uBcqqZxqAushBqqA0AKVqlzWTpQFozb6yKrEJyDpxEZuqmNkdLqnEpBWpbsk9cWECureIFDNhH7Oipn0Ex8uEJFCfnldsy8fCLa6NfeKjQvD6yCQha2BSJFCTAO/R1IPeBH7NOIJZ32Wow4QEBuD9y5MREqT9OoCy6pkGoN4qFD8+DUDxe2T5DGkAWr7FLFBAArJOXAREKUVKd32+G7sPlam56vlajFlAqGmzyHNcPQjUp+eHv96LP3KOqkMOTY7B5DPj9UiBMUlAUwK8R2uKk8HqIHCkrArjl6WgusZnsy9MwEk6/OApq55pAPKrQwOQGjCdAA1A01vABGxIQNaJiw1bpUnJC3/PxYq/Xa/FJMeG45khHTSJLUoQalqUTjAPLQjUpeeySgeuWpqCihqr3E/r3wZ92kVrMSRjkICuBHiP1hUvg/8/gdo/eI4/pTnGntxccz6y6pkGoOZSkC4gDUDpWma9hGkAWq+nrEh8ArJOXMQnK2aGW3OKMf3rfWpyyup/i8YkIzosSMyEfciKmvYBGi8RlkBdet6cdQQzv3G93qYs47l4TDIahVrneyxsQ5iY3wR4j/YbIQN4QOCN3/bjsx2H1DOVXYCV3YC1PmTVMw1ArZUgXzwagBr2rKysDGvWrMGGDRuQk5ODyspKNG/eHKeeeiqGDRvm/N/+HNXV1dixYwf++OMP5//NyMhAUVERQkNDERsbi5NOOgmDBg1Chw4nfqrjww8/xLJlyzxKZcaMGejevbtH5/p6Eg1AX8nxOhLwnYCsExffK7b3lRVVDoxbmoLyKteLMf89pzX6tW9sGTDUtGVayUIA1KXntzftx8f/uP6w7do8Ak8O1meBezaBBLQmwHu01kQZry4CP+4pxFM/ZKkfRfz/xmdBGm98JqueaQDye0MDUCMNKIbfnDlzkJXluuHUDB0ZGYk77rgDp512ms8j3nLLLcjLyzvh9QEBAbjkkktw1VVXQfnfdR00AH1rgaw3et+q5VVWJ0A9W73Dx9f36Df7sCmrWP3gwqQmuK1PK8uAoKYt00oWUo8BeMenu7GnwLWW55U9muOKnv79uEzYJGAUAd6jjSJt73EOllTimlobnz0/tAMSm4VrCkZWPdMA1FQGUgajAahB20pLSzFt2jRkZmY6ow0cOBD9+vVzPpn3119/YeXKlVDOCQsLw6xZs9C+vW+/1l5xxRVwOByIj4/HWWedhS5duqBZs2YoLy93jvPZZ5+huPjfP+5GjRqFcePGNWgAPvPMMyck0KJFC4SHa3vDrD0gnwDUQIQMQQJeEpB14uJlmTy9BoFV/xzEW5ty1X+JiwzG/FFJ9f5YJBs8alq2jjHfExGoree84vLj/qh98qL26BoXQZAkIAUB3qOlaJMlkrzp4zTkHKlQa7nh9Ba4uEszTWuTVc80ADWVgZTBaABq0LaaT9SNHz8eI0aMcIu6c+dOKK/SKkaX8jqt8r99OR566CGMGTMGp5xySp1/sClPISrnFBYWIigoCC+88AKUL3nto2a+yv82+6ABaHYHOL4dCcg6cbFjr7SqeW9BGW7/dLdbuFcu6Yi2jcO0GsLUONS0qfg5uMYEaut5beohvLghWx2lUUigcx1PrV9r07gMhiMBlQDv0RSDUQSUe+W6XQXqcP0SovHfc9toOryseqYBqKkMpAxGA9DPtinr/N1www3OJ+/atGmDZ5991rluS+3jjTfewNq1a53/rLwqnJiY6OfIdV++evVqvP32284PJ06ciIsvvvi4E2kA+oZe1hu9b9XyKqsToJ6t3uHj61PWkb3uozTkl1SqH+rxq7hZZKlps8hzXD0I1NbzM+sz8F16oTpUn3ZRmNa/rR5DMyYJ6EKA92hdsDJoHQS+Sj2Ml3/OUT9pGhGMBZdq+8aDrHqmAcivDA1APzWwdetW52u9yqG8cqu8elvXoTwFqDydpxyXXnoprrzySj9Hrvvyffv24Z577nF+OHjwYFx33XXHnUgD0Df0st7ofauWV1mdAPVs9Q7XXd9LG7LxdY1fxU9v3QjTL9B+dzwz6FLTZlDnmHoRqKnnrOxsTFy2EwWlVepwk89oiaGdm+o1POOSgOYEeI/WHCkD1kMgs7Act3yyy+3TeSMS0So6VDNmsuqZBqBmEpA2EA1AP1v3v//9D8uXL3dGUYzAzp071xlRec316quvhrJTcLdu3TBz5kw/R6778l27dmHq1KnOD4cMGYJrr72WBqBGpGW90WtUPsNYjAD1bLGGeljO9+mFePZH12ZVYUEBWDI2GSFBxz+57mFIYU6jpoVpBRPRgEBNPW/4Ox13fOb+x+zrIxIRr+EfsxqkzBAkcEICvEdTIEYRUN54mLQ8FQVlrh9N7uzbCgMSm2iWgqx6pgGomQSkDUQD0M/WPffcc9i4caMzyoIFC9CoUaN6I953333Ys2cPGjdujDfffNPPkeu+/NNPP8W7777r/FB5+k95CrD2UfMJwB49emD37t0oKSlx5t62bVv06tULgwYNQlRUlC451g7KNQANwcxBSMCNgKwTF7bRPwKFpZWYuDwV1TXCzBrUDj1a1v//u/wb0birqWnjWHMk/QnU1POrX/+FBZtdG/jER4Xg9ZFJ+ifBEUhAQwK8R2sIk6EaJDD7+wxs3HdEPe/CpCa4rU+rBq/z9ARZ9UwD0NMOW/c8GoB+9vbBBx9ESkqKc4ffRYsWnTCasvbf5s2bnecsWbIEISEhfo7ufrnydOGUKVOQl5eH4OBgvPzyy85dgmsfNQ3A+hJQzMBbbrkFZ5xxhk855ufnN3hdTEyMc7MSxQA8cOBAg+ebfYJyo1d2RVaO3Nxc547MPEhAVgLUs6yd8z/vKZ/tQurBUjXQ2JNjMfHU4zeM8n8kYyNQ08by5mj6Eqip5xsW/4wt2cXqgMqrv7ecpd0fsvpWwugk8C8B3qOpBCMJrPw7H29t2q8O2aZxKOaN7KRZCrLqOS4uzvn3Nw/7EqAB6Gfv7777bmRkZKBJkyaYP3/+CaM9//zz2LBhg/Oct956C9HR0X6O7n65svmHsgmIcgwfPhyTJk2qM75iAP7yyy9Oc69Tp05o2rSp04TLysrCDz/8gD/++EP9f9T3338/Tj31VK/zvPzyyxu85rXXXkNsbGyD5/EEEiABEiAB7Qi8uj4NCzbuUQN2axmNdyf69mOPdlkxEgmQQF0ESiuqMHDuepRXuX50fGpkD1zQOY7ASIAESIAE6iGwLbsQVy/+ze3TL289B00jtVsHkPBJQEYCNAD97Nrtt9+O/fv3O40sxdA60aE8kff99987T9Ha/Fq/fj3mzp3rjK3sRvzkk08iNLTuG5yyY/GJXlX+6quvVDNTMQeVuPXFqq9eGoB+CouXkwAJkIBOBDbtO4TJH/yuRg8AsIaTYp1oMywJ+Edg4+583L7s3x9mlSMoIABf3XYOosO1fYvEvyx5NQmQAAmIRaDS4cCAl9ajpMK1DiB/PBGrR8zGHAK2MQCVJ9y02HlXeS32/PPPV7slwhOA27ZtwxNPPIGKigqnsffYY4851/Lz55g3bx7WrVvnDKGYnOeee65X4fgKsFe4eDIJGE5A1lcXDAdlwQErqqox7sN/UFrpWgnwvnPaoH9H7RbHNgMbNW0GdY6pF4Fjen7hmxQs+W2fOkzXuAg8PaSjXsMyLgnoRoD3aN3QMnA9BB76ag/+yHEtnzCqWzNcd3q8Jrxk1TNfAdak/VIHoQHoZftqG4BmrwGYlpaGRx991LmJh7IO4fTp0+vdidibUpW406ZNc14ycOBA3HTTTd5c7tW53ATEK1w8mQQ0ISDr4sWaFM8gmPXtPvya6ZoUD0xsgjv6yr2mGDVNYVuJwDE9X7ngZ6Tmub6rV/SIxZU9+fqvlXptl1p4j7ZLp8Wp8/2tB/DBn6516ZNjw/HMkA6aJCirnrkJiCbtlzqIbQxApUuZmZl+N0t5JTYyMlKN8+yzz+Lnn392/rfRuwDv27cPjzzyCIqKipwbiijr9fXs2dPvGpUAyoYiEyZMcMZS1gA8ZgZqErxWEBqAelBlTBI4MQFZJy7sqzYEPt1xEPN/c+0qGhsRjLcuTUJAgPJCsJwHNS1n35h13QQUPQdHNcXQ1350O2HORQnoFueah5IfCchCgPdoWTplnTyVp/8e/tr1BHVQAPDe5Z0RHhzod5Gy6pkGoN+tlz6ArQxAPbr1v//9D8uXL3eGnjVrVr1P3ykm19VXX+001rp164aZM2f6lU5OTg5mzJiBQ4cOOXfyUV5F9nXH3roSKS0txcSJE2kA1oAj643eL6HxYssSoJ4t21qPCssoLMOtn+x2O3fuxR2R0CTMo+tFPImaFrErzMlXAoqeN+dXY8bn29UQkSGBWDwmGUGB8hr1vvLgdfIT4D1a/h7KVkFJhQPjlu6Ew7XiCR4b2A494xv5XYqseqYB6HfrpQ9AA9DPFio75j7++OPOKOPGjcOoUaPqjLhz50489NBDzs+Uc5RzfT2U9fUefvhhHDhwwPm0hrJG3znnnONruDqvS01NxQMPPOD8bMCAAZg8ebKm8WsG4xOAuqFlYBKol4CsExe2VBsC1dXVuGFlGg4crVQDXte7BUZ0babNACZEoaZNgM4hdSOg6PnVTfn44u/96hh92kVhWn//1njWLWEGJoEGCPAeTYmYQeDe1elIyS9Vh76yZ3Nc0aO536nIqmcagH63XvoANAD9bGFlZSWuv/56HD161Ln77nPPPVfnK1RvvPEG1q5d6xxN2bCjU6dOPo1cUFDgfPIvKyvLef2NN96IQYMG+RTrRBfV3ATktttuQ//+/TUf41hAGoC6oWVgEqiXgKwTF7ZUOwIvb8zGV2kFasDerRvh4QvaaTeAwZGoaYOBczh9CQQE4JoVaTh4tFwdZ/IZLTG0c1N9x2V0EtCJAO/ROoFl2BMSeGvTfqz655B6zinxkXh0YILf1GTVMw1Av1svfQAagBq0sOZrwOPHj8eIESPcoipP/ymmnWJ0nXTSSc51++o6Lr/8cuc/K7vzvPLKK8edUlxc7Hx1OD093fnZpEmTMHz4cK8q2Lt3L0JDQxEfX/8OSF999RXmz5/vjBsTE4OXXnoJ4eHhXo3jzck0AL2hxXNJQBsCsk5ctKmeURQCP+4pxFM//PtjknKEBgXgvbHJCAnyf20cMwhT02ZQ55h6EdhzuBx3fLbLLfy8EYloFR2q15CMSwK6EuA9Wle8DF4PgQ17izBnvWsfgPBgZa7T2e+lFGTVMw1AflVoAGqgAWUH3qlTpyI7O9sZTXki7+yzz3Yabdu2bcNHH30EZU095b+VdQI7dKh796ETGYAVFRXO3X537NjhHEN55be+142PlaSYdi1atHCr8Ntvv4XydF/37t2dm3skJCQgKioKDofDuUnK+vXrsXXrVuc1yo3t3nvvxemnn64BpfpD0ADUFS+Dk0CdBGSduLCd2hEoKqvChGUpqLE0Dh4d2A6naLA2jnZZeh6JmvacFc8Un8DK7QexYLNro574qBC8PjJJ/MSZIQnUQ4D3aErDDAKHSysxaXmq29DPDGmP5NgIv9KRVc80AP1quyUupgGoURuVTTlmz56tmoC1w0ZEROCOO+5A79696x3xRAZgbm4ulFdxvTnqetpQMQBfffXVBsNER0c71/3TcmOR+galAdhgO3gCCWhOQNaJi+YgbB6w9to4o09qhkmnuv9wJAsialqWTjFPTwjMWLcPW7KL1VOHJMfg5jPrf3vDk5g8hwTMJMB7tJn07T32zat2IavItZyCFmsey6pnGoD2/i4o1dMA1FADylN+a9aswcaNG6EYgsr6gLGxsc4n7YYNG+Z8tfdEhxEGoLKG4KZNm6C8lqy8Sqz8d1FREZQF4ZUnAZWnE0855RScf/75iIyM1JBO/aFoABqCmYOQgBsBWScubKO2BJb8cQAf/pWvBu3YNAwvDOuo7SAGRaOmDQLNYXQnUFbpwFVLU1BRY+vKqee2Qd+EaN3H5gAkoBcB3qP1Isu4DRGYuzEba2usedy3XTSm9m/T0GUn/FxWPdMA9KvtlriYBqAl2ih3ETQA5e4fs5eTgKwTFzlpi5v137lHMe2rvW4JLhzdCTERweImXU9m1LR0LWPC9RD4PbsYj6zbp34aGAAsGpOMqNAgMiMBaQnwHi1t66RP/Ou0w3hpY45aR5PwIChznYCAAJ9rk1XPNAB9brllLqQBaJlWylsIDUB5e8fM5SUg68RFXuJiZl7pqMb4pSkoqXSoCU45uxXO79hEzIRPkBU1LV3LmHA9BJS1/5Q1AI8dXeMi8ORF7cmLBKQmwHu01O2TOvnsonJMXuW+qdJrlySidWPfN1WSVc80AKWWsibJ0wDUBCOD+EOABqA/9HgtCfhGQNaJi2/V8qoTEXjiuwz8nHFEPeX8Do0xpV9r6aBR09K1jAnXQ+DOz3Yj/XCZ+umVPZvjih7NyYsEpCbAe7TU7ZM6eWWpq2tWpOJQaZVax+194jFTOocKAAAgAElEQVQoKcbnumTVMw1An1tumQtpAFqmlfIWQgNQ3t4xc3kJyDpxkZe4uJl/vvMQXv91v5qg8mrMO6M7IdCPV2PMqJaaNoM6x9SawMGSSucfqjWPJwd3QNfm4VoPxXgkYCgB3qMNxc3BahF4cn0mftpbpP7rwMQmuKNvK585yapnGoA+t9wyF9IAtEwr5S2EBqC8vWPm8hKQdeIiL3FxM88pKsdNtV6NeW5oByQ1k8twoKbF1Rgz85zAul0FeHFDtnpBo9AgLB7bGYGo9jwIzyQBAQnwHi1gU2yU0if/HMSbm3LViltHh+C1EUk+E5BVzzQAfW65ZS6kAWiZVspbCA1AeXvHzOUlIOvERV7iYmd+86pdyCoqV5Mcf0pzjD1ZrlcOqWmxNcbsPCPwzA+ZWL/H9ZTKBclxuLtPHBwO1zqdnkXiWSQgFgHeo8Xqh92ySTtYiru/SHcrW3nboamPm57JqmcagHZT/vH10gCkBkwnQAPQ9BYwARsSkHXiYsNWGVLy/N/249Mdh9SxToqLwGzJNh2gpg2RCgfRkUCVoxqTlqegqNxl9j1wURf0bRlEA1BH7gxtDAHeo43hzFHqJqDcX8ctTUFpjU3P7j+3Nc5OaOwTMln1TAPQp3Zb6iIagJZqp5zF0ACUs2/MWm4Csk5c5KYubvabMo/g0W8z1AQDA4DFY5KhvH4oy0FNy9Ip5lkfgR15Jfjvmj1uH39y09nA0cM0ACkb6QnwHi19C6UvYMa6fdiSXazWcUnXpri+d0uf6pJVzzQAfWq3pS6iAWipdspZDA1AOfvGrOUmIOvERW7q4mZfVunAVUtTUOFwrTPmzy/jZlRKTZtBnWNqSeCDP/Pw/tY8NWTH2Eh8eG0f5OTk0ADUEjRjmUKA92hTsHPQGgT+92ce3qtxj1XWOlbWPPblkFXPNAB96ba1rqEBaK1+SlkNDUAp28akJScg68RFcuxCp1/7l/ELk5rgtj6+75BndLHUtNHEOZ7WBJSn/5SnAI8d43q3w5QByTQAtQbNeKYQ4D3aFOwctAaBP/cX46G1+9R/Ud52WDI2GZEh3r/tIKueaQDyK0EDkBownQANQNNbwARsSEDWiYsNW2VYyR9vP4i3N7t2yIuNDMZbo5IQEBBgWA7+DERN+0OP15pNoKisChOXp6DGQ7iYO+YU9OkYSwPQ7OZwfE0I8B6tCUYG8YOA8rbDlR/uRFWNTdVnDmiHXq0aeR1VVj3TAPS61Za7gAag5VoqX0E0AOXrGTOWn4CsExf5yYtbwb6CMtz26W63BOcO74iEmDBxk66RGTUtRZuYZD0EfthTiKd/yFI/DQ0KwLo7+iMsOIgGIFVjCQK8R1uijdIXcd/qdOzML1Xr+E+PWIzrGed1XbLqmQag16223AU0AC3XUvkKogEoX8+YsfwEZJ24yE9e3Aqqq6tx48dpyC2uVJO85rQ4jOoWK27SNACl6A2TbJjASxuy8fWuAvXE3q2jMO+qM53/zTUAG+bHM8QnwHmH+D2yQ4YLNudi5faDaqk9WkZi1qAEr0uXVc80AL1uteUuoAFouZbKVxANQPl6xozlJyDrxEV+8mJX8OrPOViTelhN8pT4SDw60PuJsRlVUtNmUOeYWhBQzPdrPkrDoRKX+X7D6S1x4wXdaQBqAZgxhCDAe7QQbbB9Ej/vK8IT32eqHMKCAvDe5Z0RrCwI6MUhq55pAHrRZIueSgPQoo2VqSwagDJ1i7lahYCsExer8Be1jo37ijC7xsRYmRAvHpOMiJBAUVNW86KmhW8RE6yHQPqhUtz5ebrbp/NGJqF35/Y0AKkayxDgPdoyrZS6kILSSkxcnupWw7NDOqBTbLhXdcmqZxqAXrXZkifTALRkW+UqigagXP1ittYgIOvExRr0xa3iaEUVxi9NcVsg+6Hz2uKMtlHiJv3/mVHTwreICdZDYMW2fCzcckD9tGVUCOaP6oRWrf7dhZuvAFM6ViDAe7QVumiNGm5etQtZReVqMdf3boFLujbzqjhZ9UwD0Ks2W/JkGoCWbKtcRdEAlKtfzNYaBGSduFiDvthVPPjVHvyVW6ImOaxzDG46I17spAFQ08K3iAnWQ+ChtXvx5/6j6qdDkmNwa5/WiI//93tHA5DSsQIB3qOt0EVr1FB7zdV+CdH477ltvCpOVj3TAPSqzZY8mQagJdsqV1E0AOXqF7O1BgFZJy7WoC92Fcu25WNRjaeR4qNC8PrIJLGTpgEofH+YYN0ESiocGL9sJyodrs8f6N8Gfds3oQFI0ViKAOcdlmqn1MV8mXoYr/yco9YQGxGMty5NQkCA5+sAyqpnGoBSS1eT5GkAaoKRQfwhQAPQH3q8lgR8IyDrxMW3anmVNwR2HyrFXbXXIxuRiFbRod6EMfxcatpw5BxQAwK/ZBTh8e9cC9IHBQCLxyYjKiyEBqAGfBlCHAK8R4vTC7tnsq+gDLd9utsNw5ujkhDXKMRjNLLqmQagxy227Ik0AC3bWnkKowEoT6+YqXUIyDpxsU4HxK3EuSPpilQcKq1Sk7zx9JYY3qWpuEnzCUChe8Pk6icw75ccfJHi2nn75JaReHxQAl9pp2gsR4DzDsu1VNqCHNXVmLgsBUXlrkev7+nXGv07NPa4Jln1TAPQ4xZb9kQagJZtrTyF0QCUp1fM1DoEZJ24WKcDYlfy4oZsrNtVoCbZu3UjPHxBO6GTpqaFbg+Tq4OAYrbftGoX9h+pUD+d2CsOl3WPpQFIxViOAO/Rlmup1AXN+nYffs0sVmvwdr1jWfVMA1Bq2WqSPA1ATTAyiD8EaAD6Q4/XkoBvBGSduPhWLa/ylsD69EI882OWelloUACWjE1GaFCgt6EMO5+aNgw1B9KIQFZhOW7+ZJdbtBeGdUDHpuE0ADVizDDiEOA9WpxeMBNg2V/5WPSHa/f1jk3D8MKwjh6jkVXPNAA9brFlT6QBaNnWylMYDUB5esVMrUNA1omLdTogdiWFZVWYtDwFjmpXnjMHtEOvVo2ETZyaFrY1TKweAp/uOIj5v+WqnzYND8KC0Z2cC9FTz5SN1QhQ01brqNz1bNt/FA+s3asWERgA5w+dkSFBHhUmq55pAHrUXkufRAPQ0u2VozgagHL0iVlai4CsExdrdUHsav67Jh078krVJEd2bYpre7cUNmlqWtjWMLF6CDz6zT5synK9gjYgsTHu7NvaeTb1TNlYjQA1bbWOyl1PWaUD45a678DuzQ+dsuqZBqDcutUiexqAWlBkDL8I0AD0Cx8vJgGfCMg6cfGpWF7kE4EPtubh/T/z1GvbNQnFyxcn+hTLiIuoaSMocwytCJRXOXDV0hSUV7kes625CD31rBVpxhGFADUtSieYxzEC961Ox8581w+dV/Zojit6NvcIkKx6pgHoUXstfRINQEu3V47iaADK0SdmaS0Csk5crNUFsavZmVeC+9bscUvyzVFJiGsUImTi1LSQbWFS9RDYkl2MGev2qZ8GAHh3TDIah/37+hn1TOlYjQA1bbWOyl/P25v24+N/DqmF9IqPxMyBCR4VJqueaQB61F5Ln0QD0NLtlaM4GoBy9IlZWouArBMXa3VB7GqqHNWYtCIVRWVVaqK3nBmPwckxQiZOTQvZFiZVD4EFm3OxcvtB9dPOseF4ekgH9b+pZ0rHagSoaat1VP56ftpbiCf/j73zAI+qSt/4m0lPCAFC6BBK6ItSVUQRFRsKCxZ2dS3YWRVsWMCCBcUCImBbsa7r7l8XRexYkFUUVETFhkACCaRACCWQnsz8nzvInQzMJHdm7tx7zrnvfZ59VjLnnO/7ft/reHhz7z1f+A48S45zed8DGKu9ELCJS1Y90wBsqrPqf04DUP0eC18hDUDhW8QEFSQg68ZFwVYIXdLclYX4PK9Mz/GYzs0wfWQnIXOmpoVsC5MKQmDKu7nI31ujf/rXARk4/4hMGoBUjLIE+B2tbGulLWx3ZR0mvbnJL/+DJ7E3VZSseqYB2FRn1f+cBqD6PRa+QhqAwreICSpIQNaNi4KtELqk5bl7MX9VkZ6j9tvxf53XE3EGfjtudWHUtNXEGS9cAiXltbjirRy/6Y+cloXerZNpAIYLlfOEJ8DvaOFb5MgEr16ag+L9tXrtVw9rizG9WjbJQlY90wBssrXKD6ABqHyLxS+QBqD4PWKG6hGQdeOiXifErijQb8cfHN0F/dumCJc4NS1cS5hQEAIfbdqDJ78u1j9tluDCP8/xf+yMeqZ8VCNATavWUTXqmfdVIVZs9j3pMLJrc2gHMjV1yapnGoBNdVb9z2kAqt9j4SukASh8i5igggRk3bgo2ArhS7rx/c3I3V2t53lu/wxcNND3qKIoBVDTonSCeTRF4MH/bcPX2/brw0Z0ScOtx3f0m0Y9N0WRn8tGgJqWrWPOyPeDDbvxzLfb9WLbpMZh0fjsJouXVc80AJtsrfIDaAAq32LxC6QBKH6PmKF6BGTduKjXCfEreuWHEiz+pVRPtHvLRMwb0024xKlp4VrChAIQqK1348LFG1FV59E/vX54e5zUPZ0GIBWjNAF+RyvdXmmL27K7Cte/v8Uv/xcm9EBGSnyjNcmqZxqA0krVtMRpAJqGkguFS4AGYLjkOI8Ewicg68Yl/Io5M1wCv+yowIyP8/2mv3R2Nlomx4W7ZFTmUdNRwcpFTSbwQ1E5Zi7fqq+qnTX50jnZaJHk/+8T9WwyeC5nOwFq2vYWMIEABNweDy7870aU17r1T289rgNGZDWnAUjFKEmABqCSbZWrKBqAcvWL2apBgBtxNfpoRRV1bg8uWrwRFQ02x4HuWLIil8ZiUNN2d4DxjRB4/rvteHv9bn1oz4wkzDm962FTqWcjNDlGJgLUtEzdclau9y7firVF5XrRY3u3xBVD29IAdJYMHFMtDUDHtFrcQmkAitsbZqYuAW7E1e1tNCp76PNtWLXV986y47LScMtx/u8si0bcUNakpkOhxbF2Efj727ko3Fejhz9/QGv89YjWNADtagjjWkaA39GWoWagEAm8/tNOvLpupz4ru1US5p5x+C9mGi4rq575CHCI4lBwOA1ABZsqW0k0AGXrGPNVgYCsGxcV2MtYw6GnlqYmuPDKIaeW2l0XNW13Bxi/KQJF+2ow+e1cv2FzTs9Cz4xkGoBNwePn0hPgd7T0LVS2gHXF5bjrU9+rGVwxwH8m9kJSnCtozbLqmQagsjI2XBgNQMOoODBaBGgARoss1yWB4ARk3biwp/YQKK2oxWVLcvyCzz6lC/q1SbEnoQBRqWlhWsFEghB4Z/0uPPfdDv3TFkmxePHsbLhitDcB+l/UM2WkGgFqWrWOqlNPVZ0b57++AW7f2UyYNbozBrRNpQGoTptZyR8EaABSCrYToAFoewuYgAMJcCPuwKZHWPIN72/G5t3V+irn9GuFiwe1iXBV86ZT0+ax5ErRIXDP8q34vsF7prSTf7X3aQa6qOfo9ICr2keAmraPPSM3TeCmD7YgZ1eVPvBvR7bGxD8d/nqGgwNk1TPvAGxaC6qPoAGoeoclqI8GoARNYorKEZB146JcIyQq6JUfSrD4l1I9464tEjH/zG7CVEBNC9MKJhKAgHaHiXbSZG2DW0waO2mSeqaMVCNATavWUbXqWbRmO9793XdA05AOqbj7xM5Bi5RVzzQA1dJtONXQAAyHGueYSoAGoKk4uRgJGCIg68bFUHEcFBUCv+2owO0f5/ut/dz4HshMjY9KvFAXpaZDJcbxVhL4Zts+PPC/Aj2k9o6pV87tiWYJsQHToJ6t7A5jWUGAmraCMmOES+CLLWWY82WhPl171/G/zu0Z8BUN2iBZ9UwDMFyFqDOPBqA6vZS2EhqA0raOiUtMQNaNi8TIpU+93u3BxW9sxP4at17LNUe1w2k9WwhRGzUtRBuYRBACT39TjA837tE//VObZDxwSlZQXtQzpaQaAWpatY6qVc/Oilpcfsi7jhee2Q1dWiQq9UsaGoBq6TacamgAhkONc0wlQAPQVJxcjAQMEeBG3BAmDjqEwJyVBfgib5/+06M7NcOMEzoJwYmaFqINTCIAAY/HgyveysHOijr900sGZuLs/hk0AKkYxxDgd7RjWi1toVcs2YSSBt/Tjf2SU1Y90wCUVp6mJU4D0DSUXChcAjQAwyXHeSQQPgFZNy7hV8yZZhBYsXkv5n1VpC+VFBfjfUQmPtZlxvIRrUFNR4SPk6NIIG9PNaa+t9kvQmN3lmgDqecoNoRL20KAmrYFO4OGQGDuykJ8nlemzzixW3PccGyHgCvIqmcagCEIQtGhNAAVbaxMZdEAlKlbzFUVArJuXFThL2sde6vqcMkbm+BpUMC9J3XGwPaptpdETdveAiYQhMCbv5Ti5R9K9E8zU+KwaHwPxMTEBGVGPVNOqhGgplXrqHr1vPf7bjy7ZrteWPu0eDwzrgcNQPVa7eiKaAA6uv1iFE8DUIw+MAtnEeBG3Fn9NrPaW5dtwe87q/Qlx/ZpiSuGtDUzRFhrUdNhYeMkCwjM+DgPv+yo1COd3rMF/n5Uu0YjU88WNIYhLCVATVuKm8HCIJC7qwo3frDFb+bLZ2ejRXLcYavJqmfeARiGMBSbQgNQsYbKWA4NQBm7xpxlJyDrxkV27irk/9pPO/HvdTv1UjqkxePpIL8ht7JeatpK2oxllMD+mnpctHgj3A1um73zhE4Y1qkZDUCjEDlOCQL8jlaijUoXoR12dsF/N6KqznfY2e0jO2J45zQagEp33lnF0QB0Vr+FrJYGoJBtYVKKE+BGXPEGR7G8TaVVuPlD/9+QPz22Ozo0T4hi1KaXpqabZsQR1hNYmVeGR1cW6oHjXTH413k9kRTX+HszqWfre8WI0SVATUeXL1c3h8Ddn+bjx+IKfbHxfVvh0sFtaACag5erCECABqAATXB6CjQAna4A1m8HAW7E7aCuRky3x4PL3tyE3VX1ekFXDGmDsX1a2VogNW0rfgYPQmD+qkIsz/W9VH5w+1TMPKlzk7yo5yYRcYBkBKhpyRrm0HT/s64E//dTqV5979ZJeOS0rjQAHaoHFcumAahiVyWriQagZA1jukoQ4EZciTbaVsSCVUX4NHevHl87BEQ7DMTOi5q2kz5jByKgmeWT3tyEvQ3M8iuHtsFZvZs2y6lnako1AtS0ah1Vs57vi8pxz/KtenHazdr/mdgLCbH+d23Lqme+A1BN3YZSFQ3AUGhxbFQI0ACMClYuSgKNEpB148K2ikHgy/wyPPKF77HGOFcMXjXwWGM0s6emo0mXa4dDYGNpJaZ9mOc39Zlx3dE+renH5anncIhzjsgEqGmRu8PcDhKoqK3HBa9vRIPXtuKhU7ugb2aKHyRZ9UwDkFqnAUgN2E6ABqDtLWACDiQg68bFga0SsuTyPw42qG+wQ55xQkcc3enwF2VbVQA1bRVpxjFK4P/W7cR/fvIdmNOxeQKeGtvd0HTq2RAmDpKIADUtUbMcnurU9zYjb0+1TuHSwZkY3zeDBqDDdaFK+TQAVemkxHXQAJS4eUxdWgLciEvbOmESv+OTfPy83fei7NOyW+Cao9vZlh81bRt6Bg5C4OYPtmDTrir903F9WuLyIW0N8aKeDWHiIIkIUNMSNcvhqT71dTGWbdqjU9BOAdZOA254yapn3gHocHEDoAFIDdhOgAag7S1gAg4kIOvGxYGtErbkN38txcvfl+j5tU6Jw3PjeyAmJsaWnKlpW7AzaBACpRW1uGxJjt+n953cGUe2SzXEjHo2hImDJCJATUvULIen+mnOHixYXaxTaJkchxcn+O9vZNUzDUCHi5sGIAUgAgEagCJ0gTk4jYCsGxen9UnkevP3VmPKu5v9Upw/piu6tkyyJW1q2hbsDBqEwLKNe/DUN76/QKbEu/DPc3oiPtaYQU49U1qqEaCmVeuouvVsK6vGte/4728W/bkH2jSL14uWVc80ANXVrdHKeAegUVIcFzUCNACjhpYLk0BQArJuXNhScQh4PB5ctTQHO8rr9KQuHpiJc/r7vyfHqoypaatIM44RArNWbMW3BeX60OOy0nDLcf6PkDW2DvVshDLHyESAmpapW87OVdvfXLR4I/bVuHUQN4/ogJFdm9MAdLY0lKieBqASbZS7CBqAcveP2ctJgBtxOfsmWtbPfFOMDzb63pPTLzMZs0/NsiVNatoW7AwagEB1nRsXLt6Imgan5Nx4bHuM6pZumBf1bBgVB0pCgJqWpFFM00vg/s+2Yk2h75c4Z/VuiSuH+t7hKqueeQcgBU4DkBqwnQANQNtbwAQcSEDWjYsDWyV0yWsK9uP+Fdt8vxGPAV45pyeaJcZanjc1bTlyBgxC4Jtt+/DA/wr8/r3QHv9NC+HfC+qZ8lKNADWtWkfVruf1n3fi1R99p7j3zEjCnNO7+r7XXS60a3fg4LPi4mK43b67BUUmQwNQ5O5YkxsNQGs4M0ojBGgAUh4kYD0BbsStZ65ixEB3Ot1yXAccl+V7TMaquqlpq0gzTlMEnvy6CB9t2qsP698mGQ+eEtqdsdRzU5T5uWwEqGnZOubsfNcVl+OuT7fqELTXt/5nYi8kxrm8P5NVzzQAna1rrXoagNSA7QRoANreAibgQAKyblwc2CrhS77vs634rsFjMid2a44bju1ged7UtOXIGTAAAbfH4z39d3el792YkwZlYkK/0N6NST1TXqoRoKZV66ja9VTWunHBfzfA7fHV+eApXdC/TQoNQLVbr3x1NACVb7H4BdIAFL9HzFA9AtyIq9dTuyp67/fdeHbNdj18emIsXjw7G7EuY6edmpU3NW0WSa4TCYGNpZWY9mGe3xJPju2GTs0TQ1qWeg4JFwdLQICalqBJTNGPwA3vb8bm3dX6zy4ZmImz/zjoTFY98w5AipwGIDVgOwEagLa3gAk4kICsGxcHtkr4krfvr8FVS3P98nz41Cz0yUy2NHdq2lLcDBaEwKs/luD1n0v1TzukJeDpcd1D5kU9h4yMEwQnQE0L3iCmdxiBQw86O7pTM8w4oZN3nKx6pgFIodMApAZsJ0AD0PYWMAEHEpB14+LAVklR8pR3c5G/t0bP9dz+GbhoYKaluVPTluJmsCAEDr1jZHzfVrh0cJuQeVHPISPjBMEJUNOCN4jpHUbgs9y9eHxVkf7zFkmxeOnsbMTExNAApF6kJUADUNrWqZM4DUB1eslK5CHAjbg8vZIh039+vwNv/LpLTzUrPRELzupmaerUtKW4GSwAgZLyWlzxVo7fJw+M7oI/tT3wzqhQLuo5FFocKwMBalqGLjHHhgSK9tVg8tv+Tzj8Y1x3tEtLoAFIqUhLgAagtK1TJ3EagOr0kpXIQ4AbcXl6JUOmv+2owO0f5/ul+uyfu6NtswTL0qemLUPNQEEIfLBhN5751vc+zGYJLvzznJ5hvQ+TeqbMVCNATavWUfXr8Xg8uPiNTSirrteLvfHY9hjVLZ0GoPrtV7ZCGoAmtra6uhrLli3DqlWrUFxcjLq6OrRu3RqDBg3CmDFjvP8cybVjxw5cd911hpY44YQTcO211zY59ssvv8SKFSuQl5eH8vJytGjRAn369MFpp52GXr16NTnfjAE0AM2gyDVIIDQC3IiHxoujGydQ7/Zg0pv+m+Qrh7bBWb1bWYaOmrYMNQMFIXDoidgjuzbHzSPCOxGbeqbMVCNATavWUWfUM2vFNnxbsF8vdkyvFrh6WDsagM5ov5JV0gA0qa2a4ffQQw+hsLAw4IopKSmYOnUqBg8eHHZEMw3AmpoaPPbYY1i7dm3AfLR3G5x33nk499xzw87X6EQagEZJcRwJmEeAG3HzWHKlAwQe/6oQn20u03EMbJeCe0/uYhkeatoy1AwUgEBlrRsXLt6IOrdH/1Qz/zQTMJyLeg6HGueITICaFrk7zC0YgcW/lOKVH0r0j3u0SsRjZ3SjAUjJSEuABqAJrauqqsL06dNRUFDgXe3kk0/GiBEjkJCQgJ9//hlvvfUWtDGJiYmYNWsWsrKywora0AD861//iqFDhwZdp1mzZmjVKvidFwsWLMDKlSu98/v37++9Q7Fly5bIz8/HkiVLsH37gUdYrr76am890bxoAEaTLtcmgcAEuBGnMswm8GV+GR75wvdLsDgX8Mq5PZESH2t2qIDrUdOWYGaQIARWbd2Hhz4/sA/UrtgY4J/n9kSzhPD0Tz1TaqoRoKZV66gz6vl5ewXu+MT3ihNXDPCfib2QkhCHdu3aeSFoNwK53W4pgPAUYCnaFNUkaQCagPf111/H4sWLvStdeOGFGDdunN+qGzZswMyZM6EZXZrZpv1zOFdDA/Caa67BqFGjwlkGv/76K+655x7v3CFDhuCWW27x/hbj4FVWVobbb78dO3fuRGpqKp544gnv/0frogEYLbJclwSCE+BGnOowm0BFbT0u8t4B5Vv5tuM74Ngu4d0BFWp+1HSoxDjeTAILVhXh09y9+pJHtE3B/aPDvwOWejazO1xLBALUtAhdYA6hEqiqc+P81zegwc3dmDW6M45sn0YDMFSYHC8EARqAEbZBe8/flVde6X1/XseOHTF37lw/M+3g8s8++yw++eQT7x+1R4W7d+8ecmSzDMDZs2fj+++/9+b55JNPIiMj47BctHcDzp8/3/vziy66CGPHjg05X6MTaAAaJcVxJGAeAW7EzWPJlXwEZn6ajx+KK/QfnNS9Oa4fHt470ELlSk2HSozjzSLg9hx4B+beKt+L4i8f0gbj+oT/Dkzq2azucB1RCFDTonSCeYRK4KYPNiNnV7U+7aIjMzHxiEwagKGC5HghCNAAjLAN69at8z7Wq10XXHABxo8fH3BF7S7AO++80/vZhAkTcP7554cc2QwDUHsU+fLLL0dtbS0GDhyIGTNmBMxDMza1cZWVlejduzfuv//+kPM1OoEGoFFSHEcC5hHgRtw8llzJR+Dd33dh0Zod+g+aJ8bipbOzwzoFNVSu1DCAnWQAACAASURBVHSoxDjeLAK/lVTg9o/8T8F+Zlx3tE8L/xRs6tms7nAdUQhQ06J0gnmESuAf3xbj/Q179GnDOjbD3Sd1oQEYKkiOF4IADcAI2/Daa6/hjTfe8K6iGYHBTs7VTK5JkyZBOym4b9++uPfee0OObIYBqL2T8L777vPGbsyw1D5/4IEH8OOPPyI2NhavvPIK4uLiQs7ZyAQagEYocQwJmEuAG3FzeXK1AwS276/BVUtz/XA8dGoX9M1MiToiajrqiBkgCIGX1u7Akt926Z92Tk/AE2eF/qRHw+WpZ8pNNQLUtGoddU49/9u8F499VaQXrP1y81/n9UL79u29P+M7AJ2jBRUqpQEYYRe1k3RXr17tXeXFF19s9F152rv28vLy0Lx5czz33HMhR25oAHbr1g379+/H7t27ER8f732Mt0+fPhg9enSjjxd/+OGHeOGFF7yxp02bhqOOOipoHlo9H3zwgfdzrc5OnTqFnLORCTQAjVDiGBIwlwA34uby5Go+AlPezUX+3hr9B+f0a4WLB7WJOiJqOuqIGSAAAY/Hg7+/k4uifbX6p+f1z8CFAzMj4kU9R4SPkwUkQE0L2BSmZIhAoF9u/uPP2Rjc68B7XmkAGsLIQYIQoAEYYSPuuOMObNy40XvCr3aXXGOX9u6/tWvXeoe8+uqrXuMulKuhAdjYPM0EvPTSSwOur8VdunSpd7r2LsAePXoEXertt9/Gv/71L+/n2qPC2iPDRq/S0tImh7Zo0cJ7d6FmAJaU+I5Xb3KiTQO0jUubNgf+Eqv1QpbTnmzCxbCCE6CeBW+QxOm9vHY7Fv/i+29Al/REPDku+H9rzCqVmjaLJNcJhUDenipc947/Xa+PjemGnhnJoSxz2FjqOSJ8nCwgAWpawKYwJUMEtF/0XLx4A/Y0eM/rTcd1xPnDe0v398LMzEzv3795OZcADcAIe3/TTTdh27ZtSE9Px6JFixpdbd68eVi1apV3zPPPP4+0tLSQomum02233YZhw4Z5TxPWbjvWTETtLkDtXYTLly+H9o4/7TruuOMwderUw9bX7jz86KOPvD/X8tEOLgl2aeMO3qmo1XnMMccYznfixIlNjn366acDHkDS5EQOIAESIAESEJbAjwV7ccW/v/PL760rh6Nji8gMEWELZmKOJvDCqi14eqXPAGyTloh3rz4WMTExjubC4kmABEhAJQK3LFmHFZt26iWdc2RH3H7qAQOQFwnIRIAGYITdmjJlCrZv3+41sjRDq7HriSeewOeff+4dEo75pR3Mod0tp91tGOgqKiryHtaxc+eBL6dbb70VQ4cO9Ruqxf3ss8+8P1u4cCHatm0bNGXNUHzmmWe8n1933XUYOXKkYVo0AA2j4kASIAESUIpAvduD059aiT2Vvkcip53cE38Z3FmpOlkMCWgELn7lW/xWvE+HMXFQJ9wyuhfhkAAJkAAJKETglW/ysOB/OXpFPTOb4d+Tgr9KS6HSWYpiBBxjAGrGWTgn7x7a72uuuQajRo3Sf2zlHYBGtLd+/Xrcfffd3qEDBgzAXXfd5TfNqjsA+QiwkW5xDAnYR4CP4tjH3gmR531ZgOW5e/VSB7ZPxf2js6JaOjUdVbxcPACBkvJaXPbmRr9PZo3OwpHtUyPmRT1HjJALCEaAmhasIUwnJAK/7KjA7cu26HNcMcDyqSORmhAn1auh+AhwSG1XcjANwBDbeqgBaOU7AI2mevPNN2Pr1q3ex4O19xJq/8E9eFn1DkCjuWrjeAhIKLQ4lgTMIcCXcZvDkasEJvBVfhke/qJQ/zDOBbxybk+kxEfvvTPUNNVoNYH3ft+NZ9ds18M2S3Dh5XN6Ik77m2GEF/UcIUBOF44ANS1cS5hQCASq69w4//UNqPf4Jj05cSCOymrFQ0BC4Mih9hNwjAGooS4oKIiYeMuWLZGSkqKvM3fuXHz99dfeP0f7FGCjyTc8mVi74087dfjgxVOAjVI8fBw3LuGz40zxCFDP4vVEpYwqautx0eKNqHP7qrr1+A4Y0cX33yOz66WmzSbK9QIR8FRWALt3AtVVuPs3YN1un8hHdWuOG4/tYAo46tkUjFxEIALUtEDNYCphEZj24RZsLD3wvn3tmnxcN1w+vBsNwLBocpJdBBxlAEYD8muvvYY33njDu/SsWbPQq1fg975od7lNmjQJ1dXV6Nu3L+69995opONdszED8Oeff8Z9993nHXfBBRdg/PjxQfN44IEH8OOPP3pPCtLuJIyLi4tKzrwDMCpYuSgJNEqAG3EKJNoEZn6ajx+KK/QwJ3ZrjhtMMkcC5U5NR7ujzl1fOwESv/8E92fvAz+sBtxu7ItLxqUj7oY7xndX6+3Hd8Bwk0xu6tm5elO1cmpa1c46p65Fa7bj3d936wWP6J6Bx885kgagcySgRKU0ACNso2aQaUZZU4bahg0bcOedd3rHaaabZr5F6zr4XsJAjwBXVlbi8ssvh3agyMCBAzFjxoyAaWifa+O08ZqpqZmb0bpoAEaLLNclgeAEuBGnOqJN4N3fd2HRmh16mOaJsXjp7GzEmvB4JA3AaHeP6x8k4MnLgfuFeUBhvh+UFW0HY0Hfv+o/S6ivxUu5zyPl0imIyeoRMUB+R0eMkAsIRoCaFqwhTCdkAl9sKcOcL32vN2me4MJ7p2Vgd0Ul3OmtEJPse0ow5MUtmqAdAKrd3MPLuQRoAEbYe80ou+KKK1BRUYGOHTt6776LiTn83S/PPvssPvnkE2+0Bx98ENnZ2RFGDjy9qUNAtFmzZ8/G999/7/2XXzuZWDvB+NDryy+/xPz5870/vvDCCzFu3Lio5KstSgMwami5MAkEJcCNOMURbQLb99fgqqW5fmEePKUL+reJzgaZmo52R523vufX7+F+arb3cd9Dr0f6X4TVmQP0Hw/b+Qum//wykJgE1zXTEdNvUETAqOeI8HGygASoaQGbwpRCIrBjfw2uPGRfs/DrR9GxsgTQ3rk/6Bi4Ro0Beg8I6AeEFCxKg2kARgmsRMvSADShWQ0fAw5klml3/82cOdNrdPXr1w/33HNPwKgTJ070/lw7nefJJ588bMw333yDYcOGBf1CKS4u9j7eu3PnTu9c7TCQo48++rB1Gj4GPHToUEybNs3voJCysjLcfvvt3nVSU1OxcOFCNGvWzARSgZegARg1tFyYBIIS4Eac4rCCwNT3NiNvT7UeanzfVrh0cJuohKamo4LVsYt67/x7dHpA86/aFYdJI+5BdWyCzue69a/hpOLvDvxZMwFvmR3RnYDUs2Olp2zh1LSyrXVEYdp/E+pfmIcrsy7CrsR0veZr17+Ok4vX+DPo0AWuy26M6L8B0YJKAzBaZOVZlwagCb3SHpPVDLOioiLvaqNHj8axxx6LhIQE/PLLL1iyZAmqqqq8f9Yepe3atWvAqE0ZgNrn7dq1w1FHHeW9g1C7c097zHfXrl1Yt24dPv30U+87BrVr+PDhuPHGG4NW9/jjj+Orr77yft6/f3+ceeaZ0A44yc/Px5tvvont2w+canfllVfilFNOMYFS8CVoAEYVLxcngYAEuBGnMKwg8OqPJXj951I9VLtm8XhmXPeo/Gacmraio86Iob3zz33PlMMe+z1Y/TcZ/fDQgEk6DJfHjRe+ug/Na33vvETHLLhmLghb69SzM7TmpCqpaSd1W61aG94N/kj/C7E68wi9wFMKv8bfNxw4D8DvMulucLNJ0gA0m6h869EANKln2t132qO1B03AQ5dNTk7G1KlTMWTIkKARjRiARtI99dRTcckll3jNwWBXTU0NtBOMtUeBA13aY8znnHMODuZkJG64Y2gAhkuO80ggfALciIfPjjONE8jZVYWbPtjiN2Hhmd3QpUWi8UUMjqSmDYLisCYJeNavg3vugfc2B7qe6H0elrcfpn/Uf08O7v/hH4cNdU17ADG9fY8JNxm4wQDqORRaHCsDAWpahi4xx0MJHHo3+NJOI/Fy9ln6sC77i/D4mnmBwZlwN7jZHaEBaDZR+dajAWhiz7S7/JYtW4bVq1d7TwPS3g+o3aU3aNAgjBkzxvtob2NXUwbgmjVroD1OvGnTJpSUlGDfvn3eO/40c1H7l7lPnz448cQT0aVLF8NVrVy5EitWrEBeXh7Ky8uRnp7uPaX49NNPD3qiseHFDQ6kAWgQFIeRgIkEuBE3ESaXCkpAu5PqirdysLOiTh/ztyNbY+KfWptOjZo2HaljF6x/5iHguwNPSRx61ce4cNmxd2FffKr+0WUbl+Ksgi8PGxszZARck28LiyP1HBY2ThKYADUtcHOYWkACge4G/715F0wffJ0+Psbjxj9X3oPU+sPfFesdFOHd4Ga3hgag2UTlW48GoHw9Uy5jGoDKtZQFSUCAG3EJmqRIis+u2Y73ft+tV5PdKglzzwj8KoxISqamI6HHuQcJeCor4L7hAsDtDgjll/TuuGvQZL/Pnlk9G22qfBrXP3S54Hr832GdDEk9U5OqEaCmVeuo+vUEuhu8NiYWfzv+ftS54nQAd/+4CAN3bwwKJJK7wc2mTAPQbKLyrUcDUL6eKZcxDUDlWsqCJCDAjbgETVIkxXXF5bjr061+1Tw3vgcyU4O/piKc0qnpcKhxzqEEPIX5cM/03d1x6OfPZ4/Fe52O13/cbV8B5n43P/hf/O57EjHtO4cMmnoOGRknCE6Amha8QUzvMALB7ga/fdC12JCepY//y+aP8Je8T4ISjORucLPbQgPQbKLyrUcDUL6eKZcxDUDlWsqCJCDAjbgETVIkxTq3Bxe/sRHlNb47qq4a2hZn9m5paoXUtKk4HbuYZ/MGuB+cFrB+N2Jw1fDp2JXYQv/8r5s/wsRG/uLnmjEHMd16hcyTeg4ZGScIToCaFrxBTM+PQGN3g7/Y4yy803mkPn7grt9x97rngxOM4G5ws9tCA9BsovKtRwNQvp4plzENQOVayoIkIMCNuARNUijFeV8WYsWWMr2iI9ul4L6Tjb+v1ggKatoIJY5pikBjdwAe+u4nba3538xB54odQZd18Q7AppDzc4cQ4He0QxqtSJmN/bfgq8wBmNP/Ir3SlLpK73sAXfCY/t8Cs3HSADSbqHzr0QCUr2fKZUwDULmWsiAJCHAjLkGTFErxq/wyPPxFoV5RbAzwz3N7ollCrGlVUtOmoXT0QqHc9dG5vBjzv30sOK/YWLjmvcp3ADpaUSz+IAF+R1MLMhFo7G7wnYnpuGr4HX7lNPnLoDDvBjebGQ1As4nKtx4NQPl6plzGNACVaykLkoAAN+ISNEmhFCtr3bho8UbUun2/Hb/p2PY4oVu6aVVS06ahdPxCgd77pCn36mOmY2eS79H1iVs+xl+3fByUVyTvfaKeHS9D5QBQ08q1VOmCmnof7FV//Pcgqb4a2WVbcXHu+8jety0ok3DvBjcbMg1As4nKtx4NQPl6plzGNACVaykLkoAAN+ISNEmxFGet2IpvC8r1qkZ0ScOtx3c0rUpq2jSUjl8o0MmPG9M64bYhU/3YzPv2MWSVFwf/C9+0BxDTe0BYPKnnsLBxksAEqGmBm8PUDiPQ1InwP7TsifTa/ehSvh2xnsCnxuuLRnA3uNmtoQFoNlH51qMBKF/PlMuYBqByLWVBEhDgRlyCJimW4seb9uCJr31mSVKcC6+cm42EWJcplVLTpmDkIgA8Hg/c90wBCvN1Hv/sfgbe6nKi/ucOFSVY+M2jiAlGrGMWXDMXICYm6IhGWVPPlKJqBKhp1Tqqfj3BTgEOtfJI7gYPNVZT42kANkVI/c9pAKrfY+ErpAEofIuYoIIEuBFXsKmCl7Snqg6T3tjk94rsu0Z1wtCOzUzJnJo2BSMX+YOAJy8H7kenA9VVXs1ec/Rt2J6cofM5J+9T/G3zssC8EpPgumU2YrJ6hM2Teg4bHScKSoCaFrQxTCsogUB3g4eDyxXB3eDhxGtsDg1As4nKtx4NQPl6plzGNACVaykLkoAAN+ISNEnBFKd/lIdfSyr1yk7NTse1R7c3pVJq2hSMXKQBAc+v38P91GzkxGfglqHX+7GZs+ZxdN/vO9hG/1Az/66Zjph+gyJiST1HhI+TBSRATQvYFKbUKIFAd4OHjCzCu8FDjtfEBBqAZhOVbz0agPL1TLmMaQAq11IWJAEBbsQlaJKCKb71WyleXFuiV5aeFIsXJ2Qj1hXeY5INEVHTCgpGgJK0OwH/uXQV3swYqmfTtrIUT3398OGP/2p/0bv0hoju/DsYhHoWoPlMwVQC1LSpOLmYRQQa3g0eckgT7gYPOSYNQLORKbceDUDlWipfQTQA5esZM5afADfi8vdQxgqK9tVg8tu5fqk/dGoX9M1MibgcajpihFwgAAHtDpC/v52Lov21+qfj8z/DxbkfHPhzbCxiBh6DmBPHAL3+FPY7/w4NTT1TjqoRoKZV66hz6jl4N7j2SgjDl0l3gxuOZ3Ag7wA0CErhYTQAFW6uLKXRAJSlU8xTJQLciKvUTblqmfJuLvL31uhJT+jbCpMGt4m4CGo6YoRcIACBLburcP37W/w+mTM0CdkJNUBSMtAiAzHJkRvYNAApP9UJ8Dta9Q6rXZ/3TsAX5vkdDhW0YhPvBjebKg1As4nKtx4NQPl6plzGNACVaykLkoAAN+ISNEnRFP/1Qwn++0upXl2HtHg8NbZ7xHdOUdOKCsbmsl79sQSv/+zTa5vUODz75x4R67Wpsqjnpgjxc9kIUNOydYz5HkpAuyMcG36G+7P3gO9XA263b0iU7gY3uws0AM0mKt96NADl65lyGdMAVK6lLEgCAtyIS9AkRVPcWFqJaR/m+VX3xFnd0Dk9MaKKqemI8HFyAALaX/aue3cztpX57lgd37cVLjXhjtWmgFPPTRHi57IRoKZl6xjzbYxATHUVWsfGwF1Zjl3llXCnt4zK3eBmd4EGoNlE5VuPBqB8PVMuYxqAyrWUBUlAgBtxCZqkaIqaqXL5khyUVtbpFf7tyNaY+KfWEVVMTUeEj5MDEMjfU40p7232++SR07LQu3Vy1HlRz1FHzAAWE6CmLQbOcFElIKueaQBGVRZSLE4DUIo2qZ0kDUC1+8vqxCQg68ZFTJrMKlQC//i2GO9v2KNP694yEfPGdAt1Gb/x1HRE+Dg5AIH/W7cT//lpp/5JRkocnhvfA66YyE+tbgo49dwUIX4uGwFqWraOMd/GCMiqZxqA1DUNQGrAdgI0AG1vARNwIAFZNy4ObJWSJa8rLsddn271q+0f47qjXVpC2PVS02Gj48QgBA49sGZs75a4YmhbS3hRz5ZgZhALCVDTFsJmqKgTkFXPNACjLg3hA9AAFL5F6idIA1D9HrNC8QjIunERjyQzCodAvduDSW9uQll1vT590qBMTOiXEc5y3jnUdNjoODEAgbw91Zh6yOO/D57SBf3bmH/ib6AGUM+UpWoEqGnVOursemTVMw1AZ+tWq54GIDVgOwEagLa3gAk4kICsGxcHtkrZkp/8uggfbdqr19crIwmPnt417Hqp6bDRcWIAAoee/puRHIfnJljz+C8NbUpSRQL8jlaxq86tSVY90wB0rmYPVk4DkBqwnQANQNtbwAQcSEDWjYsDW6VsyWsL9+Pez7b51ff8hB5onRIfVs3UdFjYOCkAAe2gmr+/k4uifbX6p3/u0xKXDbHm8V8agJSligT4Ha1iV51bk6x6pgHoXM3SAGTvhSFAA1CYVjARBxGQdePioBYpX2ptvQeXvLkR5TVuvdYrhrTB2D6twqqdmg4LGycFILCptAo3f7jF75M5p2ehZ0b0T/89GJR6pjRVI0BNq9ZRZ9cjq55pADpbt1r1vAOQGrCdAA1A21vABBxIQNaNiwNbpXTJ81cVYnlumV5jv8xkzD41K6yaqemwsHFSAAIvrt2Bt37bpX/Srlk8nhnXHTEWnP5LA5CSVJUAv6NV7awz65JVzzQAnanXhlXTAKQGbCdAA9D2FjABBxKQdePiwFYpXfI32/bhgf8V6DXGAHjx7Gy0TI4LuW5qOmRknBCAgNvjwZVv5WBnRZ3+6bn9M3DRwExLeVHPluJmMAsIUNMWQGYIywjIqmcagJZJRNhANACFbY1zEqMB6Jxes1JxCMi6cRGHIDMxg0BNvRsXLd6EqjrfY8CTh7XFGb1ahrw8NR0yMk4IQOC3HRW4/eN8v0/mj+mKri2TLOVFPVuKm8EsIEBNWwCZISwjIKueaQBaJhFhA9EAFLY1zkmMBqBzes1KxSEg68ZFHILMxCwCc1cW4vM832PAR7RLwf0ndwl5eWo6ZGScEIDAP74txvsb9uifdElPwMKzulvOinq2HDkDRpkANR1lwFzeUgKy6pkGoKUyETIYDUAh2+KspGgAOqvfrFYMArJuXMSgxyzMJPBVfhke/qJQX9IVA7x8djaaJ4X2GDA1bWZXnLlWvduDS5dswt6qeh3A345ojYkDWlsOhHq2HDkDRpkANR1lwFzeUgKy6pkGoKUyETIYDUAh2+KspGgAOqvfrFYMArJuXMSgxyzMJKA9/nvR4o2oqffoy153dDuckt0ipDDUdEi4ODgAgR+KyjFz+Va/T54e2x0dmidYzot6thw5A0aZADUdZcBc3lICsuqZBqClMhEyGA1AIdvirKRoADqr36xWDAKyblzEoMcszCbw0OcFWLV1n77skA6puPvEziGFoaZDwsXBAQgsXF2ET3L26p/0aJWEx87oagsr6tkW7AwaRQLUdBThcmnLCciqZxqAlktFuIA0AIVrifMSogHovJ6zYvsJyLpxsZ8cM4gGgc+3lGHul77HgONcwMvn9ESzhFjD4ahpw6g4MACB2noPLnlzI8prfAfSTBqUiQn9MmzhRT3bgp1Bo0iAmo4iXC5tOQFZ9UwD0HKpCBeQBqBwLXFeQjQAnddzVmw/AVk3LvaTYwbRIFBRW+89DbjO7XsM+Ibh7XFi93TD4ahpw6g4MACBb7ftx6z/bfP75LnxPZCZGm8LL+rZFuwMGkUC1HQU4XJpywnIqmcagJZLRbiANACFa4nzEqIB6Lyes2L7Cci6cbGfHDOIFoFZK7bh24L9+vJHd2qGGSd0MhyOmjaMigMDEHh0ZQFW5vkeQ++bmYyHTs2yjRX1bBt6Bo4SAWo6SmC5rC0EZNUzDUBb5CJUUBqAQrXDmcnQAHRm31m1vQRk3bjYS43Ro0lgee5ezF9VpIeId8Xgn+dmIyXe2GPA1HQ0u6P22todqJe8scnvIJqrhrbFmb1b2lY49WwbegaOEgFqOkpguawtBGTVMw1AW+QiVFAagEK1w5nJ0AB0Zt9Ztb0EZN242EuN0aNJYH91vfcdbHW+V7AhlMeAqelodkfttT/N2YMFq4v1ImNjgJfOzkbzpDjbCqeebUPPwFEiQE1HCSyXtYWArHqmAWiLXIQKSgNQqHY4MxkagM7sO6u2l4CsGxd7qTF6tAnMWrEV3xaU62GGdkjFXQZPA6amo90ddde/69N8rCuu0Asc1rEZ7hxl/PHzaJChnqNBlWvaSYCatpM+Y5tNQFY90wA0WwnyrUcDUL6eKZcxDUDlWsqCJCAg68ZFArRMMQICKzbvxbyvfI8Ba3diaacBpyU2/RgwNR0BeAdPLa2oxeVLcuA7fga49bgOGJHV3FYq1LOt+Bk8CgSo6ShA5ZK2EZBVzzQAbZOMMIFpAArTCucmQgPQub1n5fYRkHXjYh8xRraCgPYutosXb0Jtg9OArzu6HU7JbtFkeGq6SUQcEIDAm7+W4uXvS/RPUuJd3sd/E+NctvKinm3Fz+BRIEBNRwEql7SNgKx6pgFom2SECUwDUJhWODcRGoDO7T0rt4+ArBsX+4gxslUEHvp8G1Zt9Z0GPLBdCu49uUuT4anpJhFxQAAC17+3GVv2VOufjO6RjinHtLedFfVsewuYgMkEqGmTgXI5WwnIqmcagLbKRojgNACFaIOzk6AB6Oz+s3p7CMi6cbGHFqNaSWBlXhkeXVmoh3TFAC+enY0WTRzIQE1b2SU1Ym3ZXYXr39/iV8z9J3fGEe1SbS+Qera9BUzAZALUtMlAuZytBGTVMw1AW2UjRHAagEK0wdlJ0AB0dv9ZvT0EZN242EOLUa0kUFXnxsWLN6K63vdWtsnD2uKMXi0bTYOatrJLasR6+fsdePPXXXoxGSlxeG58D7hiYmwvkHq2vQVMwGQC1LTJQLmcrQRk1TMNQFtlI0RwGoBCtMHZSdAAdHb/Wb09BGTduNhDi1GtJvDoygKszNunh/1Tm2Q8cEoWDUCrG6FwPLfHgyuW5KC0sk6v8ux+rXDJoDZCVM3vaCHawCRMJEBNmwiTS9lOQFY90wC0XTq2J0AD0PYWMAEagNQACVhPQNaNi/WkGNEOAqu37sPszwv00Nr9WM9P6IGMlPig6VDTdnRK3pjristx16db/QpYcGY3ZLVIFKIo6lmINjAJEwlQ0ybC5FK2E5BVzzQAbZeO7QnQALS9BUyABiA1QALWE5B142I9KUa0g0BNvRuXvLEJFbVuPfwVQ9pgbJ9WNADtaIiCMResKsKnuXv1yrq1TMTjY7oJUym/o4VpBRMxiQA1bRJILiMEAVn1TANQCPnYmgQNQFvxM7hGgAYgdUAC1hOQdeNiPSlGtIvAvK8KsWJzmR6+d+tkPHJa8MeAqWm7OiVf3Oq6AwZzZZ3PYJ40KBMT+mUIUwz1LEwrmIhJBKhpk0ByGSEIyKpnGoBCyMfWJGgA2oqfwWkAUgMkYA8BWTcu9tBiVDsIrCnYj/tXbPMLvejPPdCmWeDHgKlpO7okZ8wVm/di3ldFevJGHjG3ulLq2WrijBdtAtR0tAlzfSsJyKpnGoBWqkTMWDQAxeyLo7LiHYCOajeLFYSArBsXQfAxDQsI1NZ7MOnNjdhf47tL65JBmTg7yF1a1LQFTVEkxF2f5GPd9gq9mkHtU3HPSZ2Fqo56FqodTMYEAtS0CRC5yGyu1wAAIABJREFUhDAEZNUzDUBhJGRbIjQAbUPPwAcJ0ACkFkjAegKyblysJ8WIdhJYuLoIn+T43tPWo1USHjuja8CUqGk7OyVP7O37a3DV0ly/hKeN6IDjuzYXqgjqWah2MBkTCFDTJkDkEsIQkFXPNACFkZBtidAAtA09A9MApAZIwD4Csm5c7CPGyHYQ+KGoHDOX+5/U+sy47miflnBYOtS0HR2SL+b//bQT/1m3U088NcGFl87ORkKsS6hiqGeh2sFkTCBATZsAkUsIQ0BWPdMAFEZCtiVCA9A29AxMA5AaIAH7CMi6cbGPGCPbQaDe7cGlb27C3up6Pfz5R7TGXwe0pgFoR0Mkj+n2eDD57Vxs31+rV3JGzxaYfFQ74Srjd7RwLWFCERKgpiMEyOlCEZBVzzQAhZKRLcnQALQFO4M2JMBHgKkHErCegKwbF+tJMaLdBP7xbTHe37BHT6NDWgKeGtsNMTHa0Q2+i5q2u1Pix/9peznu/MT/jtI5p2ehZ0aycMlTz8K1hAlFSICajhAgpwtFQFY90wAUSka2JEMD0BbsDEoDkBogAXsJyLpxsZcao9tB4Pedlbh1WZ5f6ECmDTVtR3fkijl/VSGW55bpSXdOT8DCMw83k0WoinoWoQvMwUwC1LSZNLmW3QRk1TMNQLuVY398GoD298DxGfAOQMdLgABsICDrxsUGVAxpMwHPH49tFjd4bPOs3i1x5dC2fplR0zY3SvDwFbX1mPTGJlTXe/RMJw3KxIQgp0rbXQ71bHcHGN9sAtS02US5np0EZNUzDUA7VSNGbBqAYvTB0VnQAHR0+1m8TQRk3bjYhIthbSbw73UleO2nUj2L9KRYvDghG7Eu32PA1LTNTRI8/Cc5e7BwdbGepSadFyZko2VynJCZU89CtoVJRUCAmo4AHqcKR0BWPdMAFE5KlidEA9By5Ax4KAEagNQECVhPQNaNi/WkGFEEAgVlNbjmnVy/VGae2AmDOzTzGTouF9q1O3CYQ3FxMdxutwipMwdBCEz/KA+/llTq2QzrmIo7R3UWJLvD0+B3tLCtYWJhEqCmwwTHaUISkFXPNACFlJOlSdEAtBQ3gwUiQAOQuiAB6wnIunGxnhQjikJg2odbsLG0Sk/nhK7NcdOIDjQARWmQwHkU7avxnv7b8Lr9+I4Y3iVN2Kz5HS1sa5hYmASo6TDBcZqQBGTVMw1AIeVkaVI0AC3FzWA0AKkBEhCDgKwbFzHoMQs7CLyzfhee+26HHjoxNgYvn9MTyfEu78+oaTu6IkfMV34oweJffI+QpyUeeIQ8Ptb/JGmRqqGeReoGczGDADVtBkWuIQoBWfVMA1AUBdmXBw1A+9gz8h8EeAcgpUAC1hOQdeNiPSlGFIXAnso6XLpkE9y+Mxxw47HtMapbOg1AUZokYB51bg8uX7IJe6rq9ewCHSIjWur8jhatI8wnUgLUdKQEOV8kArLqmQagSCqyJxcagPZwZ9QGBGgAUg4kYD0BWTcu1pNiRJEI3PfZVnxXWK6nNLh9KmaedOA9btS0SJ0SJ5dV+fvw0BcFfgktOLMbslokipNkgEyoZ6Hbw+TCIEBNhwGNU4QlIKueaQAKKynLEqMBaBlqBgpGgAYgtUEC1hOQdeNiPSlGFInAis17Me+rIj0l7SRX7VHOFslxNABFapRAudy7fCvWFvlM4z6tk/HwaVkCZRg4FX5HC98iJhgiAWo6RGAcLjQBWfVMA1BoWVmSHA1ASzAzSGMEaABSHyRgPQFZNy7Wk2JEkQhU1blxyRsbUVXnew74iiFtMLZPKxqAIjVKkFy276/B1Utz0eCpcVw/vD1O6n7gsXGRL35Hi9wd5hYOAWo6HGqcIyoBWfVMA1BURVmXFw1A61gzUhACNAApDRKwnoCsGxfrSTGiaATmfVmIFVvK9LR6tErCY2d0pQEoWqMEyOfVH0vw+s++wz9S41148exsJMYdODhG5Ivf0SJ3h7mFQ4CaDoca54hKQFY90wAUVVHW5UUD0DrWjEQDkBogAWEIyLpxEQYgE7GNwNrC/bj3s21+8bV3unVrlYx27dp5f15cXAy3221bjgxsP4F67fCPt3Kwu7JOT+bMXi1w1bADGhH94ne06B1ifqESoKZDJcbxIhOQVc80AEVWlTW50QC0hjOjNEKAdwBSHiRgPQFZNy7Wk2JE0Qhoxs4Vb+VgVwNjZ3zfVrh8aDsagKI1y8Z8vt66Dw9+7n/4x/wxXdG1ZZKNWRkPze9o46w4Ug4C1LQcfWKWxgjIqmcagMb6q/IoGoAqd1eS2mgAStIopqkUAVk3Lko1gcWETeDl73fgzV936fNbJMXixXN6oVOH9t6f8Q7AsNEqM/HQE6N7t07CI6d1laY+fkdL0yomapAANW0QFIdJQUBWPdMAlEJeUU2SBqCJeKurq7Fs2TKsWrXK+5ePuro6tG7dGoMGDcKYMWO8/xzJde2116KkpCSkJZ544gm0adPGb87rr7+OxYsXG1pn5syZ6N+/v6Gx4Q6iARguOc4jgfAJyLpxCb9izlSJwLa91bj23c1+Jd11YmeMG9qTBqBKjQ6zlpLyWlz5Vo7f4R9TjmmH0T1ahLmi9dP4HW09c0aMLgFqOrp8ubq1BGTVMw1Aa3UiYjQagCZ1RTP8HnroIRQWFgZcMSUlBVOnTsXgwYPDjhiqAajFfPbZZ5GQkEADMGzqvomyftGbUDqXUJAA9axgUx1W0q3LtuD3nVV61cO7pGHBX4bRAHSYDgKV++91JXjtJ9/hHyl/HP6RJMHhHwfr4Xc0hawaAWpatY46ux5Z9UwD0Nm61aqnAWiCBqqqqjB9+nQUFBx418zJJ5+MESNGeI23n3/+GW+99Ra0MYmJiZg1axaysrLCiqqZi9pdhY1dP/30E15++WU9j6uvvvqw4Q3vAJwzZ06j62l3DyYlRfd9ObwDMCw5cBIJRERA1o1LREVzslIEPty4G09/s12vSfN2Pvj7cWiRksBHgJXqdGjFaO+I1O7+K23wjsgzerbA5KPkOPyDBmBo/eZoeQhw3yFPr5hp0wRk1TMNwKZ7q/oIGoAmdLihoXbhhRdi3Lhxfqtu2LAB2qO0mtGlPU6r/XO0rnnz5nkfQdau++67D3369GnUANRyt/uiAWh3BxjfiQRk3bg4sVesOTCB/TX1uPTNTaip9+gDbj6pJ/46pDMNQAeL5qv8Mjz8hf/TGPPO6IruraL7y0yzkfM72myiXM9uAtS03R1gfDMJyKpnGoBmqkDOtWgARtg37Y68K6+8EuXl5ejYsSPmzp0L7Qvh0Et7FPeTTz7x/lh7VLh79+4RRj58ekVFhTeX2tpaaP9yL1y4MGCMhoYlDUDjbZD1i954hRzpJALUs5O6rW6tc1cW4vO8Mr3A3m2a4V+XHEUDUN2WN1nZHZ/k4+ftFT5NtE7GI6eF9+RFk8GiOIDf0VGEy6VtIUBN24KdQaNEQFY90wCMkiAkWpYGYITNWrdunfexXu264IILMH78+IArancB3nnnnd7PJkyYgPPPPz/CyIdP1wxGzWjUrvPOO8/7v0AXDcDw0Mv6RR9etZylOgHqWfUOO6O+74vKcc/yrX7FvnrJMDR3l8PtdjsDAqvUCeTtqcbU9/wPh7nx2PYY1S1dOkr8jpauZUy4CQLUNCWiEgFZ9UwDUCUVhlcLDcDwuOmzXnvtNbzxxhveP2tGYK9evQKuqD3mOmnSJGgnBfft2xf33ntvhJEPn3733Xdj/fr1iImJwYIFC7x3AdIANA+zrF/05hHgSioRoJ5V6qZza/G+721pDkorfO/HPX9IZ1zQL40GoANl8cw3xfhg4x698vSkWDw/vgfiYw9/MkN0PPyOFr1DzC9UAtR0qMQ4XmQCsuqZBqDIqrImNxqAEXJ+7LHHsHr1au8qL774IlJTU4OueMsttyAvLw/NmzfHc889F2Fk/+k7duzAlClT4PF4mjQYG94BOGDAAGzevBmVlZXe3Dt16oSBAwdi9OjRaNasmak5BluM7wC0BDODkIAfAVk3LmwjCRxK4JUfSrD4F9+Jry2S4/HChGzExvjeDUhq6hMor6nHZUs2oarO1/eJf8rA347MlLJ4fkdL2TYm3QgBapryUImArHqmAaiSCsOrhQZgeNz0WXfccQc2btzoPeH3lVdeaXQ17d1/a9eu9Y559dVXER8fH2F03/T//ve/0P6nXdrJv9pJxMGuhgZgsDGaGXjNNddg2LBhYeVYWur7y1iwBVq0aIHY2Fjv4SglJSVhxbFykvZFr52KrF2a4crHy6ykz1hmE6CezSbK9ewiUFBWjclLc/zCzxjVGcM7p9mVEuPaQODt30qxaI3vVGhXDPD8hJ5onWreXsvKsvgdbSVtxrKCADVtBWXGsIqArHrOzMz0/v2bl3MJ0ACMsPc33XQTtm3bhvT0dCxatKjR1Rqe0Pv8888jLc28v5xMnTrV+9LzhIQE73sAU1JSGjUAv/nmG6+5l52djZYtW3pNuMLCQqxcuRI//vijd672xXbbbbdh0KBBIVOaOHFik3OefvppZGRkNDmOA0iABEiABEigMQKXv/od1hXu1YcM79YKC84dSGgOIeD2eHDe818jf7fv8I+TemXi4T8PcAgBlkkCJEACJEACJEACTROgAdg0o0ZHaI/dbt++3WtkaYZWY9cTTzyBzz//3DvETPPr999/x1133eVd99hjj8UNN9zQaB7aicWNPar88ccf62amZg5qpwlrxmIoFw3AUGhxLAmQAAmQQCQE3vm5CPd98Ju+RAyAt64ajg7pyZEsy7mSEPh6yy5c998f/LJ95i+DMKRLS0kqYJokQAIkQAIkQAIkEH0CjjEAtTvczDh5V3ssdtSoUXpnRLgDULvjTzsBWLtmzJjhfYdfpNczzzyD5cuXe5fRTM7jjz8+pCX5CHBIuDiYBCwnIOujC5aDYkApCFTVuTFp8QaU1/pO/v3LgNa4cOCB1zbwUpvArM/y8fW2/XqRXdIT8cTY7t5D0WS9+B0ta+eYdzAC1DS1oRIBWfXMR4BVUmF4tdAADJHboQag3e8ArK2txVVXXQXtrj7tnXqacad9IUV65eTkYPr06d5ltPcJau8VjNbFQ0CiRZbrkkBwArK+vJg9JYFgBJ5dsx3v/b5b/7hlcpz3BNhY7WVwvJQlsH1/Da5emouGR75MHtYWZ/SS++4/fkcrK1nHFkZNO7b1ShYuq555CIiScgypKMcYgBqVgoKCkOAEGqw9Etvw/Xpz587F119/7R1qxynA2gnE2knE2nXWWWfh4osvjrhGbYHq6mpcdNFF3rW0dwAeNANNWfyQRWgARoMq1ySBxgnIunFhX0kgGIH8vTWY8m6u38czRnbE0TwMRGnRvLh2B976bZdeY0q8y3sKdHJ85L8MtRMcv6PtpM/Y0SBATUeDKte0i4CseqYBaJdixInrKAMwGthfe+01vPHGG96lZ82ahV69egUMo5lckyZN8hprffv2xb333mtKOg8//DC+++4771pz5sxBly5dTFm3qqpKNxNpAB5AKusXvSmC4CLKEaCelWup4wvSND3jk234qahMZzGkQyruPrGz49moCqCith6XL8lBRYNHv8/s3RJXDW0rfcn8jpa+hSzgEALUNCWhEgFZ9UwDUCUVhlcLDcDwuOmztBNzH3jgAe+fL7jgAowfPz7gihs2bMCdd97p/Uwbo42N9CorK/M+mquZi127dsUjjzwS6ZL6/E2bNnnfJ6hdJ510EiZPnmza2ocuxDsAo4aWC5NAUAKyblzYUhIIRkDT9Dclbtz/4Xp9iPbw77N/7oE2zeIJTkECb6/fhee/2+HX76fHdUf7tNAOLhMRDb+jRewKc4qEADUdCT3OFY2ArHqmASiakqzPhwZghMzr6upwxRVXoKKiAh07dvQ+jhvopdMND+p48MEHkZ2dHWFk4P3338dLL73kXeeSSy7BmWeeGfGaBxdoeAjIddddh5EjR5q2Ng3AqKHkwiRgmICsGxfDBXKg4whomk5vlYkznl6J8pp6vf6Jf8rA347MdBwP1Quud3sw+e0c7Civ00s9pnMzTB/ZSYnS+R2tRBtZRAMC1DTloBIBWfVMA1AlFYZXCw3A8Lj5zWr4GPCFF16IcePG+X2u3f03c+ZM7516/fr1wz333BMw6sSJE70/107nefLJJ5vM7Pbbb0dubi5iY2O9h3+kp6c3OSc/Px8JCQlo165d0LEff/wxFi1a5P1cO1hkwYIFSEpKanLtcAfwDsBwyXEeCYRPQNaNS/gVc6bqBA5q+uGPf8fiH3zv/G2VHIfneBiIcu3/Mq8Mj6ws9Ktr9ild0K9NihK18jtaiTayCBqA1ICiBGT9jqYBqKggQyiLBmAIsIINrayshGbGFRUVeYeMHj0axx57rNdo++WXX7BkyRJo79TT/qy9J1B7XDfQFYoBuG3bNtx0003eZQYPHuyNb+RasWKF1yzs37+/93AP7Z2BzZo1g9vt9h6S8sUXX2DdunXepbQvtmnTpmHo0KFGlg57DA3AsNFxIgmETUDWjUvYBXOi8gQOanrDjn3428vf+tU744SOOLpTmvIMnFKgx+PBrcvysKG0Si+5Z0YSHj0tK+BTGDJy4Xe0jF1jzo0RoKapD5UIyKpnGoAqqTC8WmgAhsftsFnFxcWYPXu2bgIeOiA5ORlTp07FkCFDgkYMxQB89dVXsXTpUu9aN954I4YPH26oEs0AfOqpp5ocm5aW5n3v37Bhw5ocG+kAGoCREuR8EgidgKwbl9Ar5QynEGio6b+98JWfOcTDQNRSwW8lFbj9o3y/om45rgOOy2quTKH8jlamlSzkDwLUNKWgEgFZ9UwDUCUVhlcLDcDwuAWcpd3lt2zZMqxevRqaIai9HzAjI8N7p92YMWO8j/Y2dhk1ALW79a699lqUlpYiNTUV2vsF4+ONveB879693lODtceSt2zZAu3P+/btg/bbdO1OQO3uxCOPPBKjRo1CSoo1j9HQADRRhFyKBAwSkHXjYrA8DnMggYaa/ucXv2Hh6gN35WuXdhiIKodDOLC1h5X80OfbsGrrfv3nbVLj8My4Hoh1aZ1W4+J3tBp9ZBU+AtQ01aASAVn1TANQJRWGVwsNwPC4cZaJBGgAmgiTS5GAQQKyblwMlsdhDiTQUNNbthZi0hsbUF7r1kmM79sKlw5u40AyapVctK8Gf387F54GZV02uA3+3LeVUoXyO1qpdrKYP14tdPAd5NqNEtoNDbxIQFYCsn5H0wCUVXHm5U0D0DyWXClMAjQAwwTHaSQQAQFZNy4RlMypihM4VNOLvi3C2+t361WnJrjw4oRsJMa5FCehdnnPrtmO93739TUl3oXnJ/RASnysUoXzO1qpdrIYGoDUgGIEZP2OpgGomBDDKIcGYBjQOMVcAjQAzeXJ1UjACAFZNy5GauMYZxI4VNMFe6sw+e1cPxjXHt0Op2a3cCYgBaouq67HlW9tQlWd7/4/Ve/s5He0AoJlCX4EqGkKQiUCsuqZBqBKKgyvFhqA4XHjLBMJ0AA0ESaXIgGDBGTduBgsj8McSCCQpu/7bCu+KyzXaXRrmYh5Z3RV5qRYp7X5P+tK8H8/lepla6/8+8e4HmjTzNh7kGXixe9ombrFXI0QoKaNUOIYWQjIqmcagLIoLHp50gCMHluubJAADUCDoDiMBEwkIOvGxUQEXEoxAoE0/V3Bfty3YptfpQ+e0gX921hzyJViiG0tp6JWu/svB/trfO8NG9W1OW4c0cHWvKIVnN/R0SLLde0iQE3bRZ5xo0FAVj3TAIyGGuRakwagXP1SMlsagEq2lUUJTkDWjYvgWJmejQQCadrt8XgPjCjeX6tnNqJLGm49vqONmTJ0OATe+q0UL64t8Zu68Mxu6NIiMZzlhJ/D72jhW8QEQyRATYcIjMOFJiCrnmkACi0rS5KjAWgJZgZpjAANQOqDBKwnIOvGxXpSjCgLgWCaXvrbLrywdodeRmwMsGh8D2SkqPfYqCy9CjXP2no3rlyai92VdfrUozs1w4wTOoW6lDTj+R0tTauYqEEC1LRBUBwmBQFZ9UwDUAp5RTVJGoBRxcvFjRCgAWiEEseQgLkEZN24mEuBq6lEIJim91fX47Ilm1Bd7zs44tz+GbhoYKZK5Stdy7KNe/DUN8V+NT5yWhZ6t05Wtm5+RyvbWscWRk07tvVKFi6rnmkAKinHkIqiARgSLg6OBgEagNGgyjVJoHECsm5c2FcSCEagMU0/9XUxlm3ao09NS3DhuQnZSIpzEajgBOrdHlzzjv9j3Ee0TcH9o7sInnlk6fE7OjJ+nC0eAWpavJ4wo/AJyKpnGoDh91yVmTQAVemkxHXQAJS4eUxdWgKyblykBc7Eo06gMU1v3VuN697d7JfD5GFtcUavllHPiwEiI/C/zXvx2FdFfovce1JnDGyfGtnCgs/md7TgDWJ6IROgpkNGxgkCE5BVzzQABRaVRanRALQINMMEJ0ADkOogAesJyLpxsZ4UI8pCoClN3/fZVnxXWK6X0yEtHk+O7Q5XTIwsJTouT+3uv6nvbca2shq99uxWSZhzehZiFO9bU3p2nBhYsPQEqGnpW8gCGhCQVc80ACljGoDUgO0EaADa3gIm4EACsm5cHNgqlmyQQFOaXldcjrs+3eq32owTOuLoTmkGI3CY1QQ+31KGuV8W+oW9fWRHDO+sfs+a0rPVvWA8EoiUADUdKUHOF4mArHqmASiSiuzJhQagPdwZtQEBGoCUAwlYT0DWjYv1pBhRFgJNadrj8eDGD7Zg8+5qvaQ/tUnGA6dkyVKio/IMdPdft5aJeOyMro64a7MpPTtKDCxWCQLUtBJtZBF/EJBVzzQAKWEagNSA7QRoANreAibgQAKyblwc2CqWbJCAEU1/lrsXj6/yf5/c3NO7IjsjyWAUDrOKQKB3/00f2RHHOODuP42xET1b1QvGIQEzCFDTZlDkGqIQkFXPNABFUZB9edAAtI89I/9BgAYgpUAC1hOQdeNiPSlGlIWAEU3X1ntw1dIc7Kqs08sa2bU5bh7RQZYyHZGndvfflPc2o6DBu/+0u//mndFV+Xf/HWywET07QgwsUhkC1LQyrWQhEv+ShgYg5UsDkBqwnQANQNtbwAQcSIAbcQc2XfGSjWp68S+leOWHEp2GKwZ4Zlx3tG2WoDghecpbsXkv5h1y8u+MkR1xtEPu/tM6ZVTP8nSVmTqdADXtdAWoVb+seqYBqJYOw6mGBmA41DjHVAI0AE3FycVIwBABWTcuhorjIEcSMKrpfdX1uHzJJlTXe3ROZ/RsgclHtXMkN9GK1u7+u+7dzSjc5zv5t/sf7/5T/eTfhr0wqmfR+sd8SCAYAWqa2lCJgKx6pgGokgrDq4UGYHjcOMtEAjQATYTJpUjAIAFZNy4Gy+MwBxIIRdPPf7cdb6/frVOKd8Xg2fE90Co5zoHkxCr5k5w9WLi62C8pJ57WHIqexeogsyGBwASoaSpDJQKy6pkGoEoqDK8WGoDhceMsEwnQADQRJpciAYMEZN24GCyPwxxIIBRNl1bUet8FWOf2gZrQtxUmDW7jQHLilFxT78bf387FzgrfOxp7tEqEdlCLk+7+0zoSip7F6SAzIYHgBKhpqkMlArLqmQagSioMrxYagOFx4ywTCdAANBEmlyIBgwRk3bgYLI/DHEggVE0/+XURPtq0VyeVFOfCc+N7IC0x1oH0xCj5rd9K8eJa3/sZtaxmntgJgzs0EyNBC7MIVc8WpsZQJBAWAWo6LGycJCgBWfVMA1BQQVmYFg1AC2EzVGACNACpDBKwnoCsGxfrSTGiLARC1XTRvhpc804u3L5XAeL8I1rjrwNay1KyUnmW19Tj6qU52Ffjuy1zQNsU3H9yZ8fd/ac1NlQ9KyUGFqMkAWpaybY6tihZ9UwD0LGS1QunAUgN2E6ABqDtLWACDiQg68bFga1iyQYJhKPpuSsL8XlemR4hLcGFReOzkRzvMhiVw8wi8K8fSvDfX0r9lnvktCz0bp1sVgip1glHz1IVyGQdR4CadlzLlS5YVj3TAFRaloaKowFoCBMHRZMADcBo0uXaJBCYgKwbF/aTBIIRCEfTW3ZX4fr3t/gtOWlQJib0yyBoCwnsqqzD5KU5ficzD+/cDLeP7GRhFmKFCkfPYlXAbEjAnwA1TUWoREBWPdMAVEmF4dVCAzA8bpxlIgEagCbC5FIkYJCArBsXg+VxmAMJhKvpWSu24duC/Tqx9MRY/OPPPXgXoIUaeuabYnywcY8e0RUDLDizGzqnJ1qYhVihwtWzWFUwGxLwEaCmqQaVCMiqZxqAKqkwvFpoAIbHjbNMJEAD0ESYXIoEDBKQdeNisDwOcyCBcDX9+85K3Losz4/YRQMzcW5/3gVohYzy9lTjhvc3+72LcXSPdEw5pr0V4YWNEa6ehS2IiTmeADXteAkoBUBWPdMAVEqGYRVDAzAsbJxkJgEagGbS5FokYIyArBsXY9VxlBMJRKLp+z/bijWF5To27V2Az47vgZR4nggcTS15PB7c89k2/FDkY58QG4Onx3VH65T4aIYWfu1I9Cx8cUzQkQSoaUe2XdmiZdUzDUBlJWm4MBqAhlFxYLQI0ACMFlmuSwLBCci6cWFPSSAYgUg0nbOrCjd94P8uQJ4IHH2trSnYj/tXbPMLNPFPGfjbkZnRDy54hEj0LHhpTM+hBKhphzZe0bJl1TMNQEUFGUJZNABDgMWh0SFAAzA6XLkqCTRGQNaNC7tKAtEwALU1Z3++Dau3+t4FmBLvwrN/7oG0RN4FGA3V1bk9mPreZhSU1ejLt0qOw1Nju/P9iwD4HR0N1XFNOwlQ03bSZ2yzCciqZxqAZitBvvVoAMrXM+UypgGoXEtZkAQEZN24SICWKdpEIFJNaycC3/D+Fnga5K+9B1B7HyAv8wm8s34Xnvtuh98bMJKiAAAgAElEQVTC1w9vj5O6p5sfTMIVI9WzhCUzZcUJUNOKN9hh5cmqZxqADhNqgHJpAFIDthOgAWh7C5iAAwnIunFxYKtYskECZmh6zsoCfJG3T4+YFBfjPRG4RVKcwSw4zAiBsup6/P3tHOyvcevDs1sl4dHTs+CKiTGyhPJjzNCz8pBYoFQEqGmp2sVkmyAgq55pAFLaNACpAdsJ0AC0vQVMwIEEZN24OLBVLNkgATM0va2sGlPe9T+R9oyeLTD5qHYGs+AwIwSe/LoIH23a6zf0oVO6oG+bFCPTHTHGDD07AhSLlIYANS1Nq5ioAQKy6pkGoIHmKj6EBqDiDZahPBqAMnSJOapGQNaNi2p9YD3mETBL0/NXFWJ5bpmemCsGWHhmN3RKTzQvWQevtL6kErd9lOdHYESXNNx6fEcHUzm8dLP0TKgkIAoBalqUTjAPMwjIqmcagGZ0X+41aADK3T8lsqcBqEQbWYRkBGTduEiGmelaSMAsTZeU1+Kad3JRU+97G+BRnZrhjhM6WViNmqHq3R7c/OEWbN5drReoPWb9xFndkZkar2bRYVZllp7DDM9pJGA6AWradKRc0EYCsuqZBqCNohEkNA1AQRrh5DRoADq5+6zdLgKyblzs4sW44hMwU9Ov/FCCxb+U+hU9a3RnDGibCk9lBbB7J1BdBSQmAS1bIyaZj64aUcjb63fh+UMO/pg0KBMT+mUYme6oMWbq2VHgWKywBKhpYVvDxMIgIKueaQCG0WzFptAAVKyhMpZDA1DGrjFn2QnIunGRnTvzjx4BMzVdUVuPyW/nYm9VvZ5w9xQ3Hil+G64fVgNu3+EVcLmAQcfANWoM0HsAYniIRcAml1Zod1ZuRlWdj11WeiIeG9MVcdpz1rz8CJipZ6IlAREIUNMidIE5mEVAVj3TADRLAfKuQwNQ3t4pkzkNQGVayUIkIiDrxkUixEzVYgJma/qDDbvxzLfb/aq4/rf/4ITt3wevrEMXuC67ETFZPSyuXvxwj3xRgC/zfScsaxnz4I/gfTNbz+IrhBmqToCaVr3DzqpPVj3TAHSWTgNVSwOQGrCdAA1A21vABBxIQNaNiwNbxZINEjBb09r76qa++Ru2Vbv0DFpV78XCb+Ygud73DrvD0ktMguua6YjpN8hg5uoPW5W/Dw99UeBX6Oge6ZhyTHv1iw+zQrP1HGYanEYCphGgpk1DyYUEICCrnmkACiAem1OgAWhzAxgeoAFIFZCA9QRk3bhYT4oRZSFgtqY9eTn4ZtGLeLDvhX4Ixm79HJfmvNs4Fs0EvGU27wQEUFZdj+ve9X+cOi3BhafGdkfzpDhZ5GV5nmbr2fICGJAEDiFATVMSKhGQVc80AFVSYXi10AAMjxtnmUiABqCJMLkUCRgkIOvGxWB5HOZAAmZq2uPxwH3PFHgK83H/EZfjh1a9daIuTz3mrJmPruXFjVPumAXXzAWOfyfg3C8L8fmWMj9WNx7bHqO6pTtQpcZLNlPPxqNyJAlEjwA1HT22XNl6ArLqmQag9VoRLSINQNE64sB8aAA6sOks2XYCsm5cbAfHBIQlYKamPevXwT33Tm+tRckZuGHYTah1xeu19967BQ98/zRc8DTKwzXtAcT0HiAss2gn9vXWfXjwc/9Hf4d1bIY7TujoeGO0KfZm6rmpWPycBKwgQE1bQZkxrCIgq55pAFqlEHHj0AAUtzeOyYwGoGNazUIFIiDrxkUghExFMAJmarr+mYeA777SK/y/rqfg9a6n+FV87frXcXLxmkYpxAwZAdfk2wQjZU06+6rrMeXdXOxucJJyaoILC8/showUn5lqTTbyRTFTz/JVz4xVJEBNq9hV59Ykq55pADpXswcrpwFIDdhOgAag7S1gAg4kIOvGxYGtYskGCZilaU9lBdw3XAC43Xrkalccbhx2E4qTW+s/a16z33sgSFpdRfAMXS64Hv83YpJTDFahxjDtEepHVxYedurv9cPb46TufPTXSJfN0rORWBxDAlYQoKatoMwYVhGQVc80AK1SiLhxaACK2xvHZEYD0DGtZqECEZB14yIQQqYiGAGzNK29988987rDqlvbqjdmHXG5389PKP4O169/rVESrvueREz7zoLRim46n+TswcLV/u9IHNIhFXeN6sRHfw2iN0vPBsNxGAlEnQA1HXXEDGAhAVn1TAPQQpEIGooGoKCNcVJaNACd1G3WKgoBWTcuovBjHuIRMEvTns0b4H5wWsACH+l/IVZnHuH32fSfXsSw0t+CAnHNmIOYbr3EAxaljLaVVeOm97egut73fsRmCS7MP7MbWvPRX8PUzdKz4YAcSAJRJkBNRxkwl7eUgKx6pgFoqUyEDEYDUMi2OCspGoDO6jerFYOArBsXMegxCxEJmKXpYHcAajWXJjTH9UfdjIq4ZB1Bi+oyzP92LtLqKgNicdIdgLX1bty6LA+5u6v9WNw+siOGd04TUTbC5mSWnoUtkIk5jgA17biWK12wrHqmAai0LA0VRwPQECYOiiYBGoDRpMu1SSAwAVk3LuwnCQQjYJamA70DsGHM5e2G4Ik+f/FLY+T2tbjht/87PLXYWLjmveqYdwC+8N12LF2/24/DadktcM3R7SjcEAmYpecQw3I4CUSNADUdNbRc2AYCsuqZBqANYhEsJA1AwRrixHRoADqx66zZbgKyblzs5sb44hIwU9OHngLcsGrtwdYHBlyKtRl9/WDc9OurOG7Hj34/c9IpwKvy9+GhLwr86u+cnoC5p3dFYpxLXOEImpmZeha0RKblMALUtMMarni5suqZBqDiwjRQHg1AA5A4JLoEaABGly9XJ4FABGTduLCbJBCMgJma9qxfB/fcO4PCDvQocEpdJeaueRxtq3x3wLmmPYCY3gOUb1r+3mrc8mEequp8JyfHu2Iw5/QsdG2ZpHz90SjQTD1HIz+uSQKhEqCmQyXG8SITkFXPNABFVpU1udEAtIYzozRCgAYg5UEC1hOQdeNiPSlGlIWAmZr2eDxw3zMFKMwPWv7/2g7C/L7n+33ea28eZv3wNOI8bqBjFlwzFyh/6m15TT2mfbgFhftq/VhcPawtxvRqKYt8hMvTTD0LVxwTciQBatqRbVe2aFn1TANQWUkaLowGoGFUHBgtAjQAo0WW65JAcAKyblzYUxIIRsBsTXvycuB+dDpQXRUU+vw+f8H/2g3x+/zsvOW4sHAFXLfMRkxWD6Ub5vZ48OD/CvBtwX6/Ok/q3hxTj2mvvPkZzeaaredo5sq1ScAIAWraCCWOkYWArHqmASiLwqKXJw3A6LHlygYJ0AA0CIrDSMBEArJuXExEwKUUIxANTXt+/R7up2YHNQErYxMxbcj1KEpp7Ufztm7VOPbYIxUjfHg5r/5Ygtd/LvX7oEerJMw+pQvf+xdh96Oh5whT4nQSiIgANR0RPk4WjICseqYBKJiQbEiHBqAN0BnSnwANQCqCBKwnIOvGxXpSjCgLgWhp2nsn4Avzgj4OvCmtE6YPuhb1rlgdVVKcC4+enoUu6Ymy4As5z09y9mDh6mK/ec0TY/HYGV2RmRof8nqc4E8gWnomZxKwiwA1bRd5xo0GAVn1TAMwGmqQa00agHL1S8lsaQAq2VYWJTgBWTcugmNlejYSiKamtXcCYsPPcH/2HvD9asDtO+wCsbH4YNj5WJR0hF/1HdLi8ejpXdEswWcM2ojH1NDfF5Xj/s+2ol47EvmPyxUD3HtSZxzRLtXUWE5dLJp6dipT1m0vAWraXv6Mbi4BWfVMA9BcHci4Gg1AGbumWM40ABVrKMuRgoCsGxcp4DJJWwhYpWlPZQWwpxSoqgSSkoEWGd7/X7C6CMtzy/xqP6JtCu4+sTPiY2NsYRKNoDm7qnDHx/mobHDirxZn8rC2OIOHfpiG3Co9m5YwFyKBJghQ05SISgRk1TMNQJVUGF4tNADD48ZZJhKgAWgiTC5FAgYJyLpxMVgehzmQgN2arq5zY/rHecjZVe1Hf1S35rhhuBoHYuTtqcYdn+RjX3W9X41n92uFSwa1caDqoley3XqOXmVc2akEqGmndl7NumXVMw1ANfUYSlU0AEOhxbFRIUADMCpYuSgJNEpA1o0L20oCwQiIoOmS8lpM+3AL9lT5G2Tn9s/ARQMzpW5eYVmN1+A8tLbjstJw84gOcMWoc5ejCI0SQc8icGAO6hCgptXpJSsBZNUzDUCqlwYgNWA7ARqAtreACTiQgKwbFwe2iiUbJCCKpjeWVnofka1u+II8wGsAakagjFdBWQ3u+jQfpRV1fulrjzjfdWInJMS6ZCxL6JxF0bPQkJicVASoaanaxWSbICCrnmkAUto0AKkB2wnQALS9BUzAgQRk3bg4sFUs2SABkTS9pmA/HvjfNrgbHJKhlTFpUCYm9JPLBNyyuwp3L9+KvYfc1dindTLuOakzkuNp/hmUaEjDRNJzSIlzMAkEIUBNUxoqEZBVzzQAVVJheLXQAAyPG2eZSIAGoIkwuRQJGCQg68bFYHkc5kAComn6o0178OTXxYd1QiYT8Pedlbj3s60or2lw6jGAHq2ScP/JnZGq4AnHovyrI5qeReHCPOQlQE3L2ztmfjgBWfVMA5BqpgFIDdhOgAag7S1gAg4kIOvGxYGtYskGCYio6XfW78Jz3+04rILxfbVDMzKFfm/eyrwyzF9VhJpDHmXObpWEmSd1RvPEWIOd4bBwCIio53Dq4BwSOEiAmqYWVCIgq55pAKqkwvBqoQEYHjfOMpEADUATYXIpEjBIQNaNi8HyOMyBBETV9NLfduGFtYebgKO6Nsd1x7RHfKxYh2d4PB68/nMp/r1u52Eq6t8mGXeO6oSUeJp/0f5XTFQ9R7turq8uAWpa3d46sTJZ9UwD0Ilq9a+ZBiA1YDsBGoC2t4AJOJCArBsXB7aKJRskILKml/xaipe+Lzmskt6tk3Hb8R2QkRJvsMroDttXXY8Fq4vwzbb9hwUa3D4Vt4/siMQ4vvMvul04sLrIeraifsZQjwA1rV5PnVyRrHqmAehk1R6onQYgNWA7ARqAtreACTiQgKwbFwe2iiUbJCC6ppfn7sXC1UWHHQySnhSLaSM64Ih2qQYrjc6w30oqMGdlIXYectKvFu207Ba4alhbxLnEulsxOiTEWFV0PYtBiVnIRICalqlbzLUpArLqmQZgU51V/3MagOr3WPgKaQAK3yImqCABWTcuCraCJZlEQAZNf1ewHw9/UYDqQ96rp9lqY/u0xIVHZlp+h11VnRuv/liCd3/ffZg5qeV12ZA2GNu7JWJiaP6ZJFVDy8igZ0OFcBAJ/EGAmqYUVCIgq55pAKqkwvBqoQEYHje/WVVVVcjNzcWmTZu8/8vJyUFJyYFHfTIzM/Hkk0+aEMV/iQ0bNmDZsv9v706gpKiuBo5fdoZFBoYAAgENCAoTQSFKhI8gBCEaERGI8ZNEWRQFQgBNWAQBQYggyBIIAlEDyDnGBNFIokFBD2DkyJaALAYVcGEZdoZ9+c595/R8wzA109XT1d3v1f+dw4lDV1e9+7uXTs3tqlfvyLZt2+TIkSNSvnx5qVu3rrRp00ZatmwZ9fFWr14tK1eulF27dkl2drakp6fL9ddfLx06dJAGDRpEvZ+ibEgDsCh6vBeB2ARsPXGJLVreFQYBW2r680OnTRNw74lzV6SlZsVS8tgtNRJyNaCu9ae3+upDSvZnXzmXSmVKyK9vu1purlkhDOWTcjHaUs8pB8eEUlaAmk7Z1DCxGARsrWcagDEk27G30ACMQ0LHjBkjW7ZsyXdPQTQAX3/9dfnzn/8sevKe32jWrJkMGjRISpcu7Rnd2bNnZcqUKbJ+/fp8t9Fv+rt16yZdu3aNg1DBu6ABGDgxB0DgCgFbT1xIJQJeAjbV9IkzF2Tqmm/kk2+y8w2nec3y8subqkmd9DKBJPzT/SfllQ0HZFvWqXz3n1m9nAy+7eqUWZswEIQU36lN9ZzilEwvRQSo6RRJBNOIi4Ct9UwDMC7pt3onNADjkL7Ro0fLp59+avakV+LVq1dP9Ao9vTIw3g3A9957T+bMmWOOpf+A7733XqlTp44cPnxYli1bltOIbNWqlfzqV7/yjG769OmyatUq83rjxo3lzjvvlMqVK8vu3btlyZIlsm/fPvPao48+Ku3atYuDkvcuaAAGysvOEchXwNYTF9KJgAsNQI3h4qVL8sbWQ/Lqpiw5d/HKL/T0httbalcwtwZnVitX5Ftwz1+8JP/ac1ze3HZYtns0/koVLyb331hV7r2hipRgvb+k/mPjMzqp/Bw8AAFqOgBUdpk0AVvrmQZg0komZQ5MAzAOqVi+fLmULVtW6tevLzVq1DB77Nevn7kNOJ4NQL1Ft3///uZW3apVq8rEiRPlqquuyong4sWLMmnSJFm3bp35O21MNmrU6IoItVmpr+nQqwWffPJJ87S5yDh27JgMHTpUsrKyTENz5syZ5n+DGjQAg5Jlvwh4C9h64kJOEXClARiJ46ujZ8yTd7dnnfZMbq2rSstt360ot9WpKNdULiPFo1yP78z5i7L1wClZs/u4af4dPXPB8xiZ1dLk8VuvFj0WI/kCfEYnPwfMIL4C1HR8PdlbcgVsrWcagMmtm1Q4Og3AgLIQRAPwzTfflIULF5oZDxw4MN+1/g4ePGiaj9oMvPnmm00jL++YMGGCbNiwwTT9dH3CjIyMK7bRtQGnTZtm/r5Hjx5y9913ByQlQgMwMFp2jICngK0nLqQUAdcagBrPhYuX5J87j8jif2fJkdPeTTrdtnyp4lI/o6xcW7msVEkraf6ULFHMLAty5vwlyTp5Tg5kn5edh07LF4dPS57njVzBV71CKfnfG6vK/1xzVdSNRaoweAE+o4M35giJFaCmE+vN0YIVsLWeaQAGWxc27J0GYEBZCqIBOHLkSNm+fbukpaXJ/PnzpWTJkvnOfvz48bJp0yYpVaqU2U6vTowMvS25V69ecu7cOWnatKkMHz48332cP3/ebHfq1Clp2LChPPPMMwFJ0QAMDJYdI1CAgK0nLiQVARcbgJGYTp67YG4LfmvbYTl57mKgyc5IKyn3NqoiHa9Ll1Il/v8ugEAPys6jFuAzOmoqNrREgJq2JFFMMyoBW+uZBmBU6XV6IxqAAaU33g1AbcjplXh6tVyTJk1kxIgRnjPXNfwWL15sXh81apRkZmbmbLt582YZO3as+fmBBx6Qzp07e+4n0kgsUaKELFiwwLPhWFRCrgAsqiDvR8C/gK0nLv4j5R1hEXCpprURuOLzY/LW9kPy7fErn9BblJw2rJomdzesLD+sU1FKss5fUSgDfa9L9RwoFDu3RoCatiZVTDQKAVvrmQZgFMl1fBMagAElON4NwD179siQIUPMbPWBHQ899JDnzNeuXSuTJ082r+tVfB06dMjZ9h//+If88Y9/ND8/8cQTcsstt3ju56WXXpK///3v5nV9YnDt2rUD0aIBGAgrO0WgQAFbT1xIKwJeAi7WtD4o5LODp3PW8Nt7wn8zUHt89aqUNWsIatPv6oqs8WfDvyIX69kGd+YYnAA1HZwte068gK31TAMw8bWSakekARhQRuLdANy4caM8++yzZrYPPvigdOrUyXPmO3fulGHDhpnX9Qo/vdIvMhYtWiRLly41P+pagPrEYq+Re81BvVVYbxmOduhahIWN9PR00asLtQGoD0xJ9aEf9NWqVTPT3L9/v1lnkYGArQLUs62ZY95eAmGo6YMnz8mOrFPy2cFTsv/EOTl46rwcPnXekOhTg/XJvRnlSsp3ypWS6hVLi17td11GmqSV4hZf2/7lhKGebcsJ8y2aADVdND/enVoCttazPqBUf/9mhFeABmBAuY93A/Cjjz6SqVOnmtn27t1b7rjjDs+Zf/XVVzJ48GDzeseOHaVnz545286bN0/effdd87Pur1atWp770e10ex26vxYtWkSt1b1790K3nT17dr4PICn0jWyAAAIIIIAAAggggAACCCCAAAIIIBC1AA3AqKn8bRjvBuCHH34oM2fONJPo27evtG3b1nNC+/btkwEDBpjXdTvdPjK06bZixQrz44wZM0QvA/Ya77//vvzhD38wL/fv319at24dNQINwKip2BABBBBAAAEEEEAAAQQQQAABBBAIVCA0DUC9zfTnP/95kTEff/xxadOmTaH7iXcD0LYrALkFuNASYQMEkipg660LSUXj4CktQE2ndHqYnE8B6tknGJunvAA1nfIpYoI+BGytZ24B9pFkRzelAegzsclqANq2BqAfVh4C4keLbRGIj4CtixfHJ3r24qIANe1iVsMbE/Uc3ty7Gjk17WpmwxmXrfXMQ0DCWa+5ow5NA1CD/vrrr4uc8cqVK0u5cuUK3U+8rwDcvXu3eWqvDp4CXCh/IBvY+kEfCAY7tV6AerY+hQSQR4CapiRcEqCeXcomsagANU0duCRgaz3TAHSpCmOLJVQNwNiIYntXvBuA58+fN0//1SfPNmnSREaMGOE5sSVLlsjixYvN66NGjZLMzMycbTdv3ixjx441P+vTgfUpwV5j/PjxsmnTJvOkoAULFkjJkiVjwyjkXVwBGAgrO0WgQAFbT1xIKwJeAtQ0teGSAPXsUjaJhQYgNeCagK2f0TQAXatE//HQAPRvFtU74t0A1IM+9dRTsmPHDklLS5P58+d7NuQijbtSpUqZp/jq9pFx6tQp6dWrl2hDsWnTpjJ8+PB849HXdTvdvkGDBjJu3Lio4o5lIxqAsajxHgSKJmDriUvRoubdLgtQ0y5nN3yxUc/hy7nrEVPTrmc4XPHZWs80AMNVp/lFSwMwoBoIogG4dOlSWbRokZnxwIEDpWXLllfMXh++ocfWKwVvuukmGTZs2BXbTJgwQTZs2GCu7NMnC2dkZFyxzerVq2XatGnm7/XKw06dOgUkJUIDMDBadoyAp4CtJy6kFAEvAWqa2nBJgHp2KZvEogLUNHXgkoCt9UwD0KUqjC0WGoCxuRX6Lr8NwP3790v//v3Nfhs1aiSjR4++4hgnTpww25w8eVL0CT4TJ06UihUr5mynTb9JkybJunXrzN/lvf03smHu24CbN29u1hbUD7HIOHbsmAwdOlSysrKkfPnyMmPGDKlQoUKhMce6AQ3AWOV4HwKxC9h64hJ7xLzTdQFq2vUMhys+6jlc+Q5DtNR0GLIcnhhtrWcagOGpUa9IaQDGoQb27t0r27Ztu2xPumbe8ePHTYOuR48el72mt96mp6df9nfRNAD1Df/85z9l7ty55r36D7hLly5Sp04dOXz4sLz99tuyZcsW85peHahXCXqNF154QdasWWNebty4sdx1112iDzjRh4389a9/lX379pnX+vTpI+3bt4+DkvcuaAAGysvOEchXwNYTF9KJgJcANU1tuCRAPbuUTWJRAWqaOnBJwNZ6pgHoUhXGFgsNwNjcLnvXypUrZdasWVHv6emnnzZNt9wj2gagvue1116Tv/zlL3Lp0qV8j6m3/g4ZMkRKly7tOaezZ8/K888/b24Fzm8UK1ZM7rvvPunevXvUccW6IQ3AWOV4HwKxC9h64hJ7xLzTdQFq2vUMhys+6jlc+Q5DtNR0GLIcnhhtrWcagOGpUa9IaQDGoQYS3QDUKW/fvl3eeecd2bp1qxw9etTcqlu3bl1p06aNtGrVKuqoVq1aJTr/Xbt2SXZ2tlSqVEluuOEG6dixo3n4RyIGDcBEKHMMBC4XsPXEhTwi4CVATVMbLglQzy5lk1hUgJqmDlwSsLWeaQC6VIWxxUIDMDY33hVHARqAccRkVwhEKWDriUuU4bFZCAWo6RAm3eGQqWeHkxvS0KjpkCbe0bBtrWcagI4WpI+waAD6wGLTYARoAAbjyl4RKEjA1hMXsoqAlwA1TW24JEA9u5RNYlEBapo6cEnA1nqmAehSFcYWCw3A2Nx4VxwFaADGEZNdIRClgK0nLlGGx2YhFKCmQ5h0h0Omnh1ObkhDo6ZDmnhHw7a1nmkAOlqQPsKiAegDi02DEaABGIwre0WgIAFbT1zIKgJeAtQ0teGSAPXsUjaJRQWoaerAJQFb65kGoEtVGFssNABjc+NdcRSgARhHTHaFQJQCtp64RBkem4VQgJoOYdIdDpl6dji5IQ2Nmg5p4h0N29Z6pgHoaEH6CIsGoA8sNg1GgAZgMK7sFYGCBGw9cSGrCHgJUNPUhksC1LNL2SQWFaCmqQOXBGytZxqALlVhbLHQAIzNjXfFUYAGYBwx2RUCUQrYeuISZXhsFkIBajqESXc4ZOrZ4eSGNDRqOqSJdzRsW+uZBqCjBekjLBqAPrDYNBgBGoDBuLJXBAoSsPXEhawi4CVATVMbLglQzy5lk1hUgJqmDlwSsLWeaQC6VIWxxUIDMDY33hVHARqAccRkVwhEKWDriUuU4bFZCAWo6RAm3eGQqWeHkxvS0KjpkCbe0bBtrWcagI4WpI+waAD6wGLTYARoAAbjyl4RKEjA1hMXsoqAlwA1TW24JEA9u5RNYlEBapo6cEnA1nqmAehSFcYWCw3A2Nx4VxwFaADGEZNdIRClgK0nLlGGx2YhFKCmQ5h0h0Omnh1ObkhDo6ZDmnhHw7a1nmkAOlqQPsKiAegDi02DEaABGIwre0WgIAFbT1zIKgJeAtQ0teGSAPXsUjaJRQWoaerAJQFb65kGoEtVGFssNABjc+NdcRSgARhHTHaFQJQCtp64RBkem4VQgJoOYdIdDpl6dji5IQ2Nmg5p4h0N29Z6pgHoaEH6CIsGoA8sNg1GgAZgMK7sFYGCBGw9cSGrCHgJUNPUhksC1LNL2SQWFaCmqQOXBGytZxqALlVhbLHQAIzNjXfFUYAGYBwx2RUCUQrYeuISZXhsFkIBajqESXc4ZOrZ4eSGNDRqOqSJdzRsW+uZBqCjBekjLBqAPrDYNBgBGoDBuLJXBAoSsPXEhawi4CVATVMbLglQz9GLetsAABs6SURBVC5lk1hUgJqmDlwSsLWeaQC6VIWxxUIDMDY33hVHARqAccRkVwhEKWDriUuU4bFZCAWo6RAm3eGQqWeHkxvS0KjpkCbe0bBtrWcagI4WpI+waAD6wGLTYARoAAbjyl4RKEjA1hMXsoqAlwA1TW24JEA9u5RNYlEBapo6cEnA1nqmAehSFcYWCw3A2Nx4VxwFLl26JBcvXozjHoPbVYkSJczOtWnJQMB2AerZ9gwy/7wC1DQ14ZIA9exSNolFBahp6sAlARvrWRuXxYoVcykNxOJTgAagTzA2RwABBBBAAAEEEEAAAQQQQAABBBBAwCYBGoA2ZYu5JlVAr/o7cuSImUN6enrOt5hJnRQHRyBGAeo5RjjelrIC1HTKpoaJxSBAPceAxltSWoCaTun0MDmfAtSzTzA2TxkBGoApkwomkuoCBw8elMcee8xMc/bs2ZKRkZHqU2Z+CHgKUM8Uh2sC1LRrGQ13PNRzuPPvYvTUtItZDW9M1HN4c2975DQAbc8g80+YAB/0CaPmQAkQoJ4TgMwhEipATSeUm4MFLEA9BwzM7hMuQE0nnJwDBihAPQeIy64DFaABGCgvO3dJgA96l7JJLNQzNeCaADXtWkbDHQ/1HO78uxg9Ne1iVsMbE/Uc3tzbHjkNQNszyPwTJsAHfcKoOVACBKjnBCBziIQKUNMJ5eZgAQtQzwEDs/uEC1DTCSfngAEKUM8B4rLrQAVoAAbKy85dEuCD3qVsEgv1TA24JkBNu5bRcMdDPYc7/y5GT027mNXwxkQ9hzf3tkdOA9D2DDL/hAnwQZ8wag6UAAHqOQHIHCKhAtR0Qrk5WMAC1HPAwOw+4QLUdMLJOWCAAtRzgLjsOlABGoCB8rJzlwT4oHcpm8RCPVMDrglQ065lNNzxUM/hzr+L0VPTLmY1vDFRz+HNve2R0wC0PYPMP2ECfNAnjJoDJUCAek4AModIqAA1nVBuDhawAPUcMDC7T7gANZ1wcg4YoAD1HCAuuw5UgAZgoLzsHAEEEEAAAQQQQAABBBBAAAEEEEAAgeQK0ABMrj9HRwABBBBAAAEEEEAAAQQQQAABBBBAIFABGoCB8rJzBBBAAAEEEEAAAQQQQAABBBBAAAEEkitAAzC5/hwdAQQQQAABBBBAAAEEEEAAAQQQQACBQAVoAAbKy84RQAABBBBAAAEEEEAAAQQQQAABBBBIrgANwOT6c3QEEEAAAQQQQAABBBBAAAEEEEAAAQQCFaABGCgvO0cAAQQQQAABBBBAAAEEEEAAAQQQQCC5AjQAk+vP0RFAAAEEEEAAAQQQQAABBBBAAAEEEAhUgAZgoLzsHAEEEEAAAQQQQAABBBBAAAEEEEAAgeQK0ABMrj9HRwABBBBAAAEEEEAAAQQQQAABBBBAIFABGoCB8rJzBBBAAAEEEEAAAQQQQAABBBBAAAEEkitAAzC5/hzdEoGsrCxZtmyZbNiwQfS/S5YsKTVq1JAf/vCH0qFDBylTpowlkTDNMAt8/vnnsnHjRtm2bZvs2bNHjh49KiVKlJAqVapIgwYNpG3btnLDDTeEmYjYHRBYuHChvPnmmzmRPP3009K4cWMHIiOEsAgcO3ZMVqxYIZ988ons3btXsrOzpWLFipKRkWE+o2+99Vbzmc1AwAaB8+fPy4cffigfffSR7Nq1S06cOJFz7tGwYUP58Y9/TD3bkEiH56jnw//973/Nn507d5o/x48fNxH/6Ec/kn79+vmKXs+1ly9fbvann+dXXXWV1K9f39R606ZNfe2LjRGItwANwHiLsj/nBNavXy/Tp0+XkydP5htbzZo1ZdiwYVK9enXnYicgdwS0CbJ169ZCA2rdurX07dvXNLkZCNgm8OWXX5rP4wsXLtAAtC15zNcIaJNk3rx5Ob985sfSvHlz+c1vfoMYAikvoF+aT5w4UXbv3l3gXO+66y75xS9+IcWKFUv5mJigewLdu3f3DMpPA/DSpUsyd+5c0/zzGtoE7NOnD7XuXhlZExENQGtSxUSTIaC/TI4cOVLOnDkjZcuWlc6dO0tmZqacPXtWVq9eLe+9956ZVq1atWTChAlmGwYCqSgwYMAA2bdvn1SuXNlcuXr99ddL1apV5eLFi7Jjxw7529/+JocOHTJTb9mypQwcODAVw2BOCHgKaC2PGDHCfHNfqVIlc4WrDq4ApGhsEfjggw9k1qxZor9Eag23b9/efFZXqFBBjhw5Yj7D161bJ+XKlZPBgwfbEhbzDKmAfhHz29/+Nqf5V7duXdFGn35xfvr0aXM3wltvvWXOsXU8+OCD0qlTp5BqEXYyBXI3APVK69q1a8umTZvMlPw0ABcvXixLliwx77v22mtNPesFIvrZrXcmfPHFF+a1Ll26yP3335/MkDl2iAVoAIY4+YReuMCYMWNky5Yt5lYF/e+8t9zoh7nebqZD/8+ja9euhe+ULRBIgoB+A69X97Vo0UKKFy9+xQz0FgVtdn/77bfmNa13bgdOQqI4ZMwCb7/9trzyyivmC5kf/OAH8sYbb5h90QCMmZQ3JlDgq6++Ms2Sc+fOmc9e/W9t9OU39JZKrtJOYHI4VEwC//rXv2TKlCnmvXr+PHbs2CvOP3RpEv3iRpuF5cuXN1e/6jk3A4FECrz22mtSr1498yc9PV32798v/fv3N1OItgGoyzUMGjTI1LLuR8+jS5cunROGNrpHjx5tvqTUGp86dapZToqBQKIFaAAmWpzjWSOg6zYMHz7czFcv137kkUeumLtecTJkyBD5+uuvzYmLXvbNSbk1KWaieQT0ypLf/e535m9/8pOfyMMPP4wRAlYI6G1mekWUXlWiDT/94ub11183c6cBaEUKQz/JZ555Rv7zn/+Ytf70F0NdM4qBgM0C+oWMfjGjQ29Z11vX8xuTJ0+WtWvXmpf0v+vUqWNz2MzdAYFYGoDavH733XdN9OPGjct3XUu94+app54y23Ts2FF69uzpgBYh2CZAA9C2jDHfhAnkvox7/Pjxct111+V7bL3K5NVXXzWv6Yf6jTfemLA5ciAE4imgzRNdg0fHzTffLEOHDo3n7tkXAoEJ6BWuul5r5Jt6/TafBmBg3Ow4zgL6JaJeOaKjW7du5g8DAdsF5s+fL++8844J4/nnn5fvfve7+Ya0YMECcyuwDv0s/973vmd76MzfcgG/DUBdtuGxxx4zS+noXQj6JY7X+PWvfy3ffPONeaiTLvnAupeWF4uF06cBaGHSmHJiBCIPTdAn/L788suetyTk/jZHbwEuaCHZxMycoyAQm4A+mS/ybWSzZs3MLWgMBFJdYM2aNfLCCy+YddL0f/XKKRqAqZ415pdbQJvVWrM69JZJXX9Kh34m65Motbb1ykAGAjYJLFu2zJw/64jmCkBthLz00kuet77bFDtztVvAbwNQ1/jTtbZ1eN01FhF58cUXcx4SMnPmTKlWrZrdWMzeOgEagNaljAknSqBXr17mxFsXLZ40aZLnYXM3TXR9NRbmTlSGOE68BfQWHL39RocuXKwLcjMQSGWB7Oxsc+WUPiDh0UcflXbt2pnp0gBM5awxt7wC+hCxDRs2mMaHNkBWrVplFozftWtXzqb6S6Je4Xr33XfzwDFKyAoBXVtYmyKnTp2Shg0bmjXR8q5BrA9F0DUAdV1LHkBmRVpDMUm/DUC9A0GvXtXxy1/+0jzsxmvoQ/f+9Kc/mZf1Thu944aBQCIFaAAmUptjWSOgT/mNND+iuRWyR48e5ilmepuw3i7MQMA2AV3PUm9h17UvdegvpLqIMQOBVBaYM2eOeRq7/nKpC8xHbqWhAZjKWWNueQX69esnBw4cMF846lN/I7dN5ielt1Fqw6RKlSpAIpDyAvrF4vTp00XPq/WpqHfeeadcffXVZr3W7du3izZDtEF4zTXXmHW39QEMDASSLeC3Aahr/+kagDr0QhC9IMRr5H44Tp8+fczT3hkIJFKABmAitTmWNQL6rWXv3r3NfG+77TbR9RoKGvoBfvToUbO+ia5zwkDANgFdf0fX4dFxyy23yBNPPGFbCMw3ZALbtm0zD/jQK0r04TW5F46nARiyYrA8XL1iRJsgpUqVMk8B1oeKPfDAA3LrrbdKWlqa7N6921zVqlcJ6vC6mspyBqbvqIA+4VobfStWrBBdKy33qFSpktxzzz3mtsmyZcs6KkBYtgn4bQDqFdsLFy40YWoju2nTpp4h6+e4fsmuQy8g0au6GQgkUoAGYCK1OZY1AvpEyccff9zMt3Xr1jmPgvcKQBd+PXjwoFSvXl1mzJhhTZxMFAEV+PTTT0WfQHnhwgXRk3G95Z1v4amNVBbQ28WefPJJ8wT2/G5XpwGYytljbnkF7r//ftGrsHVoQ1uvZm3QoMFlm+nr2uiONAELu8oEZQRSQUA/q3WNS71SW78oz2/o3Qb64BtuhUyFjDEHFfDbAMy9juuoUaMkMzPTE3Lz5s3mM17Hz372M7nvvvtARyChAjQAE8rNwWwR4ApAWzLFPIsqsGfPHtGTFV1LTa8+0VvLGjVqVNTd8n4EAhWINPiqVq1qHpqQ98oRGoCB8rPzOAtElhHR3RZ014F+Xg8ZMsQcnSu145wEdhd3Ab3NV6902rp1q2ls//SnP5Xbb7/dfFmutwTrkiPaONGruXX5Br0SVm8RZiCQbAG/DUCuAEx2xji+HwEagH602DY0AqwBGJpUhzpQPcEZOXKkHD582Jyc6xUl+kslA4FUFtCr/vTqP72yxOvJkjQAUzmDzC2vwCOPPGIeZKND1wPUh314jb59+8qhQ4ckIyNDZs+eDSYCKSugDzrQW3916F01bdq0uWKueufBuHHjZMuWLaYJ+Nxzz5m1MBkIJFPAbwOQNQCTmS2O7VeABqBfMbYPjQBPAQ5NqkMZqP4Cqeun7du3z5x068l5Qb90hhKJoFNS4MUXX5Tly5ebq0j01sn8hi6y/fHHH5uX9Paa2rVrm/9u1qwZ60ylZFbDPalhw4bJzp07DUJht4/pVdqfffaZuWJ70aJF4YYj+pQV0LX+9Dz6xIkT5qEf06ZN85yrXgGoda9DrwB86KGHUjYuJhYOAb8NwHXr1pklGnTwFOBw1IjNUdIAtDl7zD1QAW2O6G0LZcqUkZdffllKlCiR7/F27Nhhnp6qo2vXrtK9e/dA58XOESiqgN7iPnr0aNGFuXX07NlTOnbsWNTd8n4EEiLw+9//Xj744IOYjjVz5kypVq1aTO/lTQgEJTBr1ixZuXKl2b2eT9x4442eh4o0C/XcJPLgpqDmxX4RiFVAr2jVK1t1FPYwvdx33ejDE/QhCgwEkingtwGoX6YPGDDATFkfaBOp/fxiiHyJqa9xTpLMLIf32DQAw5t7Ii9E4NVXX5U33njDbDV+/Hi57rrr8n2HbqPb6tBv5ps0aYItAikrcPLkSRkzZox88cUXZo76pMnOnTun7HyZGAJ5BWgAUhOuCejTUSO38/bu3VvuuOMOzxAjdycUdlWVa0bEY5dA7rW09WnWkbUr84tCn4CtV03p0AeBDB061K5gma1zAn4bgHrFqy7PoEvq1KpVS6ZOneppMmjQIPMAsypVqpjPfb0Lh4FAIgVoACZSm2NZJaCLE0e+hfT6NkefyqcnNfpBXr58eZk7d66ULFnSqjiZbHgEzpw5Y9ba2b59uwm6S5cunrdQhkeFSF0UYA1AF7PqbkzHjx83V4zoemh69V/kroK8EesT2/XqbR1t27Y1v3AyEEhFAT0/fvjhh0Wbe5UrVxa9ytXrTprct0/q3Qh6VwIDgWQK+G0A6lznzZsnuhagDj3Xzvskd/373HeN6Rc9+oUPA4FEC9AATLQ4x7NKIHIbsJ606FVTeT/Mcz/1idt/rUpt6CarD0zQ9Uk2bdpkYmedndCVQKgCpgEYqnQ7EWzuXx4HDhwoLVu2vCwubaToOcmXX35p/v7ZZ5+V+vXrOxE7QbgpoOv+rV692gTXrVs38yfv0DUCdf2/yJIk3EnjZi3YFlUsDcBvvvnGXBSiX+TUq1fP/N5YunTpnND1Vnf9DNf1XvX3yilTppj1MRkIJFqABmCixTmeVQJ6m6Q+JVU/tMuWLSv33nuvNG7c2Py8Zs0asxC9Dv0AnzhxoqSlpVkVH5MNj8DkyZNl7dq1JuDMzMxCF9nWK1lr1qwZHiAidUqABqBT6QxFMHrLpN76mJWVZX45bN++vXkqe7ly5WT37t2ydOlSc7eBDq4cCUVJWB+k1qvWtN59oEMfwqQPG9MHOJ07d85cDbVs2TJT8zq+//3vm3NuBgKJFtAH0ezduzfnsPp5vHDhQvNzw4YNpV27dpdNKb8nWusGuZePuvbaa+Wee+4x9a5rBOpneGT5HV16R5fgYSCQDAEagMlQ55hWCXzyyScyY8YMcxtDfkObf7ood40aNayKi8mGS8Dvw2m+853viK61xkDARgEagDZmjTnrVVDPPffcZb+I5lW5/fbbpU+fPiw3QrlYIfDvf//bPAFYb3MvaOgXk4MHD5YKFSpYEReTdEvA79rCeo6R39Bb3+fMmSO6rqvX0OUbdMmH4sWLu4VINNYI0AC0JlVMNJkCBw4cMN9Srl+/Xg4dOmROvLXh16JFC/P0VH0aHwOBVBagAZjK2WFu8RagARhvUfaXKIHTp0+bdaQ+/vhj+fbbb0V/rlSpkrkKRdcj1kYJAwGbBLT59/7778vGjRtlz549kp2dba5yTU9PN7dKtmrVSpo3b87DEGxKqmNzjVcDMMKivy/qXWJ6u6/Wf8WKFU2t65XdN910k2N6hGObAA1A2zLGfBFAAAEEEEAAAQQQQAABBBBAAAEEEPAhQAPQBxabIoAAAggggAACCCCAAAIIIIAAAgggYJsADUDbMsZ8EUAAAQQQQAABBBBAAAEEEEAAAQQQ8CFAA9AHFpsigAACCCCAAAIIIIAAAggggAACCCBgmwANQNsyxnwRQAABBBBAAAEEEEAAAQQQQAABBBDwIUAD0AcWmyKAAAIIIIAAAggggAACCCCAAAIIIGCbAA1A2zLGfBFAAAEEEEAAAQQQQAABBBBAAAEEEPAhQAPQBxabIoAAAggggAACCCCAAAIIIIAAAgggYJsADUDbMsZ8EUAAAQQQQAABBBBAAAEEEEAAAQQQ8CFAA9AHFpsigAACCCCAAAIIIIAAAggggAACCCBgmwANQNsyxnwRQAABBBBAAAEEEEAAAQQQQAABBBDwIUAD0AcWmyKAAAIIIIAAAggggAACCCCAAAIIIGCbAA1A2zLGfBFAAAEEEEAAAQQQQAABBBBAAAEEEPAhQAPQBxabIoAAAggggAACCCCAAAIIIIAAAgggYJsADUDbMsZ8EUAAAQQQQAABBBBAAAEEEEAAAQQQ8CFAA9AHFpsigAACCCCAAAIIIIAAAggggAACCCBgmwANQNsyxnwRQAABBBBAAAEEEEAAAQQQQAABBBDwIUAD0AcWmyKAAAIIIIAAAggggAACCCCAAAIIIGCbAA1A2zLGfBFAAAEEEEAAAQQQQAABBBBAAAEEEPAhQAPQBxabIoAAAggggAACCCCAAAIIIIAAAgggYJsADUDbMsZ8EUAAAQQQQAABBBBAAAEEEEAAAQQQ8CFAA9AHFpsigAACCCCAAAIIIIAAAggggAACCCBgmwANQNsyxnwRQAABBBBAAAEEEEAAAQQQQAABBBDwIUAD0AcWmyKAAAIIIIAAAggggAACCCCAAAIIIGCbAA1A2zLGfBFAAAEEEEAAAQQQQAABBBBAAAEEEPAhQAPQBxabIoAAAggggAACCCCAAAIIIIAAAgggYJsADUDbMsZ8EUAAAQQQQAABBBBAAAEEEEAAAQQQ8CFAA9AHFpsigAACCCCAAAIIIIAAAggggAACCCBgmwANQNsyxnwRQAABBBBAAAEEEEAAAQQQQAABBBDwIUAD0AcWmyKAAAIIIIAAAggggAACCCCAAAIIIGCbAA1A2zLGfBFAAAEEEEAAAQQQQAABBBBAAAEEEPAhQAPQBxabIoAAAggggAACCCCAAAIIIIAAAgggYJsADUDbMsZ8EUAAAQQQQAABBBBAAAEEEEAAAQQQ8CFAA9AHFpsigAACCCCAAAIIIIAAAggggAACCCBgmwANQNsyxnwRQAABBBBAAAEEEEAAAQQQQAABBBDwIUAD0AcWmyKAAAIIIIAAAggggAACCCCAAAIIIGCbAA1A2zLGfBFAAAEEEEAAAQQQQAABBBBAAAEEEPAhQAPQBxabIoAAAggggAACCCCAAAIIIIAAAgggYJsADUDbMsZ8EUAAAQQQQAABBBBAAAEEEEAAAQQQ8CFAA9AHFpsigAACCCCAAAIIIIAAAggggAACCCBgmwANQNsyxnwRQAABBBBAAAEEEEAAAQQQQAABBBDwIUAD0AcWmyKAAAIIIIAAAggggAACCCCAAAIIIGCbAA1A2zLGfBFAAAEEEEAAAQQQQAABBBBAAAEEEPAhQAPQBxabIoAAAggggAACCCCAAAIIIIAAAgggYJsADUDbMsZ8EUAAAQQQQAABBBBAAAEEEEAAAQQQ8CFAA9AHFpsigAACCCCAAAIIIIAAAggggAACCCBgmwANQNsyxnwRQAABBBBAAAEEEEAAAQQQQAABBBDwIUAD0AcWmyKAAAIIIIAAAggggAACCCCAAAIIIGCbAA1A2zLGfBFAAAEEEEAAAQQQQAABBBBAAAEEEPAhQAPQBxabIoAAAggggAACCCCAAAIIIIAAAgggYJsADUDbMsZ8EUAAAQQQQAABBBBAAAEEEEAAAQQQ8CFAA9AHFpsigAACCCCAAAIIIIAAAggggAACCCBgmwANQNsyxnwRQAABBBBAAAEEEEAAAQQQQAABBBDwIUAD0AcWmyKAAAIIIIAAAggggAACCCCAAAIIIGCbAA1A2zLGfBFAAAEEEEAAAQQQQAABBBBAAAEEEPAhQAPQBxabIoAAAggggAACCCCAAAIIIIAAAgggYJsADUDbMsZ8EUAAAQQQQAABBBBAAAEEEEAAAQQQ8CFAA9AHFpsigAACCCCAAAIIIIAAAggggAACCCBgmwANQNsyxnwRQAABBBBAAAEEEEAAAQQQQAABBBDwIUAD0AcWmyKAAAIIIIAAAggggAACCCCAAAIIIGCbAA1A2zLGfBFAAAEEEEAAAQQQQAABBBBAAAEEEPAhQAPQBxabIoAAAggggAACCCCAAAIIIIAAAgggYJsADUDbMsZ8EUAAAQQQQAABBBBAAAEEEEAAAQQQ8CFAA9AHFpsigAACCCCAAAIIIIAAAggggAACCCBgm8D/AZZXZv9rqulAAAAAAElFTkSuQmCC\" width=\"640\">"
      ],
      "text/plain": [
       "<IPython.core.display.HTML object>"
      ]
     },
     "metadata": {},
     "output_type": "display_data"
    }
   ],
   "source": [
    "from scipy import interpolate\n",
    "x=np.linspace(0,10,8)\n",
    "y=np.sin(x)\n",
    "func=interpolate.interp1d(x,y,kind='cubic')\n",
    "x_interp=np.linspace(0,10,1000)\n",
    "y_interp=func(x_interp)\n",
    "plt.figure()\n",
    "plt.plot(x,y,'o')\n",
    "plt.plot(x_interp,y_interp);"
   ]
  },
  {
   "cell_type": "code",
   "execution_count": null,
   "metadata": {},
   "outputs": [],
   "source": []
  }
 ],
 "metadata": {
  "kernelspec": {
   "display_name": "Python 3",
   "language": "python",
   "name": "python3"
  },
  "language_info": {
   "codemirror_mode": {
    "name": "ipython",
    "version": 3
   },
   "file_extension": ".py",
   "mimetype": "text/x-python",
   "name": "python",
   "nbconvert_exporter": "python",
   "pygments_lexer": "ipython3",
   "version": "3.7.3"
  }
 },
 "nbformat": 4,
 "nbformat_minor": 2
}

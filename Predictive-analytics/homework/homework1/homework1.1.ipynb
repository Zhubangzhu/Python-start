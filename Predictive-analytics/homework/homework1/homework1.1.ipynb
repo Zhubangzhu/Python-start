{
 "cells": [
  {
   "cell_type": "markdown",
   "metadata": {},
   "source": [
    "# Bangzhu Zhu "
   ]
  },
  {
   "cell_type": "code",
   "execution_count": 101,
   "metadata": {},
   "outputs": [],
   "source": [
    "import numpy as np\n",
    "import pandas as pd\n",
    "import matplotlib.pyplot as plt"
   ]
  },
  {
   "cell_type": "markdown",
   "metadata": {},
   "source": [
    "# (a)"
   ]
  },
  {
   "cell_type": "code",
   "execution_count": 3,
   "metadata": {},
   "outputs": [
    {
     "data": {
      "text/plain": [
       "6"
      ]
     },
     "execution_count": 3,
     "metadata": {},
     "output_type": "execute_result"
    }
   ],
   "source": [
    "df.totalprice[(df.totalprice>400000)&(df.garage==1)].count()"
   ]
  },
  {
   "cell_type": "markdown",
   "metadata": {},
   "source": [
    "there are 6 one-garage apartments have a totalprice greater than 400,000 euros"
   ]
  },
  {
   "cell_type": "markdown",
   "metadata": {},
   "source": [
    "# (b)"
   ]
  },
  {
   "cell_type": "code",
   "execution_count": 23,
   "metadata": {},
   "outputs": [
    {
     "data": {
      "text/plain": [
       "<matplotlib.axes._subplots.AxesSubplot at 0x1a238f6240>"
      ]
     },
     "execution_count": 23,
     "metadata": {},
     "output_type": "execute_result"
    },
    {
     "data": {
      "image/png": "[encoded data removed]",
      "text/plain": [
       "<Figure size 432x216 with 1 Axes>"
      ]
     },
     "metadata": {
      "needs_background": "light"
     },
     "output_type": "display_data"
    }
   ],
   "source": [
    "import matplotlib.pyplot as plt\n",
    "import seaborn as sns\n",
    "fig = plt.figure(figsize=(6, 3))\n",
    "sns.distplot(df.totalprice[1:],bins=50)"
   ]
  },
  {
   "cell_type": "code",
   "execution_count": 31,
   "metadata": {},
   "outputs": [
    {
     "data": {
      "text/plain": [
       "0.39054215697577643"
      ]
     },
     "execution_count": 31,
     "metadata": {},
     "output_type": "execute_result"
    }
   ],
   "source": [
    "from scipy.stats import norm\n",
    "mean = np.mean(df.totalprice)\n",
    "sv = np.std(df.totalprice,ddof=1)\n",
    "b = norm.cdf(300000,loc=mean,scale=sv)\n",
    "a = 1-b\n",
    "a"
   ]
  },
  {
   "cell_type": "markdown",
   "metadata": {},
   "source": [
    "probability that totalprice exceeds 300000 is 0.391"
   ]
  },
  {
   "cell_type": "markdown",
   "metadata": {},
   "source": [
    "# (C)"
   ]
  },
  {
   "cell_type": "code",
   "execution_count": 32,
   "metadata": {},
   "outputs": [
    {
     "data": {
      "text/html": [
       "<div>\n",
       "<style scoped>\n",
       "    .dataframe tbody tr th:only-of-type {\n",
       "        vertical-align: middle;\n",
       "    }\n",
       "\n",
       "    .dataframe tbody tr th {\n",
       "        vertical-align: top;\n",
       "    }\n",
       "\n",
       "    .dataframe thead th {\n",
       "        text-align: right;\n",
       "    }\n",
       "</style>\n",
       "<table border=\"1\" class=\"dataframe\">\n",
       "  <thead>\n",
       "    <tr style=\"text-align: right;\">\n",
       "      <th></th>\n",
       "      <th>totalprice</th>\n",
       "      <th>area</th>\n",
       "      <th>age</th>\n",
       "      <th>floor</th>\n",
       "      <th>rooms</th>\n",
       "      <th>toilets</th>\n",
       "      <th>garage</th>\n",
       "      <th>elevator</th>\n",
       "      <th>storage</th>\n",
       "    </tr>\n",
       "  </thead>\n",
       "  <tbody>\n",
       "    <tr>\n",
       "      <th>totalprice</th>\n",
       "      <td>4.802276e+09</td>\n",
       "      <td>1.162639e+06</td>\n",
       "      <td>-275569.809042</td>\n",
       "      <td>4306.929479</td>\n",
       "      <td>23103.901095</td>\n",
       "      <td>23829.329737</td>\n",
       "      <td>16364.512574</td>\n",
       "      <td>14244.123620</td>\n",
       "      <td>7536.746579</td>\n",
       "    </tr>\n",
       "    <tr>\n",
       "      <th>area</th>\n",
       "      <td>1.162639e+06</td>\n",
       "      <td>4.298508e+02</td>\n",
       "      <td>-15.815009</td>\n",
       "      <td>3.600908</td>\n",
       "      <td>8.392216</td>\n",
       "      <td>6.484930</td>\n",
       "      <td>3.286218</td>\n",
       "      <td>3.291590</td>\n",
       "      <td>1.274237</td>\n",
       "    </tr>\n",
       "    <tr>\n",
       "      <th>age</th>\n",
       "      <td>-2.755698e+05</td>\n",
       "      <td>-1.581501e+01</td>\n",
       "      <td>213.031243</td>\n",
       "      <td>-2.522175</td>\n",
       "      <td>-0.766034</td>\n",
       "      <td>-2.049338</td>\n",
       "      <td>-1.408532</td>\n",
       "      <td>-2.402951</td>\n",
       "      <td>-1.581744</td>\n",
       "    </tr>\n",
       "    <tr>\n",
       "      <th>floor</th>\n",
       "      <td>4.306929e+03</td>\n",
       "      <td>3.600908e+00</td>\n",
       "      <td>-2.522175</td>\n",
       "      <td>4.524077</td>\n",
       "      <td>0.175538</td>\n",
       "      <td>0.110980</td>\n",
       "      <td>-0.029214</td>\n",
       "      <td>0.172240</td>\n",
       "      <td>-0.103708</td>\n",
       "    </tr>\n",
       "    <tr>\n",
       "      <th>rooms</th>\n",
       "      <td>2.310390e+04</td>\n",
       "      <td>8.392216e+00</td>\n",
       "      <td>-0.766034</td>\n",
       "      <td>0.175538</td>\n",
       "      <td>0.402317</td>\n",
       "      <td>0.133514</td>\n",
       "      <td>0.058893</td>\n",
       "      <td>0.090052</td>\n",
       "      <td>0.008456</td>\n",
       "    </tr>\n",
       "    <tr>\n",
       "      <th>toilets</th>\n",
       "      <td>2.382933e+04</td>\n",
       "      <td>6.484930e+00</td>\n",
       "      <td>-2.049338</td>\n",
       "      <td>0.110980</td>\n",
       "      <td>0.133514</td>\n",
       "      <td>0.250116</td>\n",
       "      <td>0.102313</td>\n",
       "      <td>0.090263</td>\n",
       "      <td>0.044476</td>\n",
       "    </tr>\n",
       "    <tr>\n",
       "      <th>garage</th>\n",
       "      <td>1.636451e+04</td>\n",
       "      <td>3.286218e+00</td>\n",
       "      <td>-1.408532</td>\n",
       "      <td>-0.029214</td>\n",
       "      <td>0.058893</td>\n",
       "      <td>0.102313</td>\n",
       "      <td>0.203293</td>\n",
       "      <td>0.049296</td>\n",
       "      <td>0.028622</td>\n",
       "    </tr>\n",
       "    <tr>\n",
       "      <th>elevator</th>\n",
       "      <td>1.424412e+04</td>\n",
       "      <td>3.291590e+00</td>\n",
       "      <td>-2.402951</td>\n",
       "      <td>0.172240</td>\n",
       "      <td>0.090052</td>\n",
       "      <td>0.090263</td>\n",
       "      <td>0.049296</td>\n",
       "      <td>0.161840</td>\n",
       "      <td>0.034668</td>\n",
       "    </tr>\n",
       "    <tr>\n",
       "      <th>storage</th>\n",
       "      <td>7.536747e+03</td>\n",
       "      <td>1.274237e+00</td>\n",
       "      <td>-1.581744</td>\n",
       "      <td>-0.103708</td>\n",
       "      <td>0.008456</td>\n",
       "      <td>0.044476</td>\n",
       "      <td>0.028622</td>\n",
       "      <td>0.034668</td>\n",
       "      <td>0.165476</td>\n",
       "    </tr>\n",
       "  </tbody>\n",
       "</table>\n",
       "</div>"
      ],
      "text/plain": [
       "              totalprice          area            age        floor  \\\n",
       "totalprice  4.802276e+09  1.162639e+06 -275569.809042  4306.929479   \n",
       "area        1.162639e+06  4.298508e+02     -15.815009     3.600908   \n",
       "age        -2.755698e+05 -1.581501e+01     213.031243    -2.522175   \n",
       "floor       4.306929e+03  3.600908e+00      -2.522175     4.524077   \n",
       "rooms       2.310390e+04  8.392216e+00      -0.766034     0.175538   \n",
       "toilets     2.382933e+04  6.484930e+00      -2.049338     0.110980   \n",
       "garage      1.636451e+04  3.286218e+00      -1.408532    -0.029214   \n",
       "elevator    1.424412e+04  3.291590e+00      -2.402951     0.172240   \n",
       "storage     7.536747e+03  1.274237e+00      -1.581744    -0.103708   \n",
       "\n",
       "                   rooms       toilets        garage      elevator  \\\n",
       "totalprice  23103.901095  23829.329737  16364.512574  14244.123620   \n",
       "area            8.392216      6.484930      3.286218      3.291590   \n",
       "age            -0.766034     -2.049338     -1.408532     -2.402951   \n",
       "floor           0.175538      0.110980     -0.029214      0.172240   \n",
       "rooms           0.402317      0.133514      0.058893      0.090052   \n",
       "toilets         0.133514      0.250116      0.102313      0.090263   \n",
       "garage          0.058893      0.102313      0.203293      0.049296   \n",
       "elevator        0.090052      0.090263      0.049296      0.161840   \n",
       "storage         0.008456      0.044476      0.028622      0.034668   \n",
       "\n",
       "                storage  \n",
       "totalprice  7536.746579  \n",
       "area           1.274237  \n",
       "age           -1.581744  \n",
       "floor         -0.103708  \n",
       "rooms          0.008456  \n",
       "toilets        0.044476  \n",
       "garage         0.028622  \n",
       "elevator       0.034668  \n",
       "storage        0.165476  "
      ]
     },
     "execution_count": 32,
     "metadata": {},
     "output_type": "execute_result"
    }
   ],
   "source": [
    "df1=df._get_numeric_data()\n",
    "df1.cov()"
   ]
  },
  {
   "cell_type": "code",
   "execution_count": 33,
   "metadata": {},
   "outputs": [
    {
     "data": {
      "text/html": [
       "<div>\n",
       "<style scoped>\n",
       "    .dataframe tbody tr th:only-of-type {\n",
       "        vertical-align: middle;\n",
       "    }\n",
       "\n",
       "    .dataframe tbody tr th {\n",
       "        vertical-align: top;\n",
       "    }\n",
       "\n",
       "    .dataframe thead th {\n",
       "        text-align: right;\n",
       "    }\n",
       "</style>\n",
       "<table border=\"1\" class=\"dataframe\">\n",
       "  <thead>\n",
       "    <tr style=\"text-align: right;\">\n",
       "      <th></th>\n",
       "      <th>totalprice</th>\n",
       "      <th>area</th>\n",
       "      <th>age</th>\n",
       "      <th>floor</th>\n",
       "      <th>rooms</th>\n",
       "      <th>toilets</th>\n",
       "      <th>garage</th>\n",
       "      <th>elevator</th>\n",
       "      <th>storage</th>\n",
       "    </tr>\n",
       "  </thead>\n",
       "  <tbody>\n",
       "    <tr>\n",
       "      <th>totalprice</th>\n",
       "      <td>1.000000</td>\n",
       "      <td>0.809213</td>\n",
       "      <td>-0.272450</td>\n",
       "      <td>0.029220</td>\n",
       "      <td>0.525627</td>\n",
       "      <td>0.687571</td>\n",
       "      <td>0.523742</td>\n",
       "      <td>0.510939</td>\n",
       "      <td>0.267358</td>\n",
       "    </tr>\n",
       "    <tr>\n",
       "      <th>area</th>\n",
       "      <td>0.809213</td>\n",
       "      <td>1.000000</td>\n",
       "      <td>-0.052262</td>\n",
       "      <td>0.081656</td>\n",
       "      <td>0.638166</td>\n",
       "      <td>0.625425</td>\n",
       "      <td>0.351541</td>\n",
       "      <td>0.394643</td>\n",
       "      <td>0.151086</td>\n",
       "    </tr>\n",
       "    <tr>\n",
       "      <th>age</th>\n",
       "      <td>-0.272450</td>\n",
       "      <td>-0.052262</td>\n",
       "      <td>1.000000</td>\n",
       "      <td>-0.081243</td>\n",
       "      <td>-0.082745</td>\n",
       "      <td>-0.280751</td>\n",
       "      <td>-0.214034</td>\n",
       "      <td>-0.409242</td>\n",
       "      <td>-0.266408</td>\n",
       "    </tr>\n",
       "    <tr>\n",
       "      <th>floor</th>\n",
       "      <td>0.029220</td>\n",
       "      <td>0.081656</td>\n",
       "      <td>-0.081243</td>\n",
       "      <td>1.000000</td>\n",
       "      <td>0.130113</td>\n",
       "      <td>0.104329</td>\n",
       "      <td>-0.030462</td>\n",
       "      <td>0.201292</td>\n",
       "      <td>-0.119861</td>\n",
       "    </tr>\n",
       "    <tr>\n",
       "      <th>rooms</th>\n",
       "      <td>0.525627</td>\n",
       "      <td>0.638166</td>\n",
       "      <td>-0.082745</td>\n",
       "      <td>0.130113</td>\n",
       "      <td>1.000000</td>\n",
       "      <td>0.420892</td>\n",
       "      <td>0.205930</td>\n",
       "      <td>0.352912</td>\n",
       "      <td>0.032771</td>\n",
       "    </tr>\n",
       "    <tr>\n",
       "      <th>toilets</th>\n",
       "      <td>0.687571</td>\n",
       "      <td>0.625425</td>\n",
       "      <td>-0.280751</td>\n",
       "      <td>0.104329</td>\n",
       "      <td>0.420892</td>\n",
       "      <td>1.000000</td>\n",
       "      <td>0.453729</td>\n",
       "      <td>0.448640</td>\n",
       "      <td>0.218621</td>\n",
       "    </tr>\n",
       "    <tr>\n",
       "      <th>garage</th>\n",
       "      <td>0.523742</td>\n",
       "      <td>0.351541</td>\n",
       "      <td>-0.214034</td>\n",
       "      <td>-0.030462</td>\n",
       "      <td>0.205930</td>\n",
       "      <td>0.453729</td>\n",
       "      <td>1.000000</td>\n",
       "      <td>0.271774</td>\n",
       "      <td>0.156053</td>\n",
       "    </tr>\n",
       "    <tr>\n",
       "      <th>elevator</th>\n",
       "      <td>0.510939</td>\n",
       "      <td>0.394643</td>\n",
       "      <td>-0.409242</td>\n",
       "      <td>0.201292</td>\n",
       "      <td>0.352912</td>\n",
       "      <td>0.448640</td>\n",
       "      <td>0.271774</td>\n",
       "      <td>1.000000</td>\n",
       "      <td>0.211845</td>\n",
       "    </tr>\n",
       "    <tr>\n",
       "      <th>storage</th>\n",
       "      <td>0.267358</td>\n",
       "      <td>0.151086</td>\n",
       "      <td>-0.266408</td>\n",
       "      <td>-0.119861</td>\n",
       "      <td>0.032771</td>\n",
       "      <td>0.218621</td>\n",
       "      <td>0.156053</td>\n",
       "      <td>0.211845</td>\n",
       "      <td>1.000000</td>\n",
       "    </tr>\n",
       "  </tbody>\n",
       "</table>\n",
       "</div>"
      ],
      "text/plain": [
       "            totalprice      area       age     floor     rooms   toilets  \\\n",
       "totalprice    1.000000  0.809213 -0.272450  0.029220  0.525627  0.687571   \n",
       "area          0.809213  1.000000 -0.052262  0.081656  0.638166  0.625425   \n",
       "age          -0.272450 -0.052262  1.000000 -0.081243 -0.082745 -0.280751   \n",
       "floor         0.029220  0.081656 -0.081243  1.000000  0.130113  0.104329   \n",
       "rooms         0.525627  0.638166 -0.082745  0.130113  1.000000  0.420892   \n",
       "toilets       0.687571  0.625425 -0.280751  0.104329  0.420892  1.000000   \n",
       "garage        0.523742  0.351541 -0.214034 -0.030462  0.205930  0.453729   \n",
       "elevator      0.510939  0.394643 -0.409242  0.201292  0.352912  0.448640   \n",
       "storage       0.267358  0.151086 -0.266408 -0.119861  0.032771  0.218621   \n",
       "\n",
       "              garage  elevator   storage  \n",
       "totalprice  0.523742  0.510939  0.267358  \n",
       "area        0.351541  0.394643  0.151086  \n",
       "age        -0.214034 -0.409242 -0.266408  \n",
       "floor      -0.030462  0.201292 -0.119861  \n",
       "rooms       0.205930  0.352912  0.032771  \n",
       "toilets     0.453729  0.448640  0.218621  \n",
       "garage      1.000000  0.271774  0.156053  \n",
       "elevator    0.271774  1.000000  0.211845  \n",
       "storage     0.156053  0.211845  1.000000  "
      ]
     },
     "execution_count": 33,
     "metadata": {},
     "output_type": "execute_result"
    }
   ],
   "source": [
    "df1.corr()"
   ]
  },
  {
   "cell_type": "markdown",
   "metadata": {},
   "source": [
    "# (d)"
   ]
  },
  {
   "cell_type": "code",
   "execution_count": 36,
   "metadata": {},
   "outputs": [
    {
     "data": {
      "image/png": "[encoded data removed]",
      "text/plain": [
       "<Figure size 432x288 with 1 Axes>"
      ]
     },
     "metadata": {
      "needs_background": "light"
     },
     "output_type": "display_data"
    }
   ],
   "source": [
    "plt.scatter(df['area'], df['totalprice'],s=3)\n",
    "plt.ylabel('totalprice')\n",
    "plt.xlabel('area')\n",
    "plt.grid()"
   ]
  },
  {
   "cell_type": "code",
   "execution_count": 63,
   "metadata": {},
   "outputs": [
    {
     "data": {
      "text/plain": [
       "44"
      ]
     },
     "execution_count": 63,
     "metadata": {},
     "output_type": "execute_result"
    }
   ],
   "source": [
    "from sklearn import linear_model\n",
    "reg = linear_model.LinearRegression()\n",
    "y = df['totalprice']\n",
    "x = pd.DataFrame(df['area'])\n",
    "reg.fit(x,y)\n",
    "y_pred=reg.predict(x)\n",
    "n=df.shape\n",
    "outlier = 0\n",
    "row = 0\n",
    "for i in range(0,n[0]):\n",
    "               a=abs(y_pred[i]-y[i])\n",
    "               if a>outlier:\n",
    "                outlier=a\n",
    "                row=i+1\n",
    "row"
   ]
  },
  {
   "cell_type": "code",
   "execution_count": 65,
   "metadata": {},
   "outputs": [
    {
     "data": {
      "text/plain": [
       "156125.62381751765"
      ]
     },
     "execution_count": 65,
     "metadata": {},
     "output_type": "execute_result"
    }
   ],
   "source": [
    "outlier"
   ]
  },
  {
   "cell_type": "code",
   "execution_count": 100,
   "metadata": {},
   "outputs": [
    {
     "data": {
      "text/plain": [
       "178000.0"
      ]
     },
     "execution_count": 100,
     "metadata": {},
     "output_type": "execute_result"
    }
   ],
   "source": [
    "df.totalprice[44-1]"
   ]
  },
  {
   "cell_type": "code",
   "execution_count": 99,
   "metadata": {},
   "outputs": [
    {
     "data": {
      "text/plain": [
       "108.4400024"
      ]
     },
     "execution_count": 99,
     "metadata": {},
     "output_type": "execute_result"
    }
   ],
   "source": [
    "df.area[44-1]"
   ]
  },
  {
   "cell_type": "markdown",
   "metadata": {},
   "source": [
    "row number, area and totalprice is 44, 108.44, 178000"
   ]
  },
  {
   "cell_type": "markdown",
   "metadata": {},
   "source": [
    "# (e)"
   ]
  },
  {
   "cell_type": "code",
   "execution_count": 91,
   "metadata": {},
   "outputs": [],
   "source": [
    "df['category'].loc[df['category'] == '2A'] = 2\n",
    "df['category'].loc[df['category'] == '2B'] = 2\n",
    "df['category'].loc[df['category'] == '3A'] = 3\n",
    "df['category'].loc[df['category'] == '3B'] = 3\n",
    "df['category'].loc[df['category'] == '4A'] = 4\n",
    "df['category'].loc[df['category'] == '4B'] = 4\n",
    "df['category'].loc[df['category'] == '5A'] = 5\n",
    "df['category'].loc[df['category'] == '5B'] = 5"
   ]
  },
  {
   "cell_type": "code",
   "execution_count": 93,
   "metadata": {},
   "outputs": [
    {
     "data": {
      "text/html": [
       "<div>\n",
       "<style scoped>\n",
       "    .dataframe tbody tr th:only-of-type {\n",
       "        vertical-align: middle;\n",
       "    }\n",
       "\n",
       "    .dataframe tbody tr th {\n",
       "        vertical-align: top;\n",
       "    }\n",
       "\n",
       "    .dataframe thead th {\n",
       "        text-align: right;\n",
       "    }\n",
       "</style>\n",
       "<table border=\"1\" class=\"dataframe\">\n",
       "  <thead>\n",
       "    <tr style=\"text-align: right;\">\n",
       "      <th></th>\n",
       "      <th>totalprice</th>\n",
       "    </tr>\n",
       "    <tr>\n",
       "      <th>category</th>\n",
       "      <th></th>\n",
       "    </tr>\n",
       "  </thead>\n",
       "  <tbody>\n",
       "    <tr>\n",
       "      <th>2</th>\n",
       "      <td>345500.0</td>\n",
       "    </tr>\n",
       "    <tr>\n",
       "      <th>3</th>\n",
       "      <td>279000.0</td>\n",
       "    </tr>\n",
       "    <tr>\n",
       "      <th>4</th>\n",
       "      <td>224000.0</td>\n",
       "    </tr>\n",
       "    <tr>\n",
       "      <th>5</th>\n",
       "      <td>183000.0</td>\n",
       "    </tr>\n",
       "  </tbody>\n",
       "</table>\n",
       "</div>"
      ],
      "text/plain": [
       "          totalprice\n",
       "category            \n",
       "2           345500.0\n",
       "3           279000.0\n",
       "4           224000.0\n",
       "5           183000.0"
      ]
     },
     "execution_count": 93,
     "metadata": {},
     "output_type": "execute_result"
    }
   ],
   "source": [
    "df.pivot_table('totalprice',index='category',aggfunc=np.median)"
   ]
  }
 ],
 "metadata": {
  "kernelspec": {
   "display_name": "Python 3",
   "language": "python",
   "name": "python3"
  },
  "language_info": {
   "codemirror_mode": {
    "name": "ipython",
    "version": 3
   },
   "file_extension": ".py",
   "mimetype": "text/x-python",
   "name": "python",
   "nbconvert_exporter": "python",
   "pygments_lexer": "ipython3",
   "version": "3.7.3"
  }
 },
 "nbformat": 4,
 "nbformat_minor": 2
}
